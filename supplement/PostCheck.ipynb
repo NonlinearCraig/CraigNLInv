{
 "cells": [
  {
   "cell_type": "markdown",
   "id": "99623063",
   "metadata": {},
   "source": [
    "## EX1"
   ]
  },
  {
   "cell_type": "markdown",
   "id": "62b05560",
   "metadata": {},
   "source": [
    "with template: inv=a0+a1*x1+a2 * x1^2"
   ]
  },
  {
   "cell_type": "markdown",
   "id": "46b2415a",
   "metadata": {},
   "source": [
    "our: 0.29s inv =9.82179949496+16.0077113185*x1-0.200003671465*x1^2>=0"
   ]
  },
  {
   "cell_type": "code",
   "execution_count": 1,
   "id": "4567b6fe",
   "metadata": {},
   "outputs": [
    {
     "name": "stdout",
     "output_type": "stream",
     "text": [
      "sat\n",
      "[]\n",
      "Consuming Time: 0.01955295 s\n",
      "\n"
     ]
    }
   ],
   "source": [
    "#ex1\n",
    "from z3 import *\n",
    "import time\n",
    "start = time.time()\n",
    "x1,a1,a2,a3= Reals('x1 a1 a2 a3')\n",
    "inv=9.8217+16.0077*x1-0.2000*x1**2>=0\n",
    "\n",
    "guard1 = -1<=0;\n",
    "inv_f1 =9.8217+16.0077*(x1+0.0005*(1000-0.5418*x1**2))-0.2000*(x1+0.0005*(1000-0.5418*x1**2))**2>=0\n",
    "\n",
    "loop_cond =(x1+1)*(x1-82)<=0\n",
    "pre = x1*(80-x1)>=0\n",
    "post = (x1+10)*(x1-79)<=0\n",
    "\n",
    "cons1 = ForAll([x1],Implies(pre, inv))\n",
    "cons2 = ForAll([x1],Implies(And(inv,loop_cond), inv_f1))\n",
    "cons3 = ForAll([x1],Implies(And(inv, Not(loop_cond)),post))\n",
    "               \n",
    "s = Solver()\n",
    "s.add(cons1, cons2, cons3)\n",
    "print(s.check())\n",
    "print(s.model())\n",
    "end = time.time()\n",
    "print(\"Consuming Time: %.8f s\\n\"%((end-start)))"
   ]
  },
  {
   "cell_type": "markdown",
   "id": "cc011573",
   "metadata": {},
   "source": [
    "with template: inv=1+a1*x1+a2*x1^2"
   ]
  },
  {
   "cell_type": "markdown",
   "id": "2727db0f",
   "metadata": {},
   "source": [
    "our:0.678895s 1+8.08012134086*x1-0.100258563544*x1^2>=0"
   ]
  },
  {
   "cell_type": "code",
   "execution_count": 3,
   "id": "11741f33",
   "metadata": {},
   "outputs": [
    {
     "name": "stdout",
     "output_type": "stream",
     "text": [
      "sat\n",
      "[]\n",
      "Consuming Time: 0.02065611 s\n",
      "\n"
     ]
    }
   ],
   "source": [
    "#ex1\n",
    "from z3 import *\n",
    "import time\n",
    "start = time.time()\n",
    "x1,a1,a2,a3= Reals('x1 a1 a2 a3')\n",
    "inv=1+8.0801*x1-0.10025*x1**2>=0\n",
    "\n",
    "inv_f1 =1+8.0801*(x1+0.0005*(1000-0.5418*x1**2))-0.10025*(x1+0.0005*(1000-0.5418*x1**2))**2>=0\n",
    "\n",
    "loop_cond =(x1+1)*(x1-82)<=0\n",
    "pre = x1*(80-x1)>=0\n",
    "post = (x1+10)*(x1-79)<=0\n",
    "\n",
    "cons1 = ForAll([x1],Implies(pre, inv))\n",
    "cons2 = ForAll([x1],Implies(And(inv,loop_cond), inv_f1))\n",
    "cons3 = ForAll([x1],Implies(And(inv, Not(loop_cond)),post))\n",
    "               \n",
    "s = Solver()\n",
    "s.add(cons1, cons2, cons3)\n",
    "print(s.check())\n",
    "print(s.model())\n",
    "end = time.time()\n",
    "print(\"Consuming Time: %.8f s\\n\"%((end-start)))"
   ]
  },
  {
   "cell_type": "markdown",
   "id": "aca6fa2e",
   "metadata": {},
   "source": [
    "check for Prajna05. Ref:[Prajna05] Optimization-Based Methods for Nonlinear and Hybrid Systems Verification, PhD thesis"
   ]
  },
  {
   "cell_type": "markdown",
   "id": "4ffe5051",
   "metadata": {},
   "source": [
    "first solution: 5 itearitons 1.400742 seconds 1+0.982703009007*x1-0.0120951123542*x1^2"
   ]
  },
  {
   "cell_type": "code",
   "execution_count": 1,
   "id": "8759a5bc",
   "metadata": {},
   "outputs": [
    {
     "name": "stdout",
     "output_type": "stream",
     "text": [
      "sat\n"
     ]
    }
   ],
   "source": [
    "#ex1\n",
    "from z3 import *\n",
    "import time\n",
    "start = time.time()\n",
    "x1,a1,a2,a3= Reals('x1 a1 a2 a3')\n",
    "inv=1+0.958319969973*x1-0.0118547020977*x1**2>=0\n",
    "\n",
    "inv_f1 =1+0.982703009007*(x1+0.0005*(1000-0.5418*x1**2))-0.0120951123542*(x1+0.0005*(1000-0.5418*x1**2))**2>=0\n",
    "\n",
    "loop_cond =(x1+1)*(x1-82)<=0\n",
    "pre = x1*(80-x1)>=0\n",
    "post = (x1+10)*(x1-79)<=0\n",
    "\n",
    "cons1 = ForAll([x1],Implies(pre, inv))\n",
    "cons2 = ForAll([x1],Implies(And(inv,loop_cond), inv_f1))\n",
    "cons3 = ForAll([x1],Implies(And(inv, Not(loop_cond)),post))\n",
    "               \n",
    "s = Solver()\n",
    "s.add(cons1, cons2, cons3)\n",
    "print(s.check())"
   ]
  },
  {
   "cell_type": "markdown",
   "id": "733c18d5",
   "metadata": {},
   "source": [
    "check for PENBMI. Ref: Yang, Z., Lin, W., Wu, M.: Exact safety verification of hybrid systems based on\n",
    "bilinear SOS representation. ACM Transactions on Embedded Computing Systems\n",
    "14(1), 1–19 (2015)"
   ]
  },
  {
   "cell_type": "markdown",
   "id": "543c2df6",
   "metadata": {},
   "source": [
    "template 1"
   ]
  },
  {
   "cell_type": "code",
   "execution_count": 2,
   "id": "5b4e795d",
   "metadata": {},
   "outputs": [
    {
     "name": "stdout",
     "output_type": "stream",
     "text": [
      "unsat\n"
     ]
    }
   ],
   "source": [
    "#ex1\n",
    "from z3 import *\n",
    "import time\n",
    "start = time.time()\n",
    "x1,a1,a2,a3= Reals('x1 a1 a2 a3')\n",
    "inv= 0.0596+ 0.0882*x1 +0.0882*x1**2>=0\n",
    "\n",
    "guard1 = -1<=0;\n",
    "inv_f1 =0.0596+0.0882*(x1+0.0005*(1000-0.5418*x1**2))+0.0882*(x1+0.0005*(1000-0.5418*x1**2))**2>=0\n",
    "\n",
    "loop_cond =(x1+1)*(x1-82)<=0\n",
    "pre = x1*(80-x1)>=0\n",
    "post = (x1+10)*(x1-79)<=0\n",
    "\n",
    "cons1 = ForAll([x1],Implies(pre, inv))\n",
    "cons2 = ForAll([x1],Implies(And(inv,loop_cond), inv_f1))\n",
    "cons3 = ForAll([x1],Implies(And(inv, Not(loop_cond)),post))\n",
    "               \n",
    "s = Solver()\n",
    "s.add(cons1, cons2, cons3)\n",
    "print(s.check())"
   ]
  },
  {
   "cell_type": "markdown",
   "id": "d387f2e1",
   "metadata": {},
   "source": [
    "template 2"
   ]
  },
  {
   "cell_type": "code",
   "execution_count": 2,
   "id": "4c99e349",
   "metadata": {},
   "outputs": [
    {
     "name": "stdout",
     "output_type": "stream",
     "text": [
      "unsat\n"
     ]
    }
   ],
   "source": [
    "#ex1\n",
    "from z3 import *\n",
    "import time\n",
    "start = time.time()\n",
    "x1,a1,a2,a3= Reals('x1 a1 a2 a3')\n",
    "inv=1+ 0.2576*x1 + 0.2576*x1**2>=0\n",
    "\n",
    "guard1 = -1<=0;\n",
    "inv_f1 =1+0.2576*(x1+0.0005*(1000-0.5418*x1**2))+0.2576*(x1+0.0005*(1000-0.5418*x1**2))**2>=0\n",
    "\n",
    "loop_cond =(x1+1)*(x1-82)<=0\n",
    "pre = x1*(80-x1)>=0\n",
    "post = (x1+10)*(x1-79)<=0\n",
    "\n",
    "cons1 = ForAll([x1],Implies(pre, inv))\n",
    "cons2 = ForAll([x1],Implies(And(inv,loop_cond), inv_f1))\n",
    "cons3 = ForAll([x1],Implies(And(inv, Not(loop_cond)),post))\n",
    "               \n",
    "s = Solver()\n",
    "s.add(cons1, cons2, cons3)\n",
    "print(s.check())\n"
   ]
  },
  {
   "cell_type": "markdown",
   "id": "c977e000",
   "metadata": {},
   "source": [
    "# EX2"
   ]
  },
  {
   "cell_type": "markdown",
   "id": "f7fdd799",
   "metadata": {},
   "source": [
    "template:a0+a1*x1+a2*x2+a3*x1*x2+a4*x1^2+a5*x2^2"
   ]
  },
  {
   "cell_type": "markdown",
   "id": "6feaf291",
   "metadata": {},
   "source": [
    "our:1.345785s inv = 6.190-1.6117*x2-0.1888*x1^2-2.934*x2^2>=0"
   ]
  },
  {
   "cell_type": "code",
   "execution_count": 2,
   "id": "a48b880a",
   "metadata": {},
   "outputs": [
    {
     "name": "stdout",
     "output_type": "stream",
     "text": [
      "sat\n",
      "[]\n",
      "Consuming Time: 0.02090478 s\n",
      "\n"
     ]
    }
   ],
   "source": [
    "# code2 in paper\n",
    "from z3 import *\n",
    "import time\n",
    "start = time.time()\n",
    "x1,x2 = Reals('x1 x2')\n",
    "xrange = And(x1>=-5, x1<=5, x2>=-5, x2<=5)\n",
    "\n",
    "inv = 6.190-1.6117*x2-0.1888*x1**2-2.934*x2**2>=0\n",
    "x1_f=0.9*(x1-0.01*x2)\n",
    "x2_f=0.9*(x2+0.01*x1)\n",
    "inv_f1 =6.190-1.6117*x2_f-0.1888*x1_f**2-2.934*x2_f**2>=0\n",
    "\n",
    "loop_cond = 1>=0\n",
    "pre = x1**2+x2**2-1<=0\n",
    "post = 0.25-x1**2-(x2-2)**2<=0\n",
    "\n",
    "cons1 = ForAll([x1,x2],Implies(And(pre, xrange), inv))\n",
    "cons2 = ForAll([x1,x2],Implies(And(inv,loop_cond, xrange), inv_f1))\n",
    "cons3 = ForAll([x1,x2],Implies(And(inv, Not(loop_cond),xrange),post))\n",
    "               \n",
    "s = Solver()\n",
    "s.add( cons1, cons2, cons3)\n",
    "print(s.check())\n",
    "print(s.model())\n",
    "end = time.time()\n",
    "print(\"Consuming Time: %.8f s\\n\"%((end-start)))"
   ]
  },
  {
   "cell_type": "markdown",
   "id": "5a84e1c2",
   "metadata": {},
   "source": [
    "our: 0.453975s 1+0.269406630939*x1^2-0.617905967972*x2^2\n"
   ]
  },
  {
   "cell_type": "code",
   "execution_count": 2,
   "id": "12b3ad8c",
   "metadata": {},
   "outputs": [
    {
     "name": "stdout",
     "output_type": "stream",
     "text": [
      "sat\n",
      "[]\n",
      "Consuming Time: 0.02534842 s\n",
      "\n"
     ]
    }
   ],
   "source": [
    "# code 2 in paper\n",
    "from z3 import *\n",
    "import time\n",
    "start = time.time()\n",
    "x1,x2 = Reals('x1 x2')\n",
    "xrange = And(x1>=-5, x1<=5, x2>=-5, x2<=5)\n",
    "\n",
    "inv = 1+0.2694*x1**2-0.6179*x2**2>=0\n",
    "inv_ineq = 1>=0\n",
    "\n",
    "guard1 = -1<=0\n",
    "inv_f1 =0.2694*(0.9*(x1-0.01*x2))**2 + 0.6179*(0.9*(x2+0.01*x1))**2+1>=0\n",
    "\n",
    "loop_cond = 1>=0\n",
    "pre = x1**2+x2**2-1<=0\n",
    "post = 0.25-x1**2-(x2-2)**2<=0\n",
    "\n",
    "cons1 = ForAll([x1,x2],Implies(And(pre, xrange), inv))\n",
    "cons2 = ForAll([x1,x2],Implies(And(inv, guard1, loop_cond, xrange), inv_f1))\n",
    "cons3 = ForAll([x1,x2],Implies(And(inv, Not(loop_cond),xrange),post))\n",
    "               \n",
    "s = Solver()\n",
    "s.add( cons1, cons2, cons3)\n",
    "print(s.check())\n",
    "print(s.model())\n",
    "end = time.time()\n",
    "print(\"Consuming Time: %.8f s\\n\"%((end-start)))"
   ]
  },
  {
   "cell_type": "markdown",
   "id": "84fcd218",
   "metadata": {},
   "source": [
    "check for Prajna05 with template 2"
   ]
  },
  {
   "cell_type": "markdown",
   "id": "6d9a84dd",
   "metadata": {},
   "source": [
    "0.605918 seconds iteration 2\n",
    "1-0.152830423563*x1^2-0.629732709259*x2^2"
   ]
  },
  {
   "cell_type": "code",
   "execution_count": 15,
   "id": "81394be9",
   "metadata": {},
   "outputs": [
    {
     "name": "stdout",
     "output_type": "stream",
     "text": [
      "sat\n"
     ]
    }
   ],
   "source": [
    "# code 2 in paper\n",
    "from z3 import *\n",
    "import time\n",
    "start = time.time()\n",
    "x1,x2 = Reals('x1 x2')\n",
    "xrange = And(x1>=-5, x1<=5, x2>=-5, x2<=5)\n",
    "\n",
    "inv = 1-0.152830423563*x1**2-0.629732709259*x2**2>=0\n",
    "inv_ineq = 1>=0\n",
    "\n",
    "guard1 = -1<=0\n",
    "inv_f1 =1-0.152830423563*(0.9*(x1-0.01*x2))**2 -0.629732709259*(0.9*(x2+0.01*x1))**2>=0\n",
    "\n",
    "loop_cond = 1>=0\n",
    "pre = x1**2+x2**2-1<=0\n",
    "post = 0.25-x1**2-(x2-2)**2<=0\n",
    "\n",
    "cons1 = ForAll([x1,x2],Implies(And(pre, xrange), inv))\n",
    "cons2 = ForAll([x1,x2],Implies(And(inv, guard1, loop_cond, xrange), inv_f1))\n",
    "cons3 = ForAll([x1,x2],Implies(And(inv, Not(loop_cond),xrange),post))\n",
    "               \n",
    "s = Solver()\n",
    "s.add( cons1, cons2, cons3)\n",
    "print(s.check())"
   ]
  },
  {
   "cell_type": "markdown",
   "id": "ec6241a4",
   "metadata": {},
   "source": [
    "penbmi with template 1"
   ]
  },
  {
   "cell_type": "code",
   "execution_count": 1,
   "id": "261f14f9",
   "metadata": {},
   "outputs": [
    {
     "name": "stdout",
     "output_type": "stream",
     "text": [
      "unsat\n"
     ]
    }
   ],
   "source": [
    "# code2 in paper\n",
    "from z3 import *\n",
    "import time\n",
    "start = time.time()\n",
    "x1,x2 = Reals('x1 x2')\n",
    "xrange = And(x1>=-5, x1<=5, x2>=-5, x2<=5)\n",
    "\n",
    "inv = 0.2434+x1*0.4773+x2*0.5677+x1**2*0.4773+x1*x2*0.0029+x2**2*0.5677>=0\n",
    "x1_f=0.9*(x1-0.01*x2)\n",
    "x2_f=0.9*(x2+0.01*x1)\n",
    "inv_f1 =0.2434+x1_f*0.4773+x2_f*0.5677+x1_f**2*0.4773+x1_f*x2_f*0.0029+x2_f**2*0.5677**2>=0\n",
    "\n",
    "loop_cond = 1>=0\n",
    "pre = x1**2+x2**2-1<=0\n",
    "post = 0.25-x1**2-(x2-2)**2<=0\n",
    "\n",
    "cons1 = ForAll([x1,x2],Implies(And(pre, xrange), inv))\n",
    "cons2 = ForAll([x1,x2],Implies(And(inv,loop_cond, xrange), inv_f1))\n",
    "cons3 = ForAll([x1,x2],Implies(And(inv, Not(loop_cond),xrange),post))\n",
    "               \n",
    "s = Solver()\n",
    "s.add( cons1, cons2, cons3)\n",
    "print(s.check())"
   ]
  },
  {
   "cell_type": "markdown",
   "id": "54cd88ca",
   "metadata": {},
   "source": [
    "check for penbmi with template 2"
   ]
  },
  {
   "cell_type": "markdown",
   "id": "14a60ba7",
   "metadata": {},
   "source": [
    "inv=1+2.0752*x1**2+1.5790*x2**2>=0  it holds for all real values for x1 and x2, thus failed."
   ]
  },
  {
   "cell_type": "markdown",
   "id": "31b37ab5",
   "metadata": {},
   "source": [
    "# EX3"
   ]
  },
  {
   "cell_type": "markdown",
   "id": "0d176e12",
   "metadata": {},
   "source": [
    "our:0.299s 0.88687354449+1.34861285266*x1-1.6072153343*x1^2"
   ]
  },
  {
   "cell_type": "markdown",
   "id": "f958c36a",
   "metadata": {},
   "source": [
    "S. Kupferschmid, B. Becker: Craig interpolation in the presence of non-linear constraints. In FORMATS(2011)."
   ]
  },
  {
   "cell_type": "code",
   "execution_count": 1,
   "id": "03793782",
   "metadata": {},
   "outputs": [
    {
     "name": "stdout",
     "output_type": "stream",
     "text": [
      "sat\n",
      "[]\n",
      "Consuming Time: 0.02731681 s\n",
      "\n"
     ]
    }
   ],
   "source": [
    "from z3 import *\n",
    "import time\n",
    "start = time.time()\n",
    "x,a1,a2,a3= Reals('x a1 a2 a3')\n",
    "inv=0.88687+1.34861*x-1.60721*x**2>=0\n",
    "\n",
    "inv_f1 =0.88687+1.34861*(-1.6*x*(1-x))-1.6072*(-1.6*x*(1-x))**2>=0\n",
    "\n",
    "\n",
    "loop_cond = (x+0.3)*(1.7-x)>=0\n",
    "pre = x*(1-x)>=0\n",
    "post = (x-1.5)*(x+1)<=0\n",
    "\n",
    "cons1 = ForAll([x],Implies(And(pre), inv))\n",
    "cons2 = ForAll([x],Implies(And(inv,loop_cond), inv_f1))\n",
    "cons3 = ForAll([x],Implies(And(inv, Not(loop_cond)),post))\n",
    "               \n",
    "s = Solver()\n",
    "s.add(cons1, cons2, cons3)\n",
    "print(s.check())\n",
    "print(s.model())\n",
    "end = time.time()\n",
    "print(\"Consuming Time: %.8f s\\n\"%((end-start)))"
   ]
  },
  {
   "cell_type": "markdown",
   "id": "60899c64",
   "metadata": {},
   "source": [
    "template inv=1+a1*x+a2*x^2>=0"
   ]
  },
  {
   "cell_type": "markdown",
   "id": "9fbc1daf",
   "metadata": {},
   "source": [
    "our:0.354968s 1+1.34280899625*x1-1.70277960918*x1^2"
   ]
  },
  {
   "cell_type": "code",
   "execution_count": 4,
   "id": "7e1989f4",
   "metadata": {},
   "outputs": [
    {
     "name": "stdout",
     "output_type": "stream",
     "text": [
      "sat\n",
      "[]\n",
      "Consuming Time: 0.02153683 s\n",
      "\n"
     ]
    }
   ],
   "source": [
    "from z3 import *\n",
    "import time\n",
    "start = time.time()\n",
    "x,a1,a2,a3= Reals('x a1 a2 a3')\n",
    "inv=1+1.342*x-1.702*x**2>=0\n",
    "\n",
    "inv_f1 =1+1.342*(-1.6*x*(1-x))-1.702*(-1.6*x*(1-x))**2>=0\n",
    "\n",
    "\n",
    "loop_cond = (x+0.3)*(1.7-x)>=0\n",
    "pre = x*(1-x)>=0\n",
    "post = (x-1.5)*(x+1)<=0\n",
    "\n",
    "cons1 = ForAll([x],Implies(And(pre), inv))\n",
    "cons2 = ForAll([x],Implies(And(inv,loop_cond), inv_f1))\n",
    "cons3 = ForAll([x],Implies(And(inv, Not(loop_cond)),post))\n",
    "               \n",
    "s = Solver()\n",
    "s.add(cons1, cons2, cons3)\n",
    "print(s.check())\n",
    "print(s.model())\n",
    "end = time.time()\n",
    "print(\"Consuming Time: %.8f s\\n\"%((end-start)))"
   ]
  },
  {
   "cell_type": "markdown",
   "id": "0fdb5bac",
   "metadata": {},
   "source": [
    "check for Prajna05."
   ]
  },
  {
   "cell_type": "markdown",
   "id": "111b9cb8",
   "metadata": {},
   "source": [
    "4.625400 seconds iteration 20 inv=1. Failed"
   ]
  },
  {
   "cell_type": "markdown",
   "id": "eff2ce97",
   "metadata": {},
   "source": [
    "check for penbmi"
   ]
  },
  {
   "cell_type": "markdown",
   "id": "b0b57218",
   "metadata": {},
   "source": [
    "template 1"
   ]
  },
  {
   "cell_type": "code",
   "execution_count": 3,
   "id": "75f70047",
   "metadata": {},
   "outputs": [
    {
     "name": "stdout",
     "output_type": "stream",
     "text": [
      "unsat\n"
     ]
    }
   ],
   "source": [
    "from z3 import *\n",
    "import time\n",
    "start = time.time()\n",
    "x,a1,a2,a3= Reals('x a1 a2 a3')\n",
    "inv= 4.7717-0.4835*x-0.4835*x**2>=0\n",
    "\n",
    "inv_f1 = 4.7717-0.4835*(-1.6*x*(1-x))-0.4835*(-1.6*x*(1-x))**2>=0\n",
    "\n",
    "\n",
    "loop_cond = (x+0.3)*(1.7-x)>=0\n",
    "pre = x*(1-x)>=0\n",
    "post = (x-1.5)*(x+1)<=0\n",
    "\n",
    "cons1 = ForAll([x],Implies(And(pre), inv))\n",
    "cons2 = ForAll([x],Implies(And(inv,loop_cond), inv_f1))\n",
    "cons3 = ForAll([x],Implies(And(inv, Not(loop_cond)),post))\n",
    "               \n",
    "s = Solver()\n",
    "s.add(cons1, cons2, cons3)\n",
    "print(s.check())\n"
   ]
  },
  {
   "cell_type": "markdown",
   "id": "04332dcc",
   "metadata": {},
   "source": [
    "template 2"
   ]
  },
  {
   "cell_type": "code",
   "execution_count": 1,
   "id": "1ad99581",
   "metadata": {},
   "outputs": [
    {
     "name": "stdout",
     "output_type": "stream",
     "text": [
      "unsat\n"
     ]
    }
   ],
   "source": [
    "from z3 import *\n",
    "import time\n",
    "start = time.time()\n",
    "x,a1,a2,a3= Reals('x a1 a2 a3')\n",
    "inv=1-2.2062*x-2.2062*x**2>=0\n",
    "\n",
    "inv_f1 =1-2.2062*(-1.6*x*(1-x))-2.2062*(-1.6*x*(1-x))**2>=0\n",
    "\n",
    "\n",
    "loop_cond = (x+0.3)*(1.7-x)>=0\n",
    "pre = x*(1-x)>=0\n",
    "post = (x-1.5)*(x+1)<=0\n",
    "\n",
    "cons1 = ForAll([x],Implies(And(pre), inv))\n",
    "cons2 = ForAll([x],Implies(And(inv,loop_cond), inv_f1))\n",
    "cons3 = ForAll([x],Implies(And(inv, Not(loop_cond)),post))\n",
    "               \n",
    "s = Solver()\n",
    "s.add(cons1, cons2, cons3)\n",
    "print(s.check())\n"
   ]
  },
  {
   "cell_type": "markdown",
   "id": "889720e2",
   "metadata": {},
   "source": [
    "# EX4 step_size=0.01"
   ]
  },
  {
   "cell_type": "markdown",
   "id": "62aaaca4",
   "metadata": {},
   "source": [
    "template:inv=a0+a1*x+a2*x^2"
   ]
  },
  {
   "cell_type": "markdown",
   "id": "c3f5cdfa",
   "metadata": {},
   "source": [
    "our:0.32  inv=2.43728531901+0.136308166416*x1-1.42099401323*x1^2"
   ]
  },
  {
   "cell_type": "code",
   "execution_count": 1,
   "id": "58058e65",
   "metadata": {},
   "outputs": [
    {
     "name": "stdout",
     "output_type": "stream",
     "text": [
      "sat\n",
      "[]\n",
      "Consuming Time: 0.06613874 s\n",
      "\n"
     ]
    }
   ],
   "source": [
    "import time\n",
    "from z3 import *\n",
    "start = time.time()\n",
    "x1,a1,a2,a3= Reals('x1 a1 a2 a3')\n",
    "inv=2.43728531901+0.136308166416*x1-1.42099401323*x1**2>=0\n",
    "\n",
    "guard1 = -1<=0;\n",
    "inv_f1 =2.43728531901+0.136308166416*(x1-0.01*x1*(x1-2)*(x1-4))-1.42099401323*(x1-0.01*x1*(x1-2)*(x1-4))**2>=0\n",
    "\n",
    "loop_cond = (x1+3)*(3-x1)>=0\n",
    "pre = (x1+1)*(1-x1)>=0;\n",
    "post = (x1-3)*(5-x1)>=0\n",
    "\n",
    "cons1 = ForAll([x1],Implies(And(pre), inv))\n",
    "cons2 = ForAll([x1],Implies(And(inv, guard1, loop_cond), inv_f1))\n",
    "cons3 = ForAll([x1],Implies(And(inv, Not(loop_cond)),post))\n",
    "               \n",
    "s = Solver()\n",
    "s.add(cons1, cons2, cons3)\n",
    "print(s.check())\n",
    "print(s.model())\n",
    "end = time.time()\n",
    "print(\"Consuming Time: %.8f s\\n\"%((end-start)))"
   ]
  },
  {
   "cell_type": "markdown",
   "id": "d1e63031",
   "metadata": {},
   "source": [
    "template:a0+a1*x1-x1^2 "
   ]
  },
  {
   "cell_type": "markdown",
   "id": "805db9cd",
   "metadata": {},
   "source": [
    "0.341552s 1.85564504638+0.0678863082122*x1-x1^2"
   ]
  },
  {
   "cell_type": "code",
   "execution_count": 2,
   "id": "aface684",
   "metadata": {},
   "outputs": [
    {
     "name": "stdout",
     "output_type": "stream",
     "text": [
      "sat\n",
      "[]\n",
      "Consuming Time: 0.02215981 s\n",
      "\n"
     ]
    }
   ],
   "source": [
    "import time\n",
    "from z3 import *\n",
    "start = time.time()\n",
    "x1,a1,a2,a3= Reals('x1 a1 a2 a3')\n",
    "inv=1.85564504638+0.0678863082122*x1-x1**2>=0\n",
    "\n",
    "inv_f1 =1.85564504638+0.0678863082122*(x1-0.01*x1*(x1-2)*(x1-4))-(x1-0.01*x1*(x1-2)*(x1-4))**2>=0\n",
    "\n",
    "loop_cond = (x1+3)*(3-x1)>=0\n",
    "pre = (x1+1)*(1-x1)>=0;\n",
    "post = (x1-3)*(5-x1)>=0\n",
    "\n",
    "cons1 = ForAll([x1],Implies(And(pre), inv))\n",
    "cons2 = ForAll([x1],Implies(And(inv, guard1, loop_cond), inv_f1))\n",
    "cons3 = ForAll([x1],Implies(And(inv, Not(loop_cond)),post))\n",
    "               \n",
    "s = Solver()\n",
    "s.add(cons1, cons2, cons3)\n",
    "print(s.check())\n",
    "print(s.model())\n",
    "end = time.time()\n",
    "print(\"Consuming Time: %.8f s\\n\"%((end-start)))"
   ]
  },
  {
   "cell_type": "markdown",
   "id": "a5f878ed",
   "metadata": {},
   "source": [
    "check for Prajna05."
   ]
  },
  {
   "cell_type": "markdown",
   "id": "7334d528",
   "metadata": {},
   "source": [
    "4.695925s iteration 20  inv= -x1^2"
   ]
  },
  {
   "cell_type": "code",
   "execution_count": 16,
   "id": "c47f8719",
   "metadata": {},
   "outputs": [
    {
     "name": "stdout",
     "output_type": "stream",
     "text": [
      "unsat\n"
     ]
    }
   ],
   "source": [
    "import time\n",
    "from z3 import *\n",
    "start = time.time()\n",
    "x1,a1,a2,a3= Reals('x1 a1 a2 a3')\n",
    "inv=-x1**2>=0\n",
    "\n",
    "inv_f1 =-(x1-0.01*x1*(x1-2)*(x1-4))**2>=0\n",
    "\n",
    "loop_cond = (x1+3)*(3-x1)>=0\n",
    "pre = (x1+1)*(1-x1)>=0;\n",
    "post = (x1-3)*(5-x1)>=0\n",
    "\n",
    "cons1 = ForAll([x1],Implies(And(pre), inv))\n",
    "cons2 = ForAll([x1],Implies(And(inv, loop_cond), inv_f1))\n",
    "cons3 = ForAll([x1],Implies(And(inv, Not(loop_cond)),post))\n",
    "               \n",
    "s = Solver()\n",
    "s.add(cons1, cons2, cons3)\n",
    "print(s.check())\n"
   ]
  },
  {
   "cell_type": "markdown",
   "id": "562f65c1",
   "metadata": {},
   "source": [
    "check for penbmi"
   ]
  },
  {
   "cell_type": "markdown",
   "id": "43936f94",
   "metadata": {},
   "source": [
    "template 1"
   ]
  },
  {
   "cell_type": "code",
   "execution_count": 2,
   "id": "4372fd82",
   "metadata": {},
   "outputs": [
    {
     "name": "stdout",
     "output_type": "stream",
     "text": [
      "unsat\n"
     ]
    }
   ],
   "source": [
    "import time\n",
    "from z3 import *\n",
    "start = time.time()\n",
    "x1,a1,a2,a3= Reals('x1 a1 a2 a3')\n",
    "inv=3.3281+0.3503*x1+0.3503*x1**2>=0\n",
    "\n",
    "inv_f1 = 3.3281+0.3503*(x1-0.01*x1*(x1-2)*(x1-4))+0.3503*(x1-0.01*x1*(x1-2)*(x1-4))**2>=0\n",
    "\n",
    "loop_cond = (x1+3)*(3-x1)>=0\n",
    "pre = (x1+1)*(1-x1)>=0;\n",
    "post = (x1-3)*(5-x1)>=0\n",
    "\n",
    "cons1 = ForAll([x1],Implies(And(pre), inv))\n",
    "cons2 = ForAll([x1],Implies(And(inv, loop_cond), inv_f1))\n",
    "cons3 = ForAll([x1],Implies(And(inv, Not(loop_cond)),post))\n",
    "               \n",
    "s = Solver()\n",
    "s.add(cons1, cons2, cons3)\n",
    "print(s.check())\n",
    "\n"
   ]
  },
  {
   "cell_type": "markdown",
   "id": "5d4a93a9",
   "metadata": {},
   "source": [
    "template 2"
   ]
  },
  {
   "cell_type": "code",
   "execution_count": 1,
   "id": "8e3e11ae",
   "metadata": {},
   "outputs": [
    {
     "name": "stdout",
     "output_type": "stream",
     "text": [
      "sat\n"
     ]
    }
   ],
   "source": [
    "import time\n",
    "from z3 import *\n",
    "start = time.time()\n",
    "x1,a1,a2,a3= Reals('x1 a1 a2 a3')\n",
    "inv=3.9283-1.5754*x1-x1**2>=0\n",
    "\n",
    "inv_f1 =3.9283-1.5754*(x1-0.01*x1*(x1-2)*(x1-4))-(x1-0.01*x1*(x1-2)*(x1-4))**2>=0\n",
    "\n",
    "loop_cond = (x1+3)*(3-x1)>=0\n",
    "pre = (x1+1)*(1-x1)>=0;\n",
    "post = (x1-3)*(5-x1)>=0\n",
    "\n",
    "cons1 = ForAll([x1],Implies(And(pre), inv))\n",
    "cons2 = ForAll([x1],Implies(And(inv, loop_cond), inv_f1))\n",
    "cons3 = ForAll([x1],Implies(And(inv, Not(loop_cond)),post))\n",
    "               \n",
    "s = Solver()\n",
    "s.add(cons1, cons2, cons3)\n",
    "print(s.check())\n"
   ]
  },
  {
   "cell_type": "markdown",
   "id": "7b6f759e",
   "metadata": {},
   "source": [
    "# EX4 step_size=0.001"
   ]
  },
  {
   "cell_type": "markdown",
   "id": "d79a7a4d",
   "metadata": {},
   "source": [
    "template:a0+a1*x1+a2*x1^2"
   ]
  },
  {
   "cell_type": "markdown",
   "id": "026b1303",
   "metadata": {},
   "source": [
    "our:0.323627 2.43728531901+0.136308166416*x1-1.42099401323*x1^2"
   ]
  },
  {
   "cell_type": "code",
   "execution_count": 5,
   "id": "0238ba7a",
   "metadata": {},
   "outputs": [
    {
     "name": "stdout",
     "output_type": "stream",
     "text": [
      "sat\n",
      "[]\n",
      "Consuming Time: 0.02573800 s\n",
      "\n"
     ]
    }
   ],
   "source": [
    "import time \n",
    "from z3 import *\n",
    "start = time.time()\n",
    "x1,a1,a2,a3= Reals('x1 a1 a2 a3')\n",
    "inv=2.43728531901+0.136308166416*x1-1.42099401323*x1**2>=0\n",
    "\n",
    "guard1 = -1<=0;\n",
    "inv_f1 =2.43728531901+0.136308166416*(x1-0.001*x1*(x1-2)*(x1-4))-1.42099401323*(x1-0.001*x1*(x1-2)*(x1-4))**2>=0\n",
    "\n",
    "loop_cond =  (x1+3)*(3-x1)>=0\n",
    "pre = (x1+1)*(1-x1)>=0\n",
    "post = (x1-3)*(5-x1)>=0\n",
    "\n",
    "cons1 = ForAll([x1],Implies(And(pre), inv))\n",
    "cons2 = ForAll([x1],Implies(And(inv, guard1, loop_cond), inv_f1))\n",
    "cons3 = ForAll([x1],Implies(And(inv, Not(loop_cond)),post))\n",
    "               \n",
    "s = Solver()\n",
    "s.add(cons1, cons2, cons3)\n",
    "print(s.check())\n",
    "print(s.model())\n",
    "end = time.time()\n",
    "print(\"Consuming Time: %.8f s\\n\"%((end-start)))"
   ]
  },
  {
   "cell_type": "markdown",
   "id": "7c329f9c",
   "metadata": {},
   "source": [
    "template: a0+a1*x1-x1^2"
   ]
  },
  {
   "cell_type": "markdown",
   "id": "62b46767",
   "metadata": {},
   "source": [
    "our 0.316163s 1.85564504638+0.0678863082122*x1-x1^2"
   ]
  },
  {
   "cell_type": "code",
   "execution_count": 4,
   "id": "d81960f1",
   "metadata": {},
   "outputs": [
    {
     "name": "stdout",
     "output_type": "stream",
     "text": [
      "sat\n",
      "[]\n",
      "Consuming Time: 0.02137351 s\n",
      "\n"
     ]
    }
   ],
   "source": [
    "import time\n",
    "from z3 import *\n",
    "start = time.time()\n",
    "x1,a1,a2,a3= Reals('x1 a1 a2 a3')\n",
    "inv=1.85564504638+0.0678863082122*x1-x1**2>=0\n",
    "\n",
    "inv_f1 =1.85564504638+0.0678863082122*(x1-0.001*x1*(x1-2)*(x1-4))-(x1-0.001*x1*(x1-2)*(x1-4))**2>=0\n",
    "\n",
    "loop_cond = (x1+3)*(3-x1)>=0\n",
    "pre = (x1+1)*(1-x1)>=0;\n",
    "post = (x1-3)*(5-x1)>=0\n",
    "guard1 = -1<=0;\n",
    "cons1 = ForAll([x1],Implies(And(pre), inv))\n",
    "cons2 = ForAll([x1],Implies(And(inv, guard1, loop_cond), inv_f1))\n",
    "cons3 = ForAll([x1],Implies(And(inv, Not(loop_cond)),post))\n",
    "               \n",
    "s = Solver()\n",
    "s.add(cons1, cons2, cons3)\n",
    "print(s.check())\n",
    "print(s.model())\n",
    "end = time.time()\n",
    "print(\"Consuming Time: %.8f s\\n\"%((end-start)))"
   ]
  },
  {
   "cell_type": "markdown",
   "id": "98303c05",
   "metadata": {},
   "source": [
    "check for Prajna05."
   ]
  },
  {
   "cell_type": "markdown",
   "id": "92ad0a1b",
   "metadata": {},
   "source": [
    "5.082321s iteration 20 inv=-x1^2 Failed"
   ]
  },
  {
   "cell_type": "markdown",
   "id": "385498f4",
   "metadata": {},
   "source": [
    "check penbmi"
   ]
  },
  {
   "cell_type": "markdown",
   "id": "c15ca6cf",
   "metadata": {},
   "source": [
    "template1"
   ]
  },
  {
   "cell_type": "code",
   "execution_count": 1,
   "id": "12f14899",
   "metadata": {},
   "outputs": [
    {
     "name": "stdout",
     "output_type": "stream",
     "text": [
      "unsat\n"
     ]
    }
   ],
   "source": [
    "import time\n",
    "from z3 import *\n",
    "start = time.time()\n",
    "x1= Real('x1')\n",
    "inv=3.2828+0.3230*x1+0.3230*x1**2>=0\n",
    "\n",
    "inv_f1 =3.2828+0.3230*(x1-0.001*x1*(x1-2)*(x1-4))+0.3230*(x1-0.001*x1*(x1-2)*(x1-4))**2>=0\n",
    "guard1 = -1<=0;\n",
    "loop_cond = (x1+3)*(3-x1)>=0\n",
    "pre = (x1+1)*(1-x1)>=0;\n",
    "post = (x1-3)*(5-x1)>=0\n",
    "\n",
    "cons1 = ForAll([x1],Implies(And(pre), inv))\n",
    "cons2 = ForAll([x1],Implies(And(inv, guard1, loop_cond), inv_f1))\n",
    "cons3 = ForAll([x1],Implies(And(inv, Not(loop_cond)),post))\n",
    "               \n",
    "s = Solver()\n",
    "s.add(cons1, cons2, cons3)\n",
    "print(s.check())"
   ]
  },
  {
   "cell_type": "markdown",
   "id": "8cb68abd",
   "metadata": {},
   "source": [
    "template2"
   ]
  },
  {
   "cell_type": "code",
   "execution_count": 1,
   "id": "e020d679",
   "metadata": {},
   "outputs": [
    {
     "name": "stdout",
     "output_type": "stream",
     "text": [
      "sat\n"
     ]
    }
   ],
   "source": [
    "import time\n",
    "from z3 import *\n",
    "start = time.time()\n",
    "x1,a1,a2,a3= Reals('x1 a1 a2 a3')\n",
    "inv=3.8831-1.6067*x1-x1**2>=0\n",
    "\n",
    "inv_f1 =3.8831-1.6067*(x1-0.001*x1*(x1-2)*(x1-4))-(x1-0.001*x1*(x1-2)*(x1-4))**2>=0\n",
    "guard1 = -1<=0;\n",
    "loop_cond = (x1+3)*(3-x1)>=0\n",
    "pre = (x1+1)*(1-x1)>=0;\n",
    "post = (x1-3)*(5-x1)>=0\n",
    "\n",
    "cons1 = ForAll([x1],Implies(And(pre), inv))\n",
    "cons2 = ForAll([x1],Implies(And(inv, guard1, loop_cond), inv_f1))\n",
    "cons3 = ForAll([x1],Implies(And(inv, Not(loop_cond)),post))\n",
    "               \n",
    "s = Solver()\n",
    "s.add(cons1, cons2, cons3)\n",
    "print(s.check())\n"
   ]
  },
  {
   "cell_type": "markdown",
   "id": "ba5064d2",
   "metadata": {},
   "source": [
    "# cav13-1"
   ]
  },
  {
   "cell_type": "markdown",
   "id": "90ac01c9",
   "metadata": {},
   "source": [
    "template:a0+a1*x1+a2*x2+a3*x1*x2+a4*x1^2+a5*x2^2"
   ]
  },
  {
   "cell_type": "markdown",
   "id": "dc4f0f20",
   "metadata": {},
   "source": [
    "0.677986s 1.31049255748+0.041620694321*x1+1.19347401606*x2-0.369332644733*x1^2-0.0707058607812*x2^2+0.0317147439324*x1*x2"
   ]
  },
  {
   "cell_type": "code",
   "execution_count": 1,
   "id": "e16bfd41",
   "metadata": {},
   "outputs": [
    {
     "name": "stdout",
     "output_type": "stream",
     "text": [
      "sat\n",
      "[]\n",
      "Consuming Time: 49.60736346 s\n",
      "\n"
     ]
    }
   ],
   "source": [
    "from z3 import *\n",
    "import time\n",
    "#ex2 time out\n",
    "start = time.time()\n",
    "x1,x2,a1,a2,a3,a4,a5= Reals('x1 x2 a1 a2 a3 a4 a5')\n",
    "inv=1.31+0.0416*x1+1.193*x2-0.369*x1**2-0.07*x2**2+0.031*x1*x2>=0\n",
    "\n",
    "inv_f= 1.31+0.0416*(x1**2+x2-1)+1.193*(x2+(x1**2+x2-1)*x2+1)-0.369*(x1**2+x2-1)**2-0.07*(x2+(x1**2+x2-1)*x2+1)**2+0.031*(x1**2+x2-1)*(x2+(x1**2+x2-1)*x2+1)>=0\n",
    "\n",
    "\n",
    "loop_cond = 3-x1**2-x2**2>=0\n",
    "pre = 1-x1**2-x2**2>=0\n",
    "post = -x2 + 0.2*x1**2 - 1<=0\n",
    "\n",
    "cons1 = ForAll([x1,x2],Implies(And(pre), inv))\n",
    "cons2 = ForAll([x1,x2],Implies(And(inv,loop_cond), inv_f))\n",
    "cons3 = ForAll([x1,x2],Implies(And(inv, Not(loop_cond)),post))\n",
    "               \n",
    "s = Solver()\n",
    "s.add(cons1, cons2, cons3)\n",
    "print(s.check())\n",
    "print(s.model())\n",
    "end = time.time()\n",
    "print(\"Consuming Time: %.8f s\\n\"%((end-start)))"
   ]
  },
  {
   "cell_type": "markdown",
   "id": "d27e46f0",
   "metadata": {},
   "source": [
    "template:a0+a1*x1^2+a2*x2^2"
   ]
  },
  {
   "cell_type": "markdown",
   "id": "1a833a32",
   "metadata": {},
   "source": [
    "our:0.394792 second: 3.60886409031-1.69839700708*x1^2-2.03873868002*x2^2"
   ]
  },
  {
   "cell_type": "code",
   "execution_count": 9,
   "id": "78706364",
   "metadata": {},
   "outputs": [
    {
     "name": "stdout",
     "output_type": "stream",
     "text": [
      "sat\n",
      "[]\n",
      "Consuming Time: 0.02101016 s\n",
      "\n"
     ]
    }
   ],
   "source": [
    "from z3 import *\n",
    "import time\n",
    "#ex2 time out\n",
    "start = time.time()\n",
    "x1,x2,a1,a2,a3,a4,a5= Reals('x1 x2 a1 a2 a3 a4 a5')\n",
    "inv=3.608-1.698*x1**2-2.038*x2**2>=0\n",
    "\n",
    "inv_f= 3.608-1.698*x1**2-2.038*x2**2>=0\n",
    "\n",
    "\n",
    "loop_cond = 3-x1**2-x2**2>=0\n",
    "pre = 1-x1**2-x2**2>=0\n",
    "post = -x2 + 0.2*x1**2 - 1<=0\n",
    "\n",
    "cons1 = ForAll([x1,x2],Implies(And(pre), inv))\n",
    "cons2 = ForAll([x1,x2],Implies(And(inv,loop_cond), inv_f))\n",
    "cons3 = ForAll([x1,x2],Implies(And(inv, Not(loop_cond)),post))\n",
    "               \n",
    "s = Solver()\n",
    "s.add(cons1, cons2, cons3)\n",
    "print(s.check())\n",
    "print(s.model())\n",
    "end = time.time()\n",
    "print(\"Consuming Time: %.8f s\\n\"%((end-start)))"
   ]
  },
  {
   "cell_type": "markdown",
   "id": "d7d4fefd",
   "metadata": {},
   "source": [
    "check for Prajna05 with template 2\n"
   ]
  },
  {
   "cell_type": "markdown",
   "id": "f9bdad4d",
   "metadata": {},
   "source": [
    "14.547149 seconds iteration 20 inv= 0 Failed"
   ]
  },
  {
   "cell_type": "markdown",
   "id": "f637b678",
   "metadata": {},
   "source": [
    "penbmi with template 1"
   ]
  },
  {
   "cell_type": "code",
   "execution_count": 1,
   "id": "37fabfef",
   "metadata": {},
   "outputs": [
    {
     "name": "stdout",
     "output_type": "stream",
     "text": [
      "unsat\n"
     ]
    }
   ],
   "source": [
    "from z3 import *\n",
    "import time\n",
    "#ex2 time out\n",
    "start = time.time()\n",
    "x1,x2,a1,a2,a3,a4,a5= Reals('x1 x2 a1 a2 a3 a4 a5')\n",
    "inv=0.4446+0.4716*x1+0.4922*x2+0.4716*x1**2-0.0147*x1*x2+0.4922*x2**2>=0\n",
    "\n",
    "\n",
    "x1_f=x1**2+x2-1\n",
    "x2_f=x2+(x1**2+x2-1)*x2+1\n",
    "\n",
    "inv_f=0.4446+0.4716*x1_f+0.4922*x2_f+0.4716*x1_f**2-0.0147*x1_f*x2_f+0.4922*x2_f**2>=0\n",
    "\n",
    "\n",
    "\n",
    "loop_cond = 3-x1**2-x2**2>=0\n",
    "pre = 1-x1**2-x2**2>=0\n",
    "post = -x2 + 0.2*x1**2 - 1<=0\n",
    "\n",
    "cons1 = ForAll([x1,x2],Implies(And(pre), inv))\n",
    "cons2 = ForAll([x1,x2],Implies(And(inv,loop_cond), inv_f))\n",
    "cons3 = ForAll([x1,x2],Implies(And(inv, Not(loop_cond)),post))\n",
    "               \n",
    "s = Solver()\n",
    "s.add(cons1, cons2, cons3)\n",
    "print(s.check())"
   ]
  },
  {
   "cell_type": "markdown",
   "id": "3adc306e",
   "metadata": {},
   "source": [
    "check for penbmi with template 2"
   ]
  },
  {
   "cell_type": "markdown",
   "id": "714d2e87",
   "metadata": {},
   "source": [
    "inv=0.2674+0.1025*x1**2+0.1036*x2**2>=0 obviously,it holds for all real variables,thus failed for an invariant"
   ]
  },
  {
   "cell_type": "markdown",
   "id": "4beae85a",
   "metadata": {},
   "source": [
    "# cav13-2"
   ]
  },
  {
   "cell_type": "markdown",
   "id": "19691fee",
   "metadata": {},
   "source": [
    "template:a0+a1*x2+a2*x1**2+a3*x2**2>=0"
   ]
  },
  {
   "cell_type": "markdown",
   "id": "2c160cd3",
   "metadata": {},
   "source": [
    "0.879837 second inv=2.4892+1.345*x2-0.568*x1**2-0.29*x2**2>=0"
   ]
  },
  {
   "cell_type": "code",
   "execution_count": 4,
   "id": "f2ed6d75",
   "metadata": {},
   "outputs": [
    {
     "name": "stdout",
     "output_type": "stream",
     "text": [
      "sat\n",
      "[]\n",
      "Consuming Time: 194.35320282 s\n",
      "\n"
     ]
    }
   ],
   "source": [
    "from z3 import *\n",
    "import time\n",
    "#ex2 time out\n",
    "start = time.time()\n",
    "x1,x2,a1,a2,a3,a4,a5= Reals('x1 x2 a1 a2 a3 a4 a5')\n",
    "inv=2.4892+1.345*x2-0.568*x1**2-0.29*x2**2>=0\n",
    "\n",
    "inv_f=2.4892+1.345*(x2+(x1**2+x2-1)*x2+1)-0.568*(x1**2+x2-1)**2-0.29*(x2+(x1**2+x2-1)*x2+1)**2>=0\n",
    "\n",
    "\n",
    "\n",
    "loop_cond = 3-x1**2-x2**2>=0\n",
    "pre = 2-x1**2-x2**2>=0\n",
    "post = -x2 + 0.2*x1**2 - 1.21<=0\n",
    "\n",
    "cons1 = ForAll([x1,x2],Implies(And(pre), inv))\n",
    "cons2 = ForAll([x1,x2],Implies(And(inv,loop_cond), inv_f))\n",
    "cons3 = ForAll([x1,x2],Implies(And(inv, Not(loop_cond)),post))\n",
    "               \n",
    "s = Solver()\n",
    "s.add(cons1, cons2, cons3)\n",
    "print(s.check())\n",
    "print(s.model())\n",
    "end = time.time()\n",
    "print(\"Consuming Time: %.8f s\\n\"%((end-start)))"
   ]
  },
  {
   "cell_type": "markdown",
   "id": "a2f7aae5",
   "metadata": {},
   "source": [
    "with tempalte a0+a1*x1+a2*x2+a3*x1*x2+a4*x1**2+a5*x2**2"
   ]
  },
  {
   "cell_type": "markdown",
   "id": "9129dbf5",
   "metadata": {},
   "source": [
    "1.189802 second 2.68032074505+0.00327562121923*x1+1.43921740869*x2-0.61698267714*x1^2-0.318630765675*x2^2+0.0020743643307*x1*x2"
   ]
  },
  {
   "cell_type": "code",
   "execution_count": 1,
   "id": "685db507",
   "metadata": {},
   "outputs": [
    {
     "name": "stdout",
     "output_type": "stream",
     "text": [
      "sat\n",
      "[]\n",
      "Consuming Time: 192.10324311 s\n",
      "\n"
     ]
    }
   ],
   "source": [
    "from z3 import *\n",
    "import time\n",
    "#ex2 time out\n",
    "start = time.time()\n",
    "x1,x2,a1,a2,a3,a4,a5= Reals('x1 x2 a1 a2 a3 a4 a5')\n",
    "inv=2.68+0.003*x1+1.44*x2-0.617*x1**2-0.318*x2**2+0.002*x1*x2>=0\n",
    "x1_f=x1**2+x2-1\n",
    "x2_f=x2+(x1**2+x2-1)*x2+1\n",
    "\n",
    "inv_f=2.68+0.003*x1_f+1.44*x2_f-0.617*x1_f**2-0.318*x2_f**2+0.002*x1_f*x2_f>=0\n",
    "\n",
    "\n",
    "\n",
    "loop_cond = 3-x1**2-x2**2>=0\n",
    "pre = 2-x1**2-x2**2>=0\n",
    "post = -x2 + 0.2*x1**2 - 1.21<=0\n",
    "\n",
    "cons1 = ForAll([x1,x2],Implies(And(pre), inv))\n",
    "cons2 = ForAll([x1,x2],Implies(And(inv,loop_cond), inv_f))\n",
    "cons3 = ForAll([x1,x2],Implies(And(inv, Not(loop_cond)),post))\n",
    "               \n",
    "s = Solver()\n",
    "s.add(cons1, cons2, cons3)\n",
    "print(s.check())\n",
    "print(s.model())\n",
    "end = time.time()\n",
    "print(\"Consuming Time: %.8f s\\n\"%((end-start)))"
   ]
  },
  {
   "cell_type": "markdown",
   "id": "5935dc6e",
   "metadata": {},
   "source": [
    "check for Prajna05."
   ]
  },
  {
   "cell_type": "markdown",
   "id": "f1a89a12",
   "metadata": {},
   "source": [
    "30.263071 seconds iteration 20 inv= 0 Failed"
   ]
  },
  {
   "cell_type": "markdown",
   "id": "62167abf",
   "metadata": {},
   "source": [
    "check for penbmi"
   ]
  },
  {
   "cell_type": "markdown",
   "id": "c616ca8e",
   "metadata": {},
   "source": [
    "template 1"
   ]
  },
  {
   "cell_type": "code",
   "execution_count": 2,
   "id": "59a8f257",
   "metadata": {},
   "outputs": [
    {
     "name": "stdout",
     "output_type": "stream",
     "text": [
      "unsat\n"
     ]
    }
   ],
   "source": [
    "from z3 import *\n",
    "import time\n",
    "#ex2 time out\n",
    "start = time.time()\n",
    "x1,x2,a1,a2,a3,a4,a5= Reals('x1 x2 a1 a2 a3 a4 a5')\n",
    "inv=0.2007+0.0725*x1+0.0732*x2+0.0725*x1**2-0.0012*x1*x2+0.0732*x2**2>=0\n",
    "\n",
    "\n",
    "x1_f=x1**2+x2-1\n",
    "x2_f=x2+(x1**2+x2-1)*x2+1\n",
    "\n",
    "inv_f=0.2007+0.0725*x1_f+0.0732*x2_f+0.0725*x1_f**2-0.0012*x1_f*x2_f+0.0732*x2_f**2>=0\n",
    "\n",
    "\n",
    "\n",
    "loop_cond = 3-x1**2-x2**2>=0\n",
    "pre = 2-x1**2-x2**2>=0\n",
    "post = -x2 + 0.2*x1**2 - 1.21<=0\n",
    "\n",
    "cons1 = ForAll([x1,x2],Implies(And(pre), inv))\n",
    "cons2 = ForAll([x1,x2],Implies(And(inv,loop_cond), inv_f))\n",
    "cons3 = ForAll([x1,x2],Implies(And(inv, Not(loop_cond)),post))\n",
    "               \n",
    "s = Solver()\n",
    "s.add(cons1, cons2, cons3)\n",
    "print(s.check())"
   ]
  },
  {
   "cell_type": "markdown",
   "id": "9713620f",
   "metadata": {},
   "source": [
    "template 2"
   ]
  },
  {
   "cell_type": "code",
   "execution_count": 2,
   "id": "bdc3497b",
   "metadata": {},
   "outputs": [
    {
     "name": "stdout",
     "output_type": "stream",
     "text": [
      "unsat\n"
     ]
    }
   ],
   "source": [
    "from z3 import *\n",
    "import time\n",
    "#ex2 time out\n",
    "start = time.time()\n",
    "x1,x2,a1,a2,a3,a4,a5= Reals('x1 x2 a1 a2 a3 a4 a5')\n",
    "inv= 0.2381-0.0344*x2-0.0345*x1**2-0.0344*x2**2>=0\n",
    "\n",
    "inv_f=0.2381-0.0344*(x2+(x1**2+x2-1)*x2+1)-0.0345*(x1**2+x2-1)**2-0.0344*(x2+(x1**2+x2-1)*x2+1)**2>=0\n",
    "\n",
    "\n",
    "\n",
    "loop_cond = 3-x1**2-x2**2>=0\n",
    "pre = 2-x1**2-x2**2>=0\n",
    "post = -x2 + 0.2*x1**2 - 1.21<=0\n",
    "\n",
    "cons1 = ForAll([x1,x2],Implies(And(pre), inv))\n",
    "cons2 = ForAll([x1,x2],Implies(And(inv,loop_cond), inv_f))\n",
    "cons3 = ForAll([x1,x2],Implies(And(inv, Not(loop_cond)),post))\n",
    "               \n",
    "s = Solver()\n",
    "s.add(cons1, cons2, cons3)\n",
    "print(s.check())"
   ]
  },
  {
   "cell_type": "markdown",
   "id": "02b23f93",
   "metadata": {},
   "source": [
    "# cohencu"
   ]
  },
  {
   "cell_type": "code",
   "execution_count": 2,
   "id": "25ad3a8b",
   "metadata": {},
   "outputs": [],
   "source": [
    "import time\n",
    "from z3 import *"
   ]
  },
  {
   "cell_type": "markdown",
   "id": "f897fed7",
   "metadata": {},
   "source": [
    "our: 1.338407 second 1.35975492961+1.4448533376*x1+2.16539212227*x2-4.64634747747*x1**2+0.475113470224*x2**2-1.84218627328*x1*x2"
   ]
  },
  {
   "cell_type": "markdown",
   "id": "11cf5d46",
   "metadata": {},
   "source": [
    " with template a0+a1*x1+a2*x2+a3*x1^2+a4 *x2^2+a5*x1*x2>=0"
   ]
  },
  {
   "cell_type": "code",
   "execution_count": 3,
   "id": "bd5621d8",
   "metadata": {},
   "outputs": [
    {
     "name": "stdout",
     "output_type": "stream",
     "text": [
      "sat\n"
     ]
    }
   ],
   "source": [
    "import time\n",
    "from z3 import *\n",
    "# cohencu >600s\n",
    "start = time.time()\n",
    "x1,x2,a0,a1,a2,a3,a4,a5 = Reals('x1 x2 a0 a1 a2 a3 a4 a5')\n",
    "xrange = And(x2>=0, x2<=10, x1>=0,x1<=10)\n",
    "\n",
    "inv =1.359+1.4448*x1+2.1653*x2-4.6463*x1**2+0.47511*x2**2-1.84218*x1*x2>=0\n",
    "\n",
    "inv_f1=1.359+1.4448*(x1+1)+2.1653*(x2+5.5*x1+5.5)-4.6463*(x1+1)**2+0.47511*(x2+5.5*x1+5.5)**2-1.84218*(x1+1)*(x2+5.5*x1+5.5)>=0\n",
    "\n",
    "\n",
    "loop_cond = x1-5<=0\n",
    "pre = And(x2==0,x1==0)\n",
    "post = And(2.5*x1**2+4*x1-x2<=0,x2-3.5*x1**2-3*x1<=0)\n",
    "\n",
    "cons1 = ForAll([x1,x2],Implies(And(pre, xrange), inv))\n",
    "cons2 = ForAll([x1,x2],Implies(And(inv,loop_cond, xrange),inv_f1))\n",
    "cons3 = ForAll([x1,x2],Implies(And(inv, Not(loop_cond),xrange),post))\n",
    "               \n",
    "s = Solver()\n",
    "s.add( cons1, cons2, cons3)\n",
    "print(s.check())"
   ]
  },
  {
   "cell_type": "markdown",
   "id": "e4bbe375",
   "metadata": {},
   "source": [
    "template a1*x2+a2+a3*x1+a4*x1**2>=0"
   ]
  },
  {
   "cell_type": "markdown",
   "id": "43647e84",
   "metadata": {},
   "source": [
    "0.876358s 2.70634661483+4.76928266268*x1-0.470674616918*x2-4.00052741281*x1**2>=0"
   ]
  },
  {
   "cell_type": "code",
   "execution_count": 2,
   "id": "4e5e13d8",
   "metadata": {},
   "outputs": [
    {
     "name": "stdout",
     "output_type": "stream",
     "text": [
      "sat\n",
      "[]\n",
      "Consume Time: 0.01206088\n"
     ]
    }
   ],
   "source": [
    "# cohencu\n",
    "#template a1*x2+a2+a3*x1+a4*x1**2>=0\n",
    "start = time.time()\n",
    "x1,x2,a1,a2,a3,a4 = Reals('x1 x2 a1 a2 a3 a4')\n",
    "xrange = And(x2>=0, x2<=10, x1>=0,x1<=10)\n",
    "\n",
    "\n",
    "inv =2.7063+4.7692*x1-0.4706*x2-4.0005*x1**2>=0\n",
    "\n",
    "inv_f1 =2.7063+4.7692*(x2+5.5*x1+5.5)-0.4706*(x1+1)-4.0005*(x1+1)**2>=0\n",
    "\n",
    "loop_cond = x1-5<=0\n",
    "pre = And(x2==0,x1==0)\n",
    "post = And(2.5*x1**2+4*x1-x2<=0,x2-3.5*x1**2-3*x1<=0)\n",
    "\n",
    "cons1 = ForAll([x2,x1],Implies(And(pre, xrange), inv))\n",
    "cons2 = ForAll([x2,x1],Implies(And(inv, loop_cond, xrange),inv_f1))\n",
    "cons3 = ForAll([x2,x1],Implies(And(inv, Not(loop_cond),xrange),post))\n",
    "               \n",
    "s = Solver()\n",
    "s.add( cons1, cons2, cons3)\n",
    "print(s.check())\n",
    "print(s.model())\n",
    "end = time.time()\n",
    "print(\"Consume Time: %.8f\"%((end-start)))"
   ]
  },
  {
   "cell_type": "markdown",
   "id": "73f5f074",
   "metadata": {},
   "source": [
    "check for Prajna05."
   ]
  },
  {
   "cell_type": "markdown",
   "id": "0e32b38a",
   "metadata": {},
   "source": [
    "0.347516 second iteration 1 0.0694954350368+15.8558380383*x1-0.207924493968*x2-10.0753104798*x1^2"
   ]
  },
  {
   "cell_type": "code",
   "execution_count": 19,
   "id": "ef6a4ded",
   "metadata": {},
   "outputs": [
    {
     "name": "stdout",
     "output_type": "stream",
     "text": [
      "sat\n"
     ]
    }
   ],
   "source": [
    "import time\n",
    "from z3 import *\n",
    "# cohencu\n",
    "#template a1*x2+a2+a3*x1+a4*x1**2>=0\n",
    "start = time.time()\n",
    "x1,x2,a1,a2,a3,a4 = Reals('x1 x2 a1 a2 a3 a4')\n",
    "xrange = And(x2>=0, x2<=10, x1>=0,x1<=10)\n",
    "\n",
    "\n",
    "inv =0.06949+15.8558*x1-0.2079*x2-10.0753*x1**2>=0\n",
    "\n",
    "inv_f1 =0.06949+15.8558*(x2+5.5*x1+5.5)-0.2079*(x1+1)-10.0753*(x1+1)**2>=0\n",
    "\n",
    "loop_cond = x1-5<=0\n",
    "pre = And(x2==0,x1==0)\n",
    "post = And(2.5*x1**2+4*x1-x2<=0,x2-3.5*x1**2-3*x1<=0)\n",
    "\n",
    "cons1 = ForAll([x2,x1],Implies(And(pre, xrange), inv))\n",
    "cons2 = ForAll([x2,x1],Implies(And(inv, loop_cond, xrange),inv_f1))\n",
    "cons3 = ForAll([x2,x1],Implies(And(inv, Not(loop_cond),xrange),post))\n",
    "               \n",
    "s = Solver()\n",
    "s.add( cons1, cons2, cons3)\n",
    "print(s.check())"
   ]
  },
  {
   "cell_type": "markdown",
   "id": "3edd6b4a",
   "metadata": {},
   "source": [
    "check penbim"
   ]
  },
  {
   "cell_type": "markdown",
   "id": "46751282",
   "metadata": {},
   "source": [
    "template 1"
   ]
  },
  {
   "cell_type": "code",
   "execution_count": 1,
   "id": "ee512293",
   "metadata": {},
   "outputs": [
    {
     "name": "stdout",
     "output_type": "stream",
     "text": [
      "unsat\n"
     ]
    }
   ],
   "source": [
    "import time\n",
    "from z3 import *\n",
    "# cohencu >600s\n",
    "start = time.time()\n",
    "x1,x2,a0,a1,a2,a3,a4,a5 = Reals('x1 x2 a0 a1 a2 a3 a4 a5')\n",
    "xrange = And(x2>=0, x2<=10, x1>=0,x1<=10)\n",
    "\n",
    "inv =0.1403+0.0005*x1+0.2388*x2+0.0005*x1**2+0.2388*x2**2+0.0001*x1*x2>=0\n",
    "\n",
    "inv_f1=0.1403+0.0005*(x1+1)+0.2388*(x2+5.5*x1+5.5)+0.0005*(x1+1)**2+0.2388*(x2+5.5*x1+5.5)**2+0.0001*(x1+1)*(x2+5.5*x1+5.5)>=0\n",
    "\n",
    "\n",
    "loop_cond = x1-5<=0\n",
    "pre = And(x2==0,x1==0)\n",
    "post = And(2.5*x1**2+4*x1-x2<=0,x2-3.5*x1**2-3*x1<=0)\n",
    "\n",
    "cons1 = ForAll([x1,x2],Implies(And(pre, xrange), inv))\n",
    "cons2 = ForAll([x1,x2],Implies(And(inv,loop_cond, xrange),inv_f1))\n",
    "cons3 = ForAll([x1,x2],Implies(And(inv, Not(loop_cond),xrange),post))\n",
    "               \n",
    "s = Solver()\n",
    "s.add( cons1, cons2, cons3)\n",
    "print(s.check())"
   ]
  },
  {
   "cell_type": "markdown",
   "id": "854d1657",
   "metadata": {},
   "source": [
    "template2"
   ]
  },
  {
   "cell_type": "code",
   "execution_count": 2,
   "id": "24fa815a",
   "metadata": {},
   "outputs": [
    {
     "name": "stdout",
     "output_type": "stream",
     "text": [
      "unsat\n"
     ]
    }
   ],
   "source": [
    "import time\n",
    "from z3 import *\n",
    "# cohencu\n",
    "#template a1*x2+a2+a3*x1+a4*x1**2>=0\n",
    "start = time.time()\n",
    "x1,x2,a1,a2,a3,a4 = Reals('x1 x2 a1 a2 a3 a4')\n",
    "xrange = And(x2>=0, x2<=10, x1>=0,x1<=10)\n",
    "\n",
    "\n",
    "inv =0.1368+0.0022*x1+0.2604*x2+0.0022*x1**2>=0\n",
    "\n",
    "inv_f1 =0.1368+0.0022*(x2+5.5*x1+5.5)+0.2604*(x1+1)+0.0022*(x1+1)**2>=0\n",
    "\n",
    "loop_cond = x1-5<=0\n",
    "pre = And(x2==0,x1==0)\n",
    "post = And(2.5*x1**2+4*x1-x2<=0,x2-3.5*x1**2-3*x1<=0)\n",
    "\n",
    "cons1 = ForAll([x2,x1],Implies(And(pre, xrange), inv))\n",
    "cons2 = ForAll([x2,x1],Implies(And(inv, loop_cond, xrange),inv_f1))\n",
    "cons3 = ForAll([x2,x1],Implies(And(inv, Not(loop_cond),xrange),post))\n",
    "               \n",
    "s = Solver()\n",
    "s.add( cons1, cons2, cons3)\n",
    "print(s.check())"
   ]
  },
  {
   "cell_type": "markdown",
   "id": "97c40e53",
   "metadata": {},
   "source": [
    "# unicycle"
   ]
  },
  {
   "cell_type": "markdown",
   "id": "89f8bcfa",
   "metadata": {},
   "source": [
    "Mohamed Amin Ben Sassi and Antoine Girard. 2012. Controller synthesis for robust invariance of polynomial\n",
    "dynamical systems using linear programming. Systems & control letters 61, 4 (2012), 506–512."
   ]
  },
  {
   "cell_type": "markdown",
   "id": "193f490e",
   "metadata": {},
   "source": [
    "our:2.34626809024+0.277525933311*x1+2.15497530941*x2-1.12607849619*x1**2-0.750829391907*x2**2-0.22959417109*x1*x2"
   ]
  },
  {
   "cell_type": "code",
   "execution_count": 1,
   "id": "0fd36e3c",
   "metadata": {},
   "outputs": [
    {
     "name": "stdout",
     "output_type": "stream",
     "text": [
      "sat\n",
      "[]\n",
      "Consume Time: 0.11233139 s\n",
      "\n"
     ]
    }
   ],
   "source": [
    "\n",
    "from z3 import *\n",
    "import time\n",
    "start = time.time()\n",
    "x1,x2,a1,a2,a3,a4= Reals('x1 x2 a1 a2 a3 a4')\n",
    "xvars = [x1,x2]\n",
    "\n",
    "pre = x1**2+(x2-1)**2-1<= 0\n",
    "post = x1**2 + (x2-1)**2 - 4<=0\n",
    "\n",
    "inv =2.34626809024+0.277525933311*x1+2.15497530941*x2-1.12607849619*x1**2-0.750829391907*x2**2-0.22959417109*x1*x2>=0\n",
    "\n",
    "w = 1.0178 + 1.8721 * x1 - 0.0253 * x2\n",
    "x1_f = x1 + 0.01*(1-x2*w)\n",
    "x2_f = x2 + 0.01*x1*w\n",
    "inv_f1 = 2.34626809024+0.277525933311*x1_f+2.15497530941*x2_f-1.12607849619*x1_f**2-0.750829391907*x2_f**2-0.22959417109*x1_f*x2_f>=0\n",
    "loop_cond=1>0\n",
    "\n",
    "\n",
    "cons1 = ForAll(xvars,Implies(pre, inv))\n",
    "cons2 = ForAll(xvars,Implies(And(inv, loop_cond), inv_f1))\n",
    "cons3 = ForAll(xvars,Implies(And(inv, Not(loop_cond)),post))\n",
    "               \n",
    "s = Solver()\n",
    "s.add( cons1, cons2, cons3)\n",
    "print(s.check())\n",
    "print(s.model())\n",
    "end = time.time()\n",
    "print(\"Consume Time: %.8f s\\n\"%((end-start)))"
   ]
  },
  {
   "cell_type": "code",
   "execution_count": 1,
   "id": "0f16eb68",
   "metadata": {},
   "outputs": [
    {
     "name": "stdout",
     "output_type": "stream",
     "text": [
      "sat\n",
      "[]\n",
      "Consume Time: 0.01607037 s\n",
      "\n"
     ]
    }
   ],
   "source": [
    "\n",
    "from z3 import *\n",
    "import time\n",
    "start = time.time()\n",
    "x1,x2= Reals('x1 x2')\n",
    "xvars=[x1,x2]\n",
    "pre = x1**2+(x2-1)**2-1<= 0\n",
    "post = x1**2 + (x2-1)**2 - 4<=0\n",
    "\n",
    "inv =0.647666327298+0.00385057461747*x1**2+0.0254519625416*x2**2+0.000962294278009*x1*x2>=0\n",
    "\n",
    "w = 1.0178 + 1.8721 * x1 - 0.0253 * x2\n",
    "x1_f = x1 + 0.01*(1-x2*w)\n",
    "x2_f = x2 + 0.01*x1*w\n",
    "inv_f1 =0.647666327298+0.00385057461747*x1_f**2+0.0254519625416*x2_f**2+0.000962294278009*x1_f*x2_f>=0\n",
    "loop_cond=1>0\n",
    "\n",
    "\n",
    "cons1 = ForAll(xvars,Implies(pre, inv))\n",
    "cons2 = ForAll(xvars,Implies(And(inv, loop_cond), inv_f1))\n",
    "cons3 = ForAll(xvars,Implies(And(inv, Not(loop_cond)),post))\n",
    "               \n",
    "s = Solver()\n",
    "s.add( cons1, cons2, cons3)\n",
    "print(s.check())\n",
    "print(s.model())\n",
    "end = time.time()\n",
    "print(\"Consume Time: %.8f s\\n\"%((end-start)))"
   ]
  },
  {
   "cell_type": "markdown",
   "id": "103a3918",
   "metadata": {},
   "source": [
    "check for Prajna05."
   ]
  },
  {
   "cell_type": "markdown",
   "id": "26ae7075",
   "metadata": {},
   "source": [
    "124.193495 s iteration 20 inv=-0.0284609209162*x1^2 Failed"
   ]
  },
  {
   "cell_type": "markdown",
   "id": "b7741cde",
   "metadata": {},
   "source": [
    "check for penbmi"
   ]
  },
  {
   "cell_type": "markdown",
   "id": "b639d081",
   "metadata": {},
   "source": [
    "template 1"
   ]
  },
  {
   "cell_type": "code",
   "execution_count": 1,
   "id": "9a26f708",
   "metadata": {},
   "outputs": [
    {
     "name": "stdout",
     "output_type": "stream",
     "text": [
      "sat\n"
     ]
    }
   ],
   "source": [
    "\n",
    "from z3 import *\n",
    "import time\n",
    "start = time.time()\n",
    "x1,x2,a1,a2,a3,a4= Reals('x1 x2 a1 a2 a3 a4')\n",
    "xvars = [x1,x2]\n",
    "\n",
    "pre = x1**2+(x2-1)**2-1<= 0\n",
    "post = x1**2 + (x2-1)**2 - 4<=0\n",
    "\n",
    "inv =0.6218+0.1061*x1+0.0821*x2+0.1061*x1**2+0.0821*x2**2+0.0065*x1*x2>=0\n",
    "\n",
    "w = 1.0178 + 1.8721 * x1 - 0.0253 * x2\n",
    "x1_f = x1 + 0.01*(1-x2*w)\n",
    "x2_f = x2 + 0.01*x1*w\n",
    "inv_f1 = 0.6218+0.1061*x1_f+0.0821*x2_f+0.1061*x1_f**2+0.0821*x2_f**2+0.0065*x1_f*x2_f>=0\n",
    "loop_cond=1>0\n",
    "\n",
    "\n",
    "cons1 = ForAll(xvars,Implies(pre, inv))\n",
    "cons2 = ForAll(xvars,Implies(And(inv, loop_cond), inv_f1))\n",
    "cons3 = ForAll(xvars,Implies(And(inv, Not(loop_cond)),post))\n",
    "               \n",
    "s = Solver()\n",
    "s.add( cons1, cons2, cons3)\n",
    "print(s.check())\n"
   ]
  },
  {
   "cell_type": "markdown",
   "id": "c05ec4d0",
   "metadata": {},
   "source": [
    "template 2"
   ]
  },
  {
   "cell_type": "code",
   "execution_count": 4,
   "id": "08f70a62",
   "metadata": {},
   "outputs": [
    {
     "name": "stdout",
     "output_type": "stream",
     "text": [
      "unsat\n"
     ]
    }
   ],
   "source": [
    "# unicycle timeout\n",
    "from z3 import *\n",
    "import time\n",
    "start = time.time()\n",
    "x1,x2= Reals('x1 x2')\n",
    "xvars=[x1,x2]\n",
    "pre = x1**2+(x2-1)**2-1<= 0\n",
    "post = x1**2 + (x2-1)**2 - 4<=0\n",
    "\n",
    "inv =0.4824-0.1475*x1**2-0.1467*x2**2-0.0014*x1*x2>=0\n",
    "\n",
    "w = 1.0178 + 1.8721 * x1 - 0.0253 * x2\n",
    "x1_f = x1 + 0.01*(1-x2*w)\n",
    "x2_f = x2 + 0.01*x1*w\n",
    "inv_f1 =0.4824-0.1475*x1_f**2-0.1467*x2_f**2-0.0014*x1_f*x2_f>=0\n",
    "loop_cond=1>0\n",
    "\n",
    "\n",
    "cons1 = ForAll(xvars,Implies(pre, inv))\n",
    "cons2 = ForAll(xvars,Implies(And(inv, loop_cond), inv_f1))\n",
    "cons3 = ForAll(xvars,Implies(And(inv, Not(loop_cond)),post))\n",
    "               \n",
    "s = Solver()\n",
    "s.add( cons1, cons2, cons3)\n",
    "print(s.check())\n"
   ]
  },
  {
   "cell_type": "code",
   "execution_count": null,
   "id": "a71c930a",
   "metadata": {},
   "outputs": [],
   "source": []
  },
  {
   "cell_type": "markdown",
   "id": "1f648b88",
   "metadata": {},
   "source": [
    "# CIRCUIT"
   ]
  },
  {
   "cell_type": "markdown",
   "id": "548c0d00",
   "metadata": {},
   "source": [
    "[3] Mahathi Anand, Vishnu Murali, Ashutosh Trivedi, and Majid Zamani. 2021. Safety Verification of Dynamical\n",
    "Systems via k-Inductive Barrier Certificates. In 2021 60th IEEE Conference on Decision and Control. IEEE, 1314–1320.\n",
    "https://doi.org/10.1109/CDC45484.2021.9682889"
   ]
  },
  {
   "cell_type": "markdown",
   "id": "2b0d5261",
   "metadata": {},
   "source": [
    "0.699756 inv=6.51819122256+1.5288052781*x1+3.17389341021*x2-1.27183860013*x1^2-1.16455887905*x2^2+0.632009166242*x1*x2"
   ]
  },
  {
   "cell_type": "code",
   "execution_count": 2,
   "id": "f7e14e23",
   "metadata": {},
   "outputs": [
    {
     "name": "stdout",
     "output_type": "stream",
     "text": [
      "sat\n",
      "[]\n",
      "Consume Time: 0.06612444 s\n",
      "\n"
     ]
    }
   ],
   "source": [
    "# circuit  time out\n",
    "# with x and a unbounded and inv = a0+a1*x1+a2*x2+a3*x1**2+a4*x2**2+a5*x1*x2<=0\n",
    "from z3 import *\n",
    "import time\n",
    "start = time.time()\n",
    "x1,x2,a0,a1,a2,a3,a4,a5 = Reals('x1 x2 a0 a1 a2 a3 a4 a5')\n",
    "xvars = [x1,x2]\n",
    "\n",
    "loop_cond = -1<=0\n",
    "\n",
    "pre = (x1-0.5)**2+(x2-0.5)**2-0.25**2<= 0\n",
    "post =x2**2 - 4<=0\n",
    "\n",
    "inv = 6.51819122256+1.5288052781*x1+3.17389341021*x2-1.27183860013*x1**2-1.16455887905*x2**2+0.632009166242*x1*x2>=0\n",
    "guard1 = -1<=0\n",
    "\n",
    "\n",
    "\n",
    "inv_f1 =6.51819122256+1.5288052781*(8/9*x1-1/18*x2)+3.17389341021*(0.1*x1+0.9*x2)-1.27183860013*(8/9*x1-1/18*x2)**2-1.16455887905*(0.1*x1+0.9*x2)**2+0.632009166242*(8/9*x1-1/18*x2)*(0.1*x1+0.9*x2)>=0\n",
    "\n",
    "\n",
    "\n",
    "cons1 = ForAll(xvars,Implies(And(pre), inv))\n",
    "cons2 = ForAll(xvars,Implies(And(inv, guard1, loop_cond), inv_f1))\n",
    "cons3 = ForAll(xvars,Implies(And(inv, Not(loop_cond)),post))\n",
    "               \n",
    "s = Solver()\n",
    "s.add( cons1, cons2, cons3)\n",
    "print(s.check())\n",
    "print(s.model())\n",
    "end = time.time()\n",
    "print(\"Consume Time: %.8f s\\n\"%((end-start)))"
   ]
  },
  {
   "cell_type": "markdown",
   "id": "126314b6",
   "metadata": {},
   "source": [
    "with template:inv=a0+a1*x1^2 + a2*x2^2 +a3*x1*x2;\n",
    "1.629558 s。"
   ]
  },
  {
   "cell_type": "markdown",
   "id": "99ace554",
   "metadata": {},
   "source": [
    "5.76713839056-0.269323367908*x1^2-0.0612894049883*x2^2+0.110742069371*x1*x2"
   ]
  },
  {
   "cell_type": "code",
   "execution_count": 3,
   "id": "70bc1646",
   "metadata": {},
   "outputs": [
    {
     "name": "stdout",
     "output_type": "stream",
     "text": [
      "sat\n",
      "[]\n",
      "Consume Time: 0.07202220 s\n",
      "\n"
     ]
    }
   ],
   "source": [
    "# circuit  time out\n",
    "# with x and a unbounded and inv = a0+a1*x1+a2*x2+a3*x1**2+a4*x2**2+a5*x1*x2<=0\n",
    "from z3 import *\n",
    "import time\n",
    "start = time.time()\n",
    "x1,x2,a0,a1,a2,a3,a4,a5 = Reals('x1 x2 a0 a1 a2 a3 a4 a5')\n",
    "xvars = [x1,x2]\n",
    "\n",
    "loop_cond = -1<=0\n",
    "\n",
    "pre = (x1-0.5)**2+(x2-0.5)**2-0.25**2<= 0\n",
    "post =x2**2 - 4<=0\n",
    "\n",
    "inv =5.76713839056-0.269323367908*x1**2-0.0612894049883*x2**2+0.110742069371*x1*x2>=0\n",
    "guard1 = -1<=0\n",
    "\n",
    "\n",
    "inv_f1 =5.76713839056-0.269323367908*(8/9*x1-1/18*x2)**2-0.0612894049883*(0.1*x1+0.9*x2)**2+0.110742069371*(8/9*x1-1/18*x2)*(0.1*x1+0.9*x2)>=0\n",
    "\n",
    "\n",
    "\n",
    "cons1 = ForAll(xvars,Implies(And(pre), inv))\n",
    "cons2 = ForAll(xvars,Implies(And(inv, guard1, loop_cond), inv_f1))\n",
    "cons3 = ForAll(xvars,Implies(And(inv, Not(loop_cond)),post))\n",
    "               \n",
    "s = Solver()\n",
    "s.add( cons1, cons2, cons3)\n",
    "print(s.check())\n",
    "print(s.model())\n",
    "end = time.time()\n",
    "print(\"Consume Time: %.8f s\\n\"%((end-start)))"
   ]
  },
  {
   "cell_type": "markdown",
   "id": "ab03b4d4",
   "metadata": {},
   "source": [
    "check for Prajna05."
   ]
  },
  {
   "cell_type": "markdown",
   "id": "9195a49c",
   "metadata": {},
   "source": [
    "132.482989s iteration 20 inv=0 Failed"
   ]
  },
  {
   "cell_type": "markdown",
   "id": "5fd116dc",
   "metadata": {},
   "source": [
    "check penbmi"
   ]
  },
  {
   "cell_type": "markdown",
   "id": "87c06e45",
   "metadata": {},
   "source": [
    "tempalte 1"
   ]
  },
  {
   "cell_type": "code",
   "execution_count": 1,
   "id": "d40ef822",
   "metadata": {},
   "outputs": [
    {
     "name": "stdout",
     "output_type": "stream",
     "text": [
      "unsat\n"
     ]
    }
   ],
   "source": [
    "# circuit  time out\n",
    "# with x and a unbounded and inv = a0+a1*x1+a2*x2+a3*x1**2+a4*x2**2+a5*x1*x2<=0\n",
    "from z3 import *\n",
    "import time\n",
    "start = time.time()\n",
    "x1,x2,a0,a1,a2,a3,a4,a5 = Reals('x1 x2 a0 a1 a2 a3 a4 a5')\n",
    "xvars = [x1,x2]\n",
    "\n",
    "loop_cond = -1<=0\n",
    "\n",
    "pre = (x1-0.5)**2+(x2-0.5)**2-0.25**2<= 0\n",
    "post =x2**2 - 4<=0\n",
    "\n",
    "inv =  0.6404-0.4709*x1-0.4732*x2-0.4709*x1**2-0.4732*x2**2-0.0001*x1*x2>=0\n",
    "guard1 = -1<=0\n",
    "\n",
    "\n",
    "\n",
    "inv_f1 =0.6404-0.4709*(8/9*x1-1/18*x2)-0.4732*(0.1*x1+0.9*x2)-0.4709*(8/9*x1-1/18*x2)**2-0.4732*(0.1*x1+0.9*x2)**2-0.0001*(8/9*x1-1/18*x2)*(0.1*x1+0.9*x2)>=0\n",
    "\n",
    "\n",
    "\n",
    "cons1 = ForAll(xvars,Implies(And(pre), inv))\n",
    "cons2 = ForAll(xvars,Implies(And(inv, guard1, loop_cond), inv_f1))\n",
    "cons3 = ForAll(xvars,Implies(And(inv, Not(loop_cond)),post))\n",
    "               \n",
    "s = Solver()\n",
    "s.add( cons1, cons2, cons3)\n",
    "print(s.check())"
   ]
  },
  {
   "cell_type": "markdown",
   "id": "c4d0ba95",
   "metadata": {},
   "source": [
    "template 2"
   ]
  },
  {
   "cell_type": "code",
   "execution_count": 5,
   "id": "ea8007c2",
   "metadata": {},
   "outputs": [
    {
     "name": "stdout",
     "output_type": "stream",
     "text": [
      "unsat\n"
     ]
    }
   ],
   "source": [
    "# circuit  time out\n",
    "# with x and a unbounded and inv = a0+a1*x1+a2*x2+a3*x1**2+a4*x2**2+a5*x1*x2<=0\n",
    "from z3 import *\n",
    "import time\n",
    "start = time.time()\n",
    "x1,x2,a0,a1,a2,a3,a4,a5 = Reals('x1 x2 a0 a1 a2 a3 a4 a5')\n",
    "xvars = [x1,x2]\n",
    "\n",
    "loop_cond = -1<=0\n",
    "\n",
    "pre = (x1-0.5)**2+(x2-0.5)**2-0.25**2<= 0\n",
    "post =x2**2 - 4<=0\n",
    "\n",
    "inv =0.8343-0.6649*x1**2-0.6692*x2**2-0.6692*x1*x2>=0\n",
    "guard1 = -1<=0\n",
    "\n",
    "\n",
    "inv_f1 =0.8343-0.6649*(8/9*x1-1/18*x2)**2-0.6692*(0.1*x1+0.9*x2)**2-0.6692*(8/9*x1-1/18*x2)*(0.1*x1+0.9*x2)>=0\n",
    "\n",
    "\n",
    "\n",
    "cons1 = ForAll(xvars,Implies(And(pre), inv))\n",
    "cons2 = ForAll(xvars,Implies(And(inv, guard1, loop_cond), inv_f1))\n",
    "cons3 = ForAll(xvars,Implies(And(inv, Not(loop_cond)),post))\n",
    "               \n",
    "s = Solver()\n",
    "s.add( cons1, cons2, cons3)\n",
    "print(s.check())"
   ]
  },
  {
   "cell_type": "code",
   "execution_count": null,
   "id": "be279914",
   "metadata": {},
   "outputs": [],
   "source": []
  }
 ],
 "metadata": {
  "kernelspec": {
   "display_name": "Python 3 (ipykernel)",
   "language": "python",
   "name": "python3"
  },
  "language_info": {
   "codemirror_mode": {
    "name": "ipython",
    "version": 3
   },
   "file_extension": ".py",
   "mimetype": "text/x-python",
   "name": "python",
   "nbconvert_exporter": "python",
   "pygments_lexer": "ipython3",
   "version": "3.11.4"
  }
 },
 "nbformat": 4,
 "nbformat_minor": 5
}
