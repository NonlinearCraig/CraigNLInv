{
 "cells": [
  {
   "cell_type": "markdown",
   "id": "3fc307d1",
   "metadata": {},
   "source": [
    "template: inv=a(1)+a(2)*x1^2 + a(3)*x2^2 +a(4)*x1*x2; adeg=2"
   ]
  },
  {
   "cell_type": "code",
   "execution_count": 1,
   "id": "05fbf750",
   "metadata": {},
   "outputs": [],
   "source": [
    "s=\"20.9988454539-0.00021191192748*a3-0.00106432943828*a1^2-0.00107738907103*a2^2-0.00012019677653*a1*a3-8.02056043523e-05*a2*a3-5.63765125133e-05*a3^2+0.000106917772771*a4^2\"\n",
    "s=s.replace(\"^\",\"**\")"
   ]
  },
  {
   "cell_type": "code",
   "execution_count": 8,
   "id": "58f39dfa",
   "metadata": {},
   "outputs": [
    {
     "name": "stdout",
     "output_type": "stream",
     "text": [
      "unsat\n"
     ]
    }
   ],
   "source": [
    "# check h(a(1),a(2),a(3))<=0 verify time out with adeg=4\n",
    "from z3 import *\n",
    "import time\n",
    "# 定义变量\n",
    "s=\"20.9988454539-0.00021191192748*a3-0.00106432943828*a1^2-0.00107738907103*a2^2-0.00012019677653*a1*a3-8.02056043523e-05*a2*a3-5.63765125133e-05*a3^2+0.000106917772771*a4^2\"\n",
    "s=s.replace(\"^\",\"**\")\n",
    "a1 = Real('a1')\n",
    "a2 = Real('a2')\n",
    "a3 = Real('a3')\n",
    "a4 = Real('a4')\n",
    "# 定义约束条件\n",
    "constraint = And(a1 >= -10, a1 <= 10,\n",
    "                 a2 >= -10, a2 <= 10,\n",
    "                 a3 >= -10, a3 <= 10,\n",
    "                 a4 >= -10, a4 <= 10,\n",
    "                 )\n",
    "\n",
    "# 定义目标函数\n",
    "f = eval(s)\n",
    "\n",
    "\n",
    "s = Solver()\n",
    "s.add( f<=0,constraint)\n",
    "print(s.check())"
   ]
  },
  {
   "cell_type": "markdown",
   "id": "95af0959",
   "metadata": {},
   "source": [
    "template: inv=a(1)+a(2)*x1^2 + a(3)*x2^2 +a(4)*x1*x2; adeg=3"
   ]
  },
  {
   "cell_type": "code",
   "execution_count": null,
   "id": "bd7329a9",
   "metadata": {},
   "outputs": [],
   "source": [
    "s = \"20.9991978421-8.96191767478e-05*a3-0.00077189776635*a1^2-0.000735858113053*a2^2-9.47581810153e-05*a1*a3-0.000116211271854*a2*a3-4.19095364109e-05*a3^2+7.28771602815e-05*a4^2-1.20302525778e-05*a1*a2^2-9.87796576846e-05*a1^2*a3-3.29622209421e-05*a1*a2*a3-0.000258846590925*a2^2*a3-1.19473528999e-05*a2*a3^2\"\n",
    "s=s.replace(\"^\",\"**\")"
   ]
  },
  {
   "cell_type": "code",
   "execution_count": null,
   "id": "c96ae5db",
   "metadata": {},
   "outputs": [],
   "source": [
    "# check h(a(1),a(2),a(3))<=0 verify time out with adeg=4\n",
    "from z3 import *\n",
    "import time\n",
    "# 定义变量\n",
    "s = \"20.9991978421-8.96191767478e-05*a3-0.00077189776635*a1^2-0.000735858113053*a2^2-9.47581810153e-05*a1*a3-0.000116211271854*a2*a3-4.19095364109e-05*a3^2+7.28771602815e-05*a4^2-1.20302525778e-05*a1*a2^2-9.87796576846e-05*a1^2*a3-3.29622209421e-05*a1*a2*a3-0.000258846590925*a2^2*a3-1.19473528999e-05*a2*a3^2\"\n",
    "s=s.replace(\"^\",\"**\")\n",
    "a1 = Real('a1')\n",
    "a2 = Real('a2')\n",
    "a3 = Real('a3')\n",
    "a4 = Real('a4')\n",
    "# 定义约束条件\n",
    "constraint = And(a1 >= -10, a1 <= 10,\n",
    "                 a2 >= -10, a2 <= 10,\n",
    "                 a3 >= -10, a3 <= 10,\n",
    "                 a4 >= -10, a4 <= 10,\n",
    "                 )\n",
    "\n",
    "# 定义目标函数\n",
    "f = eval(s)\n",
    "\n",
    "\n",
    "s = Solver()\n",
    "s.add( f<=0,constraint)\n",
    "print(s.check())"
   ]
  }
 ],
 "metadata": {
  "kernelspec": {
   "display_name": "Python 3 (ipykernel)",
   "language": "python",
   "name": "python3"
  },
  "language_info": {
   "codemirror_mode": {
    "name": "ipython",
    "version": 3
   },
   "file_extension": ".py",
   "mimetype": "text/x-python",
   "name": "python",
   "nbconvert_exporter": "python",
   "pygments_lexer": "ipython3",
   "version": "3.11.4"
  }
 },
 "nbformat": 4,
 "nbformat_minor": 5
}
