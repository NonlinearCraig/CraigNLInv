{
 "cells": [
  {
   "cell_type": "markdown",
   "id": "03a0a15c",
   "metadata": {},
   "source": [
    "# EX2"
   ]
  },
  {
   "cell_type": "markdown",
   "id": "91a4343c",
   "metadata": {},
   "source": [
    "adeg=4,sdeg=6"
   ]
  },
  {
   "cell_type": "markdown",
   "id": "9b4261ae",
   "metadata": {},
   "source": [
    "template:inv = x1^2 + a(1)*x2^2 + a(2); "
   ]
  },
  {
   "cell_type": "code",
   "execution_count": 1,
   "id": "60da0899",
   "metadata": {},
   "outputs": [
    {
     "name": "stdout",
     "output_type": "stream",
     "text": [
      "sat\n",
      "[a1 = 3/4, a2 = -1023/1024]\n"
     ]
    }
   ],
   "source": [
    "# check h(a(1),a(2),a(3))<=0 verify time out with adeg=4\n",
    "from z3 import *\n",
    "import time\n",
    "# 定义变量\n",
    "s = \"2.46450617815+2.97175797333*a1+6.70475342711*a2+4.56713109078*a1^2+2.78930276612*a1*a2+4.93926025259*a2^2+1.20112773245*a1^3+2.19489288475*a1^2*a2-1.8401802823*a1*a2^2-1.06692811205*a2^3-0.702299261188*a1^4+0.0148920421693*a1^3*a2-1.98935026957*a1^2*a2^2-0.192297216376*a1*a2^3-1.16734161638*a2^4\"\n",
    "\n",
    "s=s.replace('^','**')\n",
    "a1 = Real('a1')\n",
    "a2 = Real('a2')\n",
    "\n",
    "# 定义约束条件\n",
    "constraint = And(a1 >= -1, a1 <= 1,\n",
    "                 a2 >= -1, a2 <= 1)\n",
    "\n",
    "# 定义目标函数\n",
    "f = eval(s)\n",
    "\n",
    "\n",
    "s = Solver()\n",
    "s.add( f<=0,constraint)\n",
    "print(s.check())\n",
    "print(s.model())"
   ]
  },
  {
   "cell_type": "code",
   "execution_count": null,
   "id": "423de310",
   "metadata": {},
   "outputs": [],
   "source": [
    "inv = x1**2 +30/4*x2**2-10230/1024 ; "
   ]
  },
  {
   "cell_type": "code",
   "execution_count": 4,
   "id": "d43aa976",
   "metadata": {},
   "outputs": [
    {
     "name": "stdout",
     "output_type": "stream",
     "text": [
      "sat\n"
     ]
    }
   ],
   "source": [
    "# code2 in paper\n",
    "from z3 import *\n",
    "import time\n",
    "start = time.time()\n",
    "x1,x2 = Reals('x1 x2')\n",
    "xrange = And(x1>=-5, x1<=5, x2>=-5, x2<=5)\n",
    "\n",
    "inv =  x1**2 +30/4*x2**2 -10230/1024<=0\n",
    "x1_f=0.9*(x1-0.01*x2)\n",
    "x2_f=0.9*(x2+0.01*x1)\n",
    "inv_f1 = x1_f**2 +30/4*x2_f**2 -10230/1024<=0\n",
    "\n",
    "loop_cond = 1>=0\n",
    "pre = x1**2+x2**2-1<=0\n",
    "post = 0.25-x1**2-(x2-2)**2<=0\n",
    "\n",
    "cons1 = ForAll([x1,x2],Implies(And(pre, xrange), inv))\n",
    "cons2 = ForAll([x1,x2],Implies(And(inv,loop_cond, xrange), inv_f1))\n",
    "cons3 = ForAll([x1,x2],Implies(And(inv, Not(loop_cond),xrange),post))\n",
    "               \n",
    "s = Solver()\n",
    "s.add( cons1, cons2, cons3)\n",
    "print(s.check())"
   ]
  },
  {
   "cell_type": "markdown",
   "id": "2cf24e4d",
   "metadata": {},
   "source": [
    "# EX2"
   ]
  },
  {
   "cell_type": "markdown",
   "id": "a95ac32e",
   "metadata": {},
   "source": [
    "inv=a(1)*x1^2 + a(2)*x2^2 - 1"
   ]
  },
  {
   "cell_type": "markdown",
   "id": "69b87e07",
   "metadata": {},
   "source": [
    "a_deg=3 sdeg=4 unsat"
   ]
  },
  {
   "cell_type": "markdown",
   "id": "7088147e",
   "metadata": {},
   "source": [
    "s = \"1.88209793059+3.04524806867*a1+3.04525287175*a2+3.38613808822*a1^2-2.26798634863*a1*a2+3.3861695408*a2^2+1.03190372854*a1^3-2.18258672458*a1^2*a2-2.18254656079*a1*a2^2+1.03185740113*a2^3\""
   ]
  },
  {
   "cell_type": "markdown",
   "id": "4ac7c078",
   "metadata": {},
   "source": [
    "a_deg=4 sdeg=2 unsat"
   ]
  },
  {
   "cell_type": "markdown",
   "id": "06bbf55c",
   "metadata": {},
   "source": [
    "s = \"2.11809660604+2.61328890203*a1+2.6132821841*a2+2.78851632233*a1^2-2.70007638347*a1*a2+2.78852071312*a2^2+1.08872607772*a1^3-1.50509899443*a1^2*a2-1.50510565083*a1*a2^2+1.08873134697*a2^3+1.30967957309*a1^4+0.11949506651*a1^3*a2-2.38016658909*a1^2*a2^2+0.119476957587*a1*a2^3+1.30968329599*a2^4\"\n"
   ]
  },
  {
   "cell_type": "markdown",
   "id": "31dba82b",
   "metadata": {},
   "source": [
    "a_deg=4 sdeg=6 unsat"
   ]
  },
  {
   "cell_type": "markdown",
   "id": "7e304e93",
   "metadata": {},
   "source": [
    "s = \"1.51843767417+2.90671607496*a1+2.90651287675*a2+4.56429991849*a1^2-2.3549262841*a1*a2+4.56442672318*a2^2+1.2028079817*a1^3-1.89621060547*a1^2*a2-1.89696147669*a1*a2^2+1.20276053403*a2^3-0.730804192694*a1^4-0.0299991115717*a1^3*a2-2.09631735086*a1^2*a2^2-0.0302425616263*a1*a2^3-0.730471095653*a2^4\""
   ]
  },
  {
   "cell_type": "markdown",
   "id": "3138c22e",
   "metadata": {},
   "source": [
    "4,4 unsat"
   ]
  },
  {
   "cell_type": "markdown",
   "id": "b2c5c7d0",
   "metadata": {},
   "source": [
    "\n",
    "s = \"1.90380763209+2.7175574883*a1+2.71815937325*a2+3.07490820695*a1^2-2.46305863233*a1*a2+3.07448220218*a2^2+1.51929492253*a1^3-2.17589465973*a1^2*a2-2.17522379399*a1*a2^2+1.51858369335*a2^3+0.700254945029*a1^4+0.00287376190597*a1^3*a2-1.37276133166*a1^2*a2^2+0.00507735631289*a1*a2^3+0.700381737106*a2^4\"\n"
   ]
  },
  {
   "cell_type": "markdown",
   "id": "917b5345",
   "metadata": {},
   "source": [
    "a_deg=2 sdeg=4"
   ]
  },
  {
   "cell_type": "code",
   "execution_count": null,
   "id": "3e6692ce",
   "metadata": {},
   "outputs": [],
   "source": [
    "4,8 unsat\n",
    "2,2 unsat \n",
    "2,4 unsat\n",
    "2,6 unsat"
   ]
  },
  {
   "cell_type": "code",
   "execution_count": null,
   "id": "a45b93ca",
   "metadata": {},
   "outputs": [],
   "source": [
    "s = \"3.04148450702+3.30317728761*a1+6.48037048141*a2+3.92104959923*a1^2+2.20541244581*a1*a2+3.9862747146*a2^2\"\n"
   ]
  },
  {
   "cell_type": "code",
   "execution_count": null,
   "id": "8d7c498f",
   "metadata": {},
   "outputs": [],
   "source": [
    "s =  \"1.44218610069+2.71046964282*a1+2.71145452404*a2+4.23251793683*a1^2-2.79770288484*a1*a2+4.23274502261*a2^2+2.3433950277*a1^3-3.53558577008*a1^2*a2-3.53165720313*a1*a2^2+2.34043520166*a2^3-0.305590376825*a1^4+0.359944351588*a1^3*a2-2.20774921644*a1^2*a2^2+0.360051731373*a1*a2^3-0.306725181823*a2^4-0.656000669612*a1^5+2.47171785109*a1^4*a2-0.954710243921*a1^3*a2^2-0.951074828827*a1^2*a2^3+2.47038985811*a1*a2^4-0.653984955879*a2^5\"\n"
   ]
  },
  {
   "cell_type": "code",
   "execution_count": 12,
   "id": "001def99",
   "metadata": {},
   "outputs": [
    {
     "name": "stdout",
     "output_type": "stream",
     "text": [
      "unsat\n"
     ]
    },
    {
     "ename": "Z3Exception",
     "evalue": "model is not available",
     "output_type": "error",
     "traceback": [
      "\u001b[1;31m---------------------------------------------------------------------------\u001b[0m",
      "\u001b[1;31mZ3Exception\u001b[0m                               Traceback (most recent call last)",
      "File \u001b[1;32m~\\AppData\\Roaming\\Python\\Python311\\site-packages\\z3\\z3.py:7131\u001b[0m, in \u001b[0;36mSolver.model\u001b[1;34m(self)\u001b[0m\n\u001b[0;32m   7130\u001b[0m \u001b[38;5;28;01mtry\u001b[39;00m:\n\u001b[1;32m-> 7131\u001b[0m     \u001b[38;5;28;01mreturn\u001b[39;00m ModelRef(Z3_solver_get_model(\u001b[38;5;28mself\u001b[39m\u001b[38;5;241m.\u001b[39mctx\u001b[38;5;241m.\u001b[39mref(), \u001b[38;5;28mself\u001b[39m\u001b[38;5;241m.\u001b[39msolver), \u001b[38;5;28mself\u001b[39m\u001b[38;5;241m.\u001b[39mctx)\n\u001b[0;32m   7132\u001b[0m \u001b[38;5;28;01mexcept\u001b[39;00m Z3Exception:\n",
      "File \u001b[1;32m~\\AppData\\Roaming\\Python\\Python311\\site-packages\\z3\\z3core.py:4185\u001b[0m, in \u001b[0;36mZ3_solver_get_model\u001b[1;34m(a0, a1, _elems)\u001b[0m\n\u001b[0;32m   4184\u001b[0m r \u001b[38;5;241m=\u001b[39m _elems\u001b[38;5;241m.\u001b[39mf(a0, a1)\n\u001b[1;32m-> 4185\u001b[0m _elems\u001b[38;5;241m.\u001b[39mCheck(a0)\n\u001b[0;32m   4186\u001b[0m \u001b[38;5;28;01mreturn\u001b[39;00m r\n",
      "File \u001b[1;32m~\\AppData\\Roaming\\Python\\Python311\\site-packages\\z3\\z3core.py:1505\u001b[0m, in \u001b[0;36mElementaries.Check\u001b[1;34m(self, ctx)\u001b[0m\n\u001b[0;32m   1504\u001b[0m \u001b[38;5;28;01mif\u001b[39;00m err \u001b[38;5;241m!=\u001b[39m \u001b[38;5;28mself\u001b[39m\u001b[38;5;241m.\u001b[39mOK:\n\u001b[1;32m-> 1505\u001b[0m     \u001b[38;5;28;01mraise\u001b[39;00m \u001b[38;5;28mself\u001b[39m\u001b[38;5;241m.\u001b[39mException(\u001b[38;5;28mself\u001b[39m\u001b[38;5;241m.\u001b[39mget_error_message(ctx, err))\n",
      "\u001b[1;31mZ3Exception\u001b[0m: b'there is no current model'",
      "\nDuring handling of the above exception, another exception occurred:\n",
      "\u001b[1;31mZ3Exception\u001b[0m                               Traceback (most recent call last)",
      "Cell \u001b[1;32mIn[12], line 22\u001b[0m\n\u001b[0;32m     20\u001b[0m s\u001b[38;5;241m.\u001b[39madd( f\u001b[38;5;241m<\u001b[39m\u001b[38;5;241m=\u001b[39m\u001b[38;5;241m0\u001b[39m,constraint)\n\u001b[0;32m     21\u001b[0m \u001b[38;5;28mprint\u001b[39m(s\u001b[38;5;241m.\u001b[39mcheck())\n\u001b[1;32m---> 22\u001b[0m \u001b[38;5;28mprint\u001b[39m(s\u001b[38;5;241m.\u001b[39mmodel())\n",
      "File \u001b[1;32m~\\AppData\\Roaming\\Python\\Python311\\site-packages\\z3\\z3.py:7133\u001b[0m, in \u001b[0;36mSolver.model\u001b[1;34m(self)\u001b[0m\n\u001b[0;32m   7131\u001b[0m     \u001b[38;5;28;01mreturn\u001b[39;00m ModelRef(Z3_solver_get_model(\u001b[38;5;28mself\u001b[39m\u001b[38;5;241m.\u001b[39mctx\u001b[38;5;241m.\u001b[39mref(), \u001b[38;5;28mself\u001b[39m\u001b[38;5;241m.\u001b[39msolver), \u001b[38;5;28mself\u001b[39m\u001b[38;5;241m.\u001b[39mctx)\n\u001b[0;32m   7132\u001b[0m \u001b[38;5;28;01mexcept\u001b[39;00m Z3Exception:\n\u001b[1;32m-> 7133\u001b[0m     \u001b[38;5;28;01mraise\u001b[39;00m Z3Exception(\u001b[38;5;124m\"\u001b[39m\u001b[38;5;124mmodel is not available\u001b[39m\u001b[38;5;124m\"\u001b[39m)\n",
      "\u001b[1;31mZ3Exception\u001b[0m: model is not available"
     ]
    }
   ],
   "source": [
    "# check h(a(1),a(2),a(3))<=0 verify time out with adeg=5\n",
    "from z3 import *\n",
    "import time\n",
    "# 定义变量\n",
    "s=\"1.87439032881+3.0788667144*a1+3.07948446312*a2+3.38954596287*a1^2-2.22925556041*a1*a2+3.38943806834*a2^2+0.979701044765*a1^3-2.26248990949*a1^2*a2-2.26023457981*a1*a2^2+0.978850323661*a2^3\"\n",
    "\n",
    "s=s.replace('^','**')\n",
    "a1 = Real('a1')\n",
    "a2 = Real('a2')\n",
    "\n",
    "# 定义约束条件\n",
    "constraint = And(a1 >= -1, a1 <= 1,\n",
    "                 a2 >= -1, a2 <= 1)\n",
    "\n",
    "# 定义目标函数\n",
    "f = eval(s)\n",
    "\n",
    "\n",
    "s = Solver()\n",
    "s.add( f<=0,constraint)\n",
    "print(s.check())\n",
    "print(s.model())"
   ]
  },
  {
   "cell_type": "code",
   "execution_count": null,
   "id": "a4ae35af",
   "metadata": {},
   "outputs": [],
   "source": [
    "\n",
    "s = \"2.05692941795+3.24909483677*a1+3.24911667112*a2+3.92880888065*a1^2-2.01524693251*a1*a2+3.92877243109*a2^2\""
   ]
  },
  {
   "cell_type": "code",
   "execution_count": 4,
   "id": "3f5f69aa",
   "metadata": {},
   "outputs": [
    {
     "name": "stdout",
     "output_type": "stream",
     "text": [
      "unsat\n"
     ]
    },
    {
     "ename": "Z3Exception",
     "evalue": "model is not available",
     "output_type": "error",
     "traceback": [
      "\u001b[1;31m---------------------------------------------------------------------------\u001b[0m",
      "\u001b[1;31mZ3Exception\u001b[0m                               Traceback (most recent call last)",
      "File \u001b[1;32m~\\AppData\\Roaming\\Python\\Python311\\site-packages\\z3\\z3.py:7131\u001b[0m, in \u001b[0;36mSolver.model\u001b[1;34m(self)\u001b[0m\n\u001b[0;32m   7130\u001b[0m \u001b[38;5;28;01mtry\u001b[39;00m:\n\u001b[1;32m-> 7131\u001b[0m     \u001b[38;5;28;01mreturn\u001b[39;00m ModelRef(Z3_solver_get_model(\u001b[38;5;28mself\u001b[39m\u001b[38;5;241m.\u001b[39mctx\u001b[38;5;241m.\u001b[39mref(), \u001b[38;5;28mself\u001b[39m\u001b[38;5;241m.\u001b[39msolver), \u001b[38;5;28mself\u001b[39m\u001b[38;5;241m.\u001b[39mctx)\n\u001b[0;32m   7132\u001b[0m \u001b[38;5;28;01mexcept\u001b[39;00m Z3Exception:\n",
      "File \u001b[1;32m~\\AppData\\Roaming\\Python\\Python311\\site-packages\\z3\\z3core.py:4185\u001b[0m, in \u001b[0;36mZ3_solver_get_model\u001b[1;34m(a0, a1, _elems)\u001b[0m\n\u001b[0;32m   4184\u001b[0m r \u001b[38;5;241m=\u001b[39m _elems\u001b[38;5;241m.\u001b[39mf(a0, a1)\n\u001b[1;32m-> 4185\u001b[0m _elems\u001b[38;5;241m.\u001b[39mCheck(a0)\n\u001b[0;32m   4186\u001b[0m \u001b[38;5;28;01mreturn\u001b[39;00m r\n",
      "File \u001b[1;32m~\\AppData\\Roaming\\Python\\Python311\\site-packages\\z3\\z3core.py:1505\u001b[0m, in \u001b[0;36mElementaries.Check\u001b[1;34m(self, ctx)\u001b[0m\n\u001b[0;32m   1504\u001b[0m \u001b[38;5;28;01mif\u001b[39;00m err \u001b[38;5;241m!=\u001b[39m \u001b[38;5;28mself\u001b[39m\u001b[38;5;241m.\u001b[39mOK:\n\u001b[1;32m-> 1505\u001b[0m     \u001b[38;5;28;01mraise\u001b[39;00m \u001b[38;5;28mself\u001b[39m\u001b[38;5;241m.\u001b[39mException(\u001b[38;5;28mself\u001b[39m\u001b[38;5;241m.\u001b[39mget_error_message(ctx, err))\n",
      "\u001b[1;31mZ3Exception\u001b[0m: b'there is no current model'",
      "\nDuring handling of the above exception, another exception occurred:\n",
      "\u001b[1;31mZ3Exception\u001b[0m                               Traceback (most recent call last)",
      "Cell \u001b[1;32mIn[4], line 23\u001b[0m\n\u001b[0;32m     21\u001b[0m s\u001b[38;5;241m.\u001b[39madd( f\u001b[38;5;241m<\u001b[39m\u001b[38;5;241m=\u001b[39m\u001b[38;5;241m0\u001b[39m,constraint)\n\u001b[0;32m     22\u001b[0m \u001b[38;5;28mprint\u001b[39m(s\u001b[38;5;241m.\u001b[39mcheck())\n\u001b[1;32m---> 23\u001b[0m \u001b[38;5;28mprint\u001b[39m(s\u001b[38;5;241m.\u001b[39mmodel())\n",
      "File \u001b[1;32m~\\AppData\\Roaming\\Python\\Python311\\site-packages\\z3\\z3.py:7133\u001b[0m, in \u001b[0;36mSolver.model\u001b[1;34m(self)\u001b[0m\n\u001b[0;32m   7131\u001b[0m     \u001b[38;5;28;01mreturn\u001b[39;00m ModelRef(Z3_solver_get_model(\u001b[38;5;28mself\u001b[39m\u001b[38;5;241m.\u001b[39mctx\u001b[38;5;241m.\u001b[39mref(), \u001b[38;5;28mself\u001b[39m\u001b[38;5;241m.\u001b[39msolver), \u001b[38;5;28mself\u001b[39m\u001b[38;5;241m.\u001b[39mctx)\n\u001b[0;32m   7132\u001b[0m \u001b[38;5;28;01mexcept\u001b[39;00m Z3Exception:\n\u001b[1;32m-> 7133\u001b[0m     \u001b[38;5;28;01mraise\u001b[39;00m Z3Exception(\u001b[38;5;124m\"\u001b[39m\u001b[38;5;124mmodel is not available\u001b[39m\u001b[38;5;124m\"\u001b[39m)\n",
      "\u001b[1;31mZ3Exception\u001b[0m: model is not available"
     ]
    }
   ],
   "source": [
    "# check h(a(1),a(2),a(3))<=0 verify time out with adeg=5\n",
    "from z3 import *\n",
    "import time\n",
    "# 定义变量\n",
    "\n",
    "s = \"1.51928742276+2.90646663124*a1+2.90636858156*a2+4.55769546616*a1^2-2.34695170171*a1*a2+4.55796405894*a2^2+1.21053064976*a1^3-1.90193964513*a1^2*a2-1.90364929571*a1*a2^2+1.2095522805*a2^3-0.731071546441*a1^4-0.0408126004336*a1^3*a2-2.07177244022*a1^2*a2^2-0.0400083465275*a1*a2^3-0.730238733573*a2^4\"\n",
    "\n",
    "s=s.replace('^','**')\n",
    "a1 = Real('a1')\n",
    "a2 = Real('a2')\n",
    "\n",
    "# 定义约束条件\n",
    "constraint = And(a1 >= -1, a1 <= 1,\n",
    "                 a2 >= -1, a2 <= 1)\n",
    "\n",
    "# 定义目标函数\n",
    "f = eval(s)\n",
    "\n",
    "\n",
    "s = Solver()\n",
    "s.add( f<=0,constraint)\n",
    "print(s.check())\n",
    "print(s.model())"
   ]
  },
  {
   "cell_type": "code",
   "execution_count": null,
   "id": "ff43e966",
   "metadata": {},
   "outputs": [],
   "source": []
  },
  {
   "cell_type": "code",
   "execution_count": 3,
   "id": "14f57806",
   "metadata": {},
   "outputs": [
    {
     "name": "stdout",
     "output_type": "stream",
     "text": [
      "unsat\n"
     ]
    }
   ],
   "source": [
    "# code2 in paper\n",
    "from z3 import *\n",
    "import time\n",
    "start = time.time()\n",
    "x1,x2 = Reals('x1 x2')\n",
    "xrange = And(x1>=-5, x1<=5, x2>=-5, x2<=5)\n",
    "\n",
    "inv =  x1**2 +30/4*x2**2 -10230/1024>=0\n",
    "x1_f=0.9*(x1-0.01*x2)\n",
    "x2_f=0.9*(x2+0.01*x1)\n",
    "inv_f1 = x1_f**2 +30/4*x2_f**2 -10230/1024>=0\n",
    "\n",
    "loop_cond = 1>=0\n",
    "pre = x1**2+x2**2-1<=0\n",
    "post = 0.25-x1**2-(x2-2)**2<=0\n",
    "\n",
    "cons1 = ForAll([x1,x2],Implies(And(pre, xrange), inv))\n",
    "cons2 = ForAll([x1,x2],Implies(And(inv,loop_cond, xrange), inv_f1))\n",
    "cons3 = ForAll([x1,x2],Implies(And(inv, Not(loop_cond),xrange),post))\n",
    "               \n",
    "s = Solver()\n",
    "s.add( cons1, cons2, cons3)\n",
    "print(s.check())\n"
   ]
  },
  {
   "cell_type": "code",
   "execution_count": null,
   "id": "709ce3f0",
   "metadata": {},
   "outputs": [],
   "source": []
  },
  {
   "cell_type": "code",
   "execution_count": 19,
   "id": "50e4da9d",
   "metadata": {},
   "outputs": [
    {
     "name": "stdout",
     "output_type": "stream",
     "text": [
      "unsat\n"
     ]
    }
   ],
   "source": [
    "# code2 in paper\n",
    "from z3 import *\n",
    "import time\n",
    "start = time.time()\n",
    "x1,x2 = Reals('x1 x2')\n",
    "xrange = And(x1>=-5, x1<=5, x2>=-5, x2<=5)\n",
    "\n",
    "inv = 1-4*x1**2+2*x2**2>=0\n",
    "x1_f=0.9*(x1-0.01*x2)\n",
    "x2_f=0.9*(x2+0.01*x1)\n",
    "inv_f1 =1-4*x1_f**2+2*x2_f**2>=0\n",
    "\n",
    "loop_cond = 1>=0\n",
    "pre = x1**2+x2**2-1<=0\n",
    "post = 0.25-x1**2-(x2-2)**2<=0\n",
    "\n",
    "cons1 = ForAll([x1,x2],Implies(And(pre, xrange), inv))\n",
    "cons2 = ForAll([x1,x2],Implies(And(inv,loop_cond, xrange), inv_f1))\n",
    "cons3 = ForAll([x1,x2],Implies(And(inv, Not(loop_cond),xrange),post))\n",
    "               \n",
    "s = Solver()\n",
    "s.add( cons1, cons2, cons3)\n",
    "print(s.check())\n"
   ]
  },
  {
   "cell_type": "code",
   "execution_count": 9,
   "id": "e5c90878",
   "metadata": {},
   "outputs": [
    {
     "name": "stdout",
     "output_type": "stream",
     "text": [
      "sat\n",
      "[a1 = -9, a2 = 7]\n"
     ]
    }
   ],
   "source": [
    "# check h(a(1),a(2),a(3))<=0 verify time out with adeg=4\n",
    "from z3 import *\n",
    "import time\n",
    "# 定义变量\n",
    "s=\"3.55538692265+3.58231232157*a1+3.58231249904*a2+3.39272866461*a1^2-3.20336387432*a1*a2+3.39272854598*a2^2+1.01882435732*a1^3-2.23422879709*a1^2*a2-2.23422838837*a1*a2^2+1.01882428497*a2^3\"\n",
    "s=s.replace('^','**')\n",
    "a1 = Real('a1')\n",
    "a2 = Real('a2')\n",
    "\n",
    "# 定义约束条件\n",
    "constraint = And(a1 >= -1, a1 <= 1,\n",
    "                 a2 >= -1, a2 <= 1\n",
    "                 )\n",
    "\n",
    "# 定义目标函数\n",
    "f = eval(s)\n",
    "\n",
    "\n",
    "s = Solver()\n",
    "s.add( f<=0,constraint)\n",
    "print(s.check())\n",
    "print(s.model())"
   ]
  },
  {
   "cell_type": "code",
   "execution_count": 20,
   "id": "8e83abc0",
   "metadata": {},
   "outputs": [
    {
     "name": "stdout",
     "output_type": "stream",
     "text": [
      "unsat\n"
     ]
    }
   ],
   "source": [
    "# code2 in paper\n",
    "from z3 import *\n",
    "import time\n",
    "start = time.time()\n",
    "x1,x2 = Reals('x1 x2')\n",
    "xrange = And(x1>=-5, x1<=5, x2>=-5, x2<=5)\n",
    "\n",
    "inv = 1-9*x1**2+7*x2**2>=0\n",
    "x1_f=0.9*(x1-0.01*x2)\n",
    "x2_f=0.9*(x2+0.01*x1)\n",
    "inv_f1 =1-9*x1_f**2+7*x2_f**2>=0\n",
    "\n",
    "loop_cond = 1>=0\n",
    "pre = x1**2+x2**2-1<=0\n",
    "post = 0.25-x1**2-(x2-2)**2<=0\n",
    "\n",
    "cons1 = ForAll([x1,x2],Implies(And(pre, xrange), inv))\n",
    "cons2 = ForAll([x1,x2],Implies(And(inv,loop_cond, xrange), inv_f1))\n",
    "cons3 = ForAll([x1,x2],Implies(And(inv, Not(loop_cond),xrange),post))\n",
    "               \n",
    "s = Solver()\n",
    "s.add( cons1, cons2, cons3)\n",
    "print(s.check())\n"
   ]
  },
  {
   "cell_type": "code",
   "execution_count": null,
   "id": "a0a1eb0c",
   "metadata": {},
   "outputs": [],
   "source": []
  },
  {
   "cell_type": "code",
   "execution_count": null,
   "id": "1da5e00a",
   "metadata": {},
   "outputs": [],
   "source": []
  }
 ],
 "metadata": {
  "kernelspec": {
   "display_name": "Python 3 (ipykernel)",
   "language": "python",
   "name": "python3"
  },
  "language_info": {
   "codemirror_mode": {
    "name": "ipython",
    "version": 3
   },
   "file_extension": ".py",
   "mimetype": "text/x-python",
   "name": "python",
   "nbconvert_exporter": "python",
   "pygments_lexer": "ipython3",
   "version": "3.11.4"
  }
 },
 "nbformat": 4,
 "nbformat_minor": 5
}
