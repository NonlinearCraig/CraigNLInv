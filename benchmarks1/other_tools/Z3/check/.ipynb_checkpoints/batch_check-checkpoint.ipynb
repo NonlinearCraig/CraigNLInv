{
 "cells": [
  {
   "cell_type": "code",
   "execution_count": 1,
   "id": "ceea80d4",
   "metadata": {},
   "outputs": [
    {
     "name": "stdout",
     "output_type": "stream",
     "text": [
      "sat\n",
      "[]\n",
      "Consuming Time: 0.01486611 s\n",
      "\n"
     ]
    }
   ],
   "source": [
    "from z3 import *\n",
    "import time\n",
    "start = time.time()\n",
    "x1= Real('x1')\n",
    "inv=\"9.8217+16.0077*x1-0.2000*x1**2>=0\"\n",
    "inv=eval(inv)\n",
    "\n",
    "x1_f=x1+0.0005*(1000-0.5418*x1**2)\n",
    "\n",
    "inv_f1 =9.8217+16.0077*x1_f-0.2000*x1_f>=0\n",
    "\n",
    "loop_cond =(x1+1)*(x1-82)<=0\n",
    "pre = x1*(80-x1)>=0\n",
    "post = (x1+10)*(x1-79)<=0\n",
    "\n",
    "cons1 = ForAll([x1],Implies(pre, inv))\n",
    "cons2 = ForAll([x1],Implies(And(inv,loop_cond), inv_f1))\n",
    "cons3 = ForAll([x1],Implies(And(inv, Not(loop_cond)),post))\n",
    "               \n",
    "s = Solver()\n",
    "s.add(cons1, cons2, cons3)\n",
    "print(s.check())\n",
    "print(s.model())\n",
    "end = time.time()\n",
    "print(\"Consuming Time: %.8f s\\n\"%((end-start)))"
   ]
  },
  {
   "cell_type": "code",
   "execution_count": 53,
   "id": "68ab6d6d",
   "metadata": {},
   "outputs": [],
   "source": [
    "# Open the file in read mode\n",
    "file_path = \"ex1.txt\"  # Replace with the actual path to your file\n",
    "with open(file_path, 'r', encoding='UTF-8') as file:\n",
    "    # Read the contents of the file\n",
    "    file_contents = file.readlines()\n",
    "\n",
    "x1= Real('x1')\n",
    "x1_f=x1+0.0005*(1000-0.5418*x1**2)\n",
    "loop_cond =(x1+1)*(x1-82)<=0\n",
    "pre = x1*(80-x1)>=0\n",
    "post = (x1+10)*(x1-79)<=0\n",
    "\n",
    "for line in file_contents:\n",
    "    if (\"\\\"\") in line:\n",
    "        line=line.strip().replace(\"\\\"\",\"\")+('>=0')\n",
    "        line=line.replace(\"^\",\"**\")\n",
    "        inv=eval(line)\n",
    "        inv_f1=line.replace(\"x1\",\"x1_f\")\n",
    "        inv_f1=eval(inv_f1)\n",
    "        cons1 = ForAll([x1],Implies(pre, inv))\n",
    "        cons2 = ForAll([x1],Implies(And(inv,loop_cond), inv_f1))\n",
    "        cons3 = ForAll([x1],Implies(And(inv, Not(loop_cond)),post))\n",
    "\n",
    "        s = Solver()\n",
    "        s.add(cons1, cons2, cons3)\n",
    "        s1=s.check()\n",
    "        "
   ]
  },
  {
   "cell_type": "code",
   "execution_count": null,
   "id": "9fa52f4a",
   "metadata": {},
   "outputs": [],
   "source": []
  },
  {
   "cell_type": "code",
   "execution_count": 51,
   "id": "13df50c7",
   "metadata": {},
   "outputs": [
    {
     "data": {
      "text/plain": [
       "'unknown'"
      ]
     },
     "execution_count": 51,
     "metadata": {},
     "output_type": "execute_result"
    }
   ],
   "source": [
    "str(s.check())"
   ]
  },
  {
   "cell_type": "code",
   "execution_count": 52,
   "id": "e1dfaa5e",
   "metadata": {},
   "outputs": [
    {
     "name": "stdout",
     "output_type": "stream",
     "text": [
      "unknown\n"
     ]
    }
   ],
   "source": [
    "print(s.check())"
   ]
  },
  {
   "cell_type": "code",
   "execution_count": 35,
   "id": "73bb45fd",
   "metadata": {},
   "outputs": [
    {
     "data": {
      "text/plain": [
       "'unknown'"
      ]
     },
     "execution_count": 35,
     "metadata": {},
     "output_type": "execute_result"
    }
   ],
   "source": [
    "str(s.check())"
   ]
  },
  {
   "cell_type": "code",
   "execution_count": 30,
   "id": "f21e3ab6",
   "metadata": {},
   "outputs": [
    {
     "data": {
      "text/plain": [
       "'1+0.158799402811*x1-0.00294889852037*x1**2>=0'"
      ]
     },
     "execution_count": 30,
     "metadata": {},
     "output_type": "execute_result"
    }
   ],
   "source": [
    "line"
   ]
  },
  {
   "cell_type": "code",
   "execution_count": null,
   "id": "09cc846d",
   "metadata": {},
   "outputs": [],
   "source": []
  },
  {
   "cell_type": "code",
   "execution_count": 29,
   "id": "b040a296",
   "metadata": {},
   "outputs": [
    {
     "data": {
      "text/html": [
       "98217/10000 +\n",
       "160077/10000&middot;(x1 + 1/2000&middot;(1000 - 2709/5000&middot;x1<sup>2</sup>)) -\n",
       "1/5&middot;(x1 + 1/2000&middot;(1000 - 2709/5000&middot;x1<sup>2</sup>)) &ge;\n",
       "0"
      ],
      "text/plain": [
       "98217/10000 +\n",
       "160077/10000*(x1 + 1/2000*(1000 - 2709/5000*x1**2)) -\n",
       "1/5*(x1 + 1/2000*(1000 - 2709/5000*x1**2)) >=\n",
       "0"
      ]
     },
     "execution_count": 29,
     "metadata": {},
     "output_type": "execute_result"
    }
   ],
   "source": [
    "inv_f1"
   ]
  },
  {
   "cell_type": "code",
   "execution_count": 5,
   "id": "bd3cc273",
   "metadata": {},
   "outputs": [
    {
     "data": {
      "text/plain": [
       "'1+0.158799402811*x1-0.00294889852037*x1^2>=0'"
      ]
     },
     "execution_count": 5,
     "metadata": {},
     "output_type": "execute_result"
    }
   ],
   "source": [
    "\"1+0.158799402811*x1-0.00294889852037*x1^2\"+\">=0\""
   ]
  },
  {
   "cell_type": "code",
   "execution_count": 11,
   "id": "04e1661f",
   "metadata": {},
   "outputs": [
    {
     "data": {
      "text/plain": [
       "'    \"1+0.158799402811*x1-0.00294889852037*x1^2\"\\n'"
      ]
     },
     "execution_count": 11,
     "metadata": {},
     "output_type": "execute_result"
    }
   ],
   "source": [
    "str(line)"
   ]
  },
  {
   "cell_type": "code",
   "execution_count": 20,
   "id": "34429079",
   "metadata": {},
   "outputs": [
    {
     "data": {
      "text/plain": [
       "'1+0.158799402811*x1-0.00294889852037*x1^2>=0'"
      ]
     },
     "execution_count": 20,
     "metadata": {},
     "output_type": "execute_result"
    }
   ],
   "source": [
    "line.strip().replace(\"\\\"\",\"\")+('>=0')"
   ]
  },
  {
   "cell_type": "code",
   "execution_count": 25,
   "id": "982a616f",
   "metadata": {},
   "outputs": [
    {
     "data": {
      "text/plain": [
       "'1+0.158799402811*x1-0.00294889852037*x1**2>=0'"
      ]
     },
     "execution_count": 25,
     "metadata": {},
     "output_type": "execute_result"
    }
   ],
   "source": [
    "line.replace(\"^\",\"**\")"
   ]
  },
  {
   "cell_type": "code",
   "execution_count": 27,
   "id": "4410f837",
   "metadata": {},
   "outputs": [
    {
     "data": {
      "text/plain": [
       "'1+0.158799402811*x1-0.00294889852037*x1^2>=0'"
      ]
     },
     "execution_count": 27,
     "metadata": {},
     "output_type": "execute_result"
    }
   ],
   "source": [
    "line"
   ]
  },
  {
   "cell_type": "code",
   "execution_count": 42,
   "id": "4113f88b",
   "metadata": {},
   "outputs": [
    {
     "data": {
      "text/html": [
       "<b>unknown</b>"
      ],
      "text/plain": [
       "unknown"
      ]
     },
     "execution_count": 42,
     "metadata": {},
     "output_type": "execute_result"
    }
   ],
   "source": [
    "s.check()"
   ]
  },
  {
   "cell_type": "code",
   "execution_count": null,
   "id": "d525b3ff",
   "metadata": {},
   "outputs": [],
   "source": []
  }
 ],
 "metadata": {
  "kernelspec": {
   "display_name": "Python 3 (ipykernel)",
   "language": "python",
   "name": "python3"
  },
  "language_info": {
   "codemirror_mode": {
    "name": "ipython",
    "version": 3
   },
   "file_extension": ".py",
   "mimetype": "text/x-python",
   "name": "python",
   "nbconvert_exporter": "python",
   "pygments_lexer": "ipython3",
   "version": "3.11.4"
  }
 },
 "nbformat": 4,
 "nbformat_minor": 5
}
