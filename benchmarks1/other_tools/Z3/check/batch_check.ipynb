{
 "cells": [
  {
   "cell_type": "markdown",
   "id": "cf9057e3",
   "metadata": {},
   "source": [
    "EX1"
   ]
  },
  {
   "cell_type": "code",
   "execution_count": 1,
   "id": "836eb274",
   "metadata": {},
   "outputs": [
    {
     "name": "stdout",
     "output_type": "stream",
     "text": [
      "sat\n",
      "[]\n",
      "Consuming Time: 0.01400948 s\n",
      "\n"
     ]
    }
   ],
   "source": [
    "from z3 import *\n",
    "import time\n",
    "start = time.time()\n",
    "x1= Real('x1')\n",
    "inv=\"9.8217+16.0077*x1-0.2000*x1**2>=0\"\n",
    "inv=eval(inv)\n",
    "\n",
    "x1_f=x1+0.0005*(1000-0.5418*x1**2)\n",
    "\n",
    "inv_f1 =9.8217+16.0077*x1_f-0.2000*x1_f>=0\n",
    "\n",
    "loop_cond =(x1+1)*(x1-82)<=0\n",
    "pre = x1*(80-x1)>=0\n",
    "post = (x1+10)*(x1-79)<=0\n",
    "\n",
    "cons1 = ForAll([x1],Implies(pre, inv))\n",
    "cons2 = ForAll([x1],Implies(And(inv,loop_cond), inv_f1))\n",
    "cons3 = ForAll([x1],Implies(And(inv, Not(loop_cond)),post))\n",
    "               \n",
    "s = Solver()\n",
    "s.add(cons1, cons2, cons3)\n",
    "print(s.check())\n",
    "print(s.model())\n",
    "end = time.time()\n",
    "print(\"Consuming Time: %.8f s\\n\"%((end-start)))"
   ]
  },
  {
   "cell_type": "code",
   "execution_count": 6,
   "id": "d27242f5",
   "metadata": {},
   "outputs": [
    {
     "name": "stdout",
     "output_type": "stream",
     "text": [
      "1+0.958319969973*x1-0.0118547020977*x1**2>=0\n"
     ]
    }
   ],
   "source": [
    "# Open the file in read mode\n",
    "file_path = \"ex1.txt\"  # Replace with the actual path to your file\n",
    "with open(file_path, 'r', encoding='UTF-8') as file:\n",
    "    # Read the contents of the file\n",
    "    file_contents = file.readlines()\n",
    "\n",
    "x1= Real('x1')\n",
    "x1_f=x1+0.0005*(1000-0.5418*x1**2)\n",
    "loop_cond =(x1+1)*(x1-82)<=0\n",
    "pre = x1*(80-x1)>=0\n",
    "post = (x1+10)*(x1-79)<=0\n",
    "\n",
    "for line in file_contents:\n",
    "    if (\"\\\"\") in line:\n",
    "        line=line.strip().replace(\"\\\"\",\"\")+('>=0')\n",
    "        line=line.replace(\"^\",\"**\")\n",
    "        inv=eval(line)\n",
    "        inv_f1=line.replace(\"x1\",\"x1_f\")\n",
    "        inv_f1=eval(inv_f1)\n",
    "        cons1 = ForAll([x1],Implies(pre, inv))\n",
    "        cons2 = ForAll([x1],Implies(And(inv,loop_cond), inv_f1))\n",
    "        cons3 = ForAll([x1],Implies(And(inv, Not(loop_cond)),post))\n",
    "\n",
    "        s = Solver()\n",
    "        s.add(cons1, cons2, cons3)\n",
    "        if str(s.check())=='sat':\n",
    "            print(line)\n",
    "        "
   ]
  },
  {
   "cell_type": "markdown",
   "id": "06dffe23",
   "metadata": {},
   "source": [
    "EX2"
   ]
  },
  {
   "cell_type": "code",
   "execution_count": 10,
   "id": "7cc911c8",
   "metadata": {},
   "outputs": [
    {
     "name": "stdout",
     "output_type": "stream",
     "text": [
      "sat\n",
      "[]\n",
      "Consuming Time: 0.02199960 s\n",
      "\n"
     ]
    }
   ],
   "source": [
    "# code2 in paper\n",
    "from z3 import *\n",
    "import time\n",
    "start = time.time()\n",
    "x1,x2 = Reals('x1 x2')\n",
    "xrange = And(x1>=-5, x1<=5, x2>=-5, x2<=5)\n",
    "\n",
    "inv = 6.190-1.6117*x2-0.1888*x1**2-2.934*x2**2>=0\n",
    "x1_f=0.9*(x1-0.01*x2)\n",
    "x2_f=0.9*(x2+0.01*x1)\n",
    "inv_f1 =6.190-1.6117*x2_f-0.1888*x1_f**2-2.934*x2_f**2>=0\n",
    "\n",
    "loop_cond = 1>=0\n",
    "pre = x1**2+x2**2-1<=0\n",
    "post = 0.25-x1**2-(x2-2)**2<=0\n",
    "\n",
    "cons1 = ForAll([x1,x2],Implies(And(pre, xrange), inv))\n",
    "cons2 = ForAll([x1,x2],Implies(And(inv,loop_cond, xrange), inv_f1))\n",
    "cons3 = ForAll([x1,x2],Implies(And(inv, Not(loop_cond),xrange),post))\n",
    "               \n",
    "s = Solver()\n",
    "s.add( cons1, cons2, cons3)\n",
    "print(s.check())\n",
    "print(s.model())\n",
    "end = time.time()\n",
    "print(\"Consuming Time: %.8f s\\n\"%((end-start)))"
   ]
  },
  {
   "cell_type": "code",
   "execution_count": 12,
   "id": "22188ea2",
   "metadata": {},
   "outputs": [
    {
     "name": "stdout",
     "output_type": "stream",
     "text": [
      "sat\n",
      "sat\n",
      "sat\n",
      "sat\n",
      "sat\n",
      "sat\n",
      "sat\n",
      "sat\n",
      "sat\n",
      "sat\n",
      "sat\n",
      "sat\n",
      "sat\n",
      "sat\n",
      "sat\n",
      "sat\n",
      "sat\n",
      "sat\n",
      "sat\n",
      "sat\n"
     ]
    }
   ],
   "source": [
    "# Open the file in read mode\n",
    "file_path = \"ex2.txt\"  # Replace with the actual path to your file\n",
    "with open(file_path, 'r', encoding='UTF-8') as file:\n",
    "    # Read the contents of the file\n",
    "    file_contents = file.readlines()\n",
    "\n",
    "x1,x2= Reals('x1 x2')\n",
    "x1_f=0.9*(x1-0.01*x2)\n",
    "x2_f=0.9*(x2+0.01*x1)\n",
    "\n",
    "loop_cond = 1>=0\n",
    "pre = x1**2+x2**2-1<=0\n",
    "post = 0.25-x1**2-(x2-2)**2<=0\n",
    "\n",
    "\n",
    "for line in file_contents:\n",
    "    if (\"\\\"\") in line:\n",
    "        line=line.strip().replace(\"\\\"\",\"\")+('>=0')\n",
    "        line=line.replace(\"^\",\"**\")\n",
    "        inv=eval(line)\n",
    "        inv_f1=line.replace(\"x1\",\"x1_f\")\n",
    "        inv_f1=inv_f1.replace(\"x2\",\"x2_f\")\n",
    "        inv_f1=eval(inv_f1)\n",
    "        cons1 = ForAll([x1],Implies(pre, inv))\n",
    "        cons2 = ForAll([x1],Implies(And(inv,loop_cond), inv_f1))\n",
    "        cons3 = ForAll([x1],Implies(And(inv, Not(loop_cond)),post))\n",
    "\n",
    "        s = Solver()\n",
    "        s.add(cons1, cons2, cons3)\n",
    "        print(s.check())\n",
    "        if str(s.check())=='sat':\n",
    "            print(line)\n",
    "        "
   ]
  },
  {
   "cell_type": "code",
   "execution_count": null,
   "id": "659a5ed4",
   "metadata": {},
   "outputs": [],
   "source": [
    "import time\n",
    "from z3 import *\n",
    "# cohencu >600s\n",
    "start = time.time()\n",
    "x1,x2,a0,a1,a2,a3,a4,a5 = Reals('x1 x2 a0 a1 a2 a3 a4 a5')\n",
    "xrange = And(x2>=0, x2<=10, x1>=0,x1<=10)\n",
    "\n",
    "inv =1.359+1.4448*x1+2.1653*x2-4.6463*x1**2+0.47511*x2**2-1.84218*x1*x2>=0\n",
    "\n",
    "inv_f1=1.359+1.4448*(x1+1)+2.1653*(x2+5.5*x1+5.5)-4.6463*(x1+1)**20.47511*(x2+5.5*x1+5.5)**2-1.84218*(x1+1)*(x2+5.5*x1+5.5)>=0\n",
    "\n",
    "\n",
    "loop_cond = x1-5<=0\n",
    "pre = And(x2==0,x1==0)\n",
    "post = And(2.5*x1**2+4*x1-x2<=0,x2-3.5*x1**2-3*x1<=0)\n",
    "\n",
    "cons1 = ForAll([x1,x2],Implies(And(pre, xrange), inv))\n",
    "cons2 = ForAll([x1,x2],Implies(And(inv,loop_cond, xrange),inv_f1))\n",
    "cons3 = ForAll([x1,x2],Implies(And(inv, Not(loop_cond),xrange),post))\n",
    "               \n",
    "s = Solver()\n",
    "s.add( cons1, cons2, cons3)\n",
    "print(s.check())"
   ]
  },
  {
   "cell_type": "code",
   "execution_count": 13,
   "id": "7c1eb867",
   "metadata": {},
   "outputs": [
    {
     "name": "stdout",
     "output_type": "stream",
     "text": [
      "sat\n",
      "sat\n",
      "sat\n",
      "sat\n",
      "sat\n",
      "sat\n",
      "sat\n",
      "sat\n",
      "sat\n",
      "sat\n",
      "sat\n",
      "sat\n",
      "sat\n",
      "sat\n",
      "sat\n",
      "sat\n",
      "sat\n",
      "sat\n",
      "sat\n",
      "sat\n"
     ]
    }
   ],
   "source": [
    "# Open the file in read mode\n",
    "file_path = \"cohencu.txt\"  # Replace with the actual path to your file\n",
    "with open(file_path, 'r', encoding='UTF-8') as file:\n",
    "    # Read the contents of the file\n",
    "    file_contents = file.readlines()\n",
    "\n",
    "x1,x2= Reals('x1 x2')\n",
    "x1_f=x1+1\n",
    "x2_f=x2+5.5*x1+5.5\n",
    "\n",
    "loop_cond = x1-5<=0\n",
    "pre = And(x2==0,x1==0)\n",
    "post = And(2.5*x1**2+4*x1-x2<=0,x2-3.5*x1**2-3*x1<=0)\n",
    "\n",
    "for line in file_contents:\n",
    "    if (\"\\\"\") in line:\n",
    "        line=line.strip().replace(\"\\\"\",\"\")+('>=0')\n",
    "        line=line.replace(\"^\",\"**\")\n",
    "        inv=eval(line)\n",
    "        inv_f1=line.replace(\"x1\",\"x1_f\")\n",
    "        inv_f1=inv_f1.replace(\"x2\",\"x2_f\")\n",
    "        inv_f1=eval(inv_f1)\n",
    "        cons1 = ForAll([x1],Implies(pre, inv))\n",
    "        cons2 = ForAll([x1],Implies(And(inv,loop_cond), inv_f1))\n",
    "        cons3 = ForAll([x1],Implies(And(inv, Not(loop_cond)),post))\n",
    "\n",
    "        s = Solver()\n",
    "        s.add(cons1, cons2, cons3)\n",
    "        print(s.check())\n",
    "        if str(s.check())=='sat':\n",
    "            print(line)\n",
    "        "
   ]
  },
  {
   "cell_type": "code",
   "execution_count": null,
   "id": "d27969bf",
   "metadata": {},
   "outputs": [],
   "source": []
  },
  {
   "cell_type": "code",
   "execution_count": null,
   "id": "a3361aee",
   "metadata": {},
   "outputs": [],
   "source": []
  }
 ],
 "metadata": {
  "kernelspec": {
   "display_name": "Python 3 (ipykernel)",
   "language": "python",
   "name": "python3"
  },
  "language_info": {
   "codemirror_mode": {
    "name": "ipython",
    "version": 3
   },
   "file_extension": ".py",
   "mimetype": "text/x-python",
   "name": "python",
   "nbconvert_exporter": "python",
   "pygments_lexer": "ipython3",
   "version": "3.11.4"
  }
 },
 "nbformat": 4,
 "nbformat_minor": 5
}
