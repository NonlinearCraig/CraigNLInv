{
 "cells": [
  {
   "cell_type": "markdown",
   "id": "99623063",
   "metadata": {},
   "source": [
    "## EX1"
   ]
  },
  {
   "cell_type": "markdown",
   "id": "62b05560",
   "metadata": {},
   "source": [
    "with template: inv=a0+a1*x1+a2 * x1^2"
   ]
  },
  {
   "cell_type": "markdown",
   "id": "46b2415a",
   "metadata": {},
   "source": [
    "our: 0.29s iter:1 inv =9.82179949496+16.0077113185*x1-0.200003671465*x1^2>=0"
   ]
  },
  {
   "cell_type": "code",
   "execution_count": 1,
   "id": "4567b6fe",
   "metadata": {},
   "outputs": [
    {
     "name": "stdout",
     "output_type": "stream",
     "text": [
      "sat\n",
      "[]\n",
      "Consuming Time: 0.01955295 s\n",
      "\n"
     ]
    }
   ],
   "source": [
    "#ex1\n",
    "from z3 import *\n",
    "import time\n",
    "start = time.time()\n",
    "x1,a1,a2,a3= Reals('x1 a1 a2 a3')\n",
    "inv=9.8217+16.0077*x1-0.2000*x1**2>=0\n",
    "\n",
    "guard1 = -1<=0;\n",
    "inv_f1 =9.8217+16.0077*(x1+0.0005*(1000-0.5418*x1**2))-0.2000*(x1+0.0005*(1000-0.5418*x1**2))**2>=0\n",
    "\n",
    "loop_cond =(x1+1)*(x1-82)<=0\n",
    "pre = x1*(80-x1)>=0\n",
    "post = (x1+10)*(x1-79)<=0\n",
    "\n",
    "cons1 = ForAll([x1],Implies(pre, inv))\n",
    "cons2 = ForAll([x1],Implies(And(inv,loop_cond), inv_f1))\n",
    "cons3 = ForAll([x1],Implies(And(inv, Not(loop_cond)),post))\n",
    "               \n",
    "s = Solver()\n",
    "s.add(cons1, cons2, cons3)\n",
    "print(s.check())\n",
    "print(s.model())\n",
    "end = time.time()\n",
    "print(\"Consuming Time: %.8f s\\n\"%((end-start)))"
   ]
  },
  {
   "cell_type": "markdown",
   "id": "cc011573",
   "metadata": {},
   "source": [
    "with template: inv=1+a1*x1+a2*x1^2 "
   ]
  },
  {
   "cell_type": "markdown",
   "id": "2727db0f",
   "metadata": {},
   "source": [
    "our:0.330825s iter 1 1+8.08012134086*x1-0.100258563544*x1^2>=0"
   ]
  },
  {
   "cell_type": "code",
   "execution_count": 3,
   "id": "11741f33",
   "metadata": {},
   "outputs": [
    {
     "name": "stdout",
     "output_type": "stream",
     "text": [
      "sat\n",
      "[]\n",
      "Consuming Time: 0.02065611 s\n",
      "\n"
     ]
    }
   ],
   "source": [
    "#ex1\n",
    "from z3 import *\n",
    "import time\n",
    "start = time.time()\n",
    "x1,a1,a2,a3= Reals('x1 a1 a2 a3')\n",
    "inv=1+8.0801*x1-0.10025*x1**2>=0\n",
    "\n",
    "inv_f1 =1+8.0801*(x1+0.0005*(1000-0.5418*x1**2))-0.10025*(x1+0.0005*(1000-0.5418*x1**2))**2>=0\n",
    "\n",
    "loop_cond =(x1+1)*(x1-82)<=0\n",
    "pre = x1*(80-x1)>=0\n",
    "post = (x1+10)*(x1-79)<=0\n",
    "\n",
    "cons1 = ForAll([x1],Implies(pre, inv))\n",
    "cons2 = ForAll([x1],Implies(And(inv,loop_cond), inv_f1))\n",
    "cons3 = ForAll([x1],Implies(And(inv, Not(loop_cond)),post))\n",
    "               \n",
    "s = Solver()\n",
    "s.add(cons1, cons2, cons3)\n",
    "print(s.check())\n",
    "print(s.model())\n",
    "end = time.time()\n",
    "print(\"Consuming Time: %.8f s\\n\"%((end-start)))"
   ]
  },
  {
   "cell_type": "markdown",
   "id": "733c18d5",
   "metadata": {},
   "source": [
    "check for PENBMI. Ref: Yang, Z., Lin, W., Wu, M.: Exact safety verification of hybrid systems based on\n",
    "bilinear SOS representation. ACM Transactions on Embedded Computing Systems\n",
    "14(1), 1–19 (2015)"
   ]
  },
  {
   "cell_type": "markdown",
   "id": "61385eaf",
   "metadata": {},
   "source": [
    "template 1"
   ]
  },
  {
   "cell_type": "code",
   "execution_count": 2,
   "id": "f391148f",
   "metadata": {},
   "outputs": [
    {
     "name": "stdout",
     "output_type": "stream",
     "text": [
      "unsat\n"
     ]
    }
   ],
   "source": [
    "#ex1\n",
    "from z3 import *\n",
    "import time\n",
    "start = time.time()\n",
    "x1,a1,a2,a3= Reals('x1 a1 a2 a3')\n",
    "inv= 0.0596+ 0.0882*x1 +0.0882*x1**2>=0\n",
    "\n",
    "guard1 = -1<=0;\n",
    "inv_f1 =0.0596+0.0882*(x1+0.0005*(1000-0.5418*x1**2))+0.0882*(x1+0.0005*(1000-0.5418*x1**2))**2>=0\n",
    "\n",
    "loop_cond =(x1+1)*(x1-82)<=0\n",
    "pre = x1*(80-x1)>=0\n",
    "post = (x1+10)*(x1-79)<=0\n",
    "\n",
    "cons1 = ForAll([x1],Implies(pre, inv))\n",
    "cons2 = ForAll([x1],Implies(And(inv,loop_cond), inv_f1))\n",
    "cons3 = ForAll([x1],Implies(And(inv, Not(loop_cond)),post))\n",
    "               \n",
    "s = Solver()\n",
    "s.add(cons1, cons2, cons3)\n",
    "print(s.check())"
   ]
  },
  {
   "cell_type": "markdown",
   "id": "27050451",
   "metadata": {},
   "source": [
    "template 2"
   ]
  },
  {
   "cell_type": "code",
   "execution_count": 2,
   "id": "4c99e349",
   "metadata": {},
   "outputs": [
    {
     "name": "stdout",
     "output_type": "stream",
     "text": [
      "unsat\n"
     ]
    }
   ],
   "source": [
    "#ex1\n",
    "from z3 import *\n",
    "import time\n",
    "start = time.time()\n",
    "x1,a1,a2,a3= Reals('x1 a1 a2 a3')\n",
    "inv=1+ 0.2576*x1 + 0.2576*x1**2>=0\n",
    "\n",
    "guard1 = -1<=0;\n",
    "inv_f1 =1+0.2576*(x1+0.0005*(1000-0.5418*x1**2))+0.2576*(x1+0.0005*(1000-0.5418*x1**2))**2>=0\n",
    "\n",
    "loop_cond =(x1+1)*(x1-82)<=0\n",
    "pre = x1*(80-x1)>=0\n",
    "post = (x1+10)*(x1-79)<=0\n",
    "\n",
    "cons1 = ForAll([x1],Implies(pre, inv))\n",
    "cons2 = ForAll([x1],Implies(And(inv,loop_cond), inv_f1))\n",
    "cons3 = ForAll([x1],Implies(And(inv, Not(loop_cond)),post))\n",
    "               \n",
    "s = Solver()\n",
    "s.add(cons1, cons2, cons3)\n",
    "print(s.check())\n"
   ]
  },
  {
   "cell_type": "markdown",
   "id": "c977e000",
   "metadata": {},
   "source": [
    "# EX2"
   ]
  },
  {
   "cell_type": "markdown",
   "id": "f7fdd799",
   "metadata": {},
   "source": [
    "template:a0+a1*x1+a2*x2+a3*x1*x2+a4*x1^2+a5*x2^2"
   ]
  },
  {
   "cell_type": "markdown",
   "id": "6feaf291",
   "metadata": {},
   "source": [
    "our:0.21 iter: 0 inv = 14.029-5.0319*x2_f+3.136*x1_f**2-5.613*x2_f**2>=0"
   ]
  },
  {
   "cell_type": "code",
   "execution_count": 1,
   "id": "ee631c92",
   "metadata": {},
   "outputs": [
    {
     "name": "stdout",
     "output_type": "stream",
     "text": [
      "sat\n",
      "[]\n",
      "Consuming Time: 0.01692605 s\n",
      "\n"
     ]
    }
   ],
   "source": [
    "# code2 in paper\n",
    "from z3 import *\n",
    "import time\n",
    "start = time.time()\n",
    "x1,x2 = Reals('x1 x2')\n",
    "xrange = And(x1>=-5, x1<=5, x2>=-5, x2<=5)\n",
    "\n",
    "inv = 14.029-5.0319*x2+3.136*x1**2-5.613*x2**2>=0\n",
    "x1_f=0.9*(x1-0.01*x2)\n",
    "x2_f=0.9*(x2+0.01*x1)\n",
    "inv_f1 =14.029-5.0319*x2_f+3.136*x1_f**2-5.613*x2_f**2>=0\n",
    "\n",
    "loop_cond = 1-x1**2-x2**2>=0\n",
    "pre = x1**2+x2**2-1<=0\n",
    "post = 0.25-x1**2-(x2-2)**2<=0\n",
    "\n",
    "cons1 = ForAll([x1,x2],Implies(And(pre, xrange), inv))\n",
    "cons2 = ForAll([x1,x2],Implies(And(inv,loop_cond, xrange), inv_f1))\n",
    "cons3 = ForAll([x1,x2],Implies(And(inv, Not(loop_cond),xrange),post))\n",
    "               \n",
    "s = Solver()\n",
    "s.add( cons1, cons2, cons3)\n",
    "print(s.check())\n",
    "print(s.model())\n",
    "end = time.time()\n",
    "print(\"Consuming Time: %.8f s\\n\"%((end-start)))"
   ]
  },
  {
   "cell_type": "markdown",
   "id": "7bdab720",
   "metadata": {},
   "source": [
    "template2: 1+a1*x1^2+a2*x2^2"
   ]
  },
  {
   "cell_type": "markdown",
   "id": "5a84e1c2",
   "metadata": {},
   "source": [
    "our: 0.177471s iter 0\n"
   ]
  },
  {
   "cell_type": "markdown",
   "id": "8489ce97",
   "metadata": {},
   "source": [
    "\"1+0.228568892593*x1^2-0.652003753366*x2^2\""
   ]
  },
  {
   "cell_type": "code",
   "execution_count": 2,
   "id": "caf026e4",
   "metadata": {},
   "outputs": [
    {
     "name": "stdout",
     "output_type": "stream",
     "text": [
      "sat\n",
      "[]\n",
      "Consuming Time: 0.02314782 s\n",
      "\n"
     ]
    }
   ],
   "source": [
    "# code 2 in paper\n",
    "from z3 import *\n",
    "import time\n",
    "start = time.time()\n",
    "x1,x2 = Reals('x1 x2')\n",
    "xrange = And(x1>=-5, x1<=5, x2>=-5, x2<=5)\n",
    "\n",
    "inv = 1+0.2285*x1**2-0.6520*x2**2>=0\n",
    "\n",
    "guard1 = -1<=0\n",
    "inv_f1 =0.2285*(0.9*(x1-0.01*x2))**2 -0.6520*(0.9*(x2+0.01*x1))**2+1>=0\n",
    "\n",
    "loop_cond = 1-x1**2-x2**2>=0\n",
    "pre = x1**2+x2**2-1<=0\n",
    "post = 0.25-x1**2-(x2-2)**2<=0\n",
    "\n",
    "cons1 = ForAll([x1,x2],Implies(And(pre, xrange), inv))\n",
    "cons2 = ForAll([x1,x2],Implies(And(inv, guard1, loop_cond, xrange), inv_f1))\n",
    "cons3 = ForAll([x1,x2],Implies(And(inv, Not(loop_cond),xrange),post))\n",
    "               \n",
    "s = Solver()\n",
    "s.add( cons1, cons2, cons3)\n",
    "print(s.check())\n",
    "print(s.model())\n",
    "end = time.time()\n",
    "print(\"Consuming Time: %.8f s\\n\"%((end-start)))"
   ]
  },
  {
   "cell_type": "markdown",
   "id": "5a1e3e5c",
   "metadata": {},
   "source": [
    "penbmi with template 1"
   ]
  },
  {
   "cell_type": "code",
   "execution_count": 4,
   "id": "950d1c6d",
   "metadata": {},
   "outputs": [
    {
     "name": "stdout",
     "output_type": "stream",
     "text": [
      "unsat\n"
     ]
    }
   ],
   "source": [
    "# code2 in paper\n",
    "from z3 import *\n",
    "import time\n",
    "start = time.time()\n",
    "x1,x2 = Reals('x1 x2')\n",
    "xrange = And(x1>=-5, x1<=5, x2>=-5, x2<=5)\n",
    "\n",
    "inv = 0.2434+x1*0.4773+x2*0.5677+x1**2*0.4773+x1*x2*0.0029+x2**2*0.5677>=0\n",
    "x1_f=0.9*(x1-0.01*x2)\n",
    "x2_f=0.9*(x2+0.01*x1)\n",
    "inv_f1 =0.2434+x1_f*0.4773+x2_f*0.5677+x1_f**2*0.4773+x1_f*x2_f*0.0029+x2_f**2*0.5677**2>=0\n",
    "\n",
    "loop_cond = 1-x1**2-x2**2>=0\n",
    "pre = x1**2+x2**2-1<=0\n",
    "post = 0.25-x1**2-(x2-2)**2<=0\n",
    "\n",
    "cons1 = ForAll([x1,x2],Implies(And(pre, xrange), inv))\n",
    "cons2 = ForAll([x1,x2],Implies(And(inv,loop_cond, xrange), inv_f1))\n",
    "cons3 = ForAll([x1,x2],Implies(And(inv, Not(loop_cond),xrange),post))\n",
    "               \n",
    "s = Solver()\n",
    "s.add( cons1, cons2, cons3)\n",
    "print(s.check())"
   ]
  },
  {
   "cell_type": "markdown",
   "id": "54cd88ca",
   "metadata": {},
   "source": [
    "check for penbmi with template 2"
   ]
  },
  {
   "cell_type": "markdown",
   "id": "14a60ba7",
   "metadata": {},
   "source": [
    "inv=1+2.0752*x1**2+1.5790*x2**2>=0  it holds for all real values for x1 and x2, thus failed."
   ]
  },
  {
   "cell_type": "markdown",
   "id": "31b37ab5",
   "metadata": {},
   "source": [
    "# EX3"
   ]
  },
  {
   "cell_type": "markdown",
   "id": "0d176e12",
   "metadata": {},
   "source": [
    "our:0.148650s iter 0 0.88687354449+1.34861285266*x1-1.6072153343*x1^2"
   ]
  },
  {
   "cell_type": "markdown",
   "id": "f958c36a",
   "metadata": {},
   "source": [
    "S. Kupferschmid, B. Becker: Craig interpolation in the presence of non-linear constraints. In FORMATS(2011)."
   ]
  },
  {
   "cell_type": "code",
   "execution_count": 1,
   "id": "03793782",
   "metadata": {},
   "outputs": [
    {
     "name": "stdout",
     "output_type": "stream",
     "text": [
      "sat\n",
      "[]\n",
      "Consuming Time: 0.02731681 s\n",
      "\n"
     ]
    }
   ],
   "source": [
    "from z3 import *\n",
    "import time\n",
    "start = time.time()\n",
    "x,a1,a2,a3= Reals('x a1 a2 a3')\n",
    "inv=0.88687+1.34861*x-1.60721*x**2>=0\n",
    "\n",
    "inv_f1 =0.88687+1.34861*(-1.6*x*(1-x))-1.6072*(-1.6*x*(1-x))**2>=0\n",
    "\n",
    "\n",
    "loop_cond = (x+0.3)*(1.7-x)>=0\n",
    "pre = x*(1-x)>=0\n",
    "post = (x-1.5)*(x+1)<=0\n",
    "\n",
    "cons1 = ForAll([x],Implies(And(pre), inv))\n",
    "cons2 = ForAll([x],Implies(And(inv,loop_cond), inv_f1))\n",
    "cons3 = ForAll([x],Implies(And(inv, Not(loop_cond)),post))\n",
    "               \n",
    "s = Solver()\n",
    "s.add(cons1, cons2, cons3)\n",
    "print(s.check())\n",
    "print(s.model())\n",
    "end = time.time()\n",
    "print(\"Consuming Time: %.8f s\\n\"%((end-start)))"
   ]
  },
  {
   "cell_type": "markdown",
   "id": "60899c64",
   "metadata": {},
   "source": [
    "template inv=1+a1*x+a2*x^2>=0"
   ]
  },
  {
   "cell_type": "markdown",
   "id": "9fbc1daf",
   "metadata": {},
   "source": [
    "our:0.118221s iter 0 1+1.34280899625*x1-1.70277960918*x1^2"
   ]
  },
  {
   "cell_type": "code",
   "execution_count": 4,
   "id": "7e1989f4",
   "metadata": {},
   "outputs": [
    {
     "name": "stdout",
     "output_type": "stream",
     "text": [
      "sat\n",
      "[]\n",
      "Consuming Time: 0.02153683 s\n",
      "\n"
     ]
    }
   ],
   "source": [
    "from z3 import *\n",
    "import time\n",
    "start = time.time()\n",
    "x,a1,a2,a3= Reals('x a1 a2 a3')\n",
    "inv=1+1.342*x-1.702*x**2>=0\n",
    "\n",
    "inv_f1 =1+1.342*(-1.6*x*(1-x))-1.702*(-1.6*x*(1-x))**2>=0\n",
    "\n",
    "\n",
    "loop_cond = (x+0.3)*(1.7-x)>=0\n",
    "pre = x*(1-x)>=0\n",
    "post = (x-1.5)*(x+1)<=0\n",
    "\n",
    "cons1 = ForAll([x],Implies(And(pre), inv))\n",
    "cons2 = ForAll([x],Implies(And(inv,loop_cond), inv_f1))\n",
    "cons3 = ForAll([x],Implies(And(inv, Not(loop_cond)),post))\n",
    "               \n",
    "s = Solver()\n",
    "s.add(cons1, cons2, cons3)\n",
    "print(s.check())\n",
    "print(s.model())\n",
    "end = time.time()\n",
    "print(\"Consuming Time: %.8f s\\n\"%((end-start)))"
   ]
  },
  {
   "cell_type": "markdown",
   "id": "eff2ce97",
   "metadata": {},
   "source": [
    "check for penbmi"
   ]
  },
  {
   "cell_type": "markdown",
   "id": "51e12ff5",
   "metadata": {},
   "source": [
    "template 1"
   ]
  },
  {
   "cell_type": "code",
   "execution_count": 3,
   "id": "030a4b0c",
   "metadata": {},
   "outputs": [
    {
     "name": "stdout",
     "output_type": "stream",
     "text": [
      "unsat\n"
     ]
    }
   ],
   "source": [
    "from z3 import *\n",
    "import time\n",
    "start = time.time()\n",
    "x,a1,a2,a3= Reals('x a1 a2 a3')\n",
    "inv= 4.7717-0.4835*x-0.4835*x**2>=0\n",
    "\n",
    "inv_f1 = 4.7717-0.4835*(-1.6*x*(1-x))-0.4835*(-1.6*x*(1-x))**2>=0\n",
    "\n",
    "\n",
    "loop_cond = (x+0.3)*(1.7-x)>=0\n",
    "pre = x*(1-x)>=0\n",
    "post = (x-1.5)*(x+1)<=0\n",
    "\n",
    "cons1 = ForAll([x],Implies(And(pre), inv))\n",
    "cons2 = ForAll([x],Implies(And(inv,loop_cond), inv_f1))\n",
    "cons3 = ForAll([x],Implies(And(inv, Not(loop_cond)),post))\n",
    "               \n",
    "s = Solver()\n",
    "s.add(cons1, cons2, cons3)\n",
    "print(s.check())\n"
   ]
  },
  {
   "cell_type": "markdown",
   "id": "9dd11011",
   "metadata": {},
   "source": [
    "template 2"
   ]
  },
  {
   "cell_type": "code",
   "execution_count": 1,
   "id": "1ad99581",
   "metadata": {},
   "outputs": [
    {
     "name": "stdout",
     "output_type": "stream",
     "text": [
      "unsat\n"
     ]
    }
   ],
   "source": [
    "from z3 import *\n",
    "import time\n",
    "start = time.time()\n",
    "x,a1,a2,a3= Reals('x a1 a2 a3')\n",
    "inv=1-2.2062*x-2.2062*x**2>=0\n",
    "\n",
    "inv_f1 =1-2.2062*(-1.6*x*(1-x))-2.2062*(-1.6*x*(1-x))**2>=0\n",
    "\n",
    "\n",
    "loop_cond = (x+0.3)*(1.7-x)>=0\n",
    "pre = x*(1-x)>=0\n",
    "post = (x-1.5)*(x+1)<=0\n",
    "\n",
    "cons1 = ForAll([x],Implies(And(pre), inv))\n",
    "cons2 = ForAll([x],Implies(And(inv,loop_cond), inv_f1))\n",
    "cons3 = ForAll([x],Implies(And(inv, Not(loop_cond)),post))\n",
    "               \n",
    "s = Solver()\n",
    "s.add(cons1, cons2, cons3)\n",
    "print(s.check())\n"
   ]
  },
  {
   "cell_type": "markdown",
   "id": "889720e2",
   "metadata": {},
   "source": [
    "# EX4 step_size=0.01"
   ]
  },
  {
   "cell_type": "markdown",
   "id": "62aaaca4",
   "metadata": {},
   "source": [
    "template:inv=a0+a1*x+a2*x^2"
   ]
  },
  {
   "cell_type": "markdown",
   "id": "c3f5cdfa",
   "metadata": {},
   "source": [
    "our:0.32  inv=2.43728531901+0.136308166416*x1-1.42099401323*x1^2"
   ]
  },
  {
   "cell_type": "code",
   "execution_count": 1,
   "id": "58058e65",
   "metadata": {},
   "outputs": [
    {
     "name": "stdout",
     "output_type": "stream",
     "text": [
      "unsat\n"
     ]
    },
    {
     "ename": "Z3Exception",
     "evalue": "model is not available",
     "output_type": "error",
     "traceback": [
      "\u001b[1;31m---------------------------------------------------------------------------\u001b[0m",
      "\u001b[1;31mZ3Exception\u001b[0m                               Traceback (most recent call last)",
      "File \u001b[1;32m~\\AppData\\Roaming\\Python\\Python311\\site-packages\\z3\\z3.py:7131\u001b[0m, in \u001b[0;36mSolver.model\u001b[1;34m(self)\u001b[0m\n\u001b[0;32m   7130\u001b[0m \u001b[38;5;28;01mtry\u001b[39;00m:\n\u001b[1;32m-> 7131\u001b[0m     \u001b[38;5;28;01mreturn\u001b[39;00m ModelRef(Z3_solver_get_model(\u001b[38;5;28mself\u001b[39m\u001b[38;5;241m.\u001b[39mctx\u001b[38;5;241m.\u001b[39mref(), \u001b[38;5;28mself\u001b[39m\u001b[38;5;241m.\u001b[39msolver), \u001b[38;5;28mself\u001b[39m\u001b[38;5;241m.\u001b[39mctx)\n\u001b[0;32m   7132\u001b[0m \u001b[38;5;28;01mexcept\u001b[39;00m Z3Exception:\n",
      "File \u001b[1;32m~\\AppData\\Roaming\\Python\\Python311\\site-packages\\z3\\z3core.py:4185\u001b[0m, in \u001b[0;36mZ3_solver_get_model\u001b[1;34m(a0, a1, _elems)\u001b[0m\n\u001b[0;32m   4184\u001b[0m r \u001b[38;5;241m=\u001b[39m _elems\u001b[38;5;241m.\u001b[39mf(a0, a1)\n\u001b[1;32m-> 4185\u001b[0m _elems\u001b[38;5;241m.\u001b[39mCheck(a0)\n\u001b[0;32m   4186\u001b[0m \u001b[38;5;28;01mreturn\u001b[39;00m r\n",
      "File \u001b[1;32m~\\AppData\\Roaming\\Python\\Python311\\site-packages\\z3\\z3core.py:1505\u001b[0m, in \u001b[0;36mElementaries.Check\u001b[1;34m(self, ctx)\u001b[0m\n\u001b[0;32m   1504\u001b[0m \u001b[38;5;28;01mif\u001b[39;00m err \u001b[38;5;241m!=\u001b[39m \u001b[38;5;28mself\u001b[39m\u001b[38;5;241m.\u001b[39mOK:\n\u001b[1;32m-> 1505\u001b[0m     \u001b[38;5;28;01mraise\u001b[39;00m \u001b[38;5;28mself\u001b[39m\u001b[38;5;241m.\u001b[39mException(\u001b[38;5;28mself\u001b[39m\u001b[38;5;241m.\u001b[39mget_error_message(ctx, err))\n",
      "\u001b[1;31mZ3Exception\u001b[0m: b'there is no current model'",
      "\nDuring handling of the above exception, another exception occurred:\n",
      "\u001b[1;31mZ3Exception\u001b[0m                               Traceback (most recent call last)",
      "Cell \u001b[1;32mIn[1], line 21\u001b[0m\n\u001b[0;32m     19\u001b[0m s\u001b[38;5;241m.\u001b[39madd(cons1, cons2, cons3)\n\u001b[0;32m     20\u001b[0m \u001b[38;5;28mprint\u001b[39m(s\u001b[38;5;241m.\u001b[39mcheck())\n\u001b[1;32m---> 21\u001b[0m \u001b[38;5;28mprint\u001b[39m(s\u001b[38;5;241m.\u001b[39mmodel())\n\u001b[0;32m     22\u001b[0m end \u001b[38;5;241m=\u001b[39m time\u001b[38;5;241m.\u001b[39mtime()\n\u001b[0;32m     23\u001b[0m \u001b[38;5;28mprint\u001b[39m(\u001b[38;5;124m\"\u001b[39m\u001b[38;5;124mConsuming Time: \u001b[39m\u001b[38;5;132;01m%.8f\u001b[39;00m\u001b[38;5;124m s\u001b[39m\u001b[38;5;130;01m\\n\u001b[39;00m\u001b[38;5;124m\"\u001b[39m\u001b[38;5;241m%\u001b[39m((end\u001b[38;5;241m-\u001b[39mstart)))\n",
      "File \u001b[1;32m~\\AppData\\Roaming\\Python\\Python311\\site-packages\\z3\\z3.py:7133\u001b[0m, in \u001b[0;36mSolver.model\u001b[1;34m(self)\u001b[0m\n\u001b[0;32m   7131\u001b[0m     \u001b[38;5;28;01mreturn\u001b[39;00m ModelRef(Z3_solver_get_model(\u001b[38;5;28mself\u001b[39m\u001b[38;5;241m.\u001b[39mctx\u001b[38;5;241m.\u001b[39mref(), \u001b[38;5;28mself\u001b[39m\u001b[38;5;241m.\u001b[39msolver), \u001b[38;5;28mself\u001b[39m\u001b[38;5;241m.\u001b[39mctx)\n\u001b[0;32m   7132\u001b[0m \u001b[38;5;28;01mexcept\u001b[39;00m Z3Exception:\n\u001b[1;32m-> 7133\u001b[0m     \u001b[38;5;28;01mraise\u001b[39;00m Z3Exception(\u001b[38;5;124m\"\u001b[39m\u001b[38;5;124mmodel is not available\u001b[39m\u001b[38;5;124m\"\u001b[39m)\n",
      "\u001b[1;31mZ3Exception\u001b[0m: model is not available"
     ]
    }
   ],
   "source": [
    "import time\n",
    "from z3 import *\n",
    "start = time.time()\n",
    "x1,a1,a2,a3= Reals('x1 a1 a2 a3')\n",
    "inv=2.43728531901+0.136308166416*x1-1.42099401323*x1**2>=0\n",
    "\n",
    "guard1 = -1<=0;\n",
    "inv_f1 =2.43728531901+0.136308166416*(x1-0.01*x1*(x1-2)*(x1-4))-1.42099401323*(x1-0.01*x1*(x1-2)*(x1-4))**2>=0\n",
    "\n",
    "loop_cond = (x1+2)*(3.5-x1)>=0\n",
    "pre = (x1+1)*(3-x1)>=0;\n",
    "post = (x1-2)*(5-x1)>=0\n",
    "\n",
    "cons1 = ForAll([x1],Implies(And(pre), inv))\n",
    "cons2 = ForAll([x1],Implies(And(inv, guard1, loop_cond), inv_f1))\n",
    "cons3 = ForAll([x1],Implies(And(inv, Not(loop_cond)),post))\n",
    "               \n",
    "s = Solver()\n",
    "s.add(cons1, cons2, cons3)\n",
    "print(s.check())\n",
    "print(s.model())\n",
    "end = time.time()\n",
    "print(\"Consuming Time: %.8f s\\n\"%((end-start)))"
   ]
  },
  {
   "cell_type": "markdown",
   "id": "d1e63031",
   "metadata": {},
   "source": [
    "template:a0+a1*x1-x1^2 "
   ]
  },
  {
   "cell_type": "markdown",
   "id": "805db9cd",
   "metadata": {},
   "source": [
    "0.341552s 1.85564504638+0.0678863082122*x1-x1^2"
   ]
  },
  {
   "cell_type": "code",
   "execution_count": 2,
   "id": "aface684",
   "metadata": {},
   "outputs": [
    {
     "name": "stdout",
     "output_type": "stream",
     "text": [
      "unsat\n"
     ]
    },
    {
     "ename": "Z3Exception",
     "evalue": "model is not available",
     "output_type": "error",
     "traceback": [
      "\u001b[1;31m---------------------------------------------------------------------------\u001b[0m",
      "\u001b[1;31mZ3Exception\u001b[0m                               Traceback (most recent call last)",
      "File \u001b[1;32m~\\AppData\\Roaming\\Python\\Python311\\site-packages\\z3\\z3.py:7131\u001b[0m, in \u001b[0;36mSolver.model\u001b[1;34m(self)\u001b[0m\n\u001b[0;32m   7130\u001b[0m \u001b[38;5;28;01mtry\u001b[39;00m:\n\u001b[1;32m-> 7131\u001b[0m     \u001b[38;5;28;01mreturn\u001b[39;00m ModelRef(Z3_solver_get_model(\u001b[38;5;28mself\u001b[39m\u001b[38;5;241m.\u001b[39mctx\u001b[38;5;241m.\u001b[39mref(), \u001b[38;5;28mself\u001b[39m\u001b[38;5;241m.\u001b[39msolver), \u001b[38;5;28mself\u001b[39m\u001b[38;5;241m.\u001b[39mctx)\n\u001b[0;32m   7132\u001b[0m \u001b[38;5;28;01mexcept\u001b[39;00m Z3Exception:\n",
      "File \u001b[1;32m~\\AppData\\Roaming\\Python\\Python311\\site-packages\\z3\\z3core.py:4185\u001b[0m, in \u001b[0;36mZ3_solver_get_model\u001b[1;34m(a0, a1, _elems)\u001b[0m\n\u001b[0;32m   4184\u001b[0m r \u001b[38;5;241m=\u001b[39m _elems\u001b[38;5;241m.\u001b[39mf(a0, a1)\n\u001b[1;32m-> 4185\u001b[0m _elems\u001b[38;5;241m.\u001b[39mCheck(a0)\n\u001b[0;32m   4186\u001b[0m \u001b[38;5;28;01mreturn\u001b[39;00m r\n",
      "File \u001b[1;32m~\\AppData\\Roaming\\Python\\Python311\\site-packages\\z3\\z3core.py:1505\u001b[0m, in \u001b[0;36mElementaries.Check\u001b[1;34m(self, ctx)\u001b[0m\n\u001b[0;32m   1504\u001b[0m \u001b[38;5;28;01mif\u001b[39;00m err \u001b[38;5;241m!=\u001b[39m \u001b[38;5;28mself\u001b[39m\u001b[38;5;241m.\u001b[39mOK:\n\u001b[1;32m-> 1505\u001b[0m     \u001b[38;5;28;01mraise\u001b[39;00m \u001b[38;5;28mself\u001b[39m\u001b[38;5;241m.\u001b[39mException(\u001b[38;5;28mself\u001b[39m\u001b[38;5;241m.\u001b[39mget_error_message(ctx, err))\n",
      "\u001b[1;31mZ3Exception\u001b[0m: b'there is no current model'",
      "\nDuring handling of the above exception, another exception occurred:\n",
      "\u001b[1;31mZ3Exception\u001b[0m                               Traceback (most recent call last)",
      "Cell \u001b[1;32mIn[2], line 20\u001b[0m\n\u001b[0;32m     18\u001b[0m s\u001b[38;5;241m.\u001b[39madd(cons1, cons2, cons3)\n\u001b[0;32m     19\u001b[0m \u001b[38;5;28mprint\u001b[39m(s\u001b[38;5;241m.\u001b[39mcheck())\n\u001b[1;32m---> 20\u001b[0m \u001b[38;5;28mprint\u001b[39m(s\u001b[38;5;241m.\u001b[39mmodel())\n\u001b[0;32m     21\u001b[0m end \u001b[38;5;241m=\u001b[39m time\u001b[38;5;241m.\u001b[39mtime()\n\u001b[0;32m     22\u001b[0m \u001b[38;5;28mprint\u001b[39m(\u001b[38;5;124m\"\u001b[39m\u001b[38;5;124mConsuming Time: \u001b[39m\u001b[38;5;132;01m%.8f\u001b[39;00m\u001b[38;5;124m s\u001b[39m\u001b[38;5;130;01m\\n\u001b[39;00m\u001b[38;5;124m\"\u001b[39m\u001b[38;5;241m%\u001b[39m((end\u001b[38;5;241m-\u001b[39mstart)))\n",
      "File \u001b[1;32m~\\AppData\\Roaming\\Python\\Python311\\site-packages\\z3\\z3.py:7133\u001b[0m, in \u001b[0;36mSolver.model\u001b[1;34m(self)\u001b[0m\n\u001b[0;32m   7131\u001b[0m     \u001b[38;5;28;01mreturn\u001b[39;00m ModelRef(Z3_solver_get_model(\u001b[38;5;28mself\u001b[39m\u001b[38;5;241m.\u001b[39mctx\u001b[38;5;241m.\u001b[39mref(), \u001b[38;5;28mself\u001b[39m\u001b[38;5;241m.\u001b[39msolver), \u001b[38;5;28mself\u001b[39m\u001b[38;5;241m.\u001b[39mctx)\n\u001b[0;32m   7132\u001b[0m \u001b[38;5;28;01mexcept\u001b[39;00m Z3Exception:\n\u001b[1;32m-> 7133\u001b[0m     \u001b[38;5;28;01mraise\u001b[39;00m Z3Exception(\u001b[38;5;124m\"\u001b[39m\u001b[38;5;124mmodel is not available\u001b[39m\u001b[38;5;124m\"\u001b[39m)\n",
      "\u001b[1;31mZ3Exception\u001b[0m: model is not available"
     ]
    }
   ],
   "source": [
    "import time\n",
    "from z3 import *\n",
    "start = time.time()\n",
    "x1,a1,a2,a3= Reals('x1 a1 a2 a3')\n",
    "inv=1.85564504638+0.0678863082122*x1-x1**2>=0\n",
    "\n",
    "inv_f1 =1.85564504638+0.0678863082122*(x1-0.01*x1*(x1-2)*(x1-4))-(x1-0.01*x1*(x1-2)*(x1-4))**2>=0\n",
    "\n",
    "loop_cond = (x1+2)*(3.5-x1)>=0\n",
    "pre = (x1+1)*(3-x1)>=0;\n",
    "post = (x1-3)*(5-x1)>=0\n",
    "\n",
    "cons1 = ForAll([x1],Implies(And(pre), inv))\n",
    "cons2 = ForAll([x1],Implies(And(inv, guard1, loop_cond), inv_f1))\n",
    "cons3 = ForAll([x1],Implies(And(inv, Not(loop_cond)),post))\n",
    "               \n",
    "s = Solver()\n",
    "s.add(cons1, cons2, cons3)\n",
    "print(s.check())\n",
    "print(s.model())\n",
    "end = time.time()\n",
    "print(\"Consuming Time: %.8f s\\n\"%((end-start)))"
   ]
  },
  {
   "cell_type": "markdown",
   "id": "562f65c1",
   "metadata": {},
   "source": [
    "check for penbmi"
   ]
  },
  {
   "cell_type": "markdown",
   "id": "3becbeb6",
   "metadata": {},
   "source": [
    "template 1"
   ]
  },
  {
   "cell_type": "code",
   "execution_count": 2,
   "id": "cb9cf42b",
   "metadata": {},
   "outputs": [
    {
     "name": "stdout",
     "output_type": "stream",
     "text": [
      "unsat\n"
     ]
    }
   ],
   "source": [
    "import time\n",
    "from z3 import *\n",
    "start = time.time()\n",
    "x1,a1,a2,a3= Reals('x1 a1 a2 a3')\n",
    "inv=3.3281+0.3503*x1+0.3503*x1**2>=0\n",
    "\n",
    "inv_f1 = 3.3281+0.3503*(x1-0.01*x1*(x1-2)*(x1-4))+0.3503*(x1-0.01*x1*(x1-2)*(x1-4))**2>=0\n",
    "\n",
    "loop_cond = (x1+3)*(3-x1)>=0\n",
    "pre = (x1+1)*(1-x1)>=0;\n",
    "post = (x1-3)*(5-x1)>=0\n",
    "\n",
    "cons1 = ForAll([x1],Implies(And(pre), inv))\n",
    "cons2 = ForAll([x1],Implies(And(inv, loop_cond), inv_f1))\n",
    "cons3 = ForAll([x1],Implies(And(inv, Not(loop_cond)),post))\n",
    "               \n",
    "s = Solver()\n",
    "s.add(cons1, cons2, cons3)\n",
    "print(s.check())\n",
    "\n"
   ]
  },
  {
   "cell_type": "markdown",
   "id": "b6f94180",
   "metadata": {},
   "source": [
    "template 2"
   ]
  },
  {
   "cell_type": "code",
   "execution_count": 1,
   "id": "8e3e11ae",
   "metadata": {},
   "outputs": [
    {
     "name": "stdout",
     "output_type": "stream",
     "text": [
      "sat\n"
     ]
    }
   ],
   "source": [
    "import time\n",
    "from z3 import *\n",
    "start = time.time()\n",
    "x1,a1,a2,a3= Reals('x1 a1 a2 a3')\n",
    "inv=3.9283-1.5754*x1-x1**2>=0\n",
    "\n",
    "inv_f1 =3.9283-1.5754*(x1-0.01*x1*(x1-2)*(x1-4))-(x1-0.01*x1*(x1-2)*(x1-4))**2>=0\n",
    "\n",
    "loop_cond = (x1+3)*(3-x1)>=0\n",
    "pre = (x1+1)*(1-x1)>=0;\n",
    "post = (x1-3)*(5-x1)>=0\n",
    "\n",
    "cons1 = ForAll([x1],Implies(And(pre), inv))\n",
    "cons2 = ForAll([x1],Implies(And(inv, loop_cond), inv_f1))\n",
    "cons3 = ForAll([x1],Implies(And(inv, Not(loop_cond)),post))\n",
    "               \n",
    "s = Solver()\n",
    "s.add(cons1, cons2, cons3)\n",
    "print(s.check())\n"
   ]
  },
  {
   "cell_type": "markdown",
   "id": "7b6f759e",
   "metadata": {},
   "source": [
    "# EX4 step_size=0.001"
   ]
  },
  {
   "cell_type": "markdown",
   "id": "d79a7a4d",
   "metadata": {},
   "source": [
    "template:a0+a1*x1+a2*x1^2"
   ]
  },
  {
   "cell_type": "markdown",
   "id": "026b1303",
   "metadata": {},
   "source": [
    "our:0.323627 2.43728531901+0.136308166416*x1-1.42099401323*x1^2"
   ]
  },
  {
   "cell_type": "code",
   "execution_count": 5,
   "id": "0238ba7a",
   "metadata": {},
   "outputs": [
    {
     "name": "stdout",
     "output_type": "stream",
     "text": [
      "sat\n",
      "[]\n",
      "Consuming Time: 0.02573800 s\n",
      "\n"
     ]
    }
   ],
   "source": [
    "import time \n",
    "from z3 import *\n",
    "start = time.time()\n",
    "x1,a1,a2,a3= Reals('x1 a1 a2 a3')\n",
    "inv=2.43728531901+0.136308166416*x1-1.42099401323*x1**2>=0\n",
    "\n",
    "guard1 = -1<=0;\n",
    "inv_f1 =2.43728531901+0.136308166416*(x1-0.001*x1*(x1-2)*(x1-4))-1.42099401323*(x1-0.001*x1*(x1-2)*(x1-4))**2>=0\n",
    "\n",
    "loop_cond =  (x1+2)*(3.5-x1)>=0\n",
    "pre = (x1+1)*(3-x1)>=0\n",
    "post = (x1-2)*(5-x1)>=0\n",
    "\n",
    "cons1 = ForAll([x1],Implies(And(pre), inv))\n",
    "cons2 = ForAll([x1],Implies(And(inv, guard1, loop_cond), inv_f1))\n",
    "cons3 = ForAll([x1],Implies(And(inv, Not(loop_cond)),post))\n",
    "               \n",
    "s = Solver()\n",
    "s.add(cons1, cons2, cons3)\n",
    "print(s.check())\n",
    "print(s.model())\n",
    "end = time.time()\n",
    "print(\"Consuming Time: %.8f s\\n\"%((end-start)))"
   ]
  },
  {
   "cell_type": "code",
   "execution_count": null,
   "id": "2726b16d",
   "metadata": {},
   "outputs": [],
   "source": []
  },
  {
   "cell_type": "code",
   "execution_count": null,
   "id": "31892cb2",
   "metadata": {},
   "outputs": [],
   "source": [
    "7.05812423974+1.59424934035*x1-1.03026421973*x1^2"
   ]
  },
  {
   "cell_type": "code",
   "execution_count": null,
   "id": "5df96fd0",
   "metadata": {},
   "outputs": [],
   "source": [
    "7.06904349925+3.26441620517*x1-1.6813598201*x1**2"
   ]
  },
  {
   "cell_type": "code",
   "execution_count": null,
   "id": "8d6de036",
   "metadata": {},
   "outputs": [],
   "source": [
    "7.06902251154+3.26440458936*x1-1.68135316451*x1^2"
   ]
  },
  {
   "cell_type": "code",
   "execution_count": null,
   "id": "2f3e7b14",
   "metadata": {},
   "outputs": [],
   "source": [
    "7.06902251154+3.26440458936*x1-1.68135316451*x1**2"
   ]
  },
  {
   "cell_type": "code",
   "execution_count": null,
   "id": "b335a394",
   "metadata": {},
   "outputs": [],
   "source": [
    "7.06902251154+3.26440458936*x1-1.68135316451*x1^2"
   ]
  },
  {
   "cell_type": "code",
   "execution_count": null,
   "id": "b2c7cd50",
   "metadata": {},
   "outputs": [],
   "source": []
  },
  {
   "cell_type": "code",
   "execution_count": 8,
   "id": "714138b2",
   "metadata": {},
   "outputs": [
    {
     "name": "stdout",
     "output_type": "stream",
     "text": [
      "sat\n",
      "[]\n",
      "Consuming Time: 0.02626133 s\n",
      "\n"
     ]
    }
   ],
   "source": [
    "import time \n",
    "from z3 import *\n",
    "start = time.time()\n",
    "x1,a1,a2,a3= Reals('x1 a1 a2 a3')\n",
    "inv=7.06902251154+3.26440458936*x1-1.68135316451*x1**2>=0\n",
    "x1_f=x1-0.01*x1*(x1-2)*(x1-4)\n",
    "guard1 = -1<=0;\n",
    "inv_f1 =7.06902251154+3.26440458936*x1_f-1.68135316451*x1_f**2>=0\n",
    "\n",
    "loop_cond =  (x1+3)*(3-x1)>=0\n",
    "pre = (x1+1)*(1-x1)>=0\n",
    "post = (x1-3)*(5-x1)>=0\n",
    "\n",
    "cons1 = ForAll([x1],Implies(And(pre), inv))\n",
    "cons2 = ForAll([x1],Implies(And(inv, guard1, loop_cond), inv_f1))\n",
    "cons3 = ForAll([x1],Implies(And(inv, Not(loop_cond)),post))\n",
    "               \n",
    "s = Solver()\n",
    "s.add(cons1, cons2, cons3)\n",
    "print(s.check())\n",
    "print(s.model())\n",
    "end = time.time()\n",
    "print(\"Consuming Time: %.8f s\\n\"%((end-start)))"
   ]
  },
  {
   "cell_type": "code",
   "execution_count": 3,
   "id": "35d4c364",
   "metadata": {},
   "outputs": [
    {
     "name": "stdout",
     "output_type": "stream",
     "text": [
      "sat\n",
      "[]\n",
      "Consuming Time: 0.03086948 s\n",
      "\n"
     ]
    }
   ],
   "source": [
    "import time \n",
    "from z3 import *\n",
    "start = time.time()\n",
    "x1,a1,a2,a3= Reals('x1 a1 a2 a3')\n",
    "inv=7.12451164754+3.33761288218*x1-1.70752700703*x1**2>=0\n",
    "x1_f=x1-0.001*x1*(x1-2)*(x1-4)\n",
    "guard1 = -1<=0;\n",
    "inv_f1 =7.12451164754+3.33761288218*x1_f-1.70752700703*x1_f**2>=0\n",
    "\n",
    "loop_cond =  (x1+3)*(3-x1)>=0\n",
    "pre = (x1+1)*(1-x1)>=0\n",
    "post = (x1-3)*(5-x1)>=0\n",
    "\n",
    "cons1 = ForAll([x1],Implies(And(pre), inv))\n",
    "cons2 = ForAll([x1],Implies(And(inv, guard1, loop_cond), inv_f1))\n",
    "cons3 = ForAll([x1],Implies(And(inv, Not(loop_cond)),post))\n",
    "               \n",
    "s = Solver()\n",
    "s.add(cons1, cons2, cons3)\n",
    "print(s.check())\n",
    "print(s.model())\n",
    "end = time.time()\n",
    "print(\"Consuming Time: %.8f s\\n\"%((end-start)))"
   ]
  },
  {
   "cell_type": "code",
   "execution_count": null,
   "id": "a46b403d",
   "metadata": {},
   "outputs": [],
   "source": [
    "7.12451164754+3.33761288218*x1-1.70752700703*x1^2"
   ]
  },
  {
   "cell_type": "code",
   "execution_count": null,
   "id": "c21a187d",
   "metadata": {},
   "outputs": [],
   "source": []
  },
  {
   "cell_type": "markdown",
   "id": "7c329f9c",
   "metadata": {},
   "source": [
    "template: a0+a1*x1-x1^2"
   ]
  },
  {
   "cell_type": "markdown",
   "id": "62b46767",
   "metadata": {},
   "source": [
    "our 0.316163s 1.85564504638+0.0678863082122*x1-x1^2"
   ]
  },
  {
   "cell_type": "code",
   "execution_count": 4,
   "id": "d81960f1",
   "metadata": {},
   "outputs": [
    {
     "name": "stdout",
     "output_type": "stream",
     "text": [
      "sat\n",
      "[]\n",
      "Consuming Time: 0.02137351 s\n",
      "\n"
     ]
    }
   ],
   "source": [
    "import time\n",
    "from z3 import *\n",
    "start = time.time()\n",
    "x1,a1,a2,a3= Reals('x1 a1 a2 a3')\n",
    "inv=1.85564504638+0.0678863082122*x1-x1**2>=0\n",
    "\n",
    "inv_f1 =1.85564504638+0.0678863082122*(x1-0.001*x1*(x1-2)*(x1-4))-(x1-0.001*x1*(x1-2)*(x1-4))**2>=0\n",
    "\n",
    "loop_cond = (x1+3)*(3-x1)>=0\n",
    "pre = (x1+1)*(1-x1)>=0;\n",
    "post = (x1-3)*(5-x1)>=0\n",
    "guard1 = -1<=0;\n",
    "cons1 = ForAll([x1],Implies(And(pre), inv))\n",
    "cons2 = ForAll([x1],Implies(And(inv, guard1, loop_cond), inv_f1))\n",
    "cons3 = ForAll([x1],Implies(And(inv, Not(loop_cond)),post))\n",
    "               \n",
    "s = Solver()\n",
    "s.add(cons1, cons2, cons3)\n",
    "print(s.check())\n",
    "print(s.model())\n",
    "end = time.time()\n",
    "print(\"Consuming Time: %.8f s\\n\"%((end-start)))"
   ]
  },
  {
   "cell_type": "markdown",
   "id": "98303c05",
   "metadata": {},
   "source": [
    "check for Prajna05."
   ]
  },
  {
   "cell_type": "markdown",
   "id": "92ad0a1b",
   "metadata": {},
   "source": [
    "5.082321s iteration 20 inv=-x1^2 Failed"
   ]
  },
  {
   "cell_type": "markdown",
   "id": "385498f4",
   "metadata": {},
   "source": [
    "check penbmi"
   ]
  },
  {
   "cell_type": "markdown",
   "id": "0f6186da",
   "metadata": {},
   "source": [
    "template1"
   ]
  },
  {
   "cell_type": "code",
   "execution_count": 1,
   "id": "cb3ad9a3",
   "metadata": {},
   "outputs": [
    {
     "name": "stdout",
     "output_type": "stream",
     "text": [
      "unsat\n"
     ]
    }
   ],
   "source": [
    "import time\n",
    "from z3 import *\n",
    "start = time.time()\n",
    "x1= Real('x1')\n",
    "inv=3.2828+0.3230*x1+0.3230*x1**2>=0\n",
    "\n",
    "inv_f1 =3.2828+0.3230*(x1-0.001*x1*(x1-2)*(x1-4))+0.3230*(x1-0.001*x1*(x1-2)*(x1-4))**2>=0\n",
    "guard1 = -1<=0;\n",
    "loop_cond = (x1+3)*(3-x1)>=0\n",
    "pre = (x1+1)*(1-x1)>=0;\n",
    "post = (x1-3)*(5-x1)>=0\n",
    "\n",
    "cons1 = ForAll([x1],Implies(And(pre), inv))\n",
    "cons2 = ForAll([x1],Implies(And(inv, guard1, loop_cond), inv_f1))\n",
    "cons3 = ForAll([x1],Implies(And(inv, Not(loop_cond)),post))\n",
    "               \n",
    "s = Solver()\n",
    "s.add(cons1, cons2, cons3)\n",
    "print(s.check())"
   ]
  },
  {
   "cell_type": "markdown",
   "id": "2909a286",
   "metadata": {},
   "source": [
    "template2"
   ]
  },
  {
   "cell_type": "code",
   "execution_count": 1,
   "id": "e020d679",
   "metadata": {},
   "outputs": [
    {
     "name": "stdout",
     "output_type": "stream",
     "text": [
      "sat\n"
     ]
    }
   ],
   "source": [
    "import time\n",
    "from z3 import *\n",
    "start = time.time()\n",
    "x1,a1,a2,a3= Reals('x1 a1 a2 a3')\n",
    "inv=3.8831-1.6067*x1-x1**2>=0\n",
    "\n",
    "inv_f1 =3.8831-1.6067*(x1-0.001*x1*(x1-2)*(x1-4))-(x1-0.001*x1*(x1-2)*(x1-4))**2>=0\n",
    "guard1 = -1<=0;\n",
    "loop_cond = (x1+3)*(3-x1)>=0\n",
    "pre = (x1+1)*(1-x1)>=0;\n",
    "post = (x1-3)*(5-x1)>=0\n",
    "\n",
    "cons1 = ForAll([x1],Implies(And(pre), inv))\n",
    "cons2 = ForAll([x1],Implies(And(inv, guard1, loop_cond), inv_f1))\n",
    "cons3 = ForAll([x1],Implies(And(inv, Not(loop_cond)),post))\n",
    "               \n",
    "s = Solver()\n",
    "s.add(cons1, cons2, cons3)\n",
    "print(s.check())\n"
   ]
  },
  {
   "cell_type": "markdown",
   "id": "ba5064d2",
   "metadata": {},
   "source": [
    "# cav13-1"
   ]
  },
  {
   "cell_type": "markdown",
   "id": "90ac01c9",
   "metadata": {},
   "source": [
    "template:a0+a1*x1+a2*x2+a3*x1*x2+a4*x1^2+a5*x2^2"
   ]
  },
  {
   "cell_type": "markdown",
   "id": "dc4f0f20",
   "metadata": {},
   "source": [
    "0.677986s iter 1 1.31049255748+0.041620694321*x1+1.19347401606*x2-0.369332644733*x1^2-0.0707058607812*x2^2+0.0317147439324*x1*x2"
   ]
  },
  {
   "cell_type": "code",
   "execution_count": 1,
   "id": "e16bfd41",
   "metadata": {},
   "outputs": [
    {
     "name": "stdout",
     "output_type": "stream",
     "text": [
      "sat\n",
      "[]\n",
      "Consuming Time: 49.60736346 s\n",
      "\n"
     ]
    }
   ],
   "source": [
    "from z3 import *\n",
    "import time\n",
    "#ex2 time out\n",
    "start = time.time()\n",
    "x1,x2,a1,a2,a3,a4,a5= Reals('x1 x2 a1 a2 a3 a4 a5')\n",
    "inv=1.31+0.0416*x1+1.193*x2-0.369*x1**2-0.07*x2**2+0.031*x1*x2>=0\n",
    "\n",
    "inv_f= 1.31+0.0416*(x1**2+x2-1)+1.193*(x2+(x1**2+x2-1)*x2+1)-0.369*(x1**2+x2-1)**2-0.07*(x2+(x1**2+x2-1)*x2+1)**2+0.031*(x1**2+x2-1)*(x2+(x1**2+x2-1)*x2+1)>=0\n",
    "\n",
    "\n",
    "loop_cond = 3-x1**2-x2**2>=0\n",
    "pre = 1-x1**2-x2**2>=0\n",
    "post = -x2 + 0.2*x1**2 - 1<=0\n",
    "\n",
    "cons1 = ForAll([x1,x2],Implies(And(pre), inv))\n",
    "cons2 = ForAll([x1,x2],Implies(And(inv,loop_cond), inv_f))\n",
    "cons3 = ForAll([x1,x2],Implies(And(inv, Not(loop_cond)),post))\n",
    "               \n",
    "s = Solver()\n",
    "s.add(cons1, cons2, cons3)\n",
    "print(s.check())\n",
    "print(s.model())\n",
    "end = time.time()\n",
    "print(\"Consuming Time: %.8f s\\n\"%((end-start)))"
   ]
  },
  {
   "cell_type": "code",
   "execution_count": 3,
   "id": "73ba3e13",
   "metadata": {},
   "outputs": [
    {
     "name": "stdout",
     "output_type": "stream",
     "text": [
      "sat\n",
      "[]\n",
      "Consuming Time: 0.05730724 s\n",
      "\n"
     ]
    }
   ],
   "source": [
    "from z3 import *\n",
    "import time\n",
    "#ex2 time out\n",
    "start = time.time()\n",
    "x1,x2,a1,a2,a3,a4,a5= Reals('x1 x2 a1 a2 a3 a4 a5')\n",
    "inv= -x2 + 0.2*x1**2 - 1<=0\n",
    "\n",
    "x1_f=x1**2+x2-1\n",
    "x2_f=x2+(x1**2+x2-1)*x2+1\n",
    "\n",
    "inv_f= -x2_f + 0.2*x1_f**2 - 1<=0\n",
    "\n",
    "\n",
    "loop_cond = 3-x1**2-x2**2>=0\n",
    "pre = 1-x1**2-x2**2>=0\n",
    "post = -x2 + 0.2*x1**2 - 1<=0\n",
    "\n",
    "cons1 = ForAll([x1,x2],Implies(And(pre), inv))\n",
    "cons2 = ForAll([x1,x2],Implies(And(inv,loop_cond), inv_f))\n",
    "cons3 = ForAll([x1,x2],Implies(And(inv, Not(loop_cond)),post))\n",
    "               \n",
    "s = Solver()\n",
    "s.add(cons1, cons2, cons3)\n",
    "print(s.check())\n",
    "print(s.model())\n",
    "end = time.time()\n",
    "print(\"Consuming Time: %.8f s\\n\"%((end-start)))"
   ]
  },
  {
   "cell_type": "markdown",
   "id": "d27e46f0",
   "metadata": {},
   "source": [
    "template:a0+a1*x1^2+a2*x2^2"
   ]
  },
  {
   "cell_type": "markdown",
   "id": "1a833a32",
   "metadata": {},
   "source": [
    "our:0.394792 second: 3.60886409031-1.69839700708*x1^2-2.03873868002*x2^2"
   ]
  },
  {
   "cell_type": "code",
   "execution_count": 9,
   "id": "78706364",
   "metadata": {},
   "outputs": [
    {
     "name": "stdout",
     "output_type": "stream",
     "text": [
      "sat\n",
      "[]\n",
      "Consuming Time: 0.02101016 s\n",
      "\n"
     ]
    }
   ],
   "source": [
    "from z3 import *\n",
    "import time\n",
    "#ex2 time out\n",
    "start = time.time()\n",
    "x1,x2,a1,a2,a3,a4,a5= Reals('x1 x2 a1 a2 a3 a4 a5')\n",
    "inv=3.608-1.698*x1**2-2.038*x2**2>=0\n",
    "\n",
    "inv_f= 3.608-1.698*x1**2-2.038*x2**2>=0\n",
    "\n",
    "\n",
    "loop_cond = 3-x1**2-x2**2>=0\n",
    "pre = 1-x1**2-x2**2>=0\n",
    "post = -x2 + 0.2*x1**2 - 1<=0\n",
    "\n",
    "cons1 = ForAll([x1,x2],Implies(And(pre), inv))\n",
    "cons2 = ForAll([x1,x2],Implies(And(inv,loop_cond), inv_f))\n",
    "cons3 = ForAll([x1,x2],Implies(And(inv, Not(loop_cond)),post))\n",
    "               \n",
    "s = Solver()\n",
    "s.add(cons1, cons2, cons3)\n",
    "print(s.check())\n",
    "print(s.model())\n",
    "end = time.time()\n",
    "print(\"Consuming Time: %.8f s\\n\"%((end-start)))"
   ]
  },
  {
   "cell_type": "markdown",
   "id": "d7d4fefd",
   "metadata": {},
   "source": [
    "check for Prajna05 with template 2\n"
   ]
  },
  {
   "cell_type": "markdown",
   "id": "f9bdad4d",
   "metadata": {},
   "source": [
    "14.547149 seconds iteration 20 inv= 0 Failed"
   ]
  },
  {
   "cell_type": "markdown",
   "id": "6a7bd900",
   "metadata": {},
   "source": [
    "penbmi with template 1"
   ]
  },
  {
   "cell_type": "code",
   "execution_count": 1,
   "id": "01f50d03",
   "metadata": {},
   "outputs": [
    {
     "name": "stdout",
     "output_type": "stream",
     "text": [
      "unsat\n"
     ]
    }
   ],
   "source": [
    "from z3 import *\n",
    "import time\n",
    "#ex2 time out\n",
    "start = time.time()\n",
    "x1,x2,a1,a2,a3,a4,a5= Reals('x1 x2 a1 a2 a3 a4 a5')\n",
    "inv=0.4446+0.4716*x1+0.4922*x2+0.4716*x1**2-0.0147*x1*x2+0.4922*x2**2>=0\n",
    "\n",
    "\n",
    "x1_f=x1**2+x2-1\n",
    "x2_f=x2+(x1**2+x2-1)*x2+1\n",
    "\n",
    "inv_f=0.4446+0.4716*x1_f+0.4922*x2_f+0.4716*x1_f**2-0.0147*x1_f*x2_f+0.4922*x2_f**2>=0\n",
    "\n",
    "\n",
    "\n",
    "loop_cond = 3-x1**2-x2**2>=0\n",
    "pre = 1-x1**2-x2**2>=0\n",
    "post = -x2 + 0.2*x1**2 - 1<=0\n",
    "\n",
    "cons1 = ForAll([x1,x2],Implies(And(pre), inv))\n",
    "cons2 = ForAll([x1,x2],Implies(And(inv,loop_cond), inv_f))\n",
    "cons3 = ForAll([x1,x2],Implies(And(inv, Not(loop_cond)),post))\n",
    "               \n",
    "s = Solver()\n",
    "s.add(cons1, cons2, cons3)\n",
    "print(s.check())"
   ]
  },
  {
   "cell_type": "markdown",
   "id": "3adc306e",
   "metadata": {},
   "source": [
    "check for penbmi with template 2"
   ]
  },
  {
   "cell_type": "markdown",
   "id": "714d2e87",
   "metadata": {},
   "source": [
    "inv=0.2674+0.1025*x1**2+0.1036*x2**2>=0 obviously,it holds for all real variables,thus failed for an invariant"
   ]
  },
  {
   "cell_type": "markdown",
   "id": "4beae85a",
   "metadata": {},
   "source": [
    "# cav13-2"
   ]
  },
  {
   "cell_type": "markdown",
   "id": "19691fee",
   "metadata": {},
   "source": [
    "template:a0+a1*x2+a2*x1**2+a3*x2**2>=0"
   ]
  },
  {
   "cell_type": "markdown",
   "id": "2c160cd3",
   "metadata": {},
   "source": [
    "0.661338 second 2iteration inv=2.05960328114+1.11778816616*x2-0.465104000838*x1^2-0.237917981204*x2^2"
   ]
  },
  {
   "cell_type": "code",
   "execution_count": 1,
   "id": "09a99c95",
   "metadata": {},
   "outputs": [
    {
     "name": "stdout",
     "output_type": "stream",
     "text": [
      "sat\n",
      "[]\n",
      "Consuming Time: 82.04257703 s\n",
      "\n"
     ]
    }
   ],
   "source": [
    "from z3 import *\n",
    "import time\n",
    "\n",
    "start = time.time()\n",
    "x1,x2,a1,a2,a3,a4,a5= Reals('x1 x2 a1 a2 a3 a4 a5')\n",
    "inv=2.059+1.1177*x2-0.465*x1**2-0.237*x2**2>=0\n",
    "\n",
    "x1_f=x1**2+x2-1\n",
    "x2_f=x2+(x1**2+x2-1)*x2+1\n",
    "\n",
    "inv_f=2.059+1.117*x2_f-0.465*x1_f**2-0.237*x2_f**2>=0\n",
    "\n",
    "\n",
    "\n",
    "loop_cond = 3-x1**2-x2**2>=0\n",
    "pre = 2-x1**2-x2**2>=0\n",
    "post = -x2 + 0.2*x1**2 - 1.21<=0\n",
    "\n",
    "cons1 = ForAll([x1,x2],Implies(And(pre), inv))\n",
    "cons2 = ForAll([x1,x2],Implies(And(inv,loop_cond), inv_f))\n",
    "cons3 = ForAll([x1,x2],Implies(And(inv, Not(loop_cond)),post))\n",
    "               \n",
    "s = Solver()\n",
    "s.add(cons1, cons2, cons3)\n",
    "print(s.check())\n",
    "print(s.model())\n",
    "end = time.time()\n",
    "print(\"Consuming Time: %.8f s\\n\"%((end-start)))"
   ]
  },
  {
   "cell_type": "markdown",
   "id": "a2f7aae5",
   "metadata": {},
   "source": [
    "with tempalte a0+a1*x1+a2*x2+a3*x1*x2+a4*x1**2+a5*x2**2"
   ]
  },
  {
   "cell_type": "markdown",
   "id": "9129dbf5",
   "metadata": {},
   "source": [
    "0.924484 3 iter second 2.0485+1.099*x2-0.470*x1**2-0.244*x2**2"
   ]
  },
  {
   "cell_type": "code",
   "execution_count": 1,
   "id": "17d3fee2",
   "metadata": {},
   "outputs": [
    {
     "name": "stdout",
     "output_type": "stream",
     "text": [
      "sat\n",
      "[]\n",
      "Consuming Time: 73.87195849 s\n",
      "\n"
     ]
    }
   ],
   "source": [
    "from z3 import *\n",
    "import time\n",
    "#ex2 time out\n",
    "start = time.time()\n",
    "x1,x2,a1,a2,a3,a4,a5= Reals('x1 x2 a1 a2 a3 a4 a5')\n",
    "inv=2.0485+1.099*x2-0.470*x1**2-0.244*x2**2>=0\n",
    "x1_f=x1**2+x2-1\n",
    "x2_f=x2+(x1**2+x2-1)*x2+1\n",
    "\n",
    "inv_f=2.0485+1.099*x2_f-0.470*x1_f**2-0.244*x2_f**2>=0\n",
    "\n",
    "\n",
    "\n",
    "loop_cond = 3-x1**2-x2**2>=0\n",
    "pre = 2-x1**2-x2**2>=0\n",
    "post = -x2 + 0.2*x1**2 - 1.21<=0\n",
    "\n",
    "cons1 = ForAll([x1,x2],Implies(And(pre), inv))\n",
    "cons2 = ForAll([x1,x2],Implies(And(inv,loop_cond), inv_f))\n",
    "cons3 = ForAll([x1,x2],Implies(And(inv, Not(loop_cond)),post))\n",
    "               \n",
    "s = Solver()\n",
    "s.add(cons1, cons2, cons3)\n",
    "print(s.check())\n",
    "print(s.model())\n",
    "end = time.time()\n",
    "print(\"Consuming Time: %.8f s\\n\"%((end-start)))"
   ]
  },
  {
   "cell_type": "markdown",
   "id": "5935dc6e",
   "metadata": {},
   "source": [
    "check for Prajna05."
   ]
  },
  {
   "cell_type": "markdown",
   "id": "f1a89a12",
   "metadata": {},
   "source": [
    "30.263071 seconds iteration 20 inv= 0 Failed"
   ]
  },
  {
   "cell_type": "markdown",
   "id": "62167abf",
   "metadata": {},
   "source": [
    "check for penbmi"
   ]
  },
  {
   "cell_type": "markdown",
   "id": "9903ba41",
   "metadata": {},
   "source": [
    "template 1"
   ]
  },
  {
   "cell_type": "code",
   "execution_count": 2,
   "id": "4ba61e93",
   "metadata": {},
   "outputs": [
    {
     "name": "stdout",
     "output_type": "stream",
     "text": [
      "unsat\n"
     ]
    }
   ],
   "source": [
    "from z3 import *\n",
    "import time\n",
    "#ex2 time out\n",
    "start = time.time()\n",
    "x1,x2,a1,a2,a3,a4,a5= Reals('x1 x2 a1 a2 a3 a4 a5')\n",
    "inv=0.2007+0.0725*x1+0.0732*x2+0.0725*x1**2-0.0012*x1*x2+0.0732*x2**2>=0\n",
    "\n",
    "\n",
    "x1_f=x1**2+x2-1\n",
    "x2_f=x2+(x1**2+x2-1)*x2+1\n",
    "\n",
    "inv_f=0.2007+0.0725*x1_f+0.0732*x2_f+0.0725*x1_f**2-0.0012*x1_f*x2_f+0.0732*x2_f**2>=0\n",
    "\n",
    "\n",
    "\n",
    "loop_cond = 3-x1**2-x2**2>=0\n",
    "pre = 2-x1**2-x2**2>=0\n",
    "post = -x2 + 0.2*x1**2 - 1.21<=0\n",
    "\n",
    "cons1 = ForAll([x1,x2],Implies(And(pre), inv))\n",
    "cons2 = ForAll([x1,x2],Implies(And(inv,loop_cond), inv_f))\n",
    "cons3 = ForAll([x1,x2],Implies(And(inv, Not(loop_cond)),post))\n",
    "               \n",
    "s = Solver()\n",
    "s.add(cons1, cons2, cons3)\n",
    "print(s.check())"
   ]
  },
  {
   "cell_type": "markdown",
   "id": "551f2ae8",
   "metadata": {},
   "source": [
    "template 2"
   ]
  },
  {
   "cell_type": "code",
   "execution_count": 2,
   "id": "bdc3497b",
   "metadata": {},
   "outputs": [
    {
     "name": "stdout",
     "output_type": "stream",
     "text": [
      "unsat\n"
     ]
    }
   ],
   "source": [
    "from z3 import *\n",
    "import time\n",
    "#ex2 time out\n",
    "start = time.time()\n",
    "x1,x2,a1,a2,a3,a4,a5= Reals('x1 x2 a1 a2 a3 a4 a5')\n",
    "inv= 0.2381-0.0344*x2-0.0345*x1**2-0.0344*x2**2>=0\n",
    "\n",
    "inv_f=0.2381-0.0344*(x2+(x1**2+x2-1)*x2+1)-0.0345*(x1**2+x2-1)**2-0.0344*(x2+(x1**2+x2-1)*x2+1)**2>=0\n",
    "\n",
    "\n",
    "\n",
    "loop_cond = 3-x1**2-x2**2>=0\n",
    "pre = 2-x1**2-x2**2>=0\n",
    "post = -x2 + 0.2*x1**2 - 1.21<=0\n",
    "\n",
    "cons1 = ForAll([x1,x2],Implies(And(pre), inv))\n",
    "cons2 = ForAll([x1,x2],Implies(And(inv,loop_cond), inv_f))\n",
    "cons3 = ForAll([x1,x2],Implies(And(inv, Not(loop_cond)),post))\n",
    "               \n",
    "s = Solver()\n",
    "s.add(cons1, cons2, cons3)\n",
    "print(s.check())"
   ]
  },
  {
   "cell_type": "markdown",
   "id": "02b23f93",
   "metadata": {},
   "source": [
    "# cohencu"
   ]
  },
  {
   "cell_type": "markdown",
   "id": "02e85c9a",
   "metadata": {},
   "source": [
    " with template a0+a1*x1+a2*x2+a3*x1^2+a4 *x2^2+a5*x1*x2>=0"
   ]
  },
  {
   "cell_type": "markdown",
   "id": "980671c5",
   "metadata": {},
   "source": [
    "1.007859 3 iteration 0.00245449210987*x1-0.00106251583689*x2-0.333051888451*x1^2-0.00992344087673*x2^2+0.11587691254*x1*x2"
   ]
  },
  {
   "cell_type": "code",
   "execution_count": 1,
   "id": "b2a5017a",
   "metadata": {},
   "outputs": [
    {
     "name": "stdout",
     "output_type": "stream",
     "text": [
      "sat\n"
     ]
    }
   ],
   "source": [
    "# cohencu\n",
    "#template a0+a1*x2+a2*x1**2+a3*x1**2>=0\n",
    "import time\n",
    "from z3 import *\n",
    "# cohencu >600s\n",
    "start = time.time()\n",
    "x1,x2 = Reals('x1 x2')\n",
    "xrange = And(x2>=0, x2<=10, x1>=0,x1<=10)\n",
    "\n",
    "inv =2.68900290912e-05-0.00154592765841*x1-0.000876462425493*x2-0.888521675044*x1**2+0.317390968331*x1*x2-0.0281381771531*x2**2>=0\n",
    "\n",
    "x1_f=x1+1\n",
    "x2_f=x2+5.5*x1+5.5\n",
    "\n",
    "\n",
    "inv_f1=2.68900290912e-05-0.00154592765841*x1-0.000876462425493*x2-0.888521675044*x1**2+0.317390968331*x1*x2-0.0281381771531*x2**2>=0\n",
    "\n",
    "\n",
    "loop_cond = x1-5<=0\n",
    "pre = And(x2==0,x1==0)\n",
    "post = And(2.5*x1**2+4*x1-x2<=0,x2-3.5*x1**2-3*x1<=0)\n",
    "\n",
    "cons1 = ForAll([x1,x2],Implies(And(pre, xrange), inv))\n",
    "cons2 = ForAll([x1,x2],Implies(And(inv,loop_cond, xrange),inv_f1))\n",
    "cons3 = ForAll([x1,x2],Implies(And(inv, Not(loop_cond),xrange),post))\n",
    "               \n",
    "s = Solver()\n",
    "s.add( cons1, cons2, cons3)\n",
    "print(s.check())"
   ]
  },
  {
   "cell_type": "markdown",
   "id": "e4bbe375",
   "metadata": {},
   "source": [
    "template2: iter 3 a0+a1*x2+a2*x1**2+a3*x1**2>=0"
   ]
  },
  {
   "cell_type": "markdown",
   "id": "40d169b6",
   "metadata": {},
   "source": [
    "1.893327 second 4 iteration"
   ]
  },
  {
   "cell_type": "markdown",
   "id": "dc39ab9f",
   "metadata": {},
   "source": [
    "0.152000413348+0.766286963162*x1+0.349522902493*x2-0.873505559422*x1^2"
   ]
  },
  {
   "cell_type": "code",
   "execution_count": 2,
   "id": "6b107794",
   "metadata": {},
   "outputs": [
    {
     "name": "stdout",
     "output_type": "stream",
     "text": [
      "sat\n"
     ]
    }
   ],
   "source": [
    "# cohencu\n",
    "#template a0+a1*x2+a2*x1**2+a3*x1**2>=0\n",
    "import time\n",
    "from z3 import *\n",
    "# cohencu >600s\n",
    "start = time.time()\n",
    "x1,x2 = Reals('x1 x2')\n",
    "xrange = And(x2>=0, x2<=10, x1>=0,x1<=10)\n",
    "\n",
    "inv =0.152000413348+0.766286963162*x1+0.349522902493*x2-0.873505559422*x1**2>=0\n",
    "\n",
    "x1_f=x1+1\n",
    "x2_f=x2+5.5*x1+5.5\n",
    "\n",
    "\n",
    "inv_f1=0.152000413348+0.766286963162*x1_f+0.349522902493*x2_f-0.873505559422*x1_f**2>=0\n",
    "\n",
    "\n",
    "loop_cond = x1-5<=0\n",
    "pre = And(x2==0,x1==0)\n",
    "post = And(2.5*x1**2+4*x1-x2<=0,x2-3.5*x1**2-3*x1<=0)\n",
    "\n",
    "cons1 = ForAll([x1,x2],Implies(And(pre, xrange), inv))\n",
    "cons2 = ForAll([x1,x2],Implies(And(inv,loop_cond, xrange),inv_f1))\n",
    "cons3 = ForAll([x1,x2],Implies(And(inv, Not(loop_cond),xrange),post))\n",
    "               \n",
    "s = Solver()\n",
    "s.add( cons1, cons2, cons3)\n",
    "print(s.check())"
   ]
  },
  {
   "cell_type": "markdown",
   "id": "73f5f074",
   "metadata": {},
   "source": [
    "check for Prajna05."
   ]
  },
  {
   "cell_type": "markdown",
   "id": "0e32b38a",
   "metadata": {},
   "source": [
    "0.347516 second iteration 1 0.0694954350368+15.8558380383*x1-0.207924493968*x2-10.0753104798*x1^2"
   ]
  },
  {
   "cell_type": "code",
   "execution_count": 19,
   "id": "ef6a4ded",
   "metadata": {},
   "outputs": [
    {
     "name": "stdout",
     "output_type": "stream",
     "text": [
      "sat\n"
     ]
    }
   ],
   "source": [
    "import time\n",
    "from z3 import *\n",
    "# cohencu\n",
    "#template a1*x2+a2+a3*x1+a4*x1**2>=0\n",
    "start = time.time()\n",
    "x1,x2,a1,a2,a3,a4 = Reals('x1 x2 a1 a2 a3 a4')\n",
    "xrange = And(x2>=0, x2<=10, x1>=0,x1<=10)\n",
    "\n",
    "\n",
    "inv =0.06949+15.8558*x1-0.2079*x2-10.0753*x1**2>=0\n",
    "\n",
    "inv_f1 =0.06949+15.8558*(x2+5.5*x1+5.5)-0.2079*(x1+1)-10.0753*(x1+1)**2>=0\n",
    "\n",
    "loop_cond = x1-5<=0\n",
    "pre = And(x2==0,x1==0)\n",
    "post = And(2.5*x1**2+4*x1-x2<=0,x2-3.5*x1**2-3*x1<=0)\n",
    "\n",
    "cons1 = ForAll([x2,x1],Implies(And(pre, xrange), inv))\n",
    "cons2 = ForAll([x2,x1],Implies(And(inv, loop_cond, xrange),inv_f1))\n",
    "cons3 = ForAll([x2,x1],Implies(And(inv, Not(loop_cond),xrange),post))\n",
    "               \n",
    "s = Solver()\n",
    "s.add( cons1, cons2, cons3)\n",
    "print(s.check())"
   ]
  },
  {
   "cell_type": "markdown",
   "id": "3edd6b4a",
   "metadata": {},
   "source": [
    "check penbim"
   ]
  },
  {
   "cell_type": "markdown",
   "id": "13f28d87",
   "metadata": {},
   "source": [
    "template 1"
   ]
  },
  {
   "cell_type": "code",
   "execution_count": 1,
   "id": "3359041b",
   "metadata": {},
   "outputs": [
    {
     "name": "stdout",
     "output_type": "stream",
     "text": [
      "unsat\n"
     ]
    }
   ],
   "source": [
    "import time\n",
    "from z3 import *\n",
    "# cohencu >600s\n",
    "start = time.time()\n",
    "x1,x2,a0,a1,a2,a3,a4,a5 = Reals('x1 x2 a0 a1 a2 a3 a4 a5')\n",
    "xrange = And(x2>=0, x2<=10, x1>=0,x1<=10)\n",
    "\n",
    "inv =0.1403+0.0005*x1+0.2388*x2+0.0005*x1**2+0.2388*x2**2+0.0001*x1*x2>=0\n",
    "\n",
    "inv_f1=0.1403+0.0005*(x1+1)+0.2388*(x2+5.5*x1+5.5)+0.0005*(x1+1)**2+0.2388*(x2+5.5*x1+5.5)**2+0.0001*(x1+1)*(x2+5.5*x1+5.5)>=0\n",
    "\n",
    "\n",
    "loop_cond = x1-5<=0\n",
    "pre = And(x2==0,x1==0)\n",
    "post = And(2.5*x1**2+4*x1-x2<=0,x2-3.5*x1**2-3*x1<=0)\n",
    "\n",
    "cons1 = ForAll([x1,x2],Implies(And(pre, xrange), inv))\n",
    "cons2 = ForAll([x1,x2],Implies(And(inv,loop_cond, xrange),inv_f1))\n",
    "cons3 = ForAll([x1,x2],Implies(And(inv, Not(loop_cond),xrange),post))\n",
    "               \n",
    "s = Solver()\n",
    "s.add( cons1, cons2, cons3)\n",
    "print(s.check())"
   ]
  },
  {
   "cell_type": "markdown",
   "id": "7979c54c",
   "metadata": {},
   "source": [
    "template2"
   ]
  },
  {
   "cell_type": "code",
   "execution_count": 2,
   "id": "24fa815a",
   "metadata": {},
   "outputs": [
    {
     "name": "stdout",
     "output_type": "stream",
     "text": [
      "unsat\n"
     ]
    }
   ],
   "source": [
    "import time\n",
    "from z3 import *\n",
    "# cohencu\n",
    "#template a1*x2+a2+a3*x1+a4*x1**2>=0\n",
    "start = time.time()\n",
    "x1,x2,a1,a2,a3,a4 = Reals('x1 x2 a1 a2 a3 a4')\n",
    "xrange = And(x2>=0, x2<=10, x1>=0,x1<=10)\n",
    "\n",
    "\n",
    "inv =0.1368+0.0022*x1+0.2604*x2+0.0022*x1**2>=0\n",
    "\n",
    "inv_f1 =0.1368+0.0022*(x2+5.5*x1+5.5)+0.2604*(x1+1)+0.0022*(x1+1)**2>=0\n",
    "\n",
    "loop_cond = x1-5<=0\n",
    "pre = And(x2==0,x1==0)\n",
    "post = And(2.5*x1**2+4*x1-x2<=0,x2-3.5*x1**2-3*x1<=0)\n",
    "\n",
    "cons1 = ForAll([x2,x1],Implies(And(pre, xrange), inv))\n",
    "cons2 = ForAll([x2,x1],Implies(And(inv, loop_cond, xrange),inv_f1))\n",
    "cons3 = ForAll([x2,x1],Implies(And(inv, Not(loop_cond),xrange),post))\n",
    "               \n",
    "s = Solver()\n",
    "s.add( cons1, cons2, cons3)\n",
    "print(s.check())"
   ]
  },
  {
   "cell_type": "markdown",
   "id": "97c40e53",
   "metadata": {},
   "source": [
    "# unicycle"
   ]
  },
  {
   "cell_type": "markdown",
   "id": "89f8bcfa",
   "metadata": {},
   "source": [
    "Mohamed Amin Ben Sassi and Antoine Girard. 2012. Controller synthesis for robust invariance of polynomial\n",
    "dynamical systems using linear programming. Systems & control letters 61, 4 (2012), 506–512."
   ]
  },
  {
   "cell_type": "markdown",
   "id": "193f490e",
   "metadata": {},
   "source": [
    "our: 0.477233 s iter 1 5.12769189762+0.442838284952*x1+2.76011236748*x2-1.14545389608*x1^2-0.742613394048*x2^2-0.162616548379*x1*x2"
   ]
  },
  {
   "cell_type": "code",
   "execution_count": 1,
   "id": "968ea259",
   "metadata": {},
   "outputs": [
    {
     "name": "stdout",
     "output_type": "stream",
     "text": [
      "sat\n",
      "[]\n",
      "Consume Time: 0.06601524 s\n",
      "\n"
     ]
    }
   ],
   "source": [
    "from z3 import *\n",
    "import time\n",
    "start = time.time()\n",
    "x1,x2,a1,a2,a3,a4= Reals('x1 x2 a1 a2 a3 a4')\n",
    "xvars = [x1,x2]\n",
    "\n",
    "pre = x1**2+(x2-1)**2-1<= 0\n",
    "post = x1**2 + (x2-1)**2 - 4<=0\n",
    "\n",
    "inv =5.12769189762+0.442838284952*x1+2.76011236748*x2-1.14545389608*x1**2-0.742613394048*x2**2-0.162616548379*x1*x2>=0\n",
    "\n",
    "w = 1.0178 + 1.8721 * x1 - 0.0253 * x2\n",
    "x1_f = x1 + 0.01*(1-x2*w)\n",
    "x2_f = x2 + 0.01*x1*w\n",
    "inv_f1 =5.12769189762+0.442838284952*x1_f+2.76011236748*x2_f-1.14545389608*x1_f**2-0.742613394048*x2_f**2-0.162616548379*x1_f*x2_f>=0\n",
    "loop_cond=1>0\n",
    "\n",
    "\n",
    "cons1 = ForAll(xvars,Implies(pre, inv))\n",
    "cons2 = ForAll(xvars,Implies(And(inv, loop_cond), inv_f1))\n",
    "cons3 = ForAll(xvars,Implies(And(inv, Not(loop_cond)),post))\n",
    "               \n",
    "s = Solver()\n",
    "s.add( cons1, cons2, cons3)\n",
    "print(s.check())\n",
    "print(s.model())\n",
    "end = time.time()\n",
    "print(\"Consume Time: %.8f s\\n\"%((end-start)))"
   ]
  },
  {
   "cell_type": "code",
   "execution_count": null,
   "id": "23e60f7a",
   "metadata": {},
   "outputs": [],
   "source": []
  },
  {
   "cell_type": "code",
   "execution_count": 6,
   "id": "59cb2c48",
   "metadata": {},
   "outputs": [
    {
     "name": "stdout",
     "output_type": "stream",
     "text": [
      "sat\n",
      "[]\n",
      "Consume Time: 0.01314449 s\n",
      "\n"
     ]
    }
   ],
   "source": [
    "from z3 import *\n",
    "import time\n",
    "start = time.time()\n",
    "x1,x2= Reals('x1 x2')\n",
    "xvars=[x1,x2]\n",
    "pre = x1**2+(x2-1)**2-1<= 0\n",
    "post = x1**2 + (x2-1)**2 - 4<=0\n",
    "\n",
    "inv =0.649265335273+0.565498801521*x1**2+0.834015827424*x2**2+0.00253150072618*x1*x2>=0\n",
    "\n",
    "w = 1.0178 + 1.8721 * x1 - 0.0253 * x2\n",
    "x1_f = x1 + 0.01*(1-x2*w)\n",
    "x2_f = x2 + 0.01*x1*w\n",
    "inv_f1 =0.649265335273+0.565498801521*x1_f**2+0.834015827424*x2_f**2+0.00253150072618*x1_f*x2_f>=0\n",
    "loop_cond=1>0\n",
    "\n",
    "\n",
    "cons1 = ForAll(xvars,Implies(pre, inv))\n",
    "cons2 = ForAll(xvars,Implies(And(inv, loop_cond), inv_f1))\n",
    "cons3 = ForAll(xvars,Implies(And(inv, Not(loop_cond)),post))\n",
    "               \n",
    "s = Solver()\n",
    "s.add( cons1, cons2, cons3)\n",
    "print(s.check())\n",
    "print(s.model())\n",
    "end = time.time()\n",
    "print(\"Consume Time: %.8f s\\n\"%((end-start)))"
   ]
  },
  {
   "cell_type": "markdown",
   "id": "37f1d580",
   "metadata": {},
   "source": [
    "template2: inv=a0+a1*x1*x2+a2*x2^2+a3*x1^2"
   ]
  },
  {
   "cell_type": "markdown",
   "id": "823f4f39",
   "metadata": {},
   "source": [
    "1.479543 second iter 4 "
   ]
  },
  {
   "cell_type": "markdown",
   "id": "a64dc86f",
   "metadata": {},
   "source": [
    "2.88026566586+0.0122370333583*x1^2+0.012177439725*x2^2"
   ]
  },
  {
   "cell_type": "code",
   "execution_count": 1,
   "id": "3d4a9063",
   "metadata": {},
   "outputs": [
    {
     "name": "stdout",
     "output_type": "stream",
     "text": [
      "sat\n",
      "[]\n",
      "Consume Time: 0.01567030 s\n",
      "\n"
     ]
    }
   ],
   "source": [
    "from z3 import *\n",
    "import time\n",
    "start = time.time()\n",
    "x1,x2= Reals('x1 x2')\n",
    "xvars=[x1,x2]\n",
    "pre = x1**2+(x2-1)**2-1<= 0\n",
    "post = x1**2 + (x2-1)**2 - 4<=0\n",
    "\n",
    "inv =2.88026566586+0.0122370333583*x1**2+0.012177439725*x2**2>=0\n",
    "\n",
    "w = 1.0178 + 1.8721 * x1 - 0.0253 * x2\n",
    "x1_f = x1 + 0.01*(1-x2*w)\n",
    "x2_f = x2 + 0.01*x1*w\n",
    "inv_f1 =2.88026566586+0.0122370333583*x1_f**2+0.012177439725*x2_f**2>=0\n",
    "loop_cond=1>0\n",
    "\n",
    "\n",
    "cons1 = ForAll(xvars,Implies(pre, inv))\n",
    "cons2 = ForAll(xvars,Implies(And(inv, loop_cond), inv_f1))\n",
    "cons3 = ForAll(xvars,Implies(And(inv, Not(loop_cond)),post))\n",
    "               \n",
    "s = Solver()\n",
    "s.add( cons1, cons2, cons3)\n",
    "print(s.check())\n",
    "print(s.model())\n",
    "end = time.time()\n",
    "print(\"Consume Time: %.8f s\\n\"%((end-start)))"
   ]
  },
  {
   "cell_type": "markdown",
   "id": "103a3918",
   "metadata": {},
   "source": [
    "check for Prajna05."
   ]
  },
  {
   "cell_type": "markdown",
   "id": "26ae7075",
   "metadata": {},
   "source": [
    "124.193495 s iteration 20 inv=-0.0284609209162*x1^2 Failed"
   ]
  },
  {
   "cell_type": "markdown",
   "id": "b7741cde",
   "metadata": {},
   "source": [
    "check for penbmi"
   ]
  },
  {
   "cell_type": "markdown",
   "id": "e767087c",
   "metadata": {},
   "source": [
    "template 1"
   ]
  },
  {
   "cell_type": "code",
   "execution_count": 1,
   "id": "e141d51f",
   "metadata": {},
   "outputs": [
    {
     "name": "stdout",
     "output_type": "stream",
     "text": [
      "sat\n"
     ]
    }
   ],
   "source": [
    "\n",
    "from z3 import *\n",
    "import time\n",
    "start = time.time()\n",
    "x1,x2,a1,a2,a3,a4= Reals('x1 x2 a1 a2 a3 a4')\n",
    "xvars = [x1,x2]\n",
    "\n",
    "pre = x1**2+(x2-1)**2-1<= 0\n",
    "post = x1**2 + (x2-1)**2 - 4<=0\n",
    "\n",
    "inv =0.6218+0.1061*x1+0.0821*x2+0.1061*x1**2+0.0821*x2**2+0.0065*x1*x2>=0\n",
    "\n",
    "w = 1.0178 + 1.8721 * x1 - 0.0253 * x2\n",
    "x1_f = x1 + 0.01*(1-x2*w)\n",
    "x2_f = x2 + 0.01*x1*w\n",
    "inv_f1 = 0.6218+0.1061*x1_f+0.0821*x2_f+0.1061*x1_f**2+0.0821*x2_f**2+0.0065*x1_f*x2_f>=0\n",
    "loop_cond=1>0\n",
    "\n",
    "\n",
    "cons1 = ForAll(xvars,Implies(pre, inv))\n",
    "cons2 = ForAll(xvars,Implies(And(inv, loop_cond), inv_f1))\n",
    "cons3 = ForAll(xvars,Implies(And(inv, Not(loop_cond)),post))\n",
    "               \n",
    "s = Solver()\n",
    "s.add( cons1, cons2, cons3)\n",
    "print(s.check())\n"
   ]
  },
  {
   "cell_type": "markdown",
   "id": "458fcc08",
   "metadata": {},
   "source": [
    "template 2"
   ]
  },
  {
   "cell_type": "code",
   "execution_count": 4,
   "id": "08f70a62",
   "metadata": {},
   "outputs": [
    {
     "name": "stdout",
     "output_type": "stream",
     "text": [
      "unsat\n"
     ]
    }
   ],
   "source": [
    "# unicycle timeout\n",
    "from z3 import *\n",
    "import time\n",
    "start = time.time()\n",
    "x1,x2= Reals('x1 x2')\n",
    "xvars=[x1,x2]\n",
    "pre = x1**2+(x2-1)**2-1<= 0\n",
    "post = x1**2 + (x2-1)**2 - 4<=0\n",
    "\n",
    "inv =0.4824-0.1475*x1**2-0.1467*x2**2-0.0014*x1*x2>=0\n",
    "\n",
    "w = 1.0178 + 1.8721 * x1 - 0.0253 * x2\n",
    "x1_f = x1 + 0.01*(1-x2*w)\n",
    "x2_f = x2 + 0.01*x1*w\n",
    "inv_f1 =0.4824-0.1475*x1_f**2-0.1467*x2_f**2-0.0014*x1_f*x2_f>=0\n",
    "loop_cond=1>0\n",
    "\n",
    "\n",
    "cons1 = ForAll(xvars,Implies(pre, inv))\n",
    "cons2 = ForAll(xvars,Implies(And(inv, loop_cond), inv_f1))\n",
    "cons3 = ForAll(xvars,Implies(And(inv, Not(loop_cond)),post))\n",
    "               \n",
    "s = Solver()\n",
    "s.add( cons1, cons2, cons3)\n",
    "print(s.check())\n"
   ]
  },
  {
   "cell_type": "code",
   "execution_count": null,
   "id": "a71c930a",
   "metadata": {},
   "outputs": [],
   "source": []
  },
  {
   "cell_type": "markdown",
   "id": "1f648b88",
   "metadata": {},
   "source": [
    "# CIRCUIT"
   ]
  },
  {
   "cell_type": "markdown",
   "id": "548c0d00",
   "metadata": {},
   "source": [
    "[3] Mahathi Anand, Vishnu Murali, Ashutosh Trivedi, and Majid Zamani. 2021. Safety Verification of Dynamical\n",
    "Systems via k-Inductive Barrier Certificates. In 2021 60th IEEE Conference on Decision and Control. IEEE, 1314–1320.\n",
    "https://doi.org/10.1109/CDC45484.2021.9682889"
   ]
  },
  {
   "cell_type": "markdown",
   "id": "2b0d5261",
   "metadata": {},
   "source": [
    "0.170706 second iter 0 inv=9.19404243977+3.50562875136*x1+3.75616204762*x2-1.11709759664*x1**2-2.36128330376*x2**2+1.0024864632*x1*x2"
   ]
  },
  {
   "cell_type": "code",
   "execution_count": 1,
   "id": "b619d660",
   "metadata": {},
   "outputs": [
    {
     "name": "stdout",
     "output_type": "stream",
     "text": [
      "sat\n",
      "[]\n",
      "Consume Time: 0.03409338 s\n",
      "\n"
     ]
    }
   ],
   "source": [
    "# circuit  time out\n",
    "# with x and a unbounded and inv = a0+a1*x1+a2*x2+a3*x1**2+a4*x2**2+a5*x1*x2<=0\n",
    "from z3 import *\n",
    "import time\n",
    "start = time.time()\n",
    "x1,x2,a0,a1,a2,a3,a4,a5 = Reals('x1 x2 a0 a1 a2 a3 a4 a5')\n",
    "xvars = [x1,x2]\n",
    "\n",
    "loop_cond = -1<=0\n",
    "\n",
    "pre = (x1-0.5)**2+(x2-0.5)**2-0.25**2<= 0\n",
    "post =x2**2 - 4<=0\n",
    "\n",
    "inv = 9.19404243977+3.50562875136*x1+3.75616204762*x2-1.11709759664*x1**2-2.36128330376*x2**2+1.0024864632*x1*x2>=0\n",
    "guard1 = -1<=0\n",
    "\n",
    "x1_f=8/9*x1-1/18*x2\n",
    "x2_f=0.1*x1+0.9*x2\n",
    "\n",
    "inv_f1 =9.19404243977+3.50562875136*x1_f+3.75616204762*x2_f-1.11709759664*x1_f**2-2.36128330376*x2_f**2+1.0024864632*x1_f*x2_f>=0\n",
    "\n",
    "\n",
    "\n",
    "cons1 = ForAll(xvars,Implies(And(pre), inv))\n",
    "cons2 = ForAll(xvars,Implies(And(inv, guard1, loop_cond), inv_f1))\n",
    "cons3 = ForAll(xvars,Implies(And(inv, Not(loop_cond)),post))\n",
    "               \n",
    "s = Solver()\n",
    "s.add( cons1, cons2, cons3)\n",
    "print(s.check())\n",
    "print(s.model())\n",
    "end = time.time()\n",
    "print(\"Consume Time: %.8f s\\n\"%((end-start)))"
   ]
  },
  {
   "cell_type": "markdown",
   "id": "126314b6",
   "metadata": {},
   "source": [
    "with template:inv=a0+a1*x1^2 + a2*x2^2 +a3*x1*x2;\n",
    "0.472621s"
   ]
  },
  {
   "cell_type": "markdown",
   "id": "99ace554",
   "metadata": {},
   "source": [
    "iter 1 12.6135925791-1.43789829153*x1^2-0.688049753453*x2^2+1.07520409346*x1*x2"
   ]
  },
  {
   "cell_type": "code",
   "execution_count": 1,
   "id": "4b815292",
   "metadata": {},
   "outputs": [
    {
     "name": "stdout",
     "output_type": "stream",
     "text": [
      "sat\n",
      "[]\n",
      "Consume Time: 0.03645301 s\n",
      "\n"
     ]
    }
   ],
   "source": [
    "# circuit  time out\n",
    "# with x and a unbounded and inv = a0+a1*x1+a2*x2+a3*x1**2+a4*x2**2+a5*x1*x2<=0\n",
    "from z3 import *\n",
    "import time\n",
    "start = time.time()\n",
    "x1,x2,a0,a1,a2,a3,a4,a5 = Reals('x1 x2 a0 a1 a2 a3 a4 a5')\n",
    "xvars = [x1,x2]\n",
    "\n",
    "loop_cond = -1<=0\n",
    "\n",
    "pre = (x1-0.5)**2+(x2-0.5)**2-0.25**2<= 0\n",
    "post =x2**2 - 4<=0\n",
    "\n",
    "inv =12.6135925791-1.43789829153*x1**2-0.688049753453*x2**2+1.07520409346*x1*x2>=0\n",
    "guard1 = -1<=0\n",
    "\n",
    "\n",
    "x1_f=8/9*x1-1/18*x2\n",
    "x2_f=0.1*x1+0.9*x2\n",
    "\n",
    "inv_f1 =12.6135925791-1.43789829153*x1_f**2-0.688049753453*x2_f**2+1.07520409346*x1_f*x2_f>=0\n",
    "\n",
    "\n",
    "\n",
    "cons1 = ForAll(xvars,Implies(And(pre), inv))\n",
    "cons2 = ForAll(xvars,Implies(And(inv, guard1, loop_cond), inv_f1))\n",
    "cons3 = ForAll(xvars,Implies(And(inv, Not(loop_cond)),post))\n",
    "               \n",
    "s = Solver()\n",
    "s.add( cons1, cons2, cons3)\n",
    "print(s.check())\n",
    "print(s.model())\n",
    "end = time.time()\n",
    "print(\"Consume Time: %.8f s\\n\"%((end-start)))"
   ]
  },
  {
   "cell_type": "markdown",
   "id": "ab03b4d4",
   "metadata": {},
   "source": [
    "check for Prajna05."
   ]
  },
  {
   "cell_type": "markdown",
   "id": "9195a49c",
   "metadata": {},
   "source": [
    "132.482989s iteration 20 inv=0 Failed"
   ]
  },
  {
   "cell_type": "markdown",
   "id": "5fd116dc",
   "metadata": {},
   "source": [
    "check penbmi"
   ]
  },
  {
   "cell_type": "markdown",
   "id": "f56ac495",
   "metadata": {},
   "source": [
    "tempalte 1"
   ]
  },
  {
   "cell_type": "code",
   "execution_count": 1,
   "id": "11fff8fa",
   "metadata": {},
   "outputs": [
    {
     "name": "stdout",
     "output_type": "stream",
     "text": [
      "unsat\n"
     ]
    }
   ],
   "source": [
    "# circuit  time out\n",
    "# with x and a unbounded and inv = a0+a1*x1+a2*x2+a3*x1**2+a4*x2**2+a5*x1*x2<=0\n",
    "from z3 import *\n",
    "import time\n",
    "start = time.time()\n",
    "x1,x2,a0,a1,a2,a3,a4,a5 = Reals('x1 x2 a0 a1 a2 a3 a4 a5')\n",
    "xvars = [x1,x2]\n",
    "\n",
    "loop_cond = -1<=0\n",
    "\n",
    "pre = (x1-0.5)**2+(x2-0.5)**2-0.25**2<= 0\n",
    "post =x2**2 - 4<=0\n",
    "\n",
    "inv =  0.6404-0.4709*x1-0.4732*x2-0.4709*x1**2-0.4732*x2**2-0.0001*x1*x2>=0\n",
    "guard1 = -1<=0\n",
    "\n",
    "\n",
    "\n",
    "inv_f1 =0.6404-0.4709*(8/9*x1-1/18*x2)-0.4732*(0.1*x1+0.9*x2)-0.4709*(8/9*x1-1/18*x2)**2-0.4732*(0.1*x1+0.9*x2)**2-0.0001*(8/9*x1-1/18*x2)*(0.1*x1+0.9*x2)>=0\n",
    "\n",
    "\n",
    "\n",
    "cons1 = ForAll(xvars,Implies(And(pre), inv))\n",
    "cons2 = ForAll(xvars,Implies(And(inv, guard1, loop_cond), inv_f1))\n",
    "cons3 = ForAll(xvars,Implies(And(inv, Not(loop_cond)),post))\n",
    "               \n",
    "s = Solver()\n",
    "s.add( cons1, cons2, cons3)\n",
    "print(s.check())"
   ]
  },
  {
   "cell_type": "markdown",
   "id": "8a2f7c05",
   "metadata": {},
   "source": [
    "template 2"
   ]
  },
  {
   "cell_type": "code",
   "execution_count": 5,
   "id": "ea8007c2",
   "metadata": {},
   "outputs": [
    {
     "name": "stdout",
     "output_type": "stream",
     "text": [
      "unsat\n"
     ]
    }
   ],
   "source": [
    "# circuit  time out\n",
    "# with x and a unbounded and inv = a0+a1*x1+a2*x2+a3*x1**2+a4*x2**2+a5*x1*x2<=0\n",
    "from z3 import *\n",
    "import time\n",
    "start = time.time()\n",
    "x1,x2,a0,a1,a2,a3,a4,a5 = Reals('x1 x2 a0 a1 a2 a3 a4 a5')\n",
    "xvars = [x1,x2]\n",
    "\n",
    "loop_cond = -1<=0\n",
    "\n",
    "pre = (x1-0.5)**2+(x2-0.5)**2-0.25**2<= 0\n",
    "post =x2**2 - 4<=0\n",
    "\n",
    "inv =0.8343-0.6649*x1**2-0.6692*x2**2-0.6692*x1*x2>=0\n",
    "guard1 = -1<=0\n",
    "\n",
    "\n",
    "inv_f1 =0.8343-0.6649*(8/9*x1-1/18*x2)**2-0.6692*(0.1*x1+0.9*x2)**2-0.6692*(8/9*x1-1/18*x2)*(0.1*x1+0.9*x2)>=0\n",
    "\n",
    "\n",
    "\n",
    "cons1 = ForAll(xvars,Implies(And(pre), inv))\n",
    "cons2 = ForAll(xvars,Implies(And(inv, guard1, loop_cond), inv_f1))\n",
    "cons3 = ForAll(xvars,Implies(And(inv, Not(loop_cond)),post))\n",
    "               \n",
    "s = Solver()\n",
    "s.add( cons1, cons2, cons3)\n",
    "print(s.check())"
   ]
  },
  {
   "cell_type": "markdown",
   "id": "9f4fcccc",
   "metadata": {},
   "source": [
    "# deter"
   ]
  },
  {
   "cell_type": "markdown",
   "id": "28e24004",
   "metadata": {},
   "source": [
    "0.809417 second 2 iteration solution is found. lambda is -0.0000000031 "
   ]
  },
  {
   "cell_type": "markdown",
   "id": "be95825d",
   "metadata": {},
   "source": [
    "-2.60+15.21*x1+2.63*x2-3.1*x1**2-0.91*x2**2-0.58*x1*x2"
   ]
  },
  {
   "cell_type": "code",
   "execution_count": 1,
   "id": "c2dd602a",
   "metadata": {},
   "outputs": [
    {
     "name": "stdout",
     "output_type": "stream",
     "text": [
      "sat\n",
      "[]\n",
      "Consume Time: 617.31172156 s\n",
      "\n"
     ]
    }
   ],
   "source": [
    "# with template  inv = a0+a1*x1+a2*x2+a3*x1**2+a4*x2**2+a5*x1*x2\n",
    "from z3 import *\n",
    "import time\n",
    "start = time.time()\n",
    "x1,x2,a1,a2,a3 = Reals('x1 x2 a1 a2 a3')\n",
    "xvars = [x1,x2]\n",
    "xrange = And(x1>=-10, x1<=10, x2>=-10,x2<=10)\n",
    "\n",
    "loop_cond =4-(x1-2)**2 -(x2-4)**2>=0\n",
    "\n",
    "pre =1-(x1-2)**2 -(x2-4)**2>=0\n",
    "post =x2<=4\n",
    "inv = -2.60+15.21*x1+2.63*x2-3.1*x1**2-0.91*x2**2-0.58*x1*x2>=0\n",
    "\n",
    "x1_f=x1 + 0.1*x2\n",
    "x2_f=x2+(x2*(1-x1**2)-x1)*0.1\n",
    "\n",
    "inv_f1 = -2.60+15.21*x1_f+2.67*x2_f-3.1*x1_f**2-0.91*x2_f**2-0.58*x1_f*x2_f>=0\n",
    "\n",
    "\n",
    "\n",
    "cons1 = ForAll(xvars,Implies(And(pre, xrange), inv))\n",
    "cons2 = ForAll(xvars,Implies(And(inv, loop_cond, xrange), inv_f1))\n",
    "cons3 = ForAll(xvars,Implies(And(inv, Not(loop_cond),xrange),post))\n",
    "               \n",
    "s = Solver()\n",
    "s.add( cons1, cons2, cons3)\n",
    "print(s.check())\n",
    "print(s.model())\n",
    "end = time.time()\n",
    "print(\"Consume Time: %.8f s\\n\"%((end-start)))"
   ]
  },
  {
   "cell_type": "markdown",
   "id": "e9752224",
   "metadata": {},
   "source": [
    "0.486349second 1 iteration solution is found. lambda is -0.0000000054 \n"
   ]
  },
  {
   "cell_type": "code",
   "execution_count": null,
   "id": "44c7469d",
   "metadata": {},
   "outputs": [],
   "source": [
    "# with template  inv = a0+a1*x1+a2*x2+a3*x1**2+a4*x2**2+a5*x1*x2\n",
    "# both a and x are bounded,which is a much easier task to do.\n",
    "from z3 import *\n",
    "import time\n",
    "start = time.time()\n",
    "x1,x2,a1,a2,a3 = Reals('x1 x2 a1 a2 a3')\n",
    "xvars = [x1,x2]\n",
    "xrange = And(x1>=-10, x1<=10, x2>=-10,x2<=10)\n",
    "\n",
    "loop_cond =4-(x1-2)**2 -(x2-4)**2>=0\n",
    "\n",
    "pre =1-(x1-2)**2 -(x2-4)**2>=0\n",
    "post =x2<=4\n",
    "inv =-5.027+15.130*x1+2.796*x2-2.992*x1**2-0.834*x2**2-0.619*x1*x2>=0\n",
    "\n",
    "x1_f=x1 + 0.1*x2\n",
    "x2_f=x2+(x2*(1-x1**2)-x1)*0.1\n",
    "\n",
    "inv_f1 = -5.027+15.130*x1_f+2.796*x2_f-2.992*x1_f**2-0.834*x2_f**2-0.619*x1_f*x2_f>=0\n",
    "\n",
    "\n",
    "\n",
    "cons1 = ForAll(xvars,Implies(And(pre, xrange), inv))\n",
    "cons2 = ForAll(xvars,Implies(And(inv, loop_cond, xrange), inv_f1))\n",
    "cons3 = ForAll(xvars,Implies(And(inv, Not(loop_cond),xrange),post))\n",
    "               \n",
    "s = Solver()\n",
    "s.add( cons1, cons2, cons3)\n",
    "print(s.check())\n",
    "print(s.model())\n",
    "end = time.time()\n",
    "print(\"Consume Time: %.8f s\\n\"%((end-start)))"
   ]
  },
  {
   "cell_type": "markdown",
   "id": "d6b7e569",
   "metadata": {},
   "source": [
    "5.80539133769+12.1802782495*x1-3.02763315703*x1^2-0.719001636144*x2^2"
   ]
  },
  {
   "cell_type": "code",
   "execution_count": 1,
   "id": "071d77f1",
   "metadata": {},
   "outputs": [
    {
     "name": "stdout",
     "output_type": "stream",
     "text": [
      "sat\n",
      "[]\n",
      "Consume Time: 0.01478171 s\n",
      "\n"
     ]
    }
   ],
   "source": [
    "# with template  inv=a0+a1*x2^2+a2*x1^2+a3*x1;\n",
    "from z3 import *\n",
    "import time\n",
    "start = time.time()\n",
    "x1,x2,a1,a2,a3 = Reals('x1 x2 a1 a2 a3')\n",
    "xvars = [x1,x2]\n",
    "xrange = And(x1>=-10, x1<=10, x2>=-10,x2<=10)\n",
    "\n",
    "loop_cond =4-(x1-2)**2 -(x2-4)**2>=0\n",
    "\n",
    "pre =1-(x1-2)**2 -(x2-4)**2>=0\n",
    "post =x2<=4\n",
    "inv =5.805+12.180*x1-3.027*x1**2-0.719*x2**2>=0\n",
    "\n",
    "x1_f=x1 + 0.1*x2\n",
    "x2_f=x2+(x2*(1-x1**2)-x1)*0.1\n",
    "\n",
    "inv_f1 = 5.805+12.180*x1-3.027*x1**2-0.719*x2**2>=0\n",
    "\n",
    "\n",
    "\n",
    "cons1 = ForAll(xvars,Implies(And(pre, xrange), inv))\n",
    "cons2 = ForAll(xvars,Implies(And(inv, loop_cond, xrange), inv_f1))\n",
    "cons3 = ForAll(xvars,Implies(And(inv, Not(loop_cond),xrange),post))\n",
    "               \n",
    "s = Solver()\n",
    "s.add( cons1, cons2, cons3)\n",
    "print(s.check())\n",
    "print(s.model())\n",
    "end = time.time()\n",
    "print(\"Consume Time: %.8f s\\n\"%((end-start)))"
   ]
  },
  {
   "cell_type": "markdown",
   "id": "91b63f45",
   "metadata": {},
   "source": [
    "# bound"
   ]
  },
  {
   "cell_type": "markdown",
   "id": "a7a55752",
   "metadata": {},
   "source": [
    " template 1: 0.523509 1 iteration  lambda is -0.0000000048 \n",
    "inv= 1.59099288479+2.6923145228*x1-0.298000134503*x2-3.17767676094*x1^2-1.54203595665*x2^2-0.478476702779*x1*x2"
   ]
  },
  {
   "cell_type": "code",
   "execution_count": 1,
   "id": "b268d6bb",
   "metadata": {},
   "outputs": [
    {
     "name": "stdout",
     "output_type": "stream",
     "text": [
      "sat\n",
      "[]\n",
      "Consume Time: 0.04798150 s\n",
      "\n"
     ]
    }
   ],
   "source": [
    "# with template  a0+a1*x1+a2*x2+a3*x1**2+a4*x2**2+a5*x1*x2\n",
    "from z3 import *\n",
    "import time\n",
    "start = time.time()\n",
    "x1,x2,a1,a2,a3 = Reals('x1 x2 a1 a2 a3')\n",
    "xvars = [x1,x2]\n",
    "xrange = And(x1>=-5, x1<=5, x2>=-5,x2<=5)\n",
    "\n",
    "loop_cond = -x1**2 -x2**2 + 2>=0\n",
    "\n",
    "pre1 =(x1-0.9)*(1.1-x1)>= 0\n",
    "pre2=x2*(0.2-x2)>=0\n",
    "post =x2+2*x1-2<=0\n",
    "inv =1.59099288479+2.6923145228*x1-0.298000134503*x2-3.17767676094*x1**2-1.54203595665*x2**2-0.478476702779*x1*x2>=0\n",
    "\n",
    "x1_f=0.5*x1**2+ 0.4*x2**2\n",
    "x2_f=-0.6*x1**2+0.3*x2**2\n",
    "\n",
    "inv_f1 =1.59099288479+2.6923145228*x1_f-0.298000134503*x2_f-3.17767676094*x1_f**2-1.54203595665*x2_f**2-0.478476702779*x1_f*x2_f>=0\n",
    "\n",
    "\n",
    "\n",
    "cons1 = ForAll(xvars,Implies(And(pre1,pre2, xrange), inv))\n",
    "cons2 = ForAll(xvars,Implies(And(inv, loop_cond, xrange), inv_f1))\n",
    "cons3 = ForAll(xvars,Implies(And(inv, Not(loop_cond),xrange),post))\n",
    "               \n",
    "s = Solver()\n",
    "s.add( cons1, cons2, cons3)\n",
    "print(s.check())\n",
    "print(s.model())\n",
    "end = time.time()\n",
    "print(\"Consume Time: %.8f s\\n\"%((end-start)))"
   ]
  },
  {
   "cell_type": "markdown",
   "id": "86291239",
   "metadata": {},
   "source": [
    "template2: 0.497260 1 iteration. lambda is -0.0000000023 inv=3.80654479465-2.67319350479*x1^2-2.24929502806*x2^2"
   ]
  },
  {
   "cell_type": "code",
   "execution_count": 1,
   "id": "b2acfefa",
   "metadata": {},
   "outputs": [
    {
     "name": "stdout",
     "output_type": "stream",
     "text": [
      "sat\n",
      "[]\n",
      "Consume Time: 0.00880051 s\n",
      "\n"
     ]
    }
   ],
   "source": [
    "# deter time out\n",
    "# with template2 inv =  a1*x1**2 + a2*x2**2 + a3\n",
    "# x is bounded,\n",
    "from z3 import *\n",
    "import time\n",
    "start = time.time()\n",
    "x1,x2,a0,a1,a2,a3,a4,a5 = Reals('x1 x2 a0 a1 a2 a3 a4 a5')\n",
    "xvars = [x1,x2]\n",
    "xrange = And(x1>=-5, x1<=5, x2>=-5,x2<=5)\n",
    "\n",
    "loop_cond = -x1**2 -x2**2 + 2>=0\n",
    "\n",
    "pre1 =(x1-0.9)*(1.1-x1)>= 0\n",
    "pre2=x2*(0.2-x2)>=0\n",
    "post =x2+2*x1-2<=0\n",
    "inv =3.80654479465-2.67319350479*x1**2-2.24929502806*x2**2>=0\n",
    "\n",
    "x1_f=0.5*x1**2+ 0.4*x2**2\n",
    "x2_f=-0.6*x1**2+0.3*x2**2\n",
    "\n",
    "inv_f1 =3.80654479465-2.67319350479*x1**2-2.24929502806*x2**2>=0\n",
    "\n",
    "\n",
    "\n",
    "cons1 = ForAll(xvars,Implies(And(pre1,pre2, xrange), inv))\n",
    "cons2 = ForAll(xvars,Implies(And(inv, loop_cond, xrange), inv_f1))\n",
    "cons3 = ForAll(xvars,Implies(And(inv, Not(loop_cond),xrange),post))\n",
    "               \n",
    "s = Solver()\n",
    "s.add( cons1, cons2, cons3)\n",
    "print(s.check())\n",
    "print(s.model())\n",
    "end = time.time()\n",
    "print(\"Consume Time: %.8f s\\n\"%((end-start)))"
   ]
  },
  {
   "cell_type": "markdown",
   "id": "f6089383",
   "metadata": {},
   "source": [
    "# bound2 "
   ]
  },
  {
   "cell_type": "markdown",
   "id": "6a5ee558",
   "metadata": {},
   "source": [
    "template1\n",
    "time :0.514736\n",
    "1 iteration solution is found. lambda is -0.0000000013 \n",
    "0.726283609449+1.19209105572*x1-0.0162558817155*x2-2.51577222767*x1^2-1.64380342442*x2^2+1.02159704259*x1*x2"
   ]
  },
  {
   "cell_type": "code",
   "execution_count": 2,
   "id": "d85a3a8d",
   "metadata": {},
   "outputs": [
    {
     "name": "stdout",
     "output_type": "stream",
     "text": [
      "sat\n",
      "[]\n",
      "Consume Time: 0.02427649 s\n",
      "\n"
     ]
    }
   ],
   "source": [
    "# template with template 1\n",
    "# a0+a1*x1+a2*x2+a3*x1**2+a4*x2**2+a5*x1*x2\n",
    "from z3 import *\n",
    "import time\n",
    "start = time.time()\n",
    "x1,x2,a1,a2,a3 = Reals('x1 x2 a1 a2 a3')\n",
    "xvars = [x1,x2]\n",
    "xrange = And(x1>=-5, x1<=5, x2>=-5,x2<=5)\n",
    "\n",
    "loop_cond = -x1**2 -x2**2 +1>=0\n",
    "\n",
    "pre1 =(x1-0.5)*(0.7-x1)>= 0\n",
    "pre2=(x2-0.5)*(0.7-x2)>= 0\n",
    "post =x1**2+x2**2-0.36<=0\n",
    "inv =0.7262+1.1920*x1-0.0162*x2-2.5157*x1**2-1.6438*x2**2+1.0215*x1*x2>=0\n",
    "\n",
    "x1_f=0.5*x1**3+ 0.4*x2**2\n",
    "x2_f=-0.6*x1**2+0.3*x2**2\n",
    "\n",
    "inv_f1 =0.7262+1.1920*x1_f-0.0162*x2_f-2.5157*x1_f**2-1.6438*x2_f**2+1.0215*x1_f*x2_f>=0\n",
    "\n",
    "\n",
    "\n",
    "cons1 = ForAll(xvars,Implies(And(pre1,pre2, xrange), inv))\n",
    "cons2 = ForAll(xvars,Implies(And(inv, loop_cond, xrange), inv_f1))\n",
    "cons3 = ForAll(xvars,Implies(And(inv, Not(loop_cond),xrange),post))\n",
    "               \n",
    "s = Solver()\n",
    "s.add( cons1, cons2, cons3)\n",
    "print(s.check())\n",
    "print(s.model())\n",
    "end = time.time()\n",
    "print(\"Consume Time: %.8f s\\n\"%((end-start)))"
   ]
  },
  {
   "cell_type": "markdown",
   "id": "68e1b918",
   "metadata": {},
   "source": [
    "template2 :0.173091 iter 0 2.65851915747-2.69719496218*x1^2-2.69719497708*x2^2"
   ]
  },
  {
   "cell_type": "code",
   "execution_count": 1,
   "id": "f3478f54",
   "metadata": {},
   "outputs": [
    {
     "name": "stdout",
     "output_type": "stream",
     "text": [
      "sat\n",
      "[]\n",
      "Consume Time: 0.02991533 s\n",
      "\n"
     ]
    }
   ],
   "source": [
    "# template 2\n",
    "# a1*x1**2 + a2*x2**2 + a3\n",
    "from z3 import *\n",
    "import time\n",
    "start = time.time()\n",
    "x1,x2,a1,a2,a3 = Reals('x1 x2 a1 a2 a3')\n",
    "xvars = [x1,x2]\n",
    "xrange = And(x1>=-5, x1<=5, x2>=-5,x2<=5)\n",
    "\n",
    "loop_cond = -x1**2 -x2**2 +1>=0\n",
    "\n",
    "pre1 =(x1-0.5)*(0.7-x1)>= 0\n",
    "pre2=(x2-0.5)*(0.7-x2)>= 0\n",
    "post =x1**2+x2**2-0.36<=0\n",
    "inv =2.65851915747-2.69719496218*x1**2-2.69719497708*x2**2>=0\n",
    "\n",
    "x1_f=0.5*x1**3+ 0.4*x2**2\n",
    "x2_f=-0.6*x1**2+0.3*x2**2\n",
    "\n",
    "inv_f1 =2.65851915747-2.69719496218*x1_f**2-2.69719497708*x2_f**2>=0\n",
    "\n",
    "\n",
    "\n",
    "cons1 = ForAll(xvars,Implies(And(pre1,pre2, xrange), inv))\n",
    "cons2 = ForAll(xvars,Implies(And(inv, loop_cond, xrange), inv_f1))\n",
    "cons3 = ForAll(xvars,Implies(And(inv, Not(loop_cond),xrange),post))\n",
    "               \n",
    "s = Solver()\n",
    "s.add( cons1, cons2, cons3)\n",
    "print(s.check())\n",
    "print(s.model())\n",
    "end = time.time()\n",
    "print(\"Consume Time: %.8f s\\n\"%((end-start)))"
   ]
  },
  {
   "cell_type": "markdown",
   "id": "34c5f446",
   "metadata": {},
   "source": [
    "# Contrived"
   ]
  },
  {
   "cell_type": "code",
   "execution_count": 1,
   "id": "568cd56c",
   "metadata": {},
   "outputs": [
    {
     "name": "stdout",
     "output_type": "stream",
     "text": [
      "sat\n",
      "[]\n",
      "Consume Time: 0.09997964 s\n",
      "\n"
     ]
    }
   ],
   "source": [
    "# with template 1：a0+a1*x1+a2*x2+a3*x1**2+a4*x2**2+a5*x1*x2\n",
    "# iteration 0 -3.13325846289+11.6132299388*x1+5.50288483756*x2-5.75909769731*x1^2-5.11214668322*x2^2+3.02429028918*x1*x2\n",
    "# 0.185841 second\n",
    "\n",
    "from z3 import *\n",
    "import time\n",
    "start = time.time()\n",
    "x1,x2,a1,a2,a3 = Reals('x1 x2 a1 a2 a3')\n",
    "xvars = [x1,x2]\n",
    "xrange = And(x1>=-10, x1<=10, x2>=-10,x2<=10)\n",
    "\n",
    "loop_cond = 4-x1**2-(x2 -3)**2>=0\n",
    "\n",
    "pre = 1-x1**2-(x2 -3)**2>= 0\n",
    "post =(x1-2)**2+(x2-2)**2-9<=0\n",
    "inv =-3.13325846289+11.6132299388*x1+5.50288483756*x2-5.75909769731*x1**2-5.11214668322*x2**2+3.02429028918*x1*x2>=0\n",
    "\n",
    "x1_f=(x2-x1)*0.1+x1\n",
    "x2_f=0.9*x2\n",
    "\n",
    "inv_f1 =-3.13325846289+11.6132299388*x1_f+5.50288483756*x2_f-5.75909769731*x1_f**2-5.11214668322*x2_f**2+3.02429028918*x1_f*x2_f>=0\n",
    "\n",
    "\n",
    "\n",
    "cons1 = ForAll(xvars,Implies(And(pre, xrange), inv))\n",
    "cons2 = ForAll(xvars,Implies(And(inv, loop_cond, xrange), inv_f1))\n",
    "cons3 = ForAll(xvars,Implies(And(inv, Not(loop_cond),xrange),post))\n",
    "               \n",
    "s = Solver()\n",
    "s.add( cons1, cons2, cons3)\n",
    "print(s.check())\n",
    "print(s.model())\n",
    "end = time.time()\n",
    "print(\"Consume Time: %.8f s\\n\"%((end-start)))"
   ]
  },
  {
   "cell_type": "code",
   "execution_count": 1,
   "id": "4711ece5",
   "metadata": {},
   "outputs": [
    {
     "name": "stdout",
     "output_type": "stream",
     "text": [
      "sat\n",
      "[]\n",
      "Consume Time: 0.11209321 s\n",
      "\n"
     ]
    }
   ],
   "source": [
    "# with template 2：-1+a1*x1+a2*x2+a3*x2**2+a4*x1*x2\n",
    "# iteration 1 -1+0.6270503287*x1+2.08088447703*x2-0.446562597584*x1^2-0.436896016503*x2^2\n",
    "# 0.490700 second\n",
    "\n",
    "from z3 import *\n",
    "import time\n",
    "start = time.time()\n",
    "x1,x2,a1,a2,a3 = Reals('x1 x2 a1 a2 a3')\n",
    "xvars = [x1,x2]\n",
    "xrange = And(x1>=-10, x1<=10, x2>=-10,x2<=10)\n",
    "\n",
    "loop_cond = 4-x1**2-(x2 -3)**2>=0\n",
    "\n",
    "pre = 1-x1**2-(x2 -3)**2>= 0\n",
    "post =(x1-2)**2+(x2-2)**2-9<=0\n",
    "inv =-1+0.6270503287*x1+2.08088447703*x2-0.446562597584*x1**2-0.436896016503*x2**2>=0\n",
    "\n",
    "x1_f=(x2-x1)*0.1+x1\n",
    "x2_f=0.9*x2\n",
    "\n",
    "inv_f1 =-1+0.6270503287*x1_f+2.08088447703*x2_f-0.446562597584*x1_f**2-0.436896016503*x2_f**2>=0\n",
    "\n",
    "\n",
    "\n",
    "cons1 = ForAll(xvars,Implies(And(pre, xrange), inv))\n",
    "cons2 = ForAll(xvars,Implies(And(inv, loop_cond, xrange), inv_f1))\n",
    "cons3 = ForAll(xvars,Implies(And(inv, Not(loop_cond),xrange),post))\n",
    "               \n",
    "s = Solver()\n",
    "s.add( cons1, cons2, cons3)\n",
    "print(s.check())\n",
    "print(s.model())\n",
    "end = time.time()\n",
    "print(\"Consume Time: %.8f s\\n\"%((end-start)))"
   ]
  },
  {
   "cell_type": "markdown",
   "id": "ce9c01c8",
   "metadata": {},
   "source": [
    "# transcend"
   ]
  },
  {
   "cell_type": "markdown",
   "id": "b3c5a4af",
   "metadata": {},
   "source": [
    "template: inv=0+a1*x1+a2*x2+a3*x1**2+a4*x2**2+a5*x1*x2"
   ]
  },
  {
   "cell_type": "markdown",
   "id": "2bf38ba2",
   "metadata": {},
   "source": [
    "0.836056 second  2 iteration lambda is -0.0000000020 \n"
   ]
  },
  {
   "cell_type": "markdown",
   "id": "a5626540",
   "metadata": {},
   "source": [
    "-0.2623604316+0.401234905484*x1+10.2428056479*x2-5.37552972328*x1^2-3.28425467592*x2^2-0.212670713568*x1*x2"
   ]
  },
  {
   "cell_type": "code",
   "execution_count": 1,
   "id": "83c858f6",
   "metadata": {},
   "outputs": [
    {
     "name": "stdout",
     "output_type": "stream",
     "text": [
      "sat\n",
      "[]\n",
      "Consume Time: 2.63781500 s\n",
      "\n"
     ]
    }
   ],
   "source": [
    "# with template 1：a0+a1*x1+a2*x2+a3*x1**2+a4*x2**2+a5*x1*x2\n",
    "\n",
    "from z3 import *\n",
    "import time\n",
    "start = time.time()\n",
    "x1,x2,a1,a2,a3 = Reals('x1 x2 a1 a2 a3')\n",
    "xvars = [x1,x2]\n",
    "xrange = And(x1>=-5, x1<=5, x2>=-5,x2<=5)\n",
    "\n",
    "loop_cond = 3-x1**2-(x2-2)**2>=0\n",
    "\n",
    "pre =1-x1**2-(x2-2)**2>= 0\n",
    "post =0.2*x2**2-2+x2<=0\n",
    "inv =-0.262+0.401*x1+10.242*x2-5.375*x1**2-3.284*x2**2-0.212*x1*x2>=0\n",
    "\n",
    "x1_f=0.9*x1\n",
    "x2_f=x2-0.1*x2*(1+x1)\n",
    "\n",
    "inv_f1 =-0.262+0.401*x1_f+10.242*x2_f-5.375*x1_f**2-3.284*x2_f**2-0.212*x1_f*x2_f>=0\n",
    "\n",
    "\n",
    "\n",
    "cons1 = ForAll(xvars,Implies(And(pre, xrange), inv))\n",
    "cons2 = ForAll(xvars,Implies(And(inv, loop_cond, xrange), inv_f1))\n",
    "cons3 = ForAll(xvars,Implies(And(inv, Not(loop_cond),xrange),post))\n",
    "               \n",
    "s = Solver()\n",
    "s.add( cons1, cons2, cons3)\n",
    "print(s.check())\n",
    "print(s.model())\n",
    "end = time.time()\n",
    "print(\"Consume Time: %.8f s\\n\"%((end-start)))"
   ]
  },
  {
   "cell_type": "markdown",
   "id": "7218208c",
   "metadata": {},
   "source": [
    "template: inv=a0-x1^2-x2^2+a1*x2"
   ]
  },
  {
   "cell_type": "markdown",
   "id": "c2f107be",
   "metadata": {},
   "source": [
    "0.971798 second 3 iteration "
   ]
  },
  {
   "cell_type": "markdown",
   "id": "c4a1f368",
   "metadata": {},
   "source": [
    "solution: -0.0733780053491+3.09723393784*x2-x1^2-x2^2"
   ]
  },
  {
   "cell_type": "code",
   "execution_count": 3,
   "id": "dbbd46f0",
   "metadata": {},
   "outputs": [
    {
     "name": "stdout",
     "output_type": "stream",
     "text": [
      "sat\n",
      "[]\n",
      "Consume Time: 24.97486687 s\n",
      "\n"
     ]
    }
   ],
   "source": [
    "# with template 2：inv=a0-x1^2-x2^2+a1*x2;\n",
    "\n",
    "from z3 import *\n",
    "import time\n",
    "start = time.time()\n",
    "x1,x2,a1,a2,a3 = Reals('x1 x2 a1 a2 a3')\n",
    "xvars = [x1,x2]\n",
    "xrange = And(x1>=-5, x1<=5, x2>=-5,x2<=5)\n",
    "\n",
    "loop_cond = 3-x1**2-(x2-2)**2>=0\n",
    "\n",
    "pre =1-x1**2-(x2-2)**2>= 0\n",
    "post =0.2*x2**2-2+x2<=0\n",
    "inv =-0.0733780053491+3.09723393784*x2-x1**2-x2**2>=0\n",
    "\n",
    "x1_f=0.9*x1\n",
    "x2_f=x2-0.1*x2*(1+x1)\n",
    "\n",
    "inv_f1 =-0.0733780053491+3.09723393784*x2_f-x1_f**2-x2_f**2>=0\n",
    "\n",
    "\n",
    "\n",
    "cons1 = ForAll(xvars,Implies(And(pre, xrange), inv))\n",
    "cons2 = ForAll(xvars,Implies(And(inv, loop_cond, xrange), inv_f1))\n",
    "cons3 = ForAll(xvars,Implies(And(inv, Not(loop_cond),xrange),post))\n",
    "               \n",
    "s = Solver()\n",
    "s.add( cons1, cons2, cons3)\n",
    "print(s.check())\n",
    "print(s.model())\n",
    "end = time.time()\n",
    "print(\"Consume Time: %.8f s\\n\"%((end-start)))"
   ]
  },
  {
   "cell_type": "markdown",
   "id": "6763314a",
   "metadata": {},
   "source": [
    "# lyapunov"
   ]
  },
  {
   "cell_type": "markdown",
   "id": "4c4c09c0",
   "metadata": {},
   "source": [
    "template 1: 2.976898 second"
   ]
  },
  {
   "cell_type": "markdown",
   "id": "97ef60a1",
   "metadata": {},
   "source": [
    "3 iteration lambda is -0.0000000013 "
   ]
  },
  {
   "cell_type": "markdown",
   "id": "07166bdc",
   "metadata": {},
   "source": [
    "3.857+0.370*x1+0.286*x2+0.375*x3-2.412*x1**2-2.117*x2**2-1.362*x3**2-0.817*x1*x2+1.379*x1*x3-3.662*x2*x3>=0"
   ]
  },
  {
   "cell_type": "code",
   "execution_count": null,
   "id": "653a2667",
   "metadata": {},
   "outputs": [],
   "source": [
    "3.85706979582+0.370987050062*x1+0.286013428729*x2+0.375557403427*x3-2.41202371108*x1^2-2.11733787347*x2^2-1.362536823*x3^2-0.817838882964*x1*x2+1.37939351891*x1*x3-3.66261706322*x2*x3"
   ]
  },
  {
   "cell_type": "code",
   "execution_count": null,
   "id": "68cebf41",
   "metadata": {},
   "outputs": [],
   "source": [
    "# with template   a0+a1*x1+a2*x2+a3*x3+a4*x1**2+a5*x2**2+a6*x3**2+a7*x1*x2+a8*x1*x3+a9*x2*x3\n",
    "from z3 import *\n",
    "import time\n",
    "start = time.time()\n",
    "x1,x2,x3,a0,a1,a2,a3,a4,a5,a6,a7,a8,a9= Reals('x1 x2 x3 a0 a1 a2 a3 a4 a5 a6 a7 a8 a9')\n",
    "xvars = [x1,x2,x3]\n",
    "xrange = And(x1>=-5, x1<=5, x2>=-5,x2<=5,x3>=-5,x3<=5)\n",
    "\n",
    "loop_cond = 9-x1**2-x2**2-x3**2>=0\n",
    "\n",
    "pre =x1**2 +x2**2 +x3**2-0.25<= 0\n",
    "post =-2*x1-2*x2-2*x3-x1**2-x2**2-x3**2+x1*x2+x1*x3+x2*x3<=0\n",
    "inv =3.85706979582+0.370987050062*x1+0.286013428729*x2+0.375557403427*x3-2.41202371108*x1**2-2.11733787347*x2**2-1.362536823*x3**2-0.817838882964*x1*x2+1.37939351891*x1*x3-3.66261706322*x2*x3>=0\n",
    "\n",
    "x1_f=x1-0.1*x2\n",
    "x2_f=x2-0.1*x3\n",
    "x3_f=x3+(-x1-2*x2 -x3 + x1**3)*0.1\n",
    "\n",
    "inv_f1 =3.85706979582+0.370987050062*x1_f+0.286013428729*x2_f+0.375557403427*x3_f-2.41202371108*x1_f**2-2.11733787347*x2_f**2-1.362536823*x3_f**2-0.817838882964*x1_f*x2_f+1.37939351891*x1_f*x3_f-3.66261706322*x2_f*x3_f>=0\n",
    "\n",
    "\n",
    "\n",
    "cons1 = ForAll(xvars,Implies(And(pre, xrange), inv))\n",
    "cons2 = ForAll(xvars,Implies(And(inv, loop_cond, xrange), inv_f1))\n",
    "cons3 = ForAll(xvars,Implies(And(inv, Not(loop_cond),xrange),post))\n",
    "               \n",
    "s = Solver()\n",
    "s.add( cons1, cons2, cons3)\n",
    "print(s.check())\n",
    "print(s.model())\n",
    "end = time.time()\n",
    "print(\"Consume Time: %.8f s\\n\"%((end-start)))"
   ]
  },
  {
   "cell_type": "code",
   "execution_count": null,
   "id": "86a8d0e2",
   "metadata": {},
   "outputs": [],
   "source": [
    "# with template   a0+a1*x1+a2*x2+a3*x3+a4*x1**2+a5*x2**2+a6*x3**2+a7*x1*x2+a8*x1*x3+a9*x2*x3\n",
    "from z3 import *\n",
    "import time\n",
    "start = time.time()\n",
    "x1,x2,x3,a0,a1,a2,a3,a4,a5,a6,a7,a8,a9= Reals('x1 x2 x3 a0 a1 a2 a3 a4 a5 a6 a7 a8 a9')\n",
    "xvars = [x1,x2,x3]\n",
    "xrange = And(x1>=-5, x1<=5, x2>=-5,x2<=5,x3>=-5,x3<=5)\n",
    "\n",
    "loop_cond = 9-x1**2-x2**2-x3**2>=0\n",
    "\n",
    "pre =x1**2 +x2**2 +x3**2-0.25<= 0\n",
    "post =-2*x1-2*x2-2*x3-x1**2-x2**2-x3**2+x1*x2+x1*x3+x2*x3<=0\n",
    "inv =2.95274508146-2.26485900539*x1**2-2.30775916539*x2**2-1.34969469255*x3**2-0.720088805053*x1*x2+1.11078137627*x1*x3-3.97724311243*x2*x3>=0\n",
    "\n",
    "x1_f=x1-0.1*x2\n",
    "x2_f=x2-0.1*x3\n",
    "x3_f=x3+(-x1-2*x2 -x3 + x1**3)*0.1\n",
    "\n",
    "inv_f1 =2.95274508146-2.26485900539*x1_f**2-2.30775916539*x2_f**2-1.34969469255*x3_f**2-0.720088805053*x1_f*x2_f+1.11078137627*x1_f*x3_f-3.97724311243*x2_f*x3_f>=0\n",
    "\n",
    "\n",
    "\n",
    "cons1 = ForAll(xvars,Implies(And(pre, xrange), inv))\n",
    "cons2 = ForAll(xvars,Implies(And(inv, loop_cond, xrange), inv_f1))\n",
    "cons3 = ForAll(xvars,Implies(And(inv, Not(loop_cond),xrange),post))\n",
    "               \n",
    "s = Solver()\n",
    "s.add( cons1, cons2, cons3)\n",
    "print(s.check())\n",
    "print(s.model())\n",
    "end = time.time()\n",
    "print(\"Consume Time: %.8f s\\n\"%((end-start)))"
   ]
  },
  {
   "cell_type": "code",
   "execution_count": null,
   "id": "4570e721",
   "metadata": {},
   "outputs": [],
   "source": [
    "# with template   a0+a1*x1+a2*x2+a3*x3+a4*x1**2+a5*x2**2+a6*x3**2+a7*x1*x2+a8*x1*x3+a9*x2*x3\n",
    "from z3 import *\n",
    "import time\n",
    "start = time.time()\n",
    "x1,x2,x3,a0,a1,a2,a3,a4,a5,a6,a7,a8,a9= Reals('x1 x2 x3 a0 a1 a2 a3 a4 a5 a6 a7 a8 a9')\n",
    "xvars = [x1,x2,x3]\n",
    "xrange = And(x1>=-5, x1<=5, x2>=-5,x2<=5,x3>=-5,x3<=5)\n",
    "\n",
    "loop_cond = 9-x1**2-x2**2-x3**2>=0\n",
    "\n",
    "pre =x1**2 +x2**2 +x3**2-0.25<= 0\n",
    "post =-2*x1-2*x2-2*x3-x1**2-x2**2-x3**2+x1*x2+x1*x3+x2*x3<=0\n",
    "inv =3.857+0.370*x1+0.286*x2+0.375*x3-2.412*x1**2-2.117*x2**2-1.362*x3**2-0.817*x1*x2+1.379*x1*x3-3.662*x2*x3>=0\n",
    "\n",
    "x1_f=x1-0.1*x2\n",
    "x2_f=x2-0.1*x3\n",
    "x3_f=x3+(-x1-2*x2 -x3 + x1**3)*0.1\n",
    "\n",
    "inv_f1 =3.857+0.370*x1_f+0.286*x2_f+0.375*x3_f-2.412*x1_f**2-2.117*x2_f**2-1.362*x3_f**2-0.817*x1_f*x2_f+1.379*x1_f*x3_f-3.662*x2_f*x3_f>=0\n",
    "\n",
    "\n",
    "\n",
    "cons1 = ForAll(xvars,Implies(And(pre, xrange), inv))\n",
    "cons2 = ForAll(xvars,Implies(And(inv, loop_cond, xrange), inv_f1))\n",
    "cons3 = ForAll(xvars,Implies(And(inv, Not(loop_cond),xrange),post))\n",
    "               \n",
    "s = Solver()\n",
    "s.add( cons1, cons2, cons3)\n",
    "print(s.check())\n",
    "print(s.model())\n",
    "end = time.time()\n",
    "print(\"Consume Time: %.8f s\\n\"%((end-start)))"
   ]
  },
  {
   "cell_type": "markdown",
   "id": "f2490105",
   "metadata": {},
   "source": [
    " template 2:a0+a1*x1^2+a2*x2^2+a3*x3^2+a4*x1*x2+a5*x2*x3+a6*x1*x3"
   ]
  },
  {
   "cell_type": "markdown",
   "id": "80545a56",
   "metadata": {},
   "source": [
    " 3.853508 second 4 iteration. lambda is -0.0000000004 "
   ]
  },
  {
   "cell_type": "markdown",
   "id": "31964936",
   "metadata": {},
   "source": [
    "2.95274508146-2.26485900539*x1^2-2.30775916539*x2^2-1.34969469255*x3^2-0.720088805053*x1*x2+1.11078137627*x1*x3-3.97724311243*x2*x3"
   ]
  },
  {
   "cell_type": "code",
   "execution_count": null,
   "id": "e4fcb425",
   "metadata": {},
   "outputs": [],
   "source": [
    "\n",
    "from z3 import *\n",
    "import time\n",
    "start = time.time()\n",
    "x1,x2,x3 = Reals('x1 x2 x3')\n",
    "xvars = [x1,x2,x3]\n",
    "xrange = And(x1>=-5, x1<=5, x2>=-5,x2<=5,x3>=-5,x3<=5)\n",
    "\n",
    "loop_cond = 9-x1**2-x2**2-x3**2>=0\n",
    "\n",
    "pre =x1**2 +x2**2 +x3**2-0.25<= 0\n",
    "post =-2*x1-2*x2-2*x3-x1**2-x2**2-x3**2+x1*x2+x1*x3+x2*x3<=0\n",
    "inv =2.952-2.264*x1**2-2.307*x2**2-1.349*x3**2-0.720*x1*x2+1.110*x1*x3-3.977*x2*x3>=0\n",
    "\n",
    "x1_f=x1-0.1*x2\n",
    "x2_f=x2-0.1*x3\n",
    "x3_f=x3+(-x1-2*x2 -x3 + x1**3)*0.1\n",
    "\n",
    "inv_f1 =2.952-2.264*x1_f**2-2.307*x2_f**2-1.349*x3_f**2-0.720*x1_f*x2_f+1.110*x1_f*x3_f-3.977*x2_f*x3_f>=0\n",
    "\n",
    "\n",
    "\n",
    "cons1 = ForAll(xvars,Implies(And(pre, xrange), inv))\n",
    "cons2 = ForAll(xvars,Implies(And(inv, loop_cond, xrange), inv_f1))\n",
    "cons3 = ForAll(xvars,Implies(And(inv, Not(loop_cond),xrange),post))\n",
    "               \n",
    "s = Solver()\n",
    "s.add( cons1, cons2, cons3)\n",
    "print(s.check())\n",
    "print(s.model())\n",
    "end = time.time()\n",
    "print(\"Consume Time: %.8f s\\n\"%((end-start)))"
   ]
  },
  {
   "cell_type": "markdown",
   "id": "93518f6e",
   "metadata": {},
   "source": [
    "# motivate"
   ]
  },
  {
   "cell_type": "markdown",
   "id": "f911d6f3",
   "metadata": {},
   "source": [
    "template1 1.222384  1 iteration "
   ]
  },
  {
   "cell_type": "markdown",
   "id": "5050495d",
   "metadata": {},
   "source": [
    "-12.4530214943+1.10979315295*x1+0.723979443656*x2+4.84426033361*x3-0.368696025443*x1^2-4.00362792652*x2^2-0.00868357077502*x3^2-0.213785967332*x1*x2+0.165665934872*x1*x3+0.317489134205*x2*x3"
   ]
  },
  {
   "cell_type": "code",
   "execution_count": 2,
   "id": "84dfead0",
   "metadata": {},
   "outputs": [
    {
     "name": "stdout",
     "output_type": "stream",
     "text": [
      "sat\n",
      "[]\n",
      "Consume Time: 0.02859092 s\n",
      "\n"
     ]
    }
   ],
   "source": [
    "from z3 import *\n",
    "import time\n",
    "start = time.time()\n",
    "x1,x2,x3 = Reals('x1 x2 x3')\n",
    "xvars = [x1,x2,x3]\n",
    "xrange = And(x1>=-10, x1<=10, x2>=-10,x2<=10,x3>=-10,x3<=10)\n",
    "\n",
    "loop_cond =-(x1-3)**2 - x2**2 - (x3-3)**2 + 2>=0\n",
    "\n",
    "pre =-(x1-3)**2 - x2**2 - (x3-3)**2 + 0.25>=0\n",
    "post =-x3 + 0.5*x2**2 + 1<=0\n",
    "inv =-12.4530214943+1.10979315295*x1+0.723979443656*x2+4.84426033361*x3-0.368696025443*x1**2-4.00362792652*x2**2-0.00868357077502*x3**2-0.213785967332*x1*x2+0.165665934872*x1*x3+0.317489134205*x2*x3>=0\n",
    "\n",
    "x1_f=x1+0.1*(2*x1+x2)\n",
    "x2_f=x2+0.1*(x1+9*x2+1/2*x3)\n",
    "x3_f=x3+0.1*(2*x2+16*x3)\n",
    "\n",
    "inv_f1 =-12.4530214943+1.10979315295*x1_f+0.723979443656*x2_f+4.84426033361*x3_f-0.368696025443*x1_f**2-4.00362792652*x2_f**2-0.00868357077502*x3_f**2-0.213785967332*x1_f*x2_f+0.165665934872*x1_f*x3_f+0.317489134205*x2_f*x3_f>=0\n",
    "\n",
    "\n",
    "\n",
    "cons1 = ForAll(xvars,Implies(And(pre, xrange), inv))\n",
    "cons2 = ForAll(xvars,Implies(And(inv, loop_cond, xrange), inv_f1))\n",
    "cons3 = ForAll(xvars,Implies(And(inv, Not(loop_cond),xrange),post))\n",
    "               \n",
    "s = Solver()\n",
    "s.add( cons3)\n",
    "print(s.check())\n",
    "print(s.model())\n",
    "end = time.time()\n",
    "print(\"Consume Time: %.8f s\\n\"%((end-start)))"
   ]
  },
  {
   "cell_type": "markdown",
   "id": "b6a1754e",
   "metadata": {},
   "source": [
    "template 2: a0+a1*x2+a2*x2^2+a3*x3"
   ]
  },
  {
   "cell_type": "markdown",
   "id": "c9799667",
   "metadata": {},
   "source": [
    "1.026327 second 1 iteration -12.5168016208-0.912662070749*x2+5.47029073943*x3-3.87285688028*x2^2"
   ]
  },
  {
   "cell_type": "code",
   "execution_count": 1,
   "id": "49938864",
   "metadata": {},
   "outputs": [
    {
     "name": "stdout",
     "output_type": "stream",
     "text": [
      "sat\n",
      "[]\n",
      "Consume Time: 0.01502991 s\n",
      "\n"
     ]
    }
   ],
   "source": [
    "from z3 import *\n",
    "import time\n",
    "start = time.time()\n",
    "x1,x2,x3 = Reals('x1 x2 x3')\n",
    "xvars = [x1,x2,x3]\n",
    "xrange = And(x1>=-10, x1<=10, x2>=-10,x2<=10,x3>=-10,x3<=10)\n",
    "\n",
    "loop_cond =-(x1-3)**2 - x2**2 - (x3-3)**2 + 2>=0\n",
    "\n",
    "pre =-(x1-3)**2 - x2**2 - (x3-3)**2 + 0.25>=0\n",
    "post =-x3 + 0.5*x2**2 + 1<=0\n",
    "inv =-12.5168016208-0.912662070749*x2+5.47029073943*x3-3.87285688028*x2**2>=0\n",
    "\n",
    "x1_f=x1+0.1*(2*x1+x2)\n",
    "x2_f=x2+0.1*(x1+9*x2+1/2*x3)\n",
    "x3_f=x3+0.1*(2*x2+16*x3)\n",
    "\n",
    "inv_f1 =-12.5168016208-0.912662070749*x2_f+5.47029073943*x3_f-3.87285688028*x2_f**2>=0\n",
    "\n",
    "\n",
    "\n",
    "cons1 = ForAll(xvars,Implies(And(pre, xrange), inv))\n",
    "cons2 = ForAll(xvars,Implies(And(inv, loop_cond, xrange), inv_f1))\n",
    "cons3 = ForAll(xvars,Implies(And(inv, Not(loop_cond),xrange),post))\n",
    "               \n",
    "s = Solver()\n",
    "s.add( cons3)\n",
    "print(s.check())\n",
    "print(s.model())\n",
    "end = time.time()\n",
    "print(\"Consume Time: %.8f s\\n\"%((end-start)))"
   ]
  },
  {
   "cell_type": "code",
   "execution_count": null,
   "id": "3be019df",
   "metadata": {},
   "outputs": [],
   "source": []
  },
  {
   "cell_type": "markdown",
   "id": "56f59c6c",
   "metadata": {},
   "source": [
    "# basin"
   ]
  },
  {
   "cell_type": "markdown",
   "id": "c79d1544",
   "metadata": {},
   "source": [
    "2.852824 second 7 iteration solution is found. lambda is -0.0000000017 "
   ]
  },
  {
   "cell_type": "markdown",
   "id": "4f19d824",
   "metadata": {},
   "source": [
    "2.50975722126-2.20509255659*x1-3.58948030824*x2-4.1051538901*x1^2-0.771059072229*x2^2+1.54177132268*x1*x2"
   ]
  },
  {
   "cell_type": "code",
   "execution_count": 1,
   "id": "835e34ae",
   "metadata": {},
   "outputs": [
    {
     "name": "stdout",
     "output_type": "stream",
     "text": [
      "sat\n",
      "[]\n",
      "Consume Time: 616.44400549 s\n",
      "\n"
     ]
    }
   ],
   "source": [
    "from z3 import *\n",
    "import time\n",
    "start = time.time()\n",
    "x1,x2,a1,a2,a3 = Reals('x1 x2 a1 a2 a3')\n",
    "xvars = [x1,x2]\n",
    "xrange = And(x1>=-5, x1<=5, x2>=-5,x2<=5)\n",
    "\n",
    "loop_cond = 3-x1**2-x2**2>=0\n",
    "\n",
    "pre =0.25-x1**2-x2**2>= 0\n",
    "post =2*x2+x1**2-1<=0\n",
    "inv=2.51-2.20*x1-3.59*x2-4.10*x1**2-0.77*x2**2+1.54*x1*x2>=0\n",
    "\n",
    "x1_f=(-0.42*x1-1.05*x2-2.3*x1**2-0.5*x1*x2-x1**3)*0.1+x1\n",
    "x2_f=x2+0.1*(1.98*x1+x1*x2)\n",
    "\n",
    "inv_f1 =2.51-2.20*x1_f-3.59*x2_f-4.10*x1_f**2-0.77*x2_f**2+1.54*x1_f*x2_f>=0\n",
    "\n",
    "\n",
    "\n",
    "cons1 = ForAll(xvars,Implies(And(pre, xrange), inv))\n",
    "cons2 = ForAll(xvars,Implies(And(inv, loop_cond, xrange), inv_f1))\n",
    "cons3 = ForAll(xvars,Implies(And(inv, Not(loop_cond),xrange),post))\n",
    "               \n",
    "s = Solver()\n",
    "s.add( cons1, cons2, cons3)\n",
    "print(s.check())\n",
    "print(s.model())\n",
    "end = time.time()\n",
    "print(\"Consume Time: %.8f s\\n\"%((end-start)))"
   ]
  },
  {
   "cell_type": "markdown",
   "id": "f986eafc",
   "metadata": {},
   "source": [
    "19 iteration solution is found. lambda is -0.0000000017 \n",
    "2.5293-0.5925*x1-3.221*x2-7.409*x1**2-0.5179*x2**2"
   ]
  },
  {
   "cell_type": "code",
   "execution_count": 1,
   "id": "28561b7d",
   "metadata": {},
   "outputs": [
    {
     "name": "stdout",
     "output_type": "stream",
     "text": [
      "sat\n",
      "[]\n",
      "Consume Time: 595.77674651 s\n",
      "\n"
     ]
    }
   ],
   "source": [
    "from z3 import *\n",
    "import time\n",
    "start = time.time()\n",
    "x1,x2,a1,a2,a3 = Reals('x1 x2 a1 a2 a3')\n",
    "xvars = [x1,x2]\n",
    "xrange = And(x1>=-5, x1<=5, x2>=-5,x2<=5)\n",
    "\n",
    "loop_cond = 3-x1**2-x2**2>=0\n",
    "\n",
    "pre =0.25-x1**2-x2**2>= 0\n",
    "post =2*x2+x1**2-1<=0\n",
    "inv=2.5293-0.5925*x1-3.221*x2-7.409*x1**2-0.5179*x2**2 >=0\n",
    "\n",
    "x1_f=(-0.42*x1-1.05*x2-2.3*x1**2-0.5*x1*x2-x1**3)*0.1+x1\n",
    "x2_f=x2+0.1*(1.98*x1+x1*x2)\n",
    "\n",
    "inv_f1 =2.5293-0.5925*x1_f-3.221*x2_f-7.409*x1_f**2-0.5179*x2_f**2>=0\n",
    "\n",
    "\n",
    "\n",
    "cons1 = ForAll(xvars,Implies(And(pre, xrange), inv))\n",
    "cons2 = ForAll(xvars,Implies(And(inv, loop_cond, xrange), inv_f1))\n",
    "cons3 = ForAll(xvars,Implies(And(inv, Not(loop_cond),xrange),post))\n",
    "               \n",
    "s = Solver()\n",
    "s.add( cons1, cons2, cons3)\n",
    "print(s.check())\n",
    "print(s.model())\n",
    "end = time.time()\n",
    "print(\"Consume Time: %.8f s\\n\"%((end-start)))"
   ]
  },
  {
   "cell_type": "code",
   "execution_count": null,
   "id": "35e29c16",
   "metadata": {},
   "outputs": [],
   "source": []
  }
 ],
 "metadata": {
  "kernelspec": {
   "display_name": "Python 3 (ipykernel)",
   "language": "python",
   "name": "python3"
  },
  "language_info": {
   "codemirror_mode": {
    "name": "ipython",
    "version": 3
   },
   "file_extension": ".py",
   "mimetype": "text/x-python",
   "name": "python",
   "nbconvert_exporter": "python",
   "pygments_lexer": "ipython3",
   "version": "3.11.4"
  }
 },
 "nbformat": 4,
 "nbformat_minor": 5
}
