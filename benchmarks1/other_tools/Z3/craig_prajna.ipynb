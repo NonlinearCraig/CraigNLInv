{
 "cells": [
  {
   "cell_type": "markdown",
   "id": "99623063",
   "metadata": {},
   "source": [
    "## EX1"
   ]
  },
  {
   "cell_type": "code",
   "execution_count": 13,
   "id": "a9907cd3",
   "metadata": {},
   "outputs": [],
   "source": [
    "s=\"4.6286671223+6.18497947582*x1-0.0764697035281*x1^2\"\n",
    "s=s=s.replace(\"^\",\"**\")"
   ]
  },
  {
   "cell_type": "code",
   "execution_count": 17,
   "id": "87290469",
   "metadata": {},
   "outputs": [
    {
     "data": {
      "text/plain": [
       "'4.6286671223+6.18497947582*x1_f-0.0764697035281*x1_f**2'"
      ]
     },
     "execution_count": 17,
     "metadata": {},
     "output_type": "execute_result"
    }
   ],
   "source": [
    "s"
   ]
  },
  {
   "cell_type": "code",
   "execution_count": 15,
   "id": "d6c96a9d",
   "metadata": {},
   "outputs": [],
   "source": [
    "s=s.replace(\"x1\",\"x1_f\")\n",
    "s=s.replace(\"x2\",\"x2_f\")"
   ]
  },
  {
   "cell_type": "code",
   "execution_count": 16,
   "id": "cc1a7c65",
   "metadata": {},
   "outputs": [
    {
     "data": {
      "text/plain": [
       "'4.6286671223+6.18497947582*x1_f-0.0764697035281*x1_f**2'"
      ]
     },
     "execution_count": 16,
     "metadata": {},
     "output_type": "execute_result"
    }
   ],
   "source": [
    "s"
   ]
  },
  {
   "cell_type": "markdown",
   "id": "fd8e5ae5",
   "metadata": {},
   "source": [
    "template:inv=a0+a1*x1+a2 * x1^2"
   ]
  },
  {
   "cell_type": "code",
   "execution_count": null,
   "id": "d89d8672",
   "metadata": {},
   "outputs": [],
   "source": [
    "0.366708 秒。\n",
    "iteration 1\n",
    "\"4.6286671223+6.18497947582*x1-0.0764697035281*x1^2\""
   ]
  },
  {
   "cell_type": "code",
   "execution_count": 20,
   "id": "1e1ee813",
   "metadata": {},
   "outputs": [
    {
     "name": "stdout",
     "output_type": "stream",
     "text": [
      "sat\n",
      "[]\n",
      "Consuming Time: 0.02309346 s\n",
      "\n"
     ]
    }
   ],
   "source": [
    "#ex1\n",
    "from z3 import *\n",
    "import time\n",
    "start = time.time()\n",
    "x1,a1,a2,a3= Reals('x1 a1 a2 a3')\n",
    "inv=4.6286671223+6.18497947582*x1-0.0764697035281*x1**2>=0\n",
    "x1_f=x1+0.0005*(1000-0.5418*x1**2)\n",
    "\n",
    "inv_f1 =4.6286671223+6.18497947582*x1_f-0.0764697035281*x1_f**2>=0\n",
    "\n",
    "loop_cond =(x1+1)*(x1-82)<=0\n",
    "pre = x1*(80-x1)>=0\n",
    "post = (x1+10)*(x1-79)<=0\n",
    "\n",
    "cons1 = ForAll([x1],Implies(pre, inv))\n",
    "cons2 = ForAll([x1],Implies(And(inv,loop_cond), inv_f1))\n",
    "cons3 = ForAll([x1],Implies(And(inv, Not(loop_cond)),post))\n",
    "               \n",
    "s = Solver()\n",
    "s.add(cons1, cons2, cons3)\n",
    "print(s.check())\n",
    "print(s.model())\n",
    "end = time.time()\n",
    "print(\"Consuming Time: %.8f s\\n\"%((end-start)))"
   ]
  },
  {
   "cell_type": "markdown",
   "id": "6334421d",
   "metadata": {},
   "source": [
    "\n",
    "template:inv=1+a1*x1+a2 * x1^2"
   ]
  },
  {
   "cell_type": "code",
   "execution_count": null,
   "id": "db590cba",
   "metadata": {},
   "outputs": [],
   "source": [
    "1+1.46703215856*x1-0.0182084675449*x1^2"
   ]
  },
  {
   "cell_type": "code",
   "execution_count": 6,
   "id": "81003a18",
   "metadata": {},
   "outputs": [
    {
     "name": "stdout",
     "output_type": "stream",
     "text": [
      "sat\n",
      "[]\n",
      "Consuming Time: 0.02599835 s\n",
      "\n"
     ]
    }
   ],
   "source": [
    "#ex1\n",
    "from z3 import *\n",
    "import time\n",
    "start = time.time()\n",
    "x1,a1,a2,a3= Reals('x1 a1 a2 a3')\n",
    "inv=1+1.46703215856*x1-0.0182084675449*x1**2>=0\n",
    "x1_f=x1+0.0005*(1000-0.5418*x1**2)\n",
    "\n",
    "inv_f1 =1+1.46703215856*x1_f-0.0182084675449*x1_f**2>=0\n",
    "\n",
    "loop_cond =(x1+1)*(x1-82)<=0\n",
    "pre = x1*(80-x1)>=0\n",
    "post = (x1+10)*(x1-79)<=0\n",
    "\n",
    "cons1 = ForAll([x1],Implies(pre, inv))\n",
    "cons2 = ForAll([x1],Implies(And(inv,loop_cond), inv_f1))\n",
    "cons3 = ForAll([x1],Implies(And(inv, Not(loop_cond)),post))\n",
    "               \n",
    "s = Solver()\n",
    "s.add(cons1, cons2, cons3)\n",
    "print(s.check())\n",
    "print(s.model())\n",
    "end = time.time()\n",
    "print(\"Consuming Time: %.8f s\\n\"%((end-start)))"
   ]
  },
  {
   "cell_type": "code",
   "execution_count": null,
   "id": "81f71b34",
   "metadata": {},
   "outputs": [],
   "source": []
  },
  {
   "cell_type": "code",
   "execution_count": null,
   "id": "fdd271e7",
   "metadata": {},
   "outputs": [],
   "source": []
  },
  {
   "cell_type": "code",
   "execution_count": null,
   "id": "d1516baa",
   "metadata": {},
   "outputs": [],
   "source": []
  },
  {
   "cell_type": "markdown",
   "id": "4dc49704",
   "metadata": {},
   "source": [
    "template2:inv=1+a1*x1+a2 * x1^2"
   ]
  },
  {
   "cell_type": "code",
   "execution_count": 1,
   "id": "8ace7301",
   "metadata": {},
   "outputs": [
    {
     "name": "stdout",
     "output_type": "stream",
     "text": [
      "sat\n",
      "[]\n",
      "Consuming Time: 0.01700354 s\n",
      "\n"
     ]
    }
   ],
   "source": [
    "#ex1\n",
    "from z3 import *\n",
    "import time\n",
    "start = time.time()\n",
    "x1,a1,a2,a3= Reals('x1 a1 a2 a3')\n",
    "inv=1+0.959881388298*x1-0.0118908207812*x1**2>=0\n",
    "x1_f=x1+0.0005*(1000-0.5418*x1**2)\n",
    "\n",
    "inv_f1 =1+0.959881388298*x1_f-0.0118908207812*x1_f**2>=0\n",
    "\n",
    "loop_cond =(x1+1)*(x1-82)<=0\n",
    "pre = x1*(80-x1)>=0\n",
    "post = (x1+10)*(x1-79)<=0\n",
    "\n",
    "cons1 = ForAll([x1],Implies(pre, inv))\n",
    "cons2 = ForAll([x1],Implies(And(inv,loop_cond), inv_f1))\n",
    "cons3 = ForAll([x1],Implies(And(inv, Not(loop_cond)),post))\n",
    "               \n",
    "s = Solver()\n",
    "s.add(cons1, cons2, cons3)\n",
    "print(s.check())\n",
    "print(s.model())\n",
    "end = time.time()\n",
    "print(\"Consuming Time: %.8f s\\n\"%((end-start)))"
   ]
  },
  {
   "cell_type": "markdown",
   "id": "07752ff6",
   "metadata": {},
   "source": [
    "# EX2"
   ]
  },
  {
   "cell_type": "markdown",
   "id": "7e5fba2d",
   "metadata": {},
   "source": [
    "arXiv:1903.04668"
   ]
  },
  {
   "cell_type": "code",
   "execution_count": null,
   "id": "3a2cac5b",
   "metadata": {},
   "outputs": [],
   "source": []
  },
  {
   "cell_type": "markdown",
   "id": "a68ffbb5",
   "metadata": {},
   "source": [
    "our:0.45s 1+0.269406630939*x1^2-0.617905967972*x2^2"
   ]
  },
  {
   "cell_type": "code",
   "execution_count": 1,
   "id": "53b3d203",
   "metadata": {},
   "outputs": [
    {
     "name": "stdout",
     "output_type": "stream",
     "text": [
      "sat\n",
      "[a1 = 0, a2 = 1]\n",
      "Consuming Time: 7.18844771 s\n",
      "\n"
     ]
    }
   ],
   "source": [
    "# code 2 in paper\n",
    "from z3 import *\n",
    "import time\n",
    "start = time.time()\n",
    "x1,x2,a1,a2,a3 = Reals('x1 x2 a1 a2 a3')\n",
    "xrange = And(x1>=-5, x1<=5, x2>=-5, x2<=5)\n",
    "arange = And(a1>=-10, a1<=10, a2>=-10, a2<=10)\n",
    "\n",
    "inv = a1*x1**2 + a2*x2**2 + 1>=0\n",
    "inv_ineq = 1>=0\n",
    "\n",
    "guard1 = -1<=0\n",
    "inv_f1 = a1*(0.9*(x1-0.01*x2))**2 + a2*(0.9*(x2+0.01*x1))**2+1>=0\n",
    "\n",
    "loop_cond = 1>=0\n",
    "pre = x1**2+x2**2-1<=0\n",
    "post = 0.25-x1**2-(x2-2)**2<=0\n",
    "\n",
    "cons1 = ForAll([x1,x2],Implies(And(pre, xrange), inv))\n",
    "cons2 = ForAll([x1,x2],Implies(And(inv, guard1, loop_cond, xrange), inv_f1))\n",
    "cons3 = ForAll([x1,x2],Implies(And(inv, Not(loop_cond),xrange),post))\n",
    "               \n",
    "s = Solver()\n",
    "s.add( cons1, cons2, cons3, arange)\n",
    "print(s.check())\n",
    "print(s.model())\n",
    "end = time.time()\n",
    "print(\"Consuming Time: %.8f s\\n\"%((end-start)))"
   ]
  },
  {
   "cell_type": "markdown",
   "id": "5c298d55",
   "metadata": {},
   "source": [
    "# EX3 "
   ]
  },
  {
   "cell_type": "markdown",
   "id": "77ca5087",
   "metadata": {},
   "source": [
    "our:0.299s 0.88687354449+1.34861285266*x1-1.6072153343*x1^2\n"
   ]
  },
  {
   "cell_type": "markdown",
   "id": "47b07424",
   "metadata": {},
   "source": [
    "S. Kupferschmid, B. Becker: Craig interpolation in the presence of non-linear constraints. In FORMATS(2011)."
   ]
  },
  {
   "cell_type": "code",
   "execution_count": null,
   "id": "7a9d4698",
   "metadata": {},
   "outputs": [],
   "source": []
  },
  {
   "cell_type": "code",
   "execution_count": 1,
   "id": "e3ba4e2c",
   "metadata": {},
   "outputs": [
    {
     "name": "stdout",
     "output_type": "stream",
     "text": [
      "sat\n",
      "[a1 = 1, a3 = -1, a2 = 1/8]\n",
      "Consuming Time: 0.56805849 s\n",
      "\n"
     ]
    }
   ],
   "source": [
    "from z3 import *\n",
    "import time\n",
    "start = time.time()\n",
    "x,a1,a2,a3= Reals('x a1 a2 a3')\n",
    "inv=a1+a2*x+a3*x**2>=0\n",
    "\n",
    "inv_f1 =a1+a2*(-1.6*x*(1-x))+a3*(-1.6*x*(1-x))**2>=0\n",
    "\n",
    "\n",
    "loop_cond = (x+0.3)*(1.7-x)>=0\n",
    "pre = x*(1-x)>=0\n",
    "post = (x-1.5)*(x+1)<=0\n",
    "\n",
    "cons1 = ForAll([x],Implies(And(pre), inv))\n",
    "cons2 = ForAll([x],Implies(And(inv,loop_cond), inv_f1))\n",
    "cons3 = ForAll([x],Implies(And(inv, Not(loop_cond)),post))\n",
    "               \n",
    "s = Solver()\n",
    "s.add(cons1, cons2, cons3)\n",
    "print(s.check())\n",
    "print(s.model())\n",
    "end = time.time()\n",
    "print(\"Consuming Time: %.8f s\\n\"%((end-start)))"
   ]
  },
  {
   "cell_type": "code",
   "execution_count": null,
   "id": "ffd71154",
   "metadata": {},
   "outputs": [],
   "source": [
    "7.06902251154+3.26440458936*x1-1.68135316451*x1^2"
   ]
  },
  {
   "cell_type": "code",
   "execution_count": 25,
   "id": "7c062627",
   "metadata": {},
   "outputs": [],
   "source": [
    "import numpy as np"
   ]
  },
  {
   "cell_type": "code",
   "execution_count": 26,
   "id": "2b82600a",
   "metadata": {},
   "outputs": [
    {
     "data": {
      "text/plain": [
       "7.628789602690289"
      ]
     },
     "execution_count": 26,
     "metadata": {},
     "output_type": "execute_result"
    }
   ],
   "source": [
    "np.sqrt(3.26440458936**2+4*7.06902251154*1.68135316451)"
   ]
  },
  {
   "cell_type": "code",
   "execution_count": 27,
   "id": "f92191a1",
   "metadata": {},
   "outputs": [
    {
     "data": {
      "text/plain": [
       "-1.2978787281142714"
      ]
     },
     "execution_count": 27,
     "metadata": {},
     "output_type": "execute_result"
    }
   ],
   "source": [
    "(-3.26440458936+7.628789602690289)/(2*(-1.68135316451))"
   ]
  },
  {
   "cell_type": "code",
   "execution_count": 28,
   "id": "def47f7d",
   "metadata": {},
   "outputs": [
    {
     "data": {
      "text/plain": [
       "3.239412879454423"
      ]
     },
     "execution_count": 28,
     "metadata": {},
     "output_type": "execute_result"
    }
   ],
   "source": [
    "(-3.26440458936-7.628789602690289)/(2*(-1.68135316451))"
   ]
  },
  {
   "cell_type": "code",
   "execution_count": null,
   "id": "25f4922a",
   "metadata": {},
   "outputs": [],
   "source": []
  },
  {
   "cell_type": "code",
   "execution_count": 1,
   "id": "1417b30e",
   "metadata": {},
   "outputs": [
    {
     "name": "stdout",
     "output_type": "stream",
     "text": [
      "sat\n",
      "[a3 = -1, a2 = 1/2]\n",
      "Consuming Time: 0.13897729 s\n",
      "\n"
     ]
    }
   ],
   "source": [
    "from z3 import *\n",
    "import time\n",
    "start = time.time()\n",
    "x,a2,a3= Reals('x a2 a3')\n",
    "inv=1+a2*x+a3*x**2>=0\n",
    "\n",
    "inv_f1 =1+a2*(-1.6*x*(1-x))+a3*(-1.6*x*(1-x))**2>=0\n",
    "\n",
    "\n",
    "loop_cond = (x+0.3)*(1.7-x)>=0\n",
    "pre = x*(1-x)>=0\n",
    "post = (x-1.5)*(x+1)<=0\n",
    "\n",
    "cons1 = ForAll([x],Implies(And(pre), inv))\n",
    "cons2 = ForAll([x],Implies(And(inv,loop_cond), inv_f1))\n",
    "cons3 = ForAll([x],Implies(And(inv, Not(loop_cond)),post))\n",
    "               \n",
    "s = Solver()\n",
    "s.add(cons1, cons2, cons3)\n",
    "print(s.check())\n",
    "print(s.model())\n",
    "end = time.time()\n",
    "print(\"Consuming Time: %.8f s\\n\"%((end-start)))"
   ]
  },
  {
   "cell_type": "markdown",
   "id": "4f96b841",
   "metadata": {},
   "source": [
    "# EX4 step_size=0.01"
   ]
  },
  {
   "cell_type": "markdown",
   "id": "685617f1",
   "metadata": {},
   "source": [
    "our:0.318697 inv=1.61547196782-0.128663495278*x1-0.053005257577*x1^2"
   ]
  },
  {
   "cell_type": "markdown",
   "id": "c553db10",
   "metadata": {},
   "source": [
    "stochastic gradient descent algorithm with fixed step size"
   ]
  },
  {
   "cell_type": "markdown",
   "id": "8272fc25",
   "metadata": {},
   "source": [
    "here the delta is a2^2-4*a1*a3<0 which means the result is R so the result is not right"
   ]
  },
  {
   "cell_type": "code",
   "execution_count": 5,
   "id": "8c7f56c0",
   "metadata": {},
   "outputs": [],
   "source": [
    "def myrep1(s):\n",
    "    s=str(s)\n",
    "    s=s.replace(\"^\",\"**\")\n",
    "    return s\n",
    "    "
   ]
  },
  {
   "cell_type": "code",
   "execution_count": 6,
   "id": "89887c02",
   "metadata": {},
   "outputs": [],
   "source": [
    "def myrep1f(s):\n",
    "    s=str(s)\n",
    "    s=s.replace(\"^\",\"**\")\n",
    "    s=s.replace(\"x1\",\"x1_f\")\n",
    "    s=s.replace(\"x2\",\"x2_f\")\n",
    "    return s\n",
    "    "
   ]
  },
  {
   "cell_type": "code",
   "execution_count": 3,
   "id": "aa406c64",
   "metadata": {},
   "outputs": [
    {
     "ename": "NameError",
     "evalue": "name 'myrep1' is not defined",
     "output_type": "error",
     "traceback": [
      "\u001b[1;31m---------------------------------------------------------------------------\u001b[0m",
      "\u001b[1;31mNameError\u001b[0m                                 Traceback (most recent call last)",
      "Cell \u001b[1;32mIn[3], line 1\u001b[0m\n\u001b[1;32m----> 1\u001b[0m myrep1(\u001b[38;5;124m\"\u001b[39m\u001b[38;5;124m7.12451164754+3.33761288218*x1-1.70752700703*x1^2\u001b[39m\u001b[38;5;124m\"\u001b[39m)\n",
      "\u001b[1;31mNameError\u001b[0m: name 'myrep1' is not defined"
     ]
    }
   ],
   "source": [
    "myrep1(\"7.12451164754+3.33761288218*x1-1.70752700703*x1^2\")"
   ]
  },
  {
   "cell_type": "code",
   "execution_count": 4,
   "id": "1cacc9fa",
   "metadata": {},
   "outputs": [
    {
     "data": {
      "text/plain": [
       "'7.12451164754+3.33761288218*x1_f-1.70752700703*x1_f**2'"
      ]
     },
     "execution_count": 4,
     "metadata": {},
     "output_type": "execute_result"
    }
   ],
   "source": [
    "myrep1f(\"7.12451164754+3.33761288218*x1-1.70752700703*x1^2\")"
   ]
  },
  {
   "cell_type": "code",
   "execution_count": 5,
   "id": "8fe035b3",
   "metadata": {},
   "outputs": [
    {
     "name": "stdout",
     "output_type": "stream",
     "text": [
      "unsat\n"
     ]
    },
    {
     "ename": "Z3Exception",
     "evalue": "model is not available",
     "output_type": "error",
     "traceback": [
      "\u001b[1;31m---------------------------------------------------------------------------\u001b[0m",
      "\u001b[1;31mZ3Exception\u001b[0m                               Traceback (most recent call last)",
      "File \u001b[1;32m~\\AppData\\Roaming\\Python\\Python311\\site-packages\\z3\\z3.py:7131\u001b[0m, in \u001b[0;36mSolver.model\u001b[1;34m(self)\u001b[0m\n\u001b[0;32m   7130\u001b[0m \u001b[38;5;28;01mtry\u001b[39;00m:\n\u001b[1;32m-> 7131\u001b[0m     \u001b[38;5;28;01mreturn\u001b[39;00m ModelRef(Z3_solver_get_model(\u001b[38;5;28mself\u001b[39m\u001b[38;5;241m.\u001b[39mctx\u001b[38;5;241m.\u001b[39mref(), \u001b[38;5;28mself\u001b[39m\u001b[38;5;241m.\u001b[39msolver), \u001b[38;5;28mself\u001b[39m\u001b[38;5;241m.\u001b[39mctx)\n\u001b[0;32m   7132\u001b[0m \u001b[38;5;28;01mexcept\u001b[39;00m Z3Exception:\n",
      "File \u001b[1;32m~\\AppData\\Roaming\\Python\\Python311\\site-packages\\z3\\z3core.py:4185\u001b[0m, in \u001b[0;36mZ3_solver_get_model\u001b[1;34m(a0, a1, _elems)\u001b[0m\n\u001b[0;32m   4184\u001b[0m r \u001b[38;5;241m=\u001b[39m _elems\u001b[38;5;241m.\u001b[39mf(a0, a1)\n\u001b[1;32m-> 4185\u001b[0m _elems\u001b[38;5;241m.\u001b[39mCheck(a0)\n\u001b[0;32m   4186\u001b[0m \u001b[38;5;28;01mreturn\u001b[39;00m r\n",
      "File \u001b[1;32m~\\AppData\\Roaming\\Python\\Python311\\site-packages\\z3\\z3core.py:1505\u001b[0m, in \u001b[0;36mElementaries.Check\u001b[1;34m(self, ctx)\u001b[0m\n\u001b[0;32m   1504\u001b[0m \u001b[38;5;28;01mif\u001b[39;00m err \u001b[38;5;241m!=\u001b[39m \u001b[38;5;28mself\u001b[39m\u001b[38;5;241m.\u001b[39mOK:\n\u001b[1;32m-> 1505\u001b[0m     \u001b[38;5;28;01mraise\u001b[39;00m \u001b[38;5;28mself\u001b[39m\u001b[38;5;241m.\u001b[39mException(\u001b[38;5;28mself\u001b[39m\u001b[38;5;241m.\u001b[39mget_error_message(ctx, err))\n",
      "\u001b[1;31mZ3Exception\u001b[0m: b'there is no current model'",
      "\nDuring handling of the above exception, another exception occurred:\n",
      "\u001b[1;31mZ3Exception\u001b[0m                               Traceback (most recent call last)",
      "Cell \u001b[1;32mIn[5], line 23\u001b[0m\n\u001b[0;32m     21\u001b[0m s\u001b[38;5;241m.\u001b[39madd(cons1,cons2, cons3)\n\u001b[0;32m     22\u001b[0m \u001b[38;5;28mprint\u001b[39m(s\u001b[38;5;241m.\u001b[39mcheck())\n\u001b[1;32m---> 23\u001b[0m \u001b[38;5;28mprint\u001b[39m(s\u001b[38;5;241m.\u001b[39mmodel())\n\u001b[0;32m     24\u001b[0m end \u001b[38;5;241m=\u001b[39m time\u001b[38;5;241m.\u001b[39mtime()\n\u001b[0;32m     25\u001b[0m \u001b[38;5;28mprint\u001b[39m(\u001b[38;5;124m\"\u001b[39m\u001b[38;5;124mConsuming Time: \u001b[39m\u001b[38;5;132;01m%.8f\u001b[39;00m\u001b[38;5;124m s\u001b[39m\u001b[38;5;130;01m\\n\u001b[39;00m\u001b[38;5;124m\"\u001b[39m\u001b[38;5;241m%\u001b[39m((end\u001b[38;5;241m-\u001b[39mstart)))\n",
      "File \u001b[1;32m~\\AppData\\Roaming\\Python\\Python311\\site-packages\\z3\\z3.py:7133\u001b[0m, in \u001b[0;36mSolver.model\u001b[1;34m(self)\u001b[0m\n\u001b[0;32m   7131\u001b[0m     \u001b[38;5;28;01mreturn\u001b[39;00m ModelRef(Z3_solver_get_model(\u001b[38;5;28mself\u001b[39m\u001b[38;5;241m.\u001b[39mctx\u001b[38;5;241m.\u001b[39mref(), \u001b[38;5;28mself\u001b[39m\u001b[38;5;241m.\u001b[39msolver), \u001b[38;5;28mself\u001b[39m\u001b[38;5;241m.\u001b[39mctx)\n\u001b[0;32m   7132\u001b[0m \u001b[38;5;28;01mexcept\u001b[39;00m Z3Exception:\n\u001b[1;32m-> 7133\u001b[0m     \u001b[38;5;28;01mraise\u001b[39;00m Z3Exception(\u001b[38;5;124m\"\u001b[39m\u001b[38;5;124mmodel is not available\u001b[39m\u001b[38;5;124m\"\u001b[39m)\n",
      "\u001b[1;31mZ3Exception\u001b[0m: model is not available"
     ]
    }
   ],
   "source": [
    "from z3 import *\n",
    "import time\n",
    "start = time.time()\n",
    "x1,a1,a2,a3= Reals('x1 a1 a2 a3')\n",
    "inv=7.06902251154+3.26440458936*x1-1.68135316451*x1**2>=0\n",
    "\n",
    "x1_f=x1-0.01*x1*(x1-2)*(x1-4)\n",
    "\n",
    "\n",
    "inv_f1 =7.06902251154+3.26440458936*x1_f-1.68135316451*x1_f**2>=0\n",
    "\n",
    "loop_cond =(x1+2)*(3.5-x1)>=0\n",
    "pre = (x1+1)*(3-x1)>=0\n",
    "post = (x1-3)*(5-x1)>=0\n",
    "\n",
    "cons1 = ForAll([x1],Implies(And(pre), inv))\n",
    "cons2 = ForAll([x1],Implies(And(inv, loop_cond), inv_f1))\n",
    "cons3 = ForAll([x1],Implies(And(inv, Not(loop_cond)),post))\n",
    "               \n",
    "s = Solver()\n",
    "s.add(cons1,cons2, cons3)\n",
    "print(s.check())\n",
    "print(s.model())\n",
    "end = time.time()\n",
    "print(\"Consuming Time: %.8f s\\n\"%((end-start)))"
   ]
  },
  {
   "cell_type": "code",
   "execution_count": null,
   "id": "e328a51b",
   "metadata": {},
   "outputs": [],
   "source": []
  },
  {
   "cell_type": "code",
   "execution_count": 1,
   "id": "f040b312",
   "metadata": {},
   "outputs": [
    {
     "name": "stdout",
     "output_type": "stream",
     "text": [
      "sat\n",
      "[a1 = 2, a2 = 1]\n",
      "Consuming Time: 1.30120134 s\n",
      "\n"
     ]
    }
   ],
   "source": [
    "from z3 import *\n",
    "import time\n",
    "start = time.time()\n",
    "x1,a1,a2= Reals('x1 a1 a2')\n",
    "inv=a1+a2*x1-x1**2>=0\n",
    "\n",
    "\n",
    "inv_f1 =a1+a2*(x1-0.01*x1*(x1-2)*(x1-4))-(x1-0.01*x1*(x1-2)*(x1-4))**2>=0\n",
    "\n",
    "loop_cond =(x1+3)*(3-x1)>=0\n",
    "pre = (x1+1)*(1-x1)>=0\n",
    "post = (x1-3)*(5-x1)>=0\n",
    "\n",
    "cons1 = ForAll([x1],Implies(And(pre), inv))\n",
    "cons2 = ForAll([x1],Implies(And(inv, loop_cond), inv_f1))\n",
    "cons3 = ForAll([x1],Implies(And(inv, Not(loop_cond)),post))\n",
    "               \n",
    "s = Solver()\n",
    "s.add(cons1, cons2, cons3)\n",
    "print(s.check())\n",
    "print(s.model())\n",
    "end = time.time()\n",
    "print(\"Consuming Time: %.8f s\\n\"%((end-start)))"
   ]
  },
  {
   "cell_type": "code",
   "execution_count": null,
   "id": "c8110d19",
   "metadata": {},
   "outputs": [],
   "source": [
    "4.21071672981+1.96093795522*x1-x1^2"
   ]
  },
  {
   "cell_type": "code",
   "execution_count": 9,
   "id": "b43a21b6",
   "metadata": {},
   "outputs": [
    {
     "name": "stdout",
     "output_type": "stream",
     "text": [
      "unsat\n"
     ]
    },
    {
     "ename": "Z3Exception",
     "evalue": "model is not available",
     "output_type": "error",
     "traceback": [
      "\u001b[1;31m---------------------------------------------------------------------------\u001b[0m",
      "\u001b[1;31mZ3Exception\u001b[0m                               Traceback (most recent call last)",
      "File \u001b[1;32m~\\AppData\\Roaming\\Python\\Python311\\site-packages\\z3\\z3.py:7131\u001b[0m, in \u001b[0;36mSolver.model\u001b[1;34m(self)\u001b[0m\n\u001b[0;32m   7130\u001b[0m \u001b[38;5;28;01mtry\u001b[39;00m:\n\u001b[1;32m-> 7131\u001b[0m     \u001b[38;5;28;01mreturn\u001b[39;00m ModelRef(Z3_solver_get_model(\u001b[38;5;28mself\u001b[39m\u001b[38;5;241m.\u001b[39mctx\u001b[38;5;241m.\u001b[39mref(), \u001b[38;5;28mself\u001b[39m\u001b[38;5;241m.\u001b[39msolver), \u001b[38;5;28mself\u001b[39m\u001b[38;5;241m.\u001b[39mctx)\n\u001b[0;32m   7132\u001b[0m \u001b[38;5;28;01mexcept\u001b[39;00m Z3Exception:\n",
      "File \u001b[1;32m~\\AppData\\Roaming\\Python\\Python311\\site-packages\\z3\\z3core.py:4185\u001b[0m, in \u001b[0;36mZ3_solver_get_model\u001b[1;34m(a0, a1, _elems)\u001b[0m\n\u001b[0;32m   4184\u001b[0m r \u001b[38;5;241m=\u001b[39m _elems\u001b[38;5;241m.\u001b[39mf(a0, a1)\n\u001b[1;32m-> 4185\u001b[0m _elems\u001b[38;5;241m.\u001b[39mCheck(a0)\n\u001b[0;32m   4186\u001b[0m \u001b[38;5;28;01mreturn\u001b[39;00m r\n",
      "File \u001b[1;32m~\\AppData\\Roaming\\Python\\Python311\\site-packages\\z3\\z3core.py:1505\u001b[0m, in \u001b[0;36mElementaries.Check\u001b[1;34m(self, ctx)\u001b[0m\n\u001b[0;32m   1504\u001b[0m \u001b[38;5;28;01mif\u001b[39;00m err \u001b[38;5;241m!=\u001b[39m \u001b[38;5;28mself\u001b[39m\u001b[38;5;241m.\u001b[39mOK:\n\u001b[1;32m-> 1505\u001b[0m     \u001b[38;5;28;01mraise\u001b[39;00m \u001b[38;5;28mself\u001b[39m\u001b[38;5;241m.\u001b[39mException(\u001b[38;5;28mself\u001b[39m\u001b[38;5;241m.\u001b[39mget_error_message(ctx, err))\n",
      "\u001b[1;31mZ3Exception\u001b[0m: b'there is no current model'",
      "\nDuring handling of the above exception, another exception occurred:\n",
      "\u001b[1;31mZ3Exception\u001b[0m                               Traceback (most recent call last)",
      "Cell \u001b[1;32mIn[9], line 24\u001b[0m\n\u001b[0;32m     22\u001b[0m s\u001b[38;5;241m.\u001b[39madd(cons1, cons2, cons3)\n\u001b[0;32m     23\u001b[0m \u001b[38;5;28mprint\u001b[39m(s\u001b[38;5;241m.\u001b[39mcheck())\n\u001b[1;32m---> 24\u001b[0m \u001b[38;5;28mprint\u001b[39m(s\u001b[38;5;241m.\u001b[39mmodel())\n\u001b[0;32m     25\u001b[0m end \u001b[38;5;241m=\u001b[39m time\u001b[38;5;241m.\u001b[39mtime()\n\u001b[0;32m     26\u001b[0m \u001b[38;5;28mprint\u001b[39m(\u001b[38;5;124m\"\u001b[39m\u001b[38;5;124mConsuming Time: \u001b[39m\u001b[38;5;132;01m%.8f\u001b[39;00m\u001b[38;5;124m s\u001b[39m\u001b[38;5;130;01m\\n\u001b[39;00m\u001b[38;5;124m\"\u001b[39m\u001b[38;5;241m%\u001b[39m((end\u001b[38;5;241m-\u001b[39mstart)))\n",
      "File \u001b[1;32m~\\AppData\\Roaming\\Python\\Python311\\site-packages\\z3\\z3.py:7133\u001b[0m, in \u001b[0;36mSolver.model\u001b[1;34m(self)\u001b[0m\n\u001b[0;32m   7131\u001b[0m     \u001b[38;5;28;01mreturn\u001b[39;00m ModelRef(Z3_solver_get_model(\u001b[38;5;28mself\u001b[39m\u001b[38;5;241m.\u001b[39mctx\u001b[38;5;241m.\u001b[39mref(), \u001b[38;5;28mself\u001b[39m\u001b[38;5;241m.\u001b[39msolver), \u001b[38;5;28mself\u001b[39m\u001b[38;5;241m.\u001b[39mctx)\n\u001b[0;32m   7132\u001b[0m \u001b[38;5;28;01mexcept\u001b[39;00m Z3Exception:\n\u001b[1;32m-> 7133\u001b[0m     \u001b[38;5;28;01mraise\u001b[39;00m Z3Exception(\u001b[38;5;124m\"\u001b[39m\u001b[38;5;124mmodel is not available\u001b[39m\u001b[38;5;124m\"\u001b[39m)\n",
      "\u001b[1;31mZ3Exception\u001b[0m: model is not available"
     ]
    }
   ],
   "source": [
    "from z3 import *\n",
    "import time\n",
    "start = time.time()\n",
    "x1,a1,a2= Reals('x1 a1 a2')\n",
    "inv=4.21071672981+1.96093795522*x1-x1**2>=0\n",
    "\n",
    "\n",
    "x1_f=x1-0.01*x1*(x1-2)*(x1-4)\n",
    "\n",
    "inv_f1 =4.21071672981+1.96093795522*x1_f-x1_f**2>=0\n",
    "\n",
    "\n",
    "loop_cond =(x1+2)*(3.5-x1)>=0\n",
    "pre = (x1+1)*(3-x1)>=0\n",
    "post = (x1-3)*(5-x1)>=0\n",
    "\n",
    "cons1 = ForAll([x1],Implies(And(pre), inv))\n",
    "cons2 = ForAll([x1],Implies(And(inv, loop_cond), inv_f1))\n",
    "cons3 = ForAll([x1],Implies(And(inv, Not(loop_cond)),post))\n",
    "               \n",
    "s = Solver()\n",
    "s.add(cons1, cons2, cons3)\n",
    "print(s.check())\n",
    "print(s.model())\n",
    "end = time.time()\n",
    "print(\"Consuming Time: %.8f s\\n\"%((end-start)))"
   ]
  },
  {
   "cell_type": "markdown",
   "id": "5cee1078",
   "metadata": {},
   "source": [
    "# EX4 setp_size=0.001"
   ]
  },
  {
   "cell_type": "markdown",
   "id": "6f0470f7",
   "metadata": {},
   "source": [
    "template: a0+a1*x1+a1*x1**2"
   ]
  },
  {
   "cell_type": "markdown",
   "id": "ef35d0d0",
   "metadata": {},
   "source": [
    "our 0.324894 2.23933048063-0.202628877386*x1-1.45920598972*x1^2"
   ]
  },
  {
   "cell_type": "code",
   "execution_count": null,
   "id": "2d8801e8",
   "metadata": {},
   "outputs": [],
   "source": [
    "7.12451164754+3.33761288218*x1-1.70752700703*x1^2"
   ]
  },
  {
   "cell_type": "code",
   "execution_count": 2,
   "id": "174b5b83",
   "metadata": {},
   "outputs": [
    {
     "ename": "NameError",
     "evalue": "name 'myrep1' is not defined",
     "output_type": "error",
     "traceback": [
      "\u001b[1;31m---------------------------------------------------------------------------\u001b[0m",
      "\u001b[1;31mNameError\u001b[0m                                 Traceback (most recent call last)",
      "Cell \u001b[1;32mIn[2], line 1\u001b[0m\n\u001b[1;32m----> 1\u001b[0m myrep1(\u001b[38;5;124m\"\u001b[39m\u001b[38;5;124m7.05809207856+1.59424202721*x1-1.0302595146*x1^2\u001b[39m\u001b[38;5;124m\"\u001b[39m)\n",
      "\u001b[1;31mNameError\u001b[0m: name 'myrep1' is not defined"
     ]
    }
   ],
   "source": [
    "myrep1(\"7.05809207856+1.59424202721*x1-1.0302595146*x1^2\")"
   ]
  },
  {
   "cell_type": "code",
   "execution_count": 15,
   "id": "c7e87c5d",
   "metadata": {},
   "outputs": [
    {
     "data": {
      "text/plain": [
       "'7.05809207856+1.59424202721*x1_f-1.0302595146*x1_f**2'"
      ]
     },
     "execution_count": 15,
     "metadata": {},
     "output_type": "execute_result"
    }
   ],
   "source": [
    "myrep1f(\"7.05809207856+1.59424202721*x1-1.0302595146*x1^2\")"
   ]
  },
  {
   "cell_type": "code",
   "execution_count": null,
   "id": "84727a64",
   "metadata": {},
   "outputs": [],
   "source": []
  },
  {
   "cell_type": "code",
   "execution_count": 16,
   "id": "079658cb",
   "metadata": {},
   "outputs": [
    {
     "name": "stdout",
     "output_type": "stream",
     "text": [
      "sat\n",
      "[]\n",
      "Consuming Time: 0.02237129 s\n",
      "\n"
     ]
    }
   ],
   "source": [
    "from z3 import *\n",
    "import time\n",
    "start = time.time()\n",
    "x1,a1,a2,a3= Reals('x1 a1 a2 a3')\n",
    "inv=7.05809207856+1.59424202721*x1-1.0302595146*x1**2>=0\n",
    "\n",
    "x1_f=x1-0.001*x1*(x1-2)*(x1-4)\n",
    "\n",
    "inv_f1 =7.05809207856+1.59424202721*x1_f-1.0302595146*x1_f**2>=0\n",
    "\n",
    "loop_cond =(x1+2)*(3.5-x1)>=0\n",
    "pre = (x1+1)*(3-x1)>=0\n",
    "post = (x1-2)*(5-x1)>=0\n",
    "\n",
    "cons1 = ForAll([x1],Implies(And(pre), inv))\n",
    "cons2 = ForAll([x1],Implies(And(inv, loop_cond), inv_f1))\n",
    "cons3 = ForAll([x1],Implies(And(inv, Not(loop_cond)),post))\n",
    "               \n",
    "s = Solver()\n",
    "s.add(cons1, cons2, cons3)\n",
    "print(s.check())\n",
    "print(s.model())\n",
    "end = time.time()\n",
    "print(\"Consuming Time: %.8f s\\n\"%((end-start)))"
   ]
  },
  {
   "cell_type": "code",
   "execution_count": null,
   "id": "7e7ccba7",
   "metadata": {},
   "outputs": [],
   "source": [
    "7.08170595173+3.28953845533*x1-1.68799459732*x1^2"
   ]
  },
  {
   "cell_type": "code",
   "execution_count": 12,
   "id": "bd6cf70f",
   "metadata": {},
   "outputs": [
    {
     "name": "stdout",
     "output_type": "stream",
     "text": [
      "sat\n",
      "[]\n",
      "Consuming Time: 0.02599955 s\n",
      "\n"
     ]
    }
   ],
   "source": [
    "from z3 import *\n",
    "import time\n",
    "start = time.time()\n",
    "x1,a1,a2,a3= Reals('x1 a1 a2 a3')\n",
    "inv=6.26683592445+3.59834730074*x1-1.53517052837*x1**2>=0\n",
    "\n",
    "x1_f=x1-0.001*x1*(x1-2)*(x1-4)\n",
    "\n",
    "inv_f1 =6.26683592445+3.59834730074*x1_f-1.53517052837*x1_f**2>=0\n",
    "\n",
    "loop_cond =(x1+2)*(3.5-x1)>=0\n",
    "pre = (x1+1)*(3-x1)>=0\n",
    "post = (x1-3)*(5-x1)>=0\n",
    "\n",
    "cons1 = ForAll([x1],Implies(And(pre), inv))\n",
    "cons2 = ForAll([x1],Implies(And(inv, loop_cond), inv_f1))\n",
    "cons3 = ForAll([x1],Implies(And(inv, Not(loop_cond)),post))\n",
    "               \n",
    "s = Solver()\n",
    "s.add(cons1, cons2, cons3)\n",
    "print(s.check())\n",
    "print(s.model())\n",
    "end = time.time()\n",
    "print(\"Consuming Time: %.8f s\\n\"%((end-start)))"
   ]
  },
  {
   "cell_type": "code",
   "execution_count": null,
   "id": "4fa5c31b",
   "metadata": {},
   "outputs": [],
   "source": [
    "7.12451164754+3.33761288218*x1-1.70752700703*x1^2"
   ]
  },
  {
   "cell_type": "code",
   "execution_count": null,
   "id": "c90f1555",
   "metadata": {},
   "outputs": [],
   "source": [
    "0.10103443117+0.0453492906854*x1-0.0232718355588*x1^2"
   ]
  },
  {
   "cell_type": "code",
   "execution_count": 12,
   "id": "7f97e42a",
   "metadata": {},
   "outputs": [
    {
     "name": "stdout",
     "output_type": "stream",
     "text": [
      "unsat\n"
     ]
    },
    {
     "ename": "Z3Exception",
     "evalue": "model is not available",
     "output_type": "error",
     "traceback": [
      "\u001b[1;31m---------------------------------------------------------------------------\u001b[0m",
      "\u001b[1;31mZ3Exception\u001b[0m                               Traceback (most recent call last)",
      "File \u001b[1;32m~\\AppData\\Roaming\\Python\\Python311\\site-packages\\z3\\z3.py:7131\u001b[0m, in \u001b[0;36mSolver.model\u001b[1;34m(self)\u001b[0m\n\u001b[0;32m   7130\u001b[0m \u001b[38;5;28;01mtry\u001b[39;00m:\n\u001b[1;32m-> 7131\u001b[0m     \u001b[38;5;28;01mreturn\u001b[39;00m ModelRef(Z3_solver_get_model(\u001b[38;5;28mself\u001b[39m\u001b[38;5;241m.\u001b[39mctx\u001b[38;5;241m.\u001b[39mref(), \u001b[38;5;28mself\u001b[39m\u001b[38;5;241m.\u001b[39msolver), \u001b[38;5;28mself\u001b[39m\u001b[38;5;241m.\u001b[39mctx)\n\u001b[0;32m   7132\u001b[0m \u001b[38;5;28;01mexcept\u001b[39;00m Z3Exception:\n",
      "File \u001b[1;32m~\\AppData\\Roaming\\Python\\Python311\\site-packages\\z3\\z3core.py:4185\u001b[0m, in \u001b[0;36mZ3_solver_get_model\u001b[1;34m(a0, a1, _elems)\u001b[0m\n\u001b[0;32m   4184\u001b[0m r \u001b[38;5;241m=\u001b[39m _elems\u001b[38;5;241m.\u001b[39mf(a0, a1)\n\u001b[1;32m-> 4185\u001b[0m _elems\u001b[38;5;241m.\u001b[39mCheck(a0)\n\u001b[0;32m   4186\u001b[0m \u001b[38;5;28;01mreturn\u001b[39;00m r\n",
      "File \u001b[1;32m~\\AppData\\Roaming\\Python\\Python311\\site-packages\\z3\\z3core.py:1505\u001b[0m, in \u001b[0;36mElementaries.Check\u001b[1;34m(self, ctx)\u001b[0m\n\u001b[0;32m   1504\u001b[0m \u001b[38;5;28;01mif\u001b[39;00m err \u001b[38;5;241m!=\u001b[39m \u001b[38;5;28mself\u001b[39m\u001b[38;5;241m.\u001b[39mOK:\n\u001b[1;32m-> 1505\u001b[0m     \u001b[38;5;28;01mraise\u001b[39;00m \u001b[38;5;28mself\u001b[39m\u001b[38;5;241m.\u001b[39mException(\u001b[38;5;28mself\u001b[39m\u001b[38;5;241m.\u001b[39mget_error_message(ctx, err))\n",
      "\u001b[1;31mZ3Exception\u001b[0m: b'there is no current model'",
      "\nDuring handling of the above exception, another exception occurred:\n",
      "\u001b[1;31mZ3Exception\u001b[0m                               Traceback (most recent call last)",
      "Cell \u001b[1;32mIn[12], line 22\u001b[0m\n\u001b[0;32m     20\u001b[0m s\u001b[38;5;241m.\u001b[39madd(cons1, cons2, cons3)\n\u001b[0;32m     21\u001b[0m \u001b[38;5;28mprint\u001b[39m(s\u001b[38;5;241m.\u001b[39mcheck())\n\u001b[1;32m---> 22\u001b[0m \u001b[38;5;28mprint\u001b[39m(s\u001b[38;5;241m.\u001b[39mmodel())\n\u001b[0;32m     23\u001b[0m end \u001b[38;5;241m=\u001b[39m time\u001b[38;5;241m.\u001b[39mtime()\n\u001b[0;32m     24\u001b[0m \u001b[38;5;28mprint\u001b[39m(\u001b[38;5;124m\"\u001b[39m\u001b[38;5;124mConsuming Time: \u001b[39m\u001b[38;5;132;01m%.8f\u001b[39;00m\u001b[38;5;124m s\u001b[39m\u001b[38;5;130;01m\\n\u001b[39;00m\u001b[38;5;124m\"\u001b[39m\u001b[38;5;241m%\u001b[39m((end\u001b[38;5;241m-\u001b[39mstart)))\n",
      "File \u001b[1;32m~\\AppData\\Roaming\\Python\\Python311\\site-packages\\z3\\z3.py:7133\u001b[0m, in \u001b[0;36mSolver.model\u001b[1;34m(self)\u001b[0m\n\u001b[0;32m   7131\u001b[0m     \u001b[38;5;28;01mreturn\u001b[39;00m ModelRef(Z3_solver_get_model(\u001b[38;5;28mself\u001b[39m\u001b[38;5;241m.\u001b[39mctx\u001b[38;5;241m.\u001b[39mref(), \u001b[38;5;28mself\u001b[39m\u001b[38;5;241m.\u001b[39msolver), \u001b[38;5;28mself\u001b[39m\u001b[38;5;241m.\u001b[39mctx)\n\u001b[0;32m   7132\u001b[0m \u001b[38;5;28;01mexcept\u001b[39;00m Z3Exception:\n\u001b[1;32m-> 7133\u001b[0m     \u001b[38;5;28;01mraise\u001b[39;00m Z3Exception(\u001b[38;5;124m\"\u001b[39m\u001b[38;5;124mmodel is not available\u001b[39m\u001b[38;5;124m\"\u001b[39m)\n",
      "\u001b[1;31mZ3Exception\u001b[0m: model is not available"
     ]
    }
   ],
   "source": [
    "from z3 import *\n",
    "import time\n",
    "start = time.time()\n",
    "x1,a1,a2,a3= Reals('x1 a1 a2 a3')\n",
    "inv=0.10103443117+0.0453492906854*x1-0.0232718355588*x1**2>=0\n",
    "\n",
    "x1_f=x1-0.001*x1*(x1-2)*(x1-4)\n",
    "\n",
    "inv_f1 =0.10103443117+0.0453492906854*x1_f-0.0232718355588*x1_f**2>=0\n",
    "\n",
    "loop_cond =(x1+2)*(3.5-x1)>=0\n",
    "pre = (x1+1)*(3-x1)>=0\n",
    "post = (x1-3)*(5-x1)>=0\n",
    "\n",
    "cons1 = ForAll([x1],Implies(And(pre), inv))\n",
    "cons2 = ForAll([x1],Implies(And(inv, loop_cond), inv_f1))\n",
    "cons3 = ForAll([x1],Implies(And(inv, Not(loop_cond)),post))\n",
    "               \n",
    "s = Solver()\n",
    "s.add(cons1, cons2, cons3)\n",
    "print(s.check())\n",
    "print(s.model())\n",
    "end = time.time()\n",
    "print(\"Consuming Time: %.8f s\\n\"%((end-start)))"
   ]
  },
  {
   "cell_type": "code",
   "execution_count": 11,
   "id": "e1125431",
   "metadata": {},
   "outputs": [
    {
     "name": "stdout",
     "output_type": "stream",
     "text": [
      "sat\n",
      "[]\n",
      "Consuming Time: 0.02299976 s\n",
      "\n"
     ]
    }
   ],
   "source": [
    "from z3 import *\n",
    "import time\n",
    "start = time.time()\n",
    "x1,a1,a2,a3= Reals('x1 a1 a2 a3')\n",
    "inv=7.05809207856+1.59424202721*x1-1.0302595146*x1**2>=0\n",
    "\n",
    "x1_f=x1-0.001*x1*(x1-2)*(x1-4)\n",
    "\n",
    "inv_f1 =7.05809207856+1.59424202721*x1_f-1.0302595146*x1_f**2>=0\n",
    "\n",
    "loop_cond =(x1+2)*(3.5-x1)>=0\n",
    "pre = (x1+1)*(3-x1)>=0\n",
    "post = (x1-3)*(5-x1)>=0\n",
    "\n",
    "cons1 = ForAll([x1],Implies(And(pre), inv))\n",
    "cons2 = ForAll([x1],Implies(And(inv, loop_cond), inv_f1))\n",
    "cons3 = ForAll([x1],Implies(And(inv, Not(loop_cond)),post))\n",
    "               \n",
    "s = Solver()\n",
    "s.add(cons1, cons2, cons3)\n",
    "print(s.check())\n",
    "print(s.model())\n",
    "end = time.time()\n",
    "print(\"Consuming Time: %.8f s\\n\"%((end-start)))"
   ]
  },
  {
   "cell_type": "markdown",
   "id": "53d3d181",
   "metadata": {},
   "source": [
    "our 0.335687s 2.02975321078-0.115587724701*x1-x1^2"
   ]
  },
  {
   "cell_type": "code",
   "execution_count": 1,
   "id": "cf84cafa",
   "metadata": {},
   "outputs": [
    {
     "name": "stdout",
     "output_type": "stream",
     "text": [
      "sat\n",
      "[a1 = 2, a2 = 1/4]\n",
      "Consuming Time: 1.10252357 s\n",
      "\n"
     ]
    }
   ],
   "source": [
    "from z3 import *\n",
    "import time\n",
    "start = time.time()\n",
    "x1,a1,a2,a3= Reals('x1 a1 a2 a3')\n",
    "inv=a1+a2*x1-x1**2>=0\n",
    "\n",
    "\n",
    "inv_f1 =a1+a2*(x1-0.001*x1*(x1-2)*(x1-4))-(x1-0.001*x1*(x1-2)*(x1-4))**2>=0\n",
    "\n",
    "loop_cond =(x1+3)*(3-x1)>=0\n",
    "pre = (x1+1)*(1-x1)>=0\n",
    "post = (x1-3)*(5-x1)>=0\n",
    "\n",
    "cons1 = ForAll([x1],Implies(And(pre), inv))\n",
    "cons2 = ForAll([x1],Implies(And(inv, loop_cond), inv_f1))\n",
    "cons3 = ForAll([x1],Implies(And(inv, Not(loop_cond)),post))\n",
    "               \n",
    "s = Solver()\n",
    "s.add(cons1, cons2, cons3)\n",
    "print(s.check())\n",
    "print(s.model())\n",
    "end = time.time()\n",
    "print(\"Consuming Time: %.8f s\\n\"%((end-start)))"
   ]
  },
  {
   "cell_type": "code",
   "execution_count": null,
   "id": "00b57e76",
   "metadata": {},
   "outputs": [],
   "source": [
    "7.12451164754+3.33761288218*x1-1.70752700703*x1^2"
   ]
  },
  {
   "cell_type": "code",
   "execution_count": null,
   "id": "958faf92",
   "metadata": {},
   "outputs": [],
   "source": []
  },
  {
   "cell_type": "code",
   "execution_count": null,
   "id": "c66183c6",
   "metadata": {},
   "outputs": [],
   "source": []
  },
  {
   "cell_type": "markdown",
   "id": "ba5064d2",
   "metadata": {},
   "source": [
    "# EX2(cav13-1)"
   ]
  },
  {
   "cell_type": "markdown",
   "id": "dc4f0f20",
   "metadata": {},
   "source": [
    "0.464299s 3.69208271269-2.01582612649*x1^2-0.294096624031*x2^2"
   ]
  },
  {
   "cell_type": "markdown",
   "id": "061fbce1",
   "metadata": {},
   "source": [
    "L. Dai, B. Xia, N. Zhan: Generating non-linear interpolants by semidefinite programming. In CAV(2013). code1.1"
   ]
  },
  {
   "cell_type": "markdown",
   "id": "074da608",
   "metadata": {},
   "source": [
    "full template: inv= a0+a1*x1+a2*x2+a3*x1*x2+a4*x1^2+a5*x2^2+a6*x1*x2>=0"
   ]
  },
  {
   "cell_type": "code",
   "execution_count": null,
   "id": "e25a0523",
   "metadata": {},
   "outputs": [],
   "source": [
    "\"5.81435625575+0.0190813583254*x1+5.0257649419*x2-1.4598520669*x1^2-0.483501905096*x2^2-0.00730041958218*x1*x2\""
   ]
  },
  {
   "cell_type": "code",
   "execution_count": 17,
   "id": "6a6622e5",
   "metadata": {},
   "outputs": [
    {
     "data": {
      "text/plain": [
       "'5.81435625575+0.0190813583254*x1+5.0257649419*x2-1.4598520669*x1**2-0.483501905096*x2**2-0.00730041958218*x1*x2'"
      ]
     },
     "execution_count": 17,
     "metadata": {},
     "output_type": "execute_result"
    }
   ],
   "source": [
    "myrep1(\"5.81435625575+0.0190813583254*x1+5.0257649419*x2-1.4598520669*x1^2-0.483501905096*x2^2-0.00730041958218*x1*x2\")"
   ]
  },
  {
   "cell_type": "code",
   "execution_count": 18,
   "id": "f5be35e8",
   "metadata": {},
   "outputs": [
    {
     "data": {
      "text/plain": [
       "'5.81435625575+0.0190813583254*x1_f+5.0257649419*x2_f-1.4598520669*x1_f**2-0.483501905096*x2_f**2-0.00730041958218*x1_f*x2_f'"
      ]
     },
     "execution_count": 18,
     "metadata": {},
     "output_type": "execute_result"
    }
   ],
   "source": [
    "myrep1f(\"5.81435625575+0.0190813583254*x1+5.0257649419*x2-1.4598520669*x1^2-0.483501905096*x2^2-0.00730041958218*x1*x2\")"
   ]
  },
  {
   "cell_type": "code",
   "execution_count": null,
   "id": "19130522",
   "metadata": {},
   "outputs": [],
   "source": []
  },
  {
   "cell_type": "code",
   "execution_count": null,
   "id": "64fbd9bc",
   "metadata": {},
   "outputs": [],
   "source": [
    "#ex2 time out (>3600s)\n",
    "from z3 import *\n",
    "import time\n",
    "start = time.time()\n",
    "x1,x2,a0,a1,a2,a3,a4,a5= Reals('x1 x2 a0 a1 a2 a3 a4 a5')\n",
    "inv=5.814+0.02*x1+5.03*x2-1.46*x1**2-0.48*x2**2>=0\n",
    "x1_f=x1**2+x2-1\n",
    "x2_f=x2+(x1**2+x2-1)*x2+1\n",
    "\n",
    "inv_f =5.814+0.02*x1_f+5.03*x2_f-1.46*x1_f**2-0.48*x2_f**2>=0\n",
    "\n",
    "\n",
    "loop_cond = 3-x1**2-x2**2>=0\n",
    "pre = 1-x1**2-x2**2>=0\n",
    "post =-x2 + 0.2*x1**2 - 1<=0\n",
    "\n",
    "cons1 = ForAll([x1,x2],Implies(pre, inv))\n",
    "cons2 = ForAll([x1,x2],Implies(And(inv, loop_cond), inv_f))\n",
    "cons3 = ForAll([x1,x2],Implies(And(inv, Not(loop_cond)),post))\n",
    "               \n",
    "s = Solver()\n",
    "s.add(cons1, cons2, cons3)\n",
    "print(s.check())\n",
    "print(s.model())\n",
    "end = time.time()\n",
    "print(\"Consuming Time: %.8f s\\n\"%((end-start)))"
   ]
  },
  {
   "cell_type": "code",
   "execution_count": 6,
   "id": "c78feab4",
   "metadata": {},
   "outputs": [
    {
     "data": {
      "text/plain": [
       "'5.81+0.17*x1+5.09*x2-1.58*x1**2-0.45*x2**2+0.1*x1*x2'"
      ]
     },
     "execution_count": 6,
     "metadata": {},
     "output_type": "execute_result"
    }
   ],
   "source": [
    "myrep1(\"5.81+0.17*x1+5.09*x2-1.58*x1**2-0.45*x2**2+0.1*x1*x2\")"
   ]
  },
  {
   "cell_type": "code",
   "execution_count": 7,
   "id": "8d5e04bc",
   "metadata": {},
   "outputs": [
    {
     "data": {
      "text/plain": [
       "'5.81+0.17*x1_f+5.09*x2_f-1.58*x1_f**2-0.45*x2_f**2+0.1*x1_f*x2_f'"
      ]
     },
     "execution_count": 7,
     "metadata": {},
     "output_type": "execute_result"
    }
   ],
   "source": [
    "myrep1f(\"5.81+0.17*x1+5.09*x2-1.58*x1**2-0.45*x2**2+0.1*x1*x2\")"
   ]
  },
  {
   "cell_type": "code",
   "execution_count": null,
   "id": "822b81ee",
   "metadata": {},
   "outputs": [],
   "source": []
  },
  {
   "cell_type": "code",
   "execution_count": null,
   "id": "e3297909",
   "metadata": {},
   "outputs": [],
   "source": []
  },
  {
   "cell_type": "markdown",
   "id": "72e8ba7a",
   "metadata": {},
   "source": [
    "sketch: inv= a1+a2*x1^2+a3*x2^2>=0"
   ]
  },
  {
   "cell_type": "code",
   "execution_count": null,
   "id": "466c64e0",
   "metadata": {},
   "outputs": [],
   "source": [
    "from z3 import *\n",
    "import time\n",
    "#ex2 time out (>3600s)\n",
    "start = time.time()\n",
    "x1,x2,a1,a2,a3,a4,a5= Reals('x1 x2 a1 a2 a3 a4 a5')\n",
    "inv=5.81+0.17*x1+5.09*x2-1.58*x1**2-0.45*x2**2+0.1*x1*x2>=0\n",
    "x1_f=x1**2+x2-1\n",
    "x2_f=x2+(x1**2+x2-1)*x2+1\n",
    "guard1 = -1<=0;\n",
    "inv_f =5.81+0.17*x1_f+5.09*x2_f-1.58*x1_f**2-0.45*x2_f**2+0.1*x1_f*x2_f>=0\n",
    "\n",
    "\n",
    "loop_cond = 3-x1**2-x2**2>=0\n",
    "pre = 1-x1**2-x2**2>=0\n",
    "post =-x2 + 0.2*x1**2 - 1<=0\n",
    "\n",
    "cons1 = ForAll([x1,x2],Implies(And(pre), inv))\n",
    "cons2 = ForAll([x1,x2],Implies(And(inv, guard1, loop_cond), inv_f))\n",
    "cons3 = ForAll([x1,x2],Implies(And(inv, Not(loop_cond)),post))\n",
    "               \n",
    "s = Solver()\n",
    "s.add(cons1, cons2, cons3)\n",
    "print(s.check())\n",
    "print(s.model())\n",
    "end = time.time()\n",
    "print(\"Consuming Time: %.8f s\\n\"%((end-start)))"
   ]
  },
  {
   "cell_type": "code",
   "execution_count": null,
   "id": "4cbcfebf",
   "metadata": {},
   "outputs": [],
   "source": []
  },
  {
   "cell_type": "markdown",
   "id": "4beae85a",
   "metadata": {},
   "source": [
    "# EX2(cav13-2)"
   ]
  },
  {
   "cell_type": "markdown",
   "id": "d0e0b55f",
   "metadata": {},
   "source": [
    "our:0.426259s  6.25420451616-1.82009110599*x1^2+1.04250672447*x2^2"
   ]
  },
  {
   "cell_type": "markdown",
   "id": "6d156fa4",
   "metadata": {},
   "source": [
    "L. Dai, B. Xia, N. Zhan: Generating non-linear interpolants by semidefinite programming. In CAV(2013). code1.1"
   ]
  },
  {
   "cell_type": "markdown",
   "id": "7daf5f33",
   "metadata": {},
   "source": [
    "template inv= a0+a1*x2+a2*x1**2+a3*x2**2"
   ]
  },
  {
   "cell_type": "code",
   "execution_count": null,
   "id": "074190e6",
   "metadata": {},
   "outputs": [],
   "source": [
    "8.90920443931+4.86302305365*x2-1.99300712506*x1^2-1.01366799604*x2^2"
   ]
  },
  {
   "cell_type": "code",
   "execution_count": null,
   "id": "90f5a148",
   "metadata": {},
   "outputs": [],
   "source": [
    "#ex2 time out (>3600s)\n",
    "start = time.time()\n",
    "x1,x2,a0,a1,a2,a3,a4= Reals('x1 x2 a0 a1 a2 a3 a4')\n",
    "inv=a0+a1*x2+a2*x1**2+a3*x2**2>=0\n",
    "\n",
    "guard1 = -1<=0;\n",
    "inv_f =a0+a1*(x2+(x1**2+x2-1)*x2+1)+a2*(x1**2+x2-1)**2+a3*(x2+(x1**2+x2-1)*x2+1)**2>=0\n",
    "\n",
    "\n",
    "loop_cond = 3-x1**2-x2**2>=0\n",
    "pre = 1-x1**2-x2**2>=0\n",
    "post =-x2 + 0.2*x1**2 - 1<=0\n",
    "\n",
    "cons1 = ForAll([x1,x2],Implies(And(pre), inv))\n",
    "cons2 = ForAll([x1,x2],Implies(And(inv, guard1, loop_cond), inv_f))\n",
    "cons3 = ForAll([x1,x2],Implies(And(inv, Not(loop_cond)),post))\n",
    "               \n",
    "s = Solver()\n",
    "s.add(cons1, cons2, cons3)\n",
    "print(s.check())\n",
    "print(s.model())\n",
    "end = time.time()\n",
    "print(\"Consuming Time: %.8f s\\n\"%((end-start)))"
   ]
  },
  {
   "cell_type": "code",
   "execution_count": null,
   "id": "99a811b9",
   "metadata": {},
   "outputs": [],
   "source": [
    "myrep1(9.17637294933-0.031176475834*x1+4.99656667795*x2-2.07784316137*x1^2-1.05214305423*x2^2-0.0216009256208*x1*x2)"
   ]
  },
  {
   "cell_type": "code",
   "execution_count": null,
   "id": "66bc70a0",
   "metadata": {},
   "outputs": [],
   "source": [
    "myrep1f(9.17637294933-0.031176475834*x1+4.99656667795*x2-2.07784316137*x1^2-1.05214305423*x2^2-0.0216009256208*x1*x2)"
   ]
  },
  {
   "cell_type": "code",
   "execution_count": null,
   "id": "a1cf4d35",
   "metadata": {},
   "outputs": [],
   "source": [
    "#ex2 time out (>3600s)\n",
    "start = time.time()\n",
    "x1,x2,a0,a1,a2,a3,a4= Reals('x1 x2 a0 a1 a2 a3 a4')\n",
    "inv=a0+a1*x2+a2*x1**2+a3*x2**2>=0\n",
    "\n",
    "guard1 = -1<=0;\n",
    "inv_f =a0+a1*(x2+(x1**2+x2-1)*x2+1)+a2*(x1**2+x2-1)**2+a3*(x2+(x1**2+x2-1)*x2+1)**2>=0\n",
    "\n",
    "\n",
    "loop_cond = 3-x1**2-x2**2>=0\n",
    "pre = 1-x1**2-x2**2>=0\n",
    "post =-x2 + 0.2*x1**2 - 1<=0\n",
    "\n",
    "cons1 = ForAll([x1,x2],Implies(And(pre), inv))\n",
    "cons2 = ForAll([x1,x2],Implies(And(inv, guard1, loop_cond), inv_f))\n",
    "cons3 = ForAll([x1,x2],Implies(And(inv, Not(loop_cond)),post))\n",
    "               \n",
    "s = Solver()\n",
    "s.add(cons1, cons2, cons3)\n",
    "print(s.check())\n",
    "print(s.model())\n",
    "end = time.time()\n",
    "print(\"Consuming Time: %.8f s\\n\"%((end-start)))"
   ]
  },
  {
   "cell_type": "markdown",
   "id": "edff1794",
   "metadata": {},
   "source": [
    "our: unsat"
   ]
  },
  {
   "cell_type": "markdown",
   "id": "f0d14ef0",
   "metadata": {},
   "source": [
    "template: a0+a1*x1^2+a2*x2^2>=0"
   ]
  },
  {
   "cell_type": "code",
   "execution_count": null,
   "id": "e76a2fa3",
   "metadata": {},
   "outputs": [],
   "source": [
    "8.90920443931+4.86302305365*x2-1.99300712506*x1^2-1.01366799604*x2^2"
   ]
  },
  {
   "cell_type": "code",
   "execution_count": null,
   "id": "2b520e09",
   "metadata": {},
   "outputs": [],
   "source": [
    "8.96+4.82*x2-2.062*x1**2-1.07*x2**2"
   ]
  },
  {
   "cell_type": "code",
   "execution_count": 2,
   "id": "b8668197",
   "metadata": {},
   "outputs": [
    {
     "name": "stdout",
     "output_type": "stream",
     "text": [
      "sat\n",
      "[]\n",
      "Consuming Time: 137.46345592 s\n",
      "\n"
     ]
    }
   ],
   "source": [
    "# cohencu >3600s\n",
    "import time\n",
    "from z3 import *\n",
    "start = time.time()\n",
    "start = time.time()\n",
    "x1,x2,a1,a2,a3,a4,a5= Reals('x1 x2 a1 a2 a3 a4 a5')\n",
    "inv=8.91+4.86*x2-1.99*x1**2-1.01*x2**2>=0\n",
    "x1_f=x1**2+x2-1\n",
    "x2_f=x2+(x1**2+x2-1)*x2+1\n",
    "\n",
    "inv_f1 =8.91+4.86*x2_f-1.99*x1_f**2-1.01*x2_f**2>=0\n",
    "\n",
    "loop_cond = 3-x1**2-x2**2>=0\n",
    "pre = 2-x1**2-x2**2>=0\n",
    "post = -x2 + 0.2*x1**2 - 1.21<=0\n",
    "\n",
    "cons1 = ForAll([x1,x2],Implies(And(pre), inv))\n",
    "cons2 = ForAll([x1,x2],Implies(And(inv,loop_cond), inv_f1))\n",
    "cons3 = ForAll([x1,x2],Implies(And(inv, Not(loop_cond)),post))\n",
    "               \n",
    "s = Solver()\n",
    "s.add(cons1, cons2, cons3)\n",
    "print(s.check())\n",
    "print(s.model())\n",
    "end = time.time()\n",
    "print(\"Consuming Time: %.8f s\\n\"%((end-start)))"
   ]
  },
  {
   "cell_type": "code",
   "execution_count": 1,
   "id": "aca28386",
   "metadata": {},
   "outputs": [
    {
     "name": "stdout",
     "output_type": "stream",
     "text": [
      "sat\n",
      "[]\n",
      "Consuming Time: 239.91981745 s\n",
      "\n"
     ]
    }
   ],
   "source": [
    "# cohencu >3600s\n",
    "import time\n",
    "from z3 import *\n",
    "start = time.time()\n",
    "start = time.time()\n",
    "x1,x2,a1,a2,a3,a4,a5= Reals('x1 x2 a1 a2 a3 a4 a5')\n",
    "inv=8.96+4.82*x2-2.062*x1**2-1.07*x2**2>=0\n",
    "x1_f=x1**2+x2-1\n",
    "x2_f=x2+(x1**2+x2-1)*x2+1\n",
    "\n",
    "inv_f1 =8.96+4.82*x2_f-2.062*x1_f**2-1.07*x2_f**2>=0\n",
    "\n",
    "loop_cond = 3-x1**2-x2**2>=0\n",
    "pre = 2-x1**2-x2**2>=0\n",
    "post = -x2 + 0.2*x1**2 - 1.21<=0\n",
    "\n",
    "cons1 = ForAll([x1,x2],Implies(And(pre), inv))\n",
    "cons2 = ForAll([x1,x2],Implies(And(inv,loop_cond), inv_f1))\n",
    "cons3 = ForAll([x1,x2],Implies(And(inv, Not(loop_cond)),post))\n",
    "               \n",
    "s = Solver()\n",
    "s.add(cons1, cons2, cons3)\n",
    "print(s.check())\n",
    "print(s.model())\n",
    "end = time.time()\n",
    "print(\"Consuming Time: %.8f s\\n\"%((end-start)))"
   ]
  },
  {
   "cell_type": "code",
   "execution_count": null,
   "id": "2839ce97",
   "metadata": {},
   "outputs": [],
   "source": [
    "# cohencu >3600s\n",
    "import time\n",
    "from z3 import *\n",
    "start = time.time()\n",
    "start = time.time()\n",
    "x1,x2,a1,a2,a3,a4,a5= Reals('x1 x2 a1 a2 a3 a4 a5')\n",
    "inv=8.909+4.86*x2-1.99*x1**2-1.01*x2**2>=0\n",
    "x1_f=x1**2+x2-1\n",
    "x2_f=x2+(x1**2+x2-1)*x2+1\n",
    "\n",
    "inv_f1 =8.909+4.86*x2_f-1.993*x1_f**2-1.01*x2_f**2>=0\n",
    "\n",
    "loop_cond = 3-x1**2-x2**2>=0\n",
    "pre = 2-x1**2-x2**2>=0\n",
    "post = -x2 + 0.2*x1**2 - 1.21<=0\n",
    "\n",
    "cons1 = ForAll([x1,x2],Implies(And(pre), inv))\n",
    "cons2 = ForAll([x1,x2],Implies(And(inv,loop_cond), inv_f1))\n",
    "cons3 = ForAll([x1,x2],Implies(And(inv, Not(loop_cond)),post))\n",
    "               \n",
    "s = Solver()\n",
    "s.add(cons1, cons2, cons3)\n",
    "print(s.check())\n",
    "print(s.model())\n",
    "end = time.time()\n",
    "print(\"Consuming Time: %.8f s\\n\"%((end-start)))"
   ]
  },
  {
   "cell_type": "code",
   "execution_count": null,
   "id": "95dcb47e",
   "metadata": {},
   "outputs": [],
   "source": []
  },
  {
   "cell_type": "markdown",
   "id": "02b23f93",
   "metadata": {},
   "source": [
    "# cohencu"
   ]
  },
  {
   "cell_type": "markdown",
   "id": "f897fed7",
   "metadata": {},
   "source": [
    "1.338407 second unsat"
   ]
  },
  {
   "cell_type": "markdown",
   "id": "eb144995",
   "metadata": {},
   "source": [
    "1.35975492961+1.4448533376*x1+2.16539212227*x2-4.64634747747*x1**2+0.475113470224*x2**2-1.84218627328*x1*x2"
   ]
  },
  {
   "cell_type": "markdown",
   "id": "11cf5d46",
   "metadata": {},
   "source": [
    "full template a0+a1*x1+a2*x2+a3*x1^2+a4 *x2^2+a5*x1*x2>=0"
   ]
  },
  {
   "cell_type": "code",
   "execution_count": null,
   "id": "47413940",
   "metadata": {},
   "outputs": [],
   "source": [
    "\"0.140004347359+0.494784665532*x1+0.119414548153*x2-1.27713850112*x1^2+0.129712994474*x1*x2-0.00513537566679*x2^2\""
   ]
  },
  {
   "cell_type": "code",
   "execution_count": 7,
   "id": "41fc2aec",
   "metadata": {},
   "outputs": [
    {
     "data": {
      "text/plain": [
       "'0.140004347359+0.494784665532*x1+0.119414548153*x2-1.27713850112*x1**2+0.129712994474*x1*x2-0.00513537566679*x2**2'"
      ]
     },
     "execution_count": 7,
     "metadata": {},
     "output_type": "execute_result"
    }
   ],
   "source": [
    "myrep1(\"0.140004347359+0.494784665532*x1+0.119414548153*x2-1.27713850112*x1^2+0.129712994474*x1*x2-0.00513537566679*x2^2\")"
   ]
  },
  {
   "cell_type": "code",
   "execution_count": 1,
   "id": "981679f8",
   "metadata": {},
   "outputs": [
    {
     "ename": "NameError",
     "evalue": "name 'myrep1f' is not defined",
     "output_type": "error",
     "traceback": [
      "\u001b[1;31m---------------------------------------------------------------------------\u001b[0m",
      "\u001b[1;31mNameError\u001b[0m                                 Traceback (most recent call last)",
      "Cell \u001b[1;32mIn[1], line 1\u001b[0m\n\u001b[1;32m----> 1\u001b[0m myrep1f(\u001b[38;5;124m\"\u001b[39m\u001b[38;5;124m0.14+0.494*x1+0.119*x2-1.277*x1**2+0.129*x1*x2-0.005*x2**2\u001b[39m\u001b[38;5;124m\"\u001b[39m)\n",
      "\u001b[1;31mNameError\u001b[0m: name 'myrep1f' is not defined"
     ]
    }
   ],
   "source": [
    "myrep1f(\"0.14+0.494*x1+0.119*x2-1.277*x1**2+0.129*x1*x2-0.005*x2**2\")"
   ]
  },
  {
   "cell_type": "code",
   "execution_count": null,
   "id": "7689cedc",
   "metadata": {},
   "outputs": [],
   "source": [
    "0.0039-0.00039*x1-0.00039*x1^2+0.0001*x1*x2"
   ]
  },
  {
   "cell_type": "code",
   "execution_count": 7,
   "id": "e6a5c3f7",
   "metadata": {},
   "outputs": [
    {
     "name": "stdout",
     "output_type": "stream",
     "text": [
      "sat\n",
      "[]\n",
      "Consume Time: 0.01999950\n"
     ]
    }
   ],
   "source": [
    "# cohencu >3600s\n",
    "import time\n",
    "from z3 import *\n",
    "start = time.time()\n",
    "x1,x2,a0,a1,a2,a3,a4,a5 = Reals('x1 x2 a0 a1 a2 a3 a4 a5')\n",
    "xrange = And(x2>=0, x2<=10, x1>=0,x1<=10)\n",
    "\n",
    "inv = 0.137+0.595*x1+0.079*x2-1.015*x1**2+0.100*x1*x2>=0\n",
    "inv_ineq = And(x1>=0)\n",
    "\n",
    "x1_f=x1+1\n",
    "x2_f=(x2+6*x1+6)\n",
    "inv_f1=0.137+0.595*x1+0.079*x2_f-1.015*x1_f**2+0.100*x1_f*x2_f>=0\n",
    "\n",
    "\n",
    "loop_cond = x1-5<=0\n",
    "pre = And(x2==0,x1==0)\n",
    "post = And(2.5*x1**2+4*x1-x2<=0,x2-3.5*x1**2-3*x1<=0)\n",
    "\n",
    "cons1 = ForAll([x2,x1],Implies(And(pre, xrange), inv))\n",
    "cons2 = ForAll([x2,x1],Implies(And(inv,loop_cond, xrange),inv_f1))\n",
    "cons3 = ForAll([x2,x1],Implies(And(inv, Not(loop_cond),xrange),post))\n",
    "               \n",
    "s = Solver()\n",
    "s.add( cons1, cons2, cons3)\n",
    "print(s.check())\n",
    "print(s.model())\n",
    "end = time.time()\n",
    "print(\"Consume Time: %.8f\"%((end-start)))"
   ]
  },
  {
   "cell_type": "code",
   "execution_count": 3,
   "id": "bd5621d8",
   "metadata": {},
   "outputs": [
    {
     "name": "stdout",
     "output_type": "stream",
     "text": [
      "sat\n",
      "[]\n",
      "Consume Time: 0.02800512\n"
     ]
    }
   ],
   "source": [
    "# cohencu >3600s\n",
    "import time\n",
    "from z3 import *\n",
    "start = time.time()\n",
    "x1,x2,a0,a1,a2,a3,a4,a5 = Reals('x1 x2 a0 a1 a2 a3 a4 a5')\n",
    "xrange = And(x2>=0, x2<=10, x1>=0,x1<=10)\n",
    "\n",
    "inv = 0.14+0.494*x1+0.119*x2-1.277*x1**2+0.129*x1*x2-0.005*x2**2>=0\n",
    "inv_ineq = And(x1>=0)\n",
    "\n",
    "x1_f=x1+1\n",
    "x2_f=(x2+6*x1+6)\n",
    "inv_f1=0.14+0.494*x1_f+0.119*x2_f-1.277*x1_f**2+0.129*x1_f*x2_f-0.005*x2_f**2>=0\n",
    "\n",
    "\n",
    "loop_cond = x1-5<=0\n",
    "pre = And(x2==0,x1==0)\n",
    "post = And(2.5*x1**2+4*x1-x2<=0,x2-3.5*x1**2-3*x1<=0)\n",
    "\n",
    "cons1 = ForAll([x2,x1],Implies(And(pre, xrange), inv))\n",
    "cons2 = ForAll([x2,x1],Implies(And(inv,loop_cond, xrange),inv_f1))\n",
    "cons3 = ForAll([x2,x1],Implies(And(inv, Not(loop_cond),xrange),post))\n",
    "               \n",
    "s = Solver()\n",
    "s.add( cons1, cons2, cons3)\n",
    "print(s.check())\n",
    "print(s.model())\n",
    "end = time.time()\n",
    "print(\"Consume Time: %.8f\"%((end-start)))"
   ]
  },
  {
   "cell_type": "code",
   "execution_count": null,
   "id": "1227b281",
   "metadata": {},
   "outputs": [],
   "source": []
  },
  {
   "cell_type": "markdown",
   "id": "a6553e63",
   "metadata": {},
   "source": [
    "sketch:inv=a1+a2*x1+a3*x2+a4*x1^2;"
   ]
  },
  {
   "cell_type": "code",
   "execution_count": 1,
   "id": "c4556971",
   "metadata": {},
   "outputs": [
    {
     "name": "stdout",
     "output_type": "stream",
     "text": [
      "sat\n",
      "[a1 = 1, a4 = -1/8, a3 = 1/4, a2 = -1]\n",
      "Consume Time: 0.20755482\n"
     ]
    }
   ],
   "source": [
    "\n",
    "import time\n",
    "from z3 import *\n",
    "start = time.time()\n",
    "x1,x2,a1,a2,a3,a4 = Reals('x1 x2 a1 a2 a3 a4')\n",
    "xrange = And(x2>=0, x2<=10, x1>=0,x1<=10)\n",
    "\n",
    "inv = a1+a2*x1+a3*x2+a4*x1**2>=0\n",
    "\n",
    "inv_f1=a1+a2*(x1+1)+a3*(x2+5.5*x1+6)+a4*(x1+1)**2>=0\n",
    "\n",
    "\n",
    "loop_cond = x1-5<=0\n",
    "pre = And(x2==0,x1==0)\n",
    "post = And(2.5*x1**2+4*x1-x2<=0,x2-3.5*x1**2-3*x1<=0)\n",
    "\n",
    "cons1 = ForAll([x2,x1],Implies(And(pre, xrange), inv))\n",
    "cons2 = ForAll([x2,x1],Implies(And(inv,loop_cond, xrange),inv_f1))\n",
    "cons3 = ForAll([x2,x1],Implies(And(inv, Not(loop_cond),xrange),post))\n",
    "               \n",
    "s = Solver()\n",
    "s.add( cons1, cons2, cons3)\n",
    "print(s.check())\n",
    "print(s.model())\n",
    "end = time.time()\n",
    "print(\"Consume Time: %.8f\"%((end-start)))"
   ]
  },
  {
   "cell_type": "markdown",
   "id": "97c40e53",
   "metadata": {},
   "source": [
    "# unicycle"
   ]
  },
  {
   "cell_type": "markdown",
   "id": "89f8bcfa",
   "metadata": {},
   "source": [
    "Mohamed Amin Ben Sassi and Antoine Girard. 2012. Controller synthesis for robust invariance of polynomial\n",
    "dynamical systems using linear programming. Systems & control letters 61, 4 (2012), 506–512."
   ]
  },
  {
   "cell_type": "code",
   "execution_count": 2,
   "id": "035180e3",
   "metadata": {},
   "outputs": [],
   "source": [
    "from z3 import *\n",
    "import os,re,sympy,mosek\n",
    "import time"
   ]
  },
  {
   "cell_type": "code",
   "execution_count": null,
   "id": "b7a4075b",
   "metadata": {},
   "outputs": [],
   "source": [
    "2.405-0.003*x1+0.825*x2+2.658*x1^2+2.691*x2^2"
   ]
  },
  {
   "cell_type": "code",
   "execution_count": null,
   "id": "3de53589",
   "metadata": {},
   "outputs": [],
   "source": []
  },
  {
   "cell_type": "code",
   "execution_count": 8,
   "id": "15f9092e",
   "metadata": {},
   "outputs": [
    {
     "name": "stdout",
     "output_type": "stream",
     "text": [
      "sat\n",
      "[]\n",
      "Consume Time: 0.02199554 s\n",
      "\n"
     ]
    }
   ],
   "source": [
    "# unicycle timeout\n",
    "start = time.time()\n",
    "x1,x2,a0,a1,a2,a3,a4,a5 = Reals('x1 x2 a0 a1 a2 a3 a4 a5')\n",
    "\n",
    "\n",
    "xvars = [x1,x2]\n",
    "loop_cond = -1<=0\n",
    "\n",
    "pre = x1**2+(x2-1)**2-1<= 0\n",
    "post = x1**2 + (x2-1)**2 - 4<=0\n",
    "\n",
    "inv = 2.405-0.003*x1+0.825*x2+2.658*x1**2+2.691*x2**2>=0\n",
    "guard1 = -1<=0;\n",
    "\n",
    "w = 1.0178 + 1.8721 * x1 - 0.0253 * x2\n",
    "x1_f = x1 + 0.01*(1-x2*w)\n",
    "x2_f = x2 + 0.01*x1*w\n",
    "inv_f1 = 2.405-0.003*x1_f+0.825*x2_f+2.658*x1_f**2+2.691*x2_f**2>=0\n",
    "\n",
    "inv_ineq = And(x1>=0,x2>=0)\n",
    "\n",
    "\n",
    "cons1 = ForAll(xvars,Implies(And(pre, ), inv))\n",
    "cons2 = ForAll(xvars,Implies(And(inv, guard1, loop_cond), inv_f1))\n",
    "cons3 = ForAll(xvars,Implies(And(inv, Not(loop_cond)),post))\n",
    "               \n",
    "s = Solver()\n",
    "s.add( cons1, cons2, cons3)\n",
    "print(s.check())\n",
    "print(s.model())\n",
    "end = time.time()\n",
    "print(\"Consume Time: %.8f s\\n\"%((end-start)))"
   ]
  },
  {
   "cell_type": "code",
   "execution_count": null,
   "id": "0fd36e3c",
   "metadata": {},
   "outputs": [],
   "source": [
    "# unicycle timeout\n",
    "start = time.time()\n",
    "x1,x2,a1,a2,a3,a4= Reals('x1 x2 a1 a2 a3 a4')\n",
    "xvars = [x1,x2]\n",
    "\n",
    "loop_cond = -1<=0\n",
    "\n",
    "pre = x1**2+(x2-1)**2-1<= 0\n",
    "post = x1**2 + (x2-1)**2 - 4<=0\n",
    "\n",
    "inv = a1*x1**2 + a2*x2**2 + a3*x2 +a4>=0\n",
    "guard1 = -1<=0;\n",
    "\n",
    "w = 1.0178 + 1.8721 * x1 - 0.0253 * x2\n",
    "x1_f = x1 + 0.01*(1-x2*w)\n",
    "x2_f = x2 + 0.01*x1*w\n",
    "inv_f1 = a1*x1_f**2 + a2*x2_f**2 + a3*x2_f +a4>=0\n",
    "\n",
    "inv_ineq = And(x1>=0,x2>=0)\n",
    "\n",
    "\n",
    "cons1 = ForAll(xvars,Implies(And(pre, ), inv))\n",
    "cons2 = ForAll(xvars,Implies(And(inv, guard1, loop_cond), inv_f1))\n",
    "cons3 = ForAll(xvars,Implies(And(inv, Not(loop_cond)),post))\n",
    "               \n",
    "s = Solver()\n",
    "s.add( cons1, cons2, cons3)\n",
    "print(s.check())\n",
    "print(s.model())\n",
    "end = time.time()\n",
    "print(\"Consume Time: %.8f s\\n\"%((end-start)))"
   ]
  },
  {
   "cell_type": "code",
   "execution_count": null,
   "id": "8833ea4a",
   "metadata": {},
   "outputs": [],
   "source": [
    "2.40547902628-0.00376312813232*x1+0.825128691079*x2+2.6582805522*x1**2+2.69197110192*x2**2-0.00143105275712*x1*x2"
   ]
  },
  {
   "cell_type": "code",
   "execution_count": 4,
   "id": "a30d95b2",
   "metadata": {},
   "outputs": [
    {
     "name": "stdout",
     "output_type": "stream",
     "text": [
      "sat\n",
      "[]\n",
      "Consume Time: 0.02619243 s\n",
      "\n"
     ]
    }
   ],
   "source": [
    "from z3 import *\n",
    "import time\n",
    "start = time.time()\n",
    "x1,x2,a1,a2,a3,a4= Reals('x1 x2 a1 a2 a3 a4')\n",
    "xvars = [x1,x2]\n",
    "\n",
    "pre = x1**2+(x2-1)**2-1<= 0\n",
    "post = x1**2 + (x2-1)**2 - 4<=0\n",
    "\n",
    "inv =2.40547902628-0.00376312813232*x1+0.825128691079*x2+2.6582805522*x1**2+2.69197110192*x2**2-0.00143105275712*x1*x2>=0\n",
    "\n",
    "w = 1.0178 + 1.8721 * x1 - 0.0253 * x2\n",
    "x1_f = x1 + 0.01*(1-x2*w)\n",
    "x2_f = x2 + 0.01*x1*w\n",
    "inv_f1 =2.40547902628-0.00376312813232*x1_f+0.825128691079*x2_f+2.6582805522*x1_f**2+2.69197110192*x2_f**2-0.00143105275712*x1_f*x2_f>=0\n",
    "loop_cond=1>0\n",
    "\n",
    "\n",
    "cons1 = ForAll(xvars,Implies(pre, inv))\n",
    "cons2 = ForAll(xvars,Implies(And(inv, loop_cond), inv_f1))\n",
    "cons3 = ForAll(xvars,Implies(And(inv, Not(loop_cond)),post))\n",
    "               \n",
    "s = Solver()\n",
    "s.add( cons1, cons2, cons3)\n",
    "print(s.check())\n",
    "print(s.model())\n",
    "end = time.time()\n",
    "print(\"Consume Time: %.8f s\\n\"%((end-start)))"
   ]
  },
  {
   "cell_type": "code",
   "execution_count": null,
   "id": "7e751d51",
   "metadata": {},
   "outputs": [],
   "source": [
    "2.45202381825+2.78141186461*x1^2+2.68459851648*x2^2"
   ]
  },
  {
   "cell_type": "code",
   "execution_count": 2,
   "id": "2557f7c8",
   "metadata": {},
   "outputs": [
    {
     "name": "stdout",
     "output_type": "stream",
     "text": [
      "sat\n",
      "[]\n",
      "Consume Time: 0.02207494 s\n",
      "\n"
     ]
    }
   ],
   "source": [
    "from z3 import *\n",
    "import time\n",
    "start = time.time()\n",
    "x1,x2,a1,a2,a3,a4= Reals('x1 x2 a1 a2 a3 a4')\n",
    "xvars = [x1,x2]\n",
    "\n",
    "pre = x1**2+(x2-1)**2-1<= 0\n",
    "post = x1**2 + (x2-1)**2 - 4<=0\n",
    "\n",
    "inv =2.36185725847+2.6547197826*x1**2+2.72744905174*x2**2>=0\n",
    "\n",
    "w = 1.0178 + 1.8721 * x1 - 0.0253 * x2\n",
    "x1_f = x1 + 0.01*(1-x2*w)\n",
    "x2_f = x2 + 0.01*x1*w\n",
    "inv_f1 =2.36185725847+2.6547197826*x1_f**2+2.72744905174*x2_f**2>=0\n",
    "loop_cond=1>0\n",
    "\n",
    "\n",
    "cons1 = ForAll(xvars,Implies(pre, inv))\n",
    "cons2 = ForAll(xvars,Implies(And(inv, loop_cond), inv_f1))\n",
    "cons3 = ForAll(xvars,Implies(And(inv, Not(loop_cond)),post))\n",
    "               \n",
    "s = Solver()\n",
    "s.add( cons1, cons2, cons3)\n",
    "print(s.check())\n",
    "print(s.model())\n",
    "end = time.time()\n",
    "print(\"Consume Time: %.8f s\\n\"%((end-start)))"
   ]
  },
  {
   "cell_type": "markdown",
   "id": "1f648b88",
   "metadata": {},
   "source": [
    "# CIRCUIT"
   ]
  },
  {
   "cell_type": "markdown",
   "id": "548c0d00",
   "metadata": {},
   "source": [
    "[3] Mahathi Anand, Vishnu Murali, Ashutosh Trivedi, and Majid Zamani. 2021. Safety Verification of Dynamical\n",
    "Systems via k-Inductive Barrier Certificates. In 2021 60th IEEE Conference on Decision and Control. IEEE, 1314–1320.\n",
    "https://doi.org/10.1109/CDC45484.2021.9682889"
   ]
  },
  {
   "cell_type": "markdown",
   "id": "2b0d5261",
   "metadata": {},
   "source": [
    "0.699756 inv=6.51819122256+1.5288052781*x1+3.17389341021*x2-1.27183860013*x1^2-1.16455887905*x2^2+0.632009166242*x1*x2"
   ]
  },
  {
   "cell_type": "code",
   "execution_count": null,
   "id": "a9968d59",
   "metadata": {},
   "outputs": [],
   "source": []
  },
  {
   "cell_type": "code",
   "execution_count": null,
   "id": "d0ba068c",
   "metadata": {},
   "outputs": [],
   "source": [
    "5.81+2.74*x1+3.11*x2-2.38*x1**2-2.01*x2**2+1.48*x1*x2"
   ]
  },
  {
   "cell_type": "code",
   "execution_count": 11,
   "id": "f7e14e23",
   "metadata": {},
   "outputs": [
    {
     "name": "stdout",
     "output_type": "stream",
     "text": [
      "sat\n",
      "[]\n",
      "Consume Time: 0.04098558 s\n",
      "\n"
     ]
    }
   ],
   "source": [
    "# circuit  time out\n",
    "# with x and a unbounded and inv = a0+a1*x1+a2*x2+a3*x1**2+a4*x2**2+a5*x1*x2<=0\n",
    "from z3 import *\n",
    "import time\n",
    "start = time.time()\n",
    "x1,x2,a0,a1,a2,a3,a4,a5 = Reals('x1 x2 a0 a1 a2 a3 a4 a5')\n",
    "xvars = [x1,x2]\n",
    "\n",
    "loop_cond = -1<=0\n",
    "\n",
    "pre = (x1-0.5)**2+(x2-0.5)**2-0.25**2<= 0\n",
    "post =x2**2 - 4<=0\n",
    "\n",
    "inv = 5.81+2.74*x1+3.11*x2-2.38*x1**2-2.01*x2**2+1.48*x1*x2>=0\n",
    "guard1 = -1<=0\n",
    "\n",
    "inv_f1 = 5.81+2.74*x1_f+3.11*x2_f-2.38*x1_f**2-2.01*x2_f**2+1.48*x1_f*x2_f>=0\n",
    "\n",
    "\n",
    "\n",
    "cons1 = ForAll(xvars,Implies(And(pre), inv))\n",
    "cons2 = ForAll(xvars,Implies(And(inv, guard1, loop_cond), inv_f1))\n",
    "cons3 = ForAll(xvars,Implies(And(inv, Not(loop_cond)),post))\n",
    "               \n",
    "s = Solver()\n",
    "s.add( cons1, cons2, cons3)\n",
    "print(s.check())\n",
    "print(s.model())\n",
    "end = time.time()\n",
    "print(\"Consume Time: %.8f s\\n\"%((end-start)))"
   ]
  },
  {
   "cell_type": "code",
   "execution_count": 1,
   "id": "08dc22e0",
   "metadata": {},
   "outputs": [
    {
     "name": "stdout",
     "output_type": "stream",
     "text": [
      "sat\n",
      "[a1 = 1/2, a3 = -14, a2 = 1/2]\n",
      "Consume Time: 17.56877232 s\n",
      "\n"
     ]
    }
   ],
   "source": [
    "# circuit  17.56s \n",
    "# with template  a1*x1**2 + a2*x2**2 + a3<=0.\n",
    "# both a and x are bounded,which is a much easier task to do.\n",
    "from z3 import *\n",
    "import time\n",
    "start = time.time()\n",
    "x1,x2,a1,a2,a3 = Reals('x1 x2 a1 a2 a3')\n",
    "xvars = [x1,x2]\n",
    "xrange = And(x1>=-5, x1<=5, x2>=-5,x2<=5)\n",
    "arange = And(a1>=0, a1<=1, a2>=0, a2<=1)\n",
    "\n",
    "loop_cond = -1<=0\n",
    "\n",
    "pre = (x1-0.5)**2+(x2-0.5)**2-0.25**2<= 0\n",
    "post =x2**2 - 4<=0\n",
    "\n",
    "inv = a1*x1**2 + a2*x2**2 + a3<=0\n",
    "guard1 = -1<=0\n",
    "\n",
    "inv_f1 = a1*(8/9*x1-1/18*x2)**2 + a2*(0.1*x1+0.9*x2)**2 + a3<=0\n",
    "\n",
    "inv_ineq = And(x2>=0)\n",
    "\n",
    "\n",
    "cons1 = ForAll(xvars,Implies(And(pre, xrange), inv))\n",
    "cons2 = ForAll(xvars,Implies(And(inv, guard1, loop_cond, xrange), inv_f1))\n",
    "cons3 = ForAll(xvars,Implies(And(inv, Not(loop_cond),xrange),post))\n",
    "               \n",
    "s = Solver()\n",
    "s.add( cons1, cons2, cons3, arange)\n",
    "print(s.check())\n",
    "print(s.model())\n",
    "end = time.time()\n",
    "print(\"Consume Time: %.8f s\\n\"%((end-start)))"
   ]
  },
  {
   "cell_type": "code",
   "execution_count": 7,
   "id": "635f2a39",
   "metadata": {},
   "outputs": [
    {
     "name": "stdout",
     "output_type": "stream",
     "text": [
      "sat\n",
      "[]\n",
      "Consume Time: 0.02100658 s\n",
      "\n"
     ]
    }
   ],
   "source": [
    "# circuit  time out\n",
    "# with x and a unbounded and inv = a0+a1*x1+a2*x2+a3*x1**2+a4*x2**2+a5*x1*x2<=0\n",
    "from z3 import *\n",
    "import time\n",
    "start = time.time()\n",
    "x1,x2,a0,a1,a2,a3,a4,a5 = Reals('x1 x2 a0 a1 a2 a3 a4 a5')\n",
    "xvars = [x1,x2]\n",
    "\n",
    "loop_cond = -1<=0\n",
    "\n",
    "pre = (x1-0.5)**2+(x2-0.5)**2-0.25**2<= 0\n",
    "post =x2**2 - 4<=0\n",
    "x1_f=8/9*x1-1/18*x2\n",
    "x2_f=0.1*x1+0.9*x2\n",
    "inv = 2.56+2.10*x1**2+1.96*x2**2+0.15*x1*x2>=0\n",
    "\n",
    "inv_f1 = 2.56+2.10*x1_f**2+1.96*x2_f**2+0.15*x1_f*x2_f>=0\n",
    "\n",
    "\n",
    "\n",
    "cons1 = ForAll(xvars,Implies(And(pre), inv))\n",
    "cons2 = ForAll(xvars,Implies(And(inv, guard1, loop_cond), inv_f1))\n",
    "cons3 = ForAll(xvars,Implies(And(inv, Not(loop_cond)),post))\n",
    "               \n",
    "s = Solver()\n",
    "s.add( cons1, cons2, cons3)\n",
    "print(s.check())\n",
    "print(s.model())\n",
    "end = time.time()\n",
    "print(\"Consume Time: %.8f s\\n\"%((end-start)))"
   ]
  },
  {
   "cell_type": "markdown",
   "id": "b19dc2c1",
   "metadata": {},
   "source": [
    "# Deter"
   ]
  },
  {
   "cell_type": "code",
   "execution_count": null,
   "id": "e08bbe8e",
   "metadata": {},
   "outputs": [],
   "source": [
    "-0.0149036688172+0.0168703728143*x1+0.00501938048657*x2-0.00296567601427*x1^2-0.000864161326655*x2^2-0.00104174988701*x1*x2"
   ]
  },
  {
   "cell_type": "code",
   "execution_count": null,
   "id": "9ccd37a5",
   "metadata": {},
   "outputs": [],
   "source": [
    "# deter time out\n",
    "# with template inv = a0+a1*x1+a2*x2+a3*x1**2+a4*x2**2+a5*x1*x2<=0\n",
    "# x is bounded,\n",
    "from z3 import *\n",
    "import time\n",
    "start = time.time()\n",
    "x1,x2,a0,a1,a2,a3,a4,a5 = Reals('x1 x2 a0 a1 a2 a3 a4 a5')\n",
    "xvars = [x1,x2]\n",
    "xrange = And(x1>=-10, x1<=10, x2>=-10,x2<=10)\n",
    "\n",
    "loop_cond =4-(x1-2)**2 -(x2-4)**2>=0\n",
    "\n",
    "pre =1-(x1-2)**2 -(x2-4)**2>=0\n",
    "post =x2-4<=0\n",
    "inv = -0.01490+0.0168*x1+0.0050*x2-0.0029*x1**2-0.00086*x2**2-0.00104*x1*x2>=0\n",
    "\n",
    "x1_f=x1 + 0.1*x2\n",
    "x2_f=x2+(x2*(1-x1**2)-x1)*0.1\n",
    "\n",
    "inv_f1  = -0.01490+0.0168*x1_f+0.0050*x2_f-0.0029*x1_f**2-0.00086*x2_f**2-0.00104*x1_f*x2_f>=0\n",
    "\n",
    "\n",
    "\n",
    "cons1 = ForAll(xvars,Implies(And(pre, xrange), inv))\n",
    "cons2 = ForAll(xvars,Implies(And(inv, loop_cond, xrange), inv_f1))\n",
    "cons3 = ForAll(xvars,Implies(And(inv, Not(loop_cond),xrange),post))\n",
    "               \n",
    "s = Solver()\n",
    "s.add( cons1, cons2, cons3)\n",
    "print(s.check())\n",
    "print(s.model())\n",
    "end = time.time()\n",
    "print(\"Consume Time: %.8f s\\n\"%((end-start)))"
   ]
  },
  {
   "cell_type": "code",
   "execution_count": null,
   "id": "a079eacf",
   "metadata": {},
   "outputs": [],
   "source": [
    "# time out\n",
    "# with template  inv=a0+a1*x2**2+a2*x1**2+a3*x1>=0.\n",
    "# x and a a bounded\n",
    "from z3 import *\n",
    "import time\n",
    "start = time.time()\n",
    "x1,x2,a1,a2,a3 = Reals('x1 x2 a1 a2 a3')\n",
    "xvars = [x1,x2]\n",
    "xrange = And(x1>=-5, x1<=5, x2>=-5,x2<=5)\n",
    "arange=And(a1>=-1,a1<=1,a2>=-1,a2<=1,a3<=1,a3>=-1)\n",
    "loop_cond =  -x1**2 -x2**2 + 1>=0\n",
    "\n",
    "pre = -x1**2 -x2**2 + 0.25>= 0\n",
    "post =x1**2+ x2**2-4<=0\n",
    "\n",
    "inv = a1*x1**2 + a2*x2**2 + a3>=0\n",
    "\n",
    "x1_f=x1 + 0.01*x2\n",
    "x2_f=x2+(x2+(x2*(1-x1**2)-x1))*0.01\n",
    "\n",
    "inv_f1 = a1*x1_f**2+a2*x2_f**2+a3>=0\n",
    "\n",
    "\n",
    "\n",
    "cons1 = ForAll(xvars,Implies(And(pre, xrange), inv))\n",
    "cons2 = ForAll(xvars,Implies(And(inv, loop_cond, xrange), inv_f1))\n",
    "cons3 = ForAll(xvars,Implies(And(inv, Not(loop_cond),xrange),post))\n",
    "               \n",
    "s = Solver()\n",
    "s.add( cons1, cons2, cons3,arange)\n",
    "print(s.check())\n",
    "print(s.model())\n",
    "end = time.time()\n",
    "print(\"Consume Time: %.8f s\\n\"%((end-start)))"
   ]
  },
  {
   "cell_type": "markdown",
   "id": "b8e9adb2",
   "metadata": {},
   "source": [
    "# bound1"
   ]
  },
  {
   "cell_type": "code",
   "execution_count": null,
   "id": "15ae2b91",
   "metadata": {},
   "outputs": [],
   "source": [
    "4.53-1.38*x2-2.91*x1**2-1.93*x2**2+0.042*x1*x2"
   ]
  },
  {
   "cell_type": "code",
   "execution_count": null,
   "id": "d3151198",
   "metadata": {},
   "outputs": [],
   "source": [
    "3.026+2.17*x1-1.083*x2-3.616*x1^2-2.428*x2^2+0.324*x1*x2"
   ]
  },
  {
   "cell_type": "code",
   "execution_count": null,
   "id": "1bc9c755",
   "metadata": {},
   "outputs": [],
   "source": []
  },
  {
   "cell_type": "code",
   "execution_count": null,
   "id": "745cffd6",
   "metadata": {},
   "outputs": [],
   "source": [
    "# with template  a0+a1*x1+a2*x2+a3*x1**2+a4*x2**2+a5*x1*x2\n",
    "from z3 import *\n",
    "import time\n",
    "start = time.time()\n",
    "x1,x2,a1,a2,a3 = Reals('x1 x2 a1 a2 a3')\n",
    "xvars = [x1,x2]\n",
    "xrange = And(x1>=-5, x1<=5, x2>=-5,x2<=5)\n",
    "\n",
    "loop_cond = -x1**2 -x2**2 + 2>=0\n",
    "\n",
    "pre1 =(x1-0.9)*(1.1-x1)>= 0\n",
    "pre2=x2*(0.2-x2)>=0\n",
    "post =x2+2*x1-2<=0\n",
    "inv =4.53-1.38*x2-2.91*x1**2-1.93*x2**2+0.042*x1*x2>=0\n",
    "\n",
    "x1_f=0.5*x1**2+ 0.4*x2**2\n",
    "x2_f=-0.6*x1**2+0.3*x2**2\n",
    "\n",
    "inv_f1 =4.53-1.38*x2-2.91*x1_f**2-1.93*x2_f**2+0.042*x1_f*x2_f>=0\n",
    "\n",
    "\n",
    "\n",
    "cons1 = ForAll(xvars,Implies(And(pre1,pre2, xrange), inv))\n",
    "cons2 = ForAll(xvars,Implies(And(inv, loop_cond, xrange), inv_f1))\n",
    "cons3 = ForAll(xvars,Implies(And(inv, Not(loop_cond),xrange),post))\n",
    "               \n",
    "s = Solver()\n",
    "s.add( cons1, cons2, cons3)\n",
    "print(s.check())\n",
    "print(s.model())\n",
    "end = time.time()\n",
    "print(\"Consume Time: %.8f s\\n\"%((end-start)))"
   ]
  },
  {
   "cell_type": "code",
   "execution_count": null,
   "id": "4eb32dd9",
   "metadata": {},
   "outputs": [],
   "source": []
  },
  {
   "cell_type": "code",
   "execution_count": 1,
   "id": "a6fc83c2",
   "metadata": {},
   "outputs": [
    {
     "name": "stdout",
     "output_type": "stream",
     "text": [
      "sat\n",
      "[]\n",
      "Consume Time: 11.33715248 s\n",
      "\n"
     ]
    }
   ],
   "source": [
    "# with template  a0+a1*x1+a2*x2+a3*x1**2+a4*x2**2+a5*x1*x2\n",
    "from z3 import *\n",
    "import time\n",
    "start = time.time()\n",
    "x1,x2,a1,a2,a3 = Reals('x1 x2 a1 a2 a3')\n",
    "xvars = [x1,x2]\n",
    "xrange = And(x1>=-5, x1<=5, x2>=-5,x2<=5)\n",
    "\n",
    "loop_cond = -x1**2 -x2**2 + 2>=0\n",
    "\n",
    "pre1 =(x1-0.9)*(1.1-x1)>= 0\n",
    "pre2=x2*(0.2-x2)>=0\n",
    "post =x2+2*x1-2<=0\n",
    "inv =4.534-0.0015*x1-1.3828*x2-2.908*x1**2-1.93*x2**2+0.0437*x1*x2>=0\n",
    "\n",
    "x1_f=0.5*x1**2+ 0.4*x2**2\n",
    "x2_f=-0.6*x1**2+0.3*x2**2\n",
    "\n",
    "inv_f1 =4.534-0.0015*x1_f-1.3828*x2_f-2.908*x1_f**2-1.93*x2_f**2+0.0437*x1_f*x2_f>=0\n",
    "\n",
    "\n",
    "\n",
    "cons1 = ForAll(xvars,Implies(And(pre1,pre2, xrange), inv))\n",
    "cons2 = ForAll(xvars,Implies(And(inv, loop_cond, xrange), inv_f1))\n",
    "cons3 = ForAll(xvars,Implies(And(inv, Not(loop_cond),xrange),post))\n",
    "               \n",
    "s = Solver()\n",
    "s.add( cons1, cons2, cons3)\n",
    "print(s.check())\n",
    "print(s.model())\n",
    "end = time.time()\n",
    "print(\"Consume Time: %.8f s\\n\"%((end-start)))"
   ]
  },
  {
   "cell_type": "code",
   "execution_count": null,
   "id": "0d813a79",
   "metadata": {},
   "outputs": [],
   "source": []
  },
  {
   "cell_type": "code",
   "execution_count": null,
   "id": "f844ca60",
   "metadata": {},
   "outputs": [],
   "source": [
    "# deter time out\n",
    "# with template inv = a0+a1*x1+a2*x2+a3*x1**2+a4*x2**2+a5*x1*x2<=0\n",
    "# x is bounded,\n",
    "from z3 import *\n",
    "import time\n",
    "start = time.time()\n",
    "x1,x2,a0,a1,a2,a3,a4,a5 = Reals('x1 x2 a0 a1 a2 a3 a4 a5')\n",
    "xvars = [x1,x2]\n",
    "xrange = And(x1>=-5, x1<=5, x2>=-5,x2<=5)\n",
    "\n",
    "loop_cond = -x1**2 -x2**2 + 2>=0\n",
    "\n",
    "pre1 =(x1-0.9)*(1.1-x1)>= 0\n",
    "pre2=x2*(0.2-x2)>=0\n",
    "post =x2+2*x1-2<=0\n",
    "inv =a0+a1*x1+a2*x2+a3*x1**2+a4*x2**2+a5*x1*x2>=0\n",
    "\n",
    "x1_f=0.5*x1**2+ 0.4*x2**2\n",
    "x2_f=-0.6*x1**2+0.3*x2**2\n",
    "\n",
    "inv_f1 = a0+a1*x1_f+a2*x2_f+a3*x1_f**2+a4*x2_f**2+a5*x1_f*x2_f>=0\n",
    "\n",
    "\n",
    "\n",
    "cons1 = ForAll(xvars,Implies(And(pre1,pre2, xrange), inv))\n",
    "cons2 = ForAll(xvars,Implies(And(inv, loop_cond, xrange), inv_f1))\n",
    "cons3 = ForAll(xvars,Implies(And(inv, Not(loop_cond),xrange),post))\n",
    "               \n",
    "s = Solver()\n",
    "s.add( cons1, cons2, cons3)\n",
    "print(s.check())\n",
    "print(s.model())\n",
    "end = time.time()\n",
    "print(\"Consume Time: %.8f s\\n\"%((end-start)))"
   ]
  },
  {
   "cell_type": "code",
   "execution_count": null,
   "id": "eab0e7c3",
   "metadata": {},
   "outputs": [],
   "source": [
    "# deter time out\n",
    "# with template inv =  a1*x1**2 + a2*x2**2 + a3<=0\n",
    "# x is bounded,\n",
    "from z3 import *\n",
    "import time\n",
    "start = time.time()\n",
    "x1,x2,a1,a2,a3 = Reals('x1 x2 a1 a2 a3')\n",
    "xvars = [x1,x2]\n",
    "xrange = And(x1>=-5, x1<=5, x2>=-5,x2<=5)\n",
    "arange= And(a1>=-5,a1<=5,a2>=-5,a2<=5,a3>=-5,a3<=5)\n",
    "loop_cond = -x1**2 -x2**2 + 2>=0\n",
    "\n",
    "pre1 =(x1-0.9)*(1.1-x1)>= 0\n",
    "pre2=x2*(0.2-x2)>=0\n",
    "post =x2+2*x1-2<=0\n",
    "inv =a1*x1**2 + a2*x2**2 + a3>=0\n",
    "\n",
    "x1_f=0.5*x1**2+ 0.4*x2**2\n",
    "x2_f=-0.6*x1**2+0.3*x2**2\n",
    "\n",
    "inv_f1 = a1*x1_f**2 + a2*x2_f**2 + a3>=0\n",
    "\n",
    "\n",
    "\n",
    "cons1 = ForAll(xvars,Implies(And(pre1,pre2, xrange), inv))\n",
    "cons2 = ForAll(xvars,Implies(And(inv, loop_cond, xrange), inv_f1))\n",
    "cons3 = ForAll(xvars,Implies(And(inv, Not(loop_cond),xrange),post))\n",
    "               \n",
    "s = Solver()\n",
    "s.add( cons1, cons2, cons3)\n",
    "print(s.check())\n",
    "print(s.model())\n",
    "end = time.time()\n",
    "print(\"Consume Time: %.8f s\\n\"%((end-start)))"
   ]
  },
  {
   "cell_type": "markdown",
   "id": "e07993d1",
   "metadata": {},
   "source": [
    "# bound2"
   ]
  },
  {
   "cell_type": "code",
   "execution_count": null,
   "id": "4d72b544",
   "metadata": {},
   "outputs": [],
   "source": [
    "1.31452294425+0.173461931432*x1-0.000861839344975*x2-1.64875622363*x1^2-1.53076939087*x2^2+0.273601927231*x1*x2"
   ]
  },
  {
   "cell_type": "code",
   "execution_count": null,
   "id": "7ad7f099",
   "metadata": {},
   "outputs": [],
   "source": []
  },
  {
   "cell_type": "code",
   "execution_count": 2,
   "id": "6bde9f33",
   "metadata": {},
   "outputs": [
    {
     "name": "stdout",
     "output_type": "stream",
     "text": [
      "sat\n",
      "[]\n",
      "Consume Time: 0.03644085 s\n",
      "\n"
     ]
    }
   ],
   "source": [
    "# with template a0+a1*x1+a2*x2+a3*x1**2+a4*x2**2+a5*x1*x2\n",
    "from z3 import *\n",
    "import time\n",
    "start = time.time()\n",
    "x1,x2,a0,a1,a2,a3,a4,a5 = Reals('x1 x2 a0 a1 a2 a3 a4 a5')\n",
    "xvars = [x1,x2]\n",
    "xrange = And(x1>=-5, x1<=5, x2>=-5,x2<=5)\n",
    "\n",
    "loop_cond = -x1**2 -x2**2 +1>=0\n",
    "\n",
    "pre1 =(x1-0.5)*(0.7-x1)>= 0\n",
    "pre2=(x2-0.5)*(0.7-x2)>= 0\n",
    "post =x1**2+x2**2-0.36<=0\n",
    "inv =1.3145+0.1734*x1-1.648*x1**2-1.5307*x2**2+0.2736*x1*x2>=0\n",
    "\n",
    "x1_f=0.5*x1**3+ 0.4*x2**2\n",
    "x2_f=-0.6*x1**2+0.3*x2**2\n",
    "\n",
    "inv_f1 = 1.3145+0.1734*x1_f-1.648*x1_f**2-1.5307*x2_f**2+0.2736*x1_f*x2_f>=0\n",
    "\n",
    "\n",
    "\n",
    "cons1 = ForAll(xvars,Implies(And(pre1,pre2, xrange), inv))\n",
    "cons2 = ForAll(xvars,Implies(And(inv, loop_cond, xrange), inv_f1))\n",
    "cons3 = ForAll(xvars,Implies(And(inv, Not(loop_cond),xrange),post))\n",
    "               \n",
    "s = Solver()\n",
    "s.add( cons1, cons2, cons3)\n",
    "print(s.check())\n",
    "print(s.model())\n",
    "end = time.time()\n",
    "print(\"Consume Time: %.8f s\\n\"%((end-start)))"
   ]
  },
  {
   "cell_type": "code",
   "execution_count": null,
   "id": "a9e2efb0",
   "metadata": {},
   "outputs": [],
   "source": [
    "# with template a1*x1**2 + a2*x2**2 + a3\n",
    "# both a and x are bounded,which is a much easier task to do.\n",
    "from z3 import *\n",
    "import time\n",
    "start = time.time()\n",
    "x1,x2,a0,a1,a2,a3,a4,a5 = Reals('x1 x2 a0 a1 a2 a3 a4 a5')\n",
    "xvars = [x1,x2]\n",
    "xrange = And(x1>=-5, x1<=5, x2>=-5,x2<=5)\n",
    "\n",
    "loop_cond = -x1**2 -x2**2 +1>=0\n",
    "\n",
    "pre1 =(x1-0.5)*(0.7-x1)>= 0\n",
    "pre2=(x2-0.5)*(0.7-x2)>= 0\n",
    "post =x1**2+x2**2-0.36<=0\n",
    "inv =a1*x1**2 + a2*x2**2 + a3>=0\n",
    "\n",
    "x1_f=0.5*x1**3+ 0.4*x2**2\n",
    "x2_f=-0.6*x1**2+0.3*x2**2\n",
    "\n",
    "inv_f1 = a1*x1_f**2 + a2*x2_f**2 + a3>=0\n",
    "\n",
    "\n",
    "\n",
    "cons1 = ForAll(xvars,Implies(And(pre1,pre2, xrange), inv))\n",
    "cons2 = ForAll(xvars,Implies(And(inv, loop_cond, xrange), inv_f1))\n",
    "cons3 = ForAll(xvars,Implies(And(inv, Not(loop_cond),xrange),post))\n",
    "               \n",
    "s = Solver()\n",
    "s.add( cons1, cons2, cons3)\n",
    "print(s.check())\n",
    "print(s.model())\n",
    "end = time.time()\n",
    "print(\"Consume Time: %.8f s\\n\"%((end-start)))"
   ]
  },
  {
   "cell_type": "markdown",
   "id": "c0e50f2f",
   "metadata": {},
   "source": [
    "# contrived"
   ]
  },
  {
   "cell_type": "code",
   "execution_count": null,
   "id": "53f46da4",
   "metadata": {},
   "outputs": [],
   "source": [
    "-1+0.177446897591*x1+1.41365704733*x2-0.417306261216*x1^2-0.269504429165*x2^2"
   ]
  },
  {
   "cell_type": "code",
   "execution_count": null,
   "id": "a3907b5a",
   "metadata": {},
   "outputs": [],
   "source": [
    "-7.88945461655+1.08279844064*x1+11.0898209141*x2-2.00048107884*x1^2-2.0010239209*x2^2+0.0638257011457*x1*x2"
   ]
  },
  {
   "cell_type": "code",
   "execution_count": null,
   "id": "a531aeff",
   "metadata": {},
   "outputs": [],
   "source": [
    "-7.88945461655+1.08279844064*x1+11.0898209141*x2-2.00048107884*x1^2-2.0010239209*x2^2+0.0638257011457*x1*x2"
   ]
  },
  {
   "cell_type": "code",
   "execution_count": null,
   "id": "062202b8",
   "metadata": {},
   "outputs": [],
   "source": [
    "-4.40197673599+4.18799629794*x1+10.616122711*x2-2.53300866*x1^2-2.16422066667*x2^2+0.0268743373393*x1*x2"
   ]
  },
  {
   "cell_type": "code",
   "execution_count": null,
   "id": "62e9efa9",
   "metadata": {},
   "outputs": [],
   "source": [
    "-7.48867300871+1.04849325602*x1+10.5288657214*x2-1.8950822303*x1**2-1.89888575511*x2**2+0.0587336099187*x1*x2"
   ]
  },
  {
   "cell_type": "code",
   "execution_count": null,
   "id": "13b89f6e",
   "metadata": {},
   "outputs": [],
   "source": [
    "-7.48867300871+1.04849325602*x1_f+10.5288657214*x2_f-1.8950822303*x1_f**2-1.89888575511*x2_f**2+0.0587336099187*x1_f*x2_f"
   ]
  },
  {
   "cell_type": "code",
   "execution_count": 2,
   "id": "73277923",
   "metadata": {},
   "outputs": [
    {
     "name": "stdout",
     "output_type": "stream",
     "text": [
      "sat\n",
      "[]\n",
      "Consume Time: 0.27391171 s\n",
      "\n"
     ]
    }
   ],
   "source": [
    "from z3 import *\n",
    "import time\n",
    "start = time.time()\n",
    "x1,x2,a0,a1,a2,a3,a4,a5 = Reals('x1 x2 a0 a1 a2 a3 a4 a5')\n",
    "xvars = [x1,x2]\n",
    "xrange = And(x1>=-10, x1<=10, x2>=-10,x2<=10)\n",
    "\n",
    "loop_cond = 4-x1**2-(x2 -3)**2>=0\n",
    "\n",
    "pre = 1-x1**2-(x2 -3)**2>= 0\n",
    "post =(x1-2)**2+(x2-2)**2-9<=0\n",
    "inv =-7.48867300871+1.04849325602*x1+10.5288657214*x2-1.8950822303*x1**2-1.89888575511*x2**2+0.0587336099187*x1*x2>=0\n",
    "\n",
    "x1_f=(x2-x1)*0.1+x1\n",
    "x2_f=0.9*x2\n",
    "\n",
    "inv_f1 =-7.48867300871+1.04849325602*x1_f+10.5288657214*x2_f-1.8950822303*x1_f**2-1.89888575511*x2_f**2+0.0587336099187*x1_f*x2_f>=0\n",
    "\n",
    "\n",
    "\n",
    "cons1 = ForAll(xvars,Implies(And(pre, xrange), inv))\n",
    "cons2 = ForAll(xvars,Implies(And(inv, loop_cond, xrange), inv_f1))\n",
    "cons3 = ForAll(xvars,Implies(And(inv, Not(loop_cond),xrange),post))\n",
    "               \n",
    "s = Solver()\n",
    "s.add( cons1, cons2, cons3)\n",
    "print(s.check())\n",
    "print(s.model())\n",
    "end = time.time()\n",
    "print(\"Consume Time: %.8f s\\n\"%((end-start)))"
   ]
  },
  {
   "cell_type": "code",
   "execution_count": null,
   "id": "2c3e8c94",
   "metadata": {},
   "outputs": [],
   "source": []
  },
  {
   "cell_type": "code",
   "execution_count": null,
   "id": "c9b053e7",
   "metadata": {},
   "outputs": [],
   "source": []
  },
  {
   "cell_type": "code",
   "execution_count": 6,
   "id": "171a3004",
   "metadata": {},
   "outputs": [
    {
     "name": "stdout",
     "output_type": "stream",
     "text": [
      "sat\n",
      "[]\n",
      "Consume Time: 0.11301923 s\n",
      "\n"
     ]
    }
   ],
   "source": [
    "# with template  a0+a1*x1+a2*x2+a3*x1**2+a4*x2**2+a5*x1*x2\n",
    "\n",
    "from z3 import *\n",
    "import time\n",
    "start = time.time()\n",
    "x1,x2,a0,a1,a2,a3,a4,a5 = Reals('x1 x2 a0 a1 a2 a3 a4 a5')\n",
    "xvars = [x1,x2]\n",
    "xrange = And(x1>=-10, x1<=10, x2>=-10,x2<=10)\n",
    "\n",
    "loop_cond = 4-x1**2-(x2 -3)**2>=0\n",
    "\n",
    "pre = 1-x1**2-(x2 -3)**2>= 0\n",
    "post =(x1-2)**2+(x2-2)**2-9<=0\n",
    "inv =-7.88945461655+1.08279844064*x1+11.0898209141*x2-2.00048107884*x1**2-2.0010239209*x2**2+0.0638257011457*x1*x2>=0\n",
    "\n",
    "x1_f=(x2-x1)*0.1+x1\n",
    "x2_f=0.9*x2\n",
    "\n",
    "inv_f1 =-7.88945461655+1.08279844064*x1_f+11.0898209141*x2_f-2.00048107884*x1_f**2-2.0010239209*x2_f**2+0.0638257011457*x1_f*x2_f>=0\n",
    "\n",
    "\n",
    "\n",
    "cons1 = ForAll(xvars,Implies(And(pre, xrange), inv))\n",
    "cons2 = ForAll(xvars,Implies(And(inv, loop_cond, xrange), inv_f1))\n",
    "cons3 = ForAll(xvars,Implies(And(inv, Not(loop_cond),xrange),post))\n",
    "               \n",
    "s = Solver()\n",
    "s.add( cons1, cons2, cons3)\n",
    "print(s.check())\n",
    "print(s.model())\n",
    "end = time.time()\n",
    "print(\"Consume Time: %.8f s\\n\"%((end-start)))"
   ]
  },
  {
   "cell_type": "code",
   "execution_count": 8,
   "id": "c5497084",
   "metadata": {},
   "outputs": [
    {
     "name": "stdout",
     "output_type": "stream",
     "text": [
      "sat\n",
      "[]\n",
      "Consume Time: 0.10715485 s\n",
      "\n"
     ]
    }
   ],
   "source": [
    "# with template  a0+a1*x1+a2*x2+a3*x1**2+a4*x2**2+a5*x1*x2\n",
    "\n",
    "from z3 import *\n",
    "import time\n",
    "start = time.time()\n",
    "x1,x2,a0,a1,a2,a3,a4,a5 = Reals('x1 x2 a0 a1 a2 a3 a4 a5')\n",
    "xvars = [x1,x2]\n",
    "xrange = And(x1>=-10, x1<=10, x2>=-10,x2<=10)\n",
    "\n",
    "loop_cond = 4-x1**2-(x2 -3)**2>=0\n",
    "\n",
    "pre = 1-x1**2-(x2 -3)**2>= 0\n",
    "post =(x1-2)**2+(x2-2)**2-9<=0\n",
    "inv =-1+0.157676250957*x1+1.41459977906*x2-0.255186110046*x1**2-0.253943910905*x2**2>=0\n",
    "\n",
    "x1_f=(x2-x1)*0.1+x1\n",
    "x2_f=0.9*x2\n",
    "\n",
    "inv_f1 =-1+0.157676250957*x1_f+1.41459977906*x2_f-0.255186110046*x1_f**2-0.253943910905*x2_f**2>=0\n",
    "\n",
    "\n",
    "\n",
    "cons1 = ForAll(xvars,Implies(And(pre, xrange), inv))\n",
    "cons2 = ForAll(xvars,Implies(And(inv, loop_cond, xrange), inv_f1))\n",
    "cons3 = ForAll(xvars,Implies(And(inv, Not(loop_cond),xrange),post))\n",
    "               \n",
    "s = Solver()\n",
    "s.add( cons1, cons2, cons3)\n",
    "print(s.check())\n",
    "print(s.model())\n",
    "end = time.time()\n",
    "print(\"Consume Time: %.8f s\\n\"%((end-start)))"
   ]
  },
  {
   "cell_type": "code",
   "execution_count": 4,
   "id": "923a8193",
   "metadata": {},
   "outputs": [
    {
     "name": "stdout",
     "output_type": "stream",
     "text": [
      "sat\n",
      "[]\n",
      "Consume Time: 0.10616517 s\n",
      "\n"
     ]
    }
   ],
   "source": [
    "# with template  a0+a1*x1+a2*x2+a3*x1**2+a4*x2**2+a5*x1*x2\n",
    "\n",
    "from z3 import *\n",
    "import time\n",
    "start = time.time()\n",
    "x1,x2,a0,a1,a2,a3,a4,a5 = Reals('x1 x2 a0 a1 a2 a3 a4 a5')\n",
    "xvars = [x1,x2]\n",
    "xrange = And(x1>=-10, x1<=10, x2>=-10,x2<=10)\n",
    "\n",
    "loop_cond = 4-x1**2-(x2 -3)**2>=0\n",
    "\n",
    "pre = 1-x1**2-(x2 -3)**2>= 0\n",
    "post =(x1-2)**2+(x2-2)**2-9<=0\n",
    "inv =-1+0.159899927961*x1+1.4227133098*x2-0.258470619447*x1**2-0.257430830882*x2**2>=0\n",
    "\n",
    "x1_f=(x2-x1)*0.1+x1\n",
    "x2_f=0.9*x2\n",
    "\n",
    "inv_f1 =-1+0.159899927961*x1_f+1.4227133098*x2_f-0.258470619447*x1_f**2-0.257430830882*x2_f**2>=0\n",
    "\n",
    "\n",
    "\n",
    "cons1 = ForAll(xvars,Implies(And(pre, xrange), inv))\n",
    "cons2 = ForAll(xvars,Implies(And(inv, loop_cond, xrange), inv_f1))\n",
    "cons3 = ForAll(xvars,Implies(And(inv, Not(loop_cond),xrange),post))\n",
    "               \n",
    "s = Solver()\n",
    "s.add( cons1, cons2, cons3)\n",
    "print(s.check())\n",
    "print(s.model())\n",
    "end = time.time()\n",
    "print(\"Consume Time: %.8f s\\n\"%((end-start)))"
   ]
  },
  {
   "cell_type": "code",
   "execution_count": null,
   "id": "f204981f",
   "metadata": {},
   "outputs": [],
   "source": [
    "-1+0.159899927961*x1+1.4227133098*x2-0.258470619447*x1^2-0.257430830882*x2^2"
   ]
  },
  {
   "cell_type": "code",
   "execution_count": null,
   "id": "9aed2800",
   "metadata": {},
   "outputs": [],
   "source": [
    "# with template  -1+a0*x1+a1*x2+a2*x1**2+a3*x2**2\n",
    "\n",
    "from z3 import *\n",
    "import time\n",
    "start = time.time()\n",
    "x1,x2,a0,a1,a2,a3 = Reals('x1 x2 a0 a1 a2 a3')\n",
    "xvars = [x1,x2]\n",
    "xrange = And(x1>=-10, x1<=10, x2>=-10,x2<=10)\n",
    "\n",
    "loop_cond = 4-x1**2-(x2 -3)**2>=0\n",
    "\n",
    "pre = 1-x1**2-(x2 -3)**2>= 0\n",
    "post =(x1-2)**2+(x2-2)**2-9<=0\n",
    "\n",
    "inv =-1+a0*x1+a1*x2+a2*x1**2+a3*x2**2>=0\n",
    "\n",
    "x1_f=(x2-x1)*0.1+x1\n",
    "x2_f=0.9*x2\n",
    "\n",
    "inv_f1 =-1+a0*x1_f+a1*x2_f+a2*x1_f**2+a3*x2_f**2>=0\n",
    "\n",
    "\n",
    "\n",
    "cons1 = ForAll(xvars,Implies(And(pre, xrange), inv))\n",
    "cons2 = ForAll(xvars,Implies(And(inv, loop_cond, xrange), inv_f1))\n",
    "cons3 = ForAll(xvars,Implies(And(inv, Not(loop_cond),xrange),post))\n",
    "               \n",
    "s = Solver()\n",
    "s.add( cons1, cons2, cons3)\n",
    "print(s.check())\n",
    "print(s.model())\n",
    "end = time.time()\n",
    "print(\"Consume Time: %.8f s\\n\"%((end-start)))"
   ]
  },
  {
   "cell_type": "markdown",
   "id": "2748d919",
   "metadata": {},
   "source": [
    "# transcend"
   ]
  },
  {
   "cell_type": "code",
   "execution_count": null,
   "id": "6ab7b2ec",
   "metadata": {},
   "outputs": [],
   "source": [
    "-1.92+0.533*x1+9.857*x2-2.734*x1**2-2.680*x2**2-0.166*x1*x2"
   ]
  },
  {
   "cell_type": "code",
   "execution_count": null,
   "id": "e438229c",
   "metadata": {},
   "outputs": [],
   "source": []
  },
  {
   "cell_type": "code",
   "execution_count": 3,
   "id": "7120106c",
   "metadata": {},
   "outputs": [
    {
     "name": "stdout",
     "output_type": "stream",
     "text": [
      "sat\n",
      "[]\n",
      "Consume Time: 5.58253264 s\n",
      "\n"
     ]
    }
   ],
   "source": [
    "# with template 1：a0+a1*x1+a2*x2+a3*x1**2+a4*x2**2+a5*x1*x2\n",
    "\n",
    "from z3 import *\n",
    "import time\n",
    "start = time.time()\n",
    "x1,x2,a0,a1,a2,a3,a4,a5 = Reals('x1 x2 a0 a1 a2 a3 a4 a5')\n",
    "xvars = [x1,x2]\n",
    "xrange = And(x1>=-10, x1<=10, x2>=-10,x2<=10)\n",
    "\n",
    "\n",
    "loop_cond = 3-x1**2-(x2-2)**2>=0\n",
    "\n",
    "pre =1-x1**2-(x2-2)**2>= 0\n",
    "post =0.2*x2**2-2+x2<=0\n",
    "inv =-1.92+0.533*x1+9.857*x2-2.734*x1**2-2.680*x2**2-0.166*x1*x2>=0\n",
    "\n",
    "x1_f=0.9*x1\n",
    "x2_f=x2-0.1*x2*(1+x1)\n",
    "\n",
    "inv_f1 =-1.92+0.533*x1_f+9.857*x2_f-2.734*x1_f**2-2.680*x2_f**2-0.166*x1_f*x2_f>=0\n",
    "\n",
    "\n",
    "\n",
    "cons1 = ForAll(xvars,Implies(And(pre, xrange), inv))\n",
    "cons2 = ForAll(xvars,Implies(And(inv, loop_cond, xrange), inv_f1))\n",
    "cons3 = ForAll(xvars,Implies(And(inv, Not(loop_cond),xrange),post))\n",
    "               \n",
    "s = Solver()\n",
    "s.add( cons1, cons2, cons3)\n",
    "print(s.check())\n",
    "print(s.model())\n",
    "end = time.time()\n",
    "print(\"Consume Time: %.8f s\\n\"%((end-start)))"
   ]
  },
  {
   "cell_type": "code",
   "execution_count": null,
   "id": "c9805dd0",
   "metadata": {},
   "outputs": [],
   "source": []
  },
  {
   "cell_type": "code",
   "execution_count": null,
   "id": "087e1d3b",
   "metadata": {},
   "outputs": [],
   "source": [
    "# with template 2：a0+a1*x2-x1**2-x2**2\n",
    "\n",
    "from z3 import *\n",
    "import time\n",
    "start = time.time()\n",
    "x1,x2,a0,a1 = Reals('x1 x2 a0 a1')\n",
    "xvars = [x1,x2]\n",
    "xrange = And(x1>=-10, x1<=10, x2>=-10,x2<=10)\n",
    "arange=And(a0<=5,a1<=5,a0>=-5,a1>=-5)\n",
    "\n",
    "loop_cond = 3-x1**2-(x2-2)**2>=0\n",
    "\n",
    "pre =1-x1**2-(x2-2)**2>=0\n",
    "post =0.2*x2**2-2+x2<=0\n",
    "inv =a0+a1*x2-x1**2-x2**2>=0\n",
    "\n",
    "x1_f=0.9*x1\n",
    "x2_f=x2-0.1*x2*(1+x1)\n",
    "\n",
    "inv_f1 =a0+a1*x2_f-x1_f**2-x2_f**2>=0\n",
    "\n",
    "\n",
    "\n",
    "cons1 = ForAll(xvars,Implies(And(pre, xrange), inv))\n",
    "cons2 = ForAll(xvars,Implies(And(inv, loop_cond, xrange), inv_f1))\n",
    "cons3 = ForAll(xvars,Implies(And(inv, Not(loop_cond),xrange),post))\n",
    "               \n",
    "s = Solver()\n",
    "s.add( cons1, cons2, cons3, arange)\n",
    "print(s.check())\n",
    "print(s.model())\n",
    "end = time.time()\n",
    "print(\"Consume Time: %.8f s\\n\"%((end-start)))"
   ]
  },
  {
   "cell_type": "markdown",
   "id": "ecead43b",
   "metadata": {},
   "source": [
    "# motivate"
   ]
  },
  {
   "cell_type": "code",
   "execution_count": null,
   "id": "c2d0a432",
   "metadata": {},
   "outputs": [],
   "source": [
    "-9.5845368734+1.267692646*x1+0.0849810634589*x2+7.45454657716*x3-1.04235693546*x1**2-4.1347489907*x2**2-0.344111489975*x3**2+0.0203639965974*x1*x2+0.931580521029*x1*x3+0.0960412089108*x2*x3"
   ]
  },
  {
   "cell_type": "code",
   "execution_count": null,
   "id": "ca4b9826",
   "metadata": {},
   "outputs": [],
   "source": [
    "5.12769189762+0.442838284952*x1+2.76011236748*x2-1.14545389608*x1^2-0.742613394048*x2^2-0.162616548379*x1*x2"
   ]
  },
  {
   "cell_type": "code",
   "execution_count": null,
   "id": "fe8ca06c",
   "metadata": {},
   "outputs": [],
   "source": [
    "# timeout\n",
    "# template 1  a0 + a1*x1+a2*x2+a3*x3+a4*x1**2+a5*x2**2+a6*x3**2+a7*x1*x2+a8*x1*x3+a9*x2*x3>=0\n",
    "from z3 import *\n",
    "import time\n",
    "start = time.time()\n",
    "x1,x2,x3,a0,a1,a2,a3,a4,a5,a6,a7,a8,a9 = Reals('x1 x2 x3 a0 a1 a2 a3 a4 a5 a6 a7 a8 a9')\n",
    "xvars = [x1,x2,x3]\n",
    "xrange = And(x1>=-10, x1<=10, x2>=-10,x2<=10,x3>=-10,x3<=10)\n",
    "\n",
    "loop_cond =-(x1-3)**2 - x2**2 - (x3-3)**2 + 2>=0\n",
    "\n",
    "pre =(x1-3)**2+x2**2+(x3-3)**2-0.25<=0\n",
    "post=-x3 + 0.5*x2**2 + 1<=0\n",
    "inv =-9.5845368734+1.267692646*x1+0.0849810634589*x2+7.45454657716*x3-1.04235693546*x1**2-4.1347489907*x2**2-0.344111489975*x3**2+0.0203639965974*x1*x2+0.931580521029*x1*x3+0.0960412089108*x2*x3>=0\n",
    "\n",
    "x1_f=x1+0.1*(2*x1+x2)\n",
    "x2_f=x2+0.1*(x1+9*x2+1/2*x3)\n",
    "x3_f=x3+0.1*(2*x2+16*x3)\n",
    "\n",
    "inv_f1 =-9.5845368734+1.267692646*x1_f+0.0849810634589*x2_f+7.45454657716*x3_f-1.04235693546*x1_f**2-4.1347489907*x2_f**2-0.344111489975*x3_f**2+0.0203639965974*x1_f*x2_f+0.931580521029*x1_f*x3_f+0.0960412089108*x2_f*x3_f>=0\n",
    "\n",
    "\n",
    "cons1 = ForAll(xvars,Implies(And(pre, xrange), inv))\n",
    "cons2 = ForAll(xvars,Implies(And(inv, loop_cond, xrange), inv_f1))\n",
    "cons3 = ForAll(xvars,Implies(And(inv, Not(loop_cond),xrange),post))\n",
    "               \n",
    "s = Solver()\n",
    "s.add( cons3)\n",
    "print(s.check())\n",
    "print(s.model())\n",
    "end = time.time()\n",
    "print(\"Consume Time: %.8f s\\n\"%((end-start)))"
   ]
  },
  {
   "cell_type": "code",
   "execution_count": 8,
   "id": "90981a32",
   "metadata": {},
   "outputs": [
    {
     "name": "stdout",
     "output_type": "stream",
     "text": [
      "sat\n",
      "[]\n",
      "Consume Time: 0.04225874 s\n",
      "\n"
     ]
    }
   ],
   "source": [
    "# timeout\n",
    "# template 1  a0 + a1*x1+a2*x2+a3*x3+a4*x1**2+a5*x2**2+a6*x3**2+a7*x1*x2+a8*x1*x3+a9*x2*x3>=0\n",
    "from z3 import *\n",
    "import time\n",
    "start = time.time()\n",
    "x1,x2,x3,a0,a1,a2,a3,a4,a5,a6,a7,a8,a9 = Reals('x1 x2 x3 a0 a1 a2 a3 a4 a5 a6 a7 a8 a9')\n",
    "xvars = [x1,x2,x3]\n",
    "xrange = And(x1>=-10, x1<=10, x2>=-10,x2<=10,x3>=-10,x3<=10)\n",
    "\n",
    "loop_cond =-(x1-3)**2 - x2**2 - (x3-3)**2 + 2>=0\n",
    "\n",
    "pre =(x1-3)**2+x2**2+(x3-3)**2-0.25<=0\n",
    "post=-x3 + 0.5*x2**2 + 1<=0\n",
    "inv =-9.5845368734+1.267692646*x1+0.0849810634589*x2+7.45454657716*x3-1.04235693546*x1**2-4.1347489907*x2**2-0.344111489975*x3**2+0.0203639965974*x1*x2+0.931580521029*x1*x3+0.0960412089108*x2*x3>=0\n",
    "\n",
    "x1_f=x1+0.1*(2*x1+x2)\n",
    "x2_f=x2+0.1*(x1+9*x2+1/2*x3)\n",
    "x3_f=x3+0.1*(2*x2+16*x3)\n",
    "\n",
    "inv_f1 =-9.5845368734+1.267692646*x1_f+0.0849810634589*x2_f+7.45454657716*x3_f-1.04235693546*x1_f**2-4.1347489907*x2_f**2-0.344111489975*x3_f**2+0.0203639965974*x1_f*x2_f+0.931580521029*x1_f*x3_f+0.0960412089108*x2_f*x3_f>=0\n",
    "\n",
    "\n",
    "cons1 = ForAll(xvars,Implies(And(pre, xrange), inv))\n",
    "cons2 = ForAll(xvars,Implies(And(inv, loop_cond, xrange), inv_f1))\n",
    "cons3 = ForAll(xvars,Implies(And(inv, Not(loop_cond),xrange),post))\n",
    "               \n",
    "s = Solver()\n",
    "s.add( cons3)\n",
    "print(s.check())\n",
    "print(s.model())\n",
    "end = time.time()\n",
    "print(\"Consume Time: %.8f s\\n\"%((end-start)))"
   ]
  },
  {
   "cell_type": "code",
   "execution_count": null,
   "id": "0f8687f3",
   "metadata": {},
   "outputs": [],
   "source": [
    "-8.5511099151+0.572087996237*x2+6.57126388617*x3-3.79915896122*x2^2"
   ]
  },
  {
   "cell_type": "code",
   "execution_count": null,
   "id": "fe650eb6",
   "metadata": {},
   "outputs": [],
   "source": [
    "-9.5845368734+1.267692646*x1+0.0849810634589*x2+7.45454657716*x3-1.04235693546*x1**2-4.1347489907*x2**2-0.344111489975*x3**2+0.0203639965974*x1*x2+0.931580521029*x1*x3+0.0960412089108*x2*x3"
   ]
  },
  {
   "cell_type": "code",
   "execution_count": null,
   "id": "b725061c",
   "metadata": {},
   "outputs": [],
   "source": [
    "\n",
    "# template 1  inv=a0+a1*x2+a2*x2**2+a3*x3\n",
    "from z3 import *\n",
    "import time\n",
    "start = time.time()\n",
    "x1,x2,x3,a0,a1,a2,a3,a4,a5,a6,a7,a8,a9 = Reals('x1 x2 x3 a0 a1 a2 a3 a4 a5 a6 a7 a8 a9')\n",
    "xvars = [x1,x2,x3]\n",
    "xrange = And(x1>=-10, x1<=10, x2>=-10,x2<=10,x3>=-10,x3<=10)\n",
    "\n",
    "loop_cond =-(x1-3)**2 - x2**2 - (x3-3)**2 + 2>=0\n",
    "\n",
    "pre =(x1-3)**2+x2**2+(x3-3)**2-0.25<=0\n",
    "post=-x3 + 0.5*x2**2 + 1<=0\n",
    "inv=a0+a1*x2+a2*x2**2+a3*x3>=0\n",
    "\n",
    "x1_f=x1+0.1*(2*x1+x2)\n",
    "x2_f=x2+0.1*(x1+9*x2+1/2*x3)\n",
    "x3_f=x3+0.1*(2*x2+16*x3)\n",
    "\n",
    "inv_f1 =a0+a1*x2_f+a2*x2_f**2+a3*x3_f>=0\n",
    "\n",
    "\n",
    "cons1 = ForAll(xvars,Implies(And(pre, xrange), inv))\n",
    "cons2 = ForAll(xvars,Implies(And(inv, loop_cond, xrange), inv_f1))\n",
    "cons3 = ForAll(xvars,Implies(And(inv, Not(loop_cond),xrange),post))\n",
    "               \n",
    "s = Solver()\n",
    "s.add( cons3)\n",
    "print(s.check())\n",
    "print(s.model())\n",
    "end = time.time()\n",
    "print(\"Consume Time: %.8f s\\n\"%((end-start)))"
   ]
  },
  {
   "cell_type": "code",
   "execution_count": null,
   "id": "d81422b0",
   "metadata": {},
   "outputs": [],
   "source": [
    "-8.79224185134+0.608552709057*x2+6.67193176271*x3-3.8912842914*x2^2"
   ]
  },
  {
   "cell_type": "code",
   "execution_count": 9,
   "id": "da5a17cb",
   "metadata": {},
   "outputs": [
    {
     "name": "stdout",
     "output_type": "stream",
     "text": [
      "sat\n",
      "[]\n",
      "Consume Time: 0.02199864 s\n",
      "\n"
     ]
    }
   ],
   "source": [
    "# template 1  inv=a0+a1*x2+a2*x2**2+a3*x3\n",
    "from z3 import *\n",
    "import time\n",
    "start = time.time()\n",
    "x1,x2,x3,a0,a1,a2,a3,a4,a5,a6,a7,a8,a9 = Reals('x1 x2 x3 a0 a1 a2 a3 a4 a5 a6 a7 a8 a9')\n",
    "xvars = [x1,x2,x3]\n",
    "xrange = And(x1>=-10, x1<=10, x2>=-10,x2<=10,x3>=-10,x3<=10)\n",
    "\n",
    "loop_cond =-(x1-3)**2 - x2**2 - (x3-3)**2 + 2>=0\n",
    "\n",
    "pre =(x1-3)**2+x2**2+(x3-3)**2-0.25<=0\n",
    "post=-x3 + 0.5*x2**2 + 1<=0\n",
    "inv=-8.792+0.608*x2+6.671*x3-3.891*x2**2>=0\n",
    "\n",
    "x1_f=x1+0.1*(2*x1+x2)\n",
    "x2_f=x2+0.1*(x1+9*x2+1/2*x3)\n",
    "x3_f=x3+0.1*(2*x2+16*x3)\n",
    "\n",
    "inv_f1 =-8.792+0.608*x2_f+6.671*x3_f-3.891*x2_f**2>=0\n",
    "\n",
    "\n",
    "cons1 = ForAll(xvars,Implies(And(pre, xrange), inv))\n",
    "cons2 = ForAll(xvars,Implies(And(inv, loop_cond, xrange), inv_f1))\n",
    "cons3 = ForAll(xvars,Implies(And(inv, Not(loop_cond),xrange),post))\n",
    "               \n",
    "s = Solver()\n",
    "s.add( cons3)\n",
    "print(s.check())\n",
    "print(s.model())\n",
    "end = time.time()\n",
    "print(\"Consume Time: %.8f s\\n\"%((end-start)))"
   ]
  },
  {
   "cell_type": "markdown",
   "id": "5fd23348",
   "metadata": {},
   "source": [
    "# lyapunov"
   ]
  },
  {
   "cell_type": "code",
   "execution_count": null,
   "id": "b31d1c7d",
   "metadata": {},
   "outputs": [],
   "source": [
    "# timeout \n",
    "# with template a0+a1*x1+a2*x2+a3*x3+a4*x1**2+a5*x2**2+a6*x3**2+a7*x1*x2+a8*x1*x3+a9*x2*x3\n",
    "from z3 import *\n",
    "import time\n",
    "start = time.time()\n",
    "x1,x2,x3,a0,a1,a2,a3,a4,a5,a6,a7,a8,a9= Reals('x1 x2 x3 a0 a1 a2 a3 a4 a5 a6 a7 a8 a9')\n",
    "xvars = [x1,x2,x3]\n",
    "xrange = And(x1>=-5, x1<=5, x2>=-5,x2<=5,x3>=-5,x3<=5)\n",
    "\n",
    "loop_cond = 9-x1**2-x2**2-x3**2>=0\n",
    "\n",
    "pre =x1**2 +x2**2 +x3**2-0.25<= 0\n",
    "post =-2*x1-2*x2-2*x3-x1**2-x2**2-x3**2+x1*x2+x1*x3+x2*x3<=0\n",
    "inv =a0+a1*x1+a2*x2+a3*x3+a4*x1**2+a5*x2**2+a6*x3**2+a7*x1*x2+a8*x1*x3+a9*x2*x3>=0\n",
    "\n",
    "x1_f=x1-0.1*x2\n",
    "x2_f=x2-0.1*x3\n",
    "x3_f=x3+(-x1-2*x2 -x3 + x1**3)*0.1\n",
    "\n",
    "inv_f1 =a0+a1*x1_f+a2*x2_f+a3*x3_f+a4*x1_f**2+a5*x2_f**2+a6*x3_f**2+a7*x1_f*x2_f+a8*x1_f*x3_f+a9*x2_f*x3_f>=0\n",
    "\n",
    "\n",
    "\n",
    "cons1 = ForAll(xvars,Implies(And(pre, xrange), inv))\n",
    "cons2 = ForAll(xvars,Implies(And(inv, loop_cond, xrange), inv_f1))\n",
    "cons3 = ForAll(xvars,Implies(And(inv, Not(loop_cond),xrange),post))\n",
    "               \n",
    "s = Solver()\n",
    "s.add( cons1, cons2, cons3)\n",
    "print(s.check())\n",
    "print(s.model())\n",
    "end = time.time()\n",
    "print(\"Consume Time: %.8f s\\n\"%((end-start)))"
   ]
  },
  {
   "cell_type": "code",
   "execution_count": null,
   "id": "362dc85d",
   "metadata": {},
   "outputs": [],
   "source": [
    "# timeout\n",
    "# with template  a0+a1*x1^2+a2*x2^2+a3*x3^2+a4*x1*x2+a5*x2*x3+a6*x1*x3\n",
    "from z3 import *\n",
    "import time\n",
    "start = time.time()\n",
    "x1,x2,x3,a0,a1,a2,a3,a4,a5,a6,a7,a8,a9= Reals('x1 x2 x3 a0 a1 a2 a3 a4 a5 a6 a7 a8 a9')\n",
    "xvars = [x1,x2,x3]\n",
    "xrange = And(x1>=-5, x1<=5, x2>=-5,x2<=5,x3>=-5,x3<=5)\n",
    "\n",
    "loop_cond = 9-x1**2-x2**2-x3**2>=0\n",
    "\n",
    "pre =x1**2 +x2**2 +x3**2-0.25<= 0\n",
    "post =-2*x1-2*x2-2*x3-x1**2-x2**2-x3**2+x1*x2+x1*x3+x2*x3<=0\n",
    "inv =18.731-8.552*x1**2-11.196*x2**2-11.196*x3**2-5.498*x1*x2-5.498*x1*x3-5.461*x2*x3>=0\n",
    "\n",
    "x1_f=x1-0.1*x2\n",
    "x2_f=x2-0.1*x3\n",
    "x3_f=x3+(-x1-2*x2 -x3 + x1**3)*0.1\n",
    "\n",
    "inv_f1 =18.731-8.552*x1_f**2-11.196*x2_f**2-11.196*x3_f**2-5.498*x1_f*x2_f-5.498*x1_f*x3_f-5.461*x2_f*x3_f>=0\n",
    "\n",
    "\n",
    "\n",
    "cons1 = ForAll(xvars,Implies(And(pre, xrange), inv))\n",
    "cons2 = ForAll(xvars,Implies(And(inv, loop_cond, xrange), inv_f1))\n",
    "cons3 = ForAll(xvars,Implies(And(inv, Not(loop_cond),xrange),post))\n",
    "               \n",
    "s = Solver()\n",
    "s.add( cons1, cons2, cons3)\n",
    "print(s.check())\n",
    "print(s.model())\n",
    "end = time.time()\n",
    "print(\"Consume Time: %.8f s\\n\"%((end-start)))"
   ]
  },
  {
   "cell_type": "code",
   "execution_count": null,
   "id": "8ebd8147",
   "metadata": {},
   "outputs": [],
   "source": []
  },
  {
   "cell_type": "markdown",
   "id": "a3507bcf",
   "metadata": {},
   "source": [
    "# basin"
   ]
  },
  {
   "cell_type": "code",
   "execution_count": null,
   "id": "50b623a4",
   "metadata": {},
   "outputs": [],
   "source": [
    "-0.363+0.428*x1+8.708*x2-2.862*x1**2-2.79*x2**2-0.082*x1*x2"
   ]
  },
  {
   "cell_type": "code",
   "execution_count": 4,
   "id": "727e6513",
   "metadata": {},
   "outputs": [
    {
     "name": "stdout",
     "output_type": "stream",
     "text": [
      "unsat\n"
     ]
    },
    {
     "ename": "Z3Exception",
     "evalue": "model is not available",
     "output_type": "error",
     "traceback": [
      "\u001b[1;31m---------------------------------------------------------------------------\u001b[0m",
      "\u001b[1;31mZ3Exception\u001b[0m                               Traceback (most recent call last)",
      "File \u001b[1;32m~\\AppData\\Roaming\\Python\\Python311\\site-packages\\z3\\z3.py:7131\u001b[0m, in \u001b[0;36mSolver.model\u001b[1;34m(self)\u001b[0m\n\u001b[0;32m   7130\u001b[0m \u001b[38;5;28;01mtry\u001b[39;00m:\n\u001b[1;32m-> 7131\u001b[0m     \u001b[38;5;28;01mreturn\u001b[39;00m ModelRef(Z3_solver_get_model(\u001b[38;5;28mself\u001b[39m\u001b[38;5;241m.\u001b[39mctx\u001b[38;5;241m.\u001b[39mref(), \u001b[38;5;28mself\u001b[39m\u001b[38;5;241m.\u001b[39msolver), \u001b[38;5;28mself\u001b[39m\u001b[38;5;241m.\u001b[39mctx)\n\u001b[0;32m   7132\u001b[0m \u001b[38;5;28;01mexcept\u001b[39;00m Z3Exception:\n",
      "File \u001b[1;32m~\\AppData\\Roaming\\Python\\Python311\\site-packages\\z3\\z3core.py:4185\u001b[0m, in \u001b[0;36mZ3_solver_get_model\u001b[1;34m(a0, a1, _elems)\u001b[0m\n\u001b[0;32m   4184\u001b[0m r \u001b[38;5;241m=\u001b[39m _elems\u001b[38;5;241m.\u001b[39mf(a0, a1)\n\u001b[1;32m-> 4185\u001b[0m _elems\u001b[38;5;241m.\u001b[39mCheck(a0)\n\u001b[0;32m   4186\u001b[0m \u001b[38;5;28;01mreturn\u001b[39;00m r\n",
      "File \u001b[1;32m~\\AppData\\Roaming\\Python\\Python311\\site-packages\\z3\\z3core.py:1505\u001b[0m, in \u001b[0;36mElementaries.Check\u001b[1;34m(self, ctx)\u001b[0m\n\u001b[0;32m   1504\u001b[0m \u001b[38;5;28;01mif\u001b[39;00m err \u001b[38;5;241m!=\u001b[39m \u001b[38;5;28mself\u001b[39m\u001b[38;5;241m.\u001b[39mOK:\n\u001b[1;32m-> 1505\u001b[0m     \u001b[38;5;28;01mraise\u001b[39;00m \u001b[38;5;28mself\u001b[39m\u001b[38;5;241m.\u001b[39mException(\u001b[38;5;28mself\u001b[39m\u001b[38;5;241m.\u001b[39mget_error_message(ctx, err))\n",
      "\u001b[1;31mZ3Exception\u001b[0m: b'there is no current model'",
      "\nDuring handling of the above exception, another exception occurred:\n",
      "\u001b[1;31mZ3Exception\u001b[0m                               Traceback (most recent call last)",
      "Cell \u001b[1;32mIn[4], line 28\u001b[0m\n\u001b[0;32m     26\u001b[0m s\u001b[38;5;241m.\u001b[39madd( cons1, cons2, cons3)\n\u001b[0;32m     27\u001b[0m \u001b[38;5;28mprint\u001b[39m(s\u001b[38;5;241m.\u001b[39mcheck())\n\u001b[1;32m---> 28\u001b[0m \u001b[38;5;28mprint\u001b[39m(s\u001b[38;5;241m.\u001b[39mmodel())\n\u001b[0;32m     29\u001b[0m end \u001b[38;5;241m=\u001b[39m time\u001b[38;5;241m.\u001b[39mtime()\n\u001b[0;32m     30\u001b[0m \u001b[38;5;28mprint\u001b[39m(\u001b[38;5;124m\"\u001b[39m\u001b[38;5;124mConsume Time: \u001b[39m\u001b[38;5;132;01m%.8f\u001b[39;00m\u001b[38;5;124m s\u001b[39m\u001b[38;5;130;01m\\n\u001b[39;00m\u001b[38;5;124m\"\u001b[39m\u001b[38;5;241m%\u001b[39m((end\u001b[38;5;241m-\u001b[39mstart)))\n",
      "File \u001b[1;32m~\\AppData\\Roaming\\Python\\Python311\\site-packages\\z3\\z3.py:7133\u001b[0m, in \u001b[0;36mSolver.model\u001b[1;34m(self)\u001b[0m\n\u001b[0;32m   7131\u001b[0m     \u001b[38;5;28;01mreturn\u001b[39;00m ModelRef(Z3_solver_get_model(\u001b[38;5;28mself\u001b[39m\u001b[38;5;241m.\u001b[39mctx\u001b[38;5;241m.\u001b[39mref(), \u001b[38;5;28mself\u001b[39m\u001b[38;5;241m.\u001b[39msolver), \u001b[38;5;28mself\u001b[39m\u001b[38;5;241m.\u001b[39mctx)\n\u001b[0;32m   7132\u001b[0m \u001b[38;5;28;01mexcept\u001b[39;00m Z3Exception:\n\u001b[1;32m-> 7133\u001b[0m     \u001b[38;5;28;01mraise\u001b[39;00m Z3Exception(\u001b[38;5;124m\"\u001b[39m\u001b[38;5;124mmodel is not available\u001b[39m\u001b[38;5;124m\"\u001b[39m)\n",
      "\u001b[1;31mZ3Exception\u001b[0m: model is not available"
     ]
    }
   ],
   "source": [
    "from z3 import *\n",
    "import time\n",
    "start = time.time()\n",
    "x1,x2,a0,a1,a2,a3,a4,a5 = Reals('x1 x2 a0 a1 a2 a3 a4 a5')\n",
    "xvars = [x1,x2]\n",
    "xrange = And(x1>=-5, x1<=5, x2>=-5,x2<=5)\n",
    "\n",
    "loop_cond = 3-x1**2-x2**2>=0\n",
    "\n",
    "pre =0.25-x1**2-x2**2>= 0\n",
    "post =2*x2+x1**2-1<=0\n",
    "inv=-0.363+0.428*x1+8.708*x2-2.862*x1**2-2.79*x2**2-0.082*x1*x2>=0\n",
    "\n",
    "x1_f=(-0.42*x1-1.05*x2-2.3*x1**2-0.5*x1*x2-x1**3)*0.1+x1\n",
    "x2_f=x2+0.1*(1.98*x1+x1*x2)\n",
    "\n",
    "inv_f1 =-0.363+0.428*x1_f+8.708*x2_f-2.862*x1_f**2-2.79*x2_f**2-0.082*x1_f*x2_f>=0\n",
    "\n",
    "\n",
    "\n",
    "cons1 = ForAll(xvars,Implies(And(pre, xrange), inv))\n",
    "cons2 = ForAll(xvars,Implies(And(inv, loop_cond, xrange), inv_f1))\n",
    "cons3 = ForAll(xvars,Implies(And(inv, Not(loop_cond),xrange),post))\n",
    "               \n",
    "s = Solver()\n",
    "s.add( cons1, cons2, cons3)\n",
    "print(s.check())\n",
    "print(s.model())\n",
    "end = time.time()\n",
    "print(\"Consume Time: %.8f s\\n\"%((end-start)))"
   ]
  },
  {
   "cell_type": "code",
   "execution_count": null,
   "id": "23c7b614",
   "metadata": {},
   "outputs": [],
   "source": []
  },
  {
   "cell_type": "code",
   "execution_count": null,
   "id": "70a338fb",
   "metadata": {},
   "outputs": [],
   "source": [
    "18.7318296007-8.55217920833*x1**2-11.196050624*x2**2-11.1960514786*x3**2-5.49860327741*x1*x2-5.49860388061*x1*x3-5.46100733132*x2*x3"
   ]
  },
  {
   "cell_type": "code",
   "execution_count": null,
   "id": "e51ac692",
   "metadata": {},
   "outputs": [],
   "source": [
    "from z3 import *\n",
    "import time\n",
    "start = time.time()\n",
    "x1,x2,a0,a1,a2,a3,a4 = Reals('x1 x2 a0 a1 a2 a3 a4')\n",
    "xvars = [x1,x2]\n",
    "xrange = And(x1>=-5, x1<=5, x2>=-5,x2<=5)\n",
    "\n",
    "loop_cond = 3-x1**2-x2**2>=0\n",
    "\n",
    "pre =0.25-x1**2-x2**2>= 0\n",
    "post =2*x2+x1**2-1<=0\n",
    "inv=18.7318296007-8.55217920833*x1**2-11.196050624*x2**2-11.1960514786*x3**2-5.49860327741*x1*x2-5.49860388061*x1*x3-5.46100733132*x2*x3 >=0\n",
    "\n",
    "x1_f=(-0.42*x1-1.05*x2-2.3*x1**2-0.5*x1*x2-x1**3)*0.1+x1\n",
    "x2_f=x2+0.1*(1.98*x1+x1*x2)\n",
    "\n",
    "inv_f1 =18.7318296007-8.55217920833*x1_f**2-11.196050624*x2_f**2-11.1960514786*x3_f**2-5.49860327741*x1_f*x2_f-5.49860388061*x1_f*x3_f-5.46100733132*x2_f*x3_f>=0\n",
    "\n",
    "\n",
    "\n",
    "cons1 = ForAll(xvars,Implies(And(pre, xrange), inv))\n",
    "cons2 = ForAll(xvars,Implies(And(inv, loop_cond, xrange), inv_f1))\n",
    "cons3 = ForAll(xvars,Implies(And(inv, Not(loop_cond),xrange),post))\n",
    "               \n",
    "s = Solver()\n",
    "s.add( cons1, cons2, cons3)\n",
    "print(s.check())\n",
    "print(s.model())\n",
    "end = time.time()\n",
    "print(\"Consume Time: %.8f s\\n\"%((end-start)))"
   ]
  },
  {
   "cell_type": "code",
   "execution_count": null,
   "id": "05391a27",
   "metadata": {},
   "outputs": [],
   "source": []
  }
 ],
 "metadata": {
  "kernelspec": {
   "display_name": "Python 3 (ipykernel)",
   "language": "python",
   "name": "python3"
  },
  "language_info": {
   "codemirror_mode": {
    "name": "ipython",
    "version": 3
   },
   "file_extension": ".py",
   "mimetype": "text/x-python",
   "name": "python",
   "nbconvert_exporter": "python",
   "pygments_lexer": "ipython3",
   "version": "3.11.4"
  }
 },
 "nbformat": 4,
 "nbformat_minor": 5
}
