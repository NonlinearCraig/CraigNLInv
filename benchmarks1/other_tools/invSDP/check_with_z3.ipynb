{
 "cells": [
  {
   "cell_type": "markdown",
   "id": "28f34eea",
   "metadata": {},
   "source": [
    "# EX1"
   ]
  },
  {
   "cell_type": "markdown",
   "id": "bd55a58e",
   "metadata": {},
   "source": [
    "inv=-1+a(1)*x1+a(2)*x1^2<=0"
   ]
  },
  {
   "cell_type": "markdown",
   "id": "fe507126",
   "metadata": {},
   "source": [
    "adeg=1,sdeg=2,4,6(unsat) \n",
    "adeg=2,sdeg=2,4 (unsat)\n",
    "adeg=2,sdeg=6(sat)(0.951048S)"
   ]
  },
  {
   "cell_type": "code",
   "execution_count": 1,
   "id": "85b6a564",
   "metadata": {},
   "outputs": [
    {
     "name": "stdout",
     "output_type": "stream",
     "text": [
      "sat\n",
      "[a1 = -7/8, a2 = -3/8]\n"
     ]
    }
   ],
   "source": [
    "from z3 import *\n",
    "import time\n",
    "#constraints\n",
    "s=\"37.0654708496+25.7694185109*a1+122.505140085*a2+2.94455969007*a1^2+42.2648947437*a1*a2+106.887779498*a2^2\"\n",
    "s=s.replace(\"^\",\"**\")\n",
    "a1 = Real('a1')\n",
    "a2 = Real('a2')\n",
    "\n",
    "constraint = And(a1 >= -1, a1 <= 1,\n",
    "                 a2 >= -1, a2 <= 1,)\n",
    "\n",
    "f = eval(s)\n",
    "\n",
    "\n",
    "s = Solver()\n",
    "s.add( f<=0,constraint)\n",
    "print(s.check())\n",
    "print(s.model())"
   ]
  },
  {
   "cell_type": "code",
   "execution_count": 2,
   "id": "419e431e",
   "metadata": {},
   "outputs": [
    {
     "name": "stdout",
     "output_type": "stream",
     "text": [
      "sat\n"
     ]
    }
   ],
   "source": [
    "#ex1\n",
    "from z3 import *\n",
    "import time\n",
    "start = time.time()\n",
    "x1,a1,a2,a3= Reals('x1 a1 a2 a3')\n",
    "inv=-1-70/8*x1-30/8*x1**2<=0\n",
    "\n",
    "xrange=And(x1>=-5,x1<=5)\n",
    "inv_f1 =-1-70/8*(x1+0.0005*(1000-0.5418*x1**2))-30/8*(x1+0.0005*(1000-0.5418*x1**2))**2<=0\n",
    "\n",
    "loop_cond =(x1+1)*(x1-82)<=0\n",
    "pre = x1*(80-x1)>=0\n",
    "post = (x1+10)*(x1-79)<=0\n",
    "\n",
    "cons1 = ForAll([x1],Implies(And(pre,xrange), inv))\n",
    "cons2 = ForAll([x1],Implies(And(inv,loop_cond,xrange), inv_f1))\n",
    "cons3 = ForAll([x1],Implies(And(inv, Not(loop_cond),xrange),post))\n",
    "               \n",
    "s = Solver()\n",
    "s.add(cons1, cons2, cons3)\n",
    "print(s.check())\n",
    "\n"
   ]
  },
  {
   "cell_type": "markdown",
   "id": "17d77bae",
   "metadata": {},
   "source": [
    "# EX2"
   ]
  },
  {
   "cell_type": "markdown",
   "id": "c8a314ef",
   "metadata": {},
   "source": [
    "1,2 unsat\n",
    "1,4 unsat\n",
    "1,6 unsat\n",
    "3,2 unsat\n",
    "3,4 unsat\n",
    "3,6 unsat\n",
    "3,8 unsat\n",
    "2,2 unsat \n",
    "2,4 unsat\n",
    "2,6 unsat\n",
    "4,2 unsat\n",
    "4,4 unsat\n",
    "4,6 unsat\n",
    "4,8 unsat"
   ]
  },
  {
   "cell_type": "markdown",
   "id": "476e7633",
   "metadata": {},
   "source": [
    "5,2 unsat 5,4 unsat 5,6 timeout "
   ]
  },
  {
   "cell_type": "code",
   "execution_count": 5,
   "id": "9c4fb79b",
   "metadata": {},
   "outputs": [
    {
     "name": "stdout",
     "output_type": "stream",
     "text": [
      "unsat\n"
     ]
    }
   ],
   "source": [
    "from z3 import *\n",
    "import time\n",
    "\n",
    "s=\"2.05692934862+3.24910601535*a1+3.24911387963*a2+3.92879682811*a1^2-2.01523480931*a1*a2+3.92878371355*a2^2\"\n",
    "s=s.replace(\"^\",\"**\")\n",
    "a1 = Real('a1')\n",
    "a2 = Real('a2')\n",
    "\n",
    "#constraints\n",
    "constraint = And(a1 >= -1, a1 <= 1,\n",
    "                 a2 >= -1, a2 <= 1,)\n",
    "\n",
    "f = eval(s)\n",
    "\n",
    "\n",
    "s = Solver()\n",
    "s.add( f<=0,constraint)\n",
    "print(s.check())"
   ]
  },
  {
   "cell_type": "markdown",
   "id": "2384f4f7",
   "metadata": {},
   "source": [
    "# EX3"
   ]
  },
  {
   "cell_type": "markdown",
   "id": "e1388cde",
   "metadata": {},
   "source": [
    "a_deg=1 sdeg=2,4,6 (unsat)\n",
    "a_deg=2 sdeg=2,4,6 (unsat)\n",
    "a_deg=3 sdeg=2,4 (unsat)\n",
    "a_deg=3 sdeg=6 (sat)"
   ]
  },
  {
   "cell_type": "markdown",
   "id": "69f02c57",
   "metadata": {},
   "source": [
    "s = \"26.2600217618+1.41114705608*a1-6.05300840456*a2+0.511824212049*a1^2+0.452136157758*a1*a2-13.1750519471*a2^2-0.0380986745378*a1^3+0.479955063159*a1^2*a2-1.02655069209*a1*a2^2-6.89220792716*a2^3\""
   ]
  },
  {
   "cell_type": "markdown",
   "id": "e22edb49",
   "metadata": {},
   "source": [
    "0.947790s "
   ]
  },
  {
   "cell_type": "code",
   "execution_count": null,
   "id": "4b7cd131",
   "metadata": {},
   "outputs": [],
   "source": [
    "from z3 import *\n",
    "import time\n",
    "\n",
    "s=\"26.2600217618+1.41114705608*a1-6.05300840456*a2+0.511824212049*a1^2+0.452136157758*a1*a2-13.1750519471*a2^2-0.0380986745378*a1^3+0.479955063159*a1^2*a2-1.02655069209*a1*a2^2-6.89220792716*a2^3\"\n",
    "s=s.replace(\"^\",\"**\")\n",
    "a1 = Real('a1')\n",
    "a2 = Real('a2')\n",
    "\n",
    "#constraints\n",
    "constraint = And(a1 >= -1, a1 <= 1,\n",
    "                 a2 >= -1, a2 <= 1,)\n",
    "\n",
    "f = eval(s)\n",
    "\n",
    "\n",
    "s = Solver()\n",
    "s.add( f<=0,constraint)\n",
    "print(s.check())\n",
    "print(s.model())"
   ]
  },
  {
   "cell_type": "code",
   "execution_count": 5,
   "id": "54f4f24c",
   "metadata": {},
   "outputs": [
    {
     "name": "stdout",
     "output_type": "stream",
     "text": [
      "sat\n",
      "[]\n",
      "Consuming Time: 0.01846075 s\n",
      "\n"
     ]
    }
   ],
   "source": [
    "from z3 import *\n",
    "import time\n",
    "start = time.time()\n",
    "x1=Real('x1')\n",
    "inv=-1-1/2*x1+2047/2048*x1**2<=0\n",
    "xrange=And(x1>=-5,x1<=5)\n",
    "inv_f1 =-1-1/2*(-1.6*x1*(1-x1))+2047/2048*(-1.6*x1*(1-x1))**2<=0\n",
    "\n",
    "\n",
    "loop_cond = (x1+0.3)*(1.7-x1)>=0\n",
    "pre = x1*(1-x1)>=0\n",
    "post = (x1-1.5)*(x1+1)<=0\n",
    "\n",
    "\n",
    "cons1 = ForAll([x1],Implies(And(pre,xrange), inv))\n",
    "cons2 = ForAll([x1],Implies(And(inv,loop_cond,xrange), inv_f1))\n",
    "cons3 = ForAll([x1],Implies(And(inv, Not(loop_cond),xrange),post))\n",
    "s = Solver()\n",
    "s.add(cons1, cons2, cons3)\n",
    "print(s.check())\n",
    "print(s.model())\n",
    "end = time.time()\n",
    "print(\"Consuming Time: %.8f s\\n\"%((end-start)))"
   ]
  },
  {
   "cell_type": "markdown",
   "id": "9123aec6",
   "metadata": {},
   "source": [
    "# EX4"
   ]
  },
  {
   "cell_type": "markdown",
   "id": "5a95608f",
   "metadata": {},
   "source": [
    "adeg<=4 no solution found"
   ]
  },
  {
   "cell_type": "markdown",
   "id": "529065d0",
   "metadata": {},
   "source": [
    "# EX4_001"
   ]
  },
  {
   "cell_type": "markdown",
   "id": "e1e1bc5b",
   "metadata": {},
   "source": [
    "adeg<=4 no solution found"
   ]
  },
  {
   "cell_type": "markdown",
   "id": "aaff22be",
   "metadata": {},
   "source": [
    "# CAV13-1"
   ]
  },
  {
   "cell_type": "markdown",
   "id": "9dae3e89",
   "metadata": {},
   "source": [
    "adeg<=3:unsat\n",
    "adeg=4 time out"
   ]
  },
  {
   "cell_type": "markdown",
   "id": "95fdf38b",
   "metadata": {},
   "source": [
    "adeg=4 sdeg=4: verification time out"
   ]
  },
  {
   "cell_type": "code",
   "execution_count": null,
   "id": "4779e3bc",
   "metadata": {},
   "outputs": [],
   "source": [
    "from z3 import *\n",
    "import time\n",
    "\n",
    "s=\"28.0688594758-19.0283716069*a1+6.39410575862*a2+59.3902979623*a3-10.2809606807*a1^2-26.8493511711*a1*a2+21.7409101226*a2^2-48.7642959565*a1*a3-50.4857011484*a2*a3+29.9842074289*a3^2+7.03229874122*a1^3+1.83476599787*a1^2*a2+7.25509358767*a1*a2^2+24.5849606269*a2^3-3.43586601255*a1^2*a3-13.3973653944*a1*a2*a3-2.55793554909*a2^2*a3-10.8147959853*a1*a3^2-69.7010214215*a2*a3^2-16.4923738657*a3^3+6.97680422368*a1^4+8.34277889384*a1^3*a2+1.90912016531*a1^2*a2^2+3.84095724873*a1*a2^3+2.75575596287*a2^4+2.87368730545*a1^3*a3+22.8413023599*a1^2*a2*a3+28.9557668613*a1*a2^2*a3+28.062143944*a2^3*a3+19.6051669766*a1^2*a3^2+35.2278732106*a1*a2*a3^2-12.2155267829*a2^2*a3^2+22.9852996354*a1*a3^3-10.3044745284*a2*a3^3-8.97628342247*a3^4\"\n",
    "s=s.replace(\"^\",\"**\")\n",
    "a1,a2,a3 = Reals('a1 a2 a3')\n",
    "\n",
    "\n",
    "#constraints\n",
    "constraint = And(a1 >= -1, a1 <= 1,\n",
    "                 a2 >= -1, a2 <= 1,\n",
    "                a3 >= -1, a3 <= 1,)\n",
    "\n",
    "\n",
    "f = eval(s)\n",
    "\n",
    "\n",
    "s = Solver()\n",
    "s.add( f<=0,constraint)\n",
    "print(s.check())\n",
    "print(s.model())"
   ]
  },
  {
   "cell_type": "markdown",
   "id": "d0e0d8cd",
   "metadata": {},
   "source": [
    "# CAV13-2"
   ]
  },
  {
   "cell_type": "markdown",
   "id": "5acf6de7",
   "metadata": {},
   "source": [
    "adeg<=3:unsat\n",
    "adeg=4 verification time out"
   ]
  },
  {
   "cell_type": "code",
   "execution_count": null,
   "id": "16a8da48",
   "metadata": {},
   "outputs": [],
   "source": [
    "from z3 import *\n",
    "import time\n",
    "\n",
    "\n",
    "s=\"1.44218610069+2.71046964282*a1+2.71145452404*a2+4.23251793683*a1^2-2.79770288484*a1*a2+4.23274502261*a2^2+2.3433950277*a1^3-3.53558577008*a1^2*a2-3.53165720313*a1*a2^2+2.34043520166*a2^3-0.305590376825*a1^4+0.359944351588*a1^3*a2-2.20774921644*a1^2*a2^2+0.360051731373*a1*a2^3-0.306725181823*a2^4-0.656000669612*a1^5+2.47171785109*a1^4*a2-0.954710243921*a1^3*a2^2-0.951074828827*a1^2*a2^3+2.47038985811*a1*a2^4-0.653984955879*a2^5\"\n",
    "s=s.replace('^','**')\n",
    "a1 = Real('a1')\n",
    "a2 = Real('a2')\n",
    "\n",
    "#constraints\n",
    "constraint = And(a1 >= -1, a1 <= 1,\n",
    "                 a2 >= -1, a2 <= 1)\n",
    "\n",
    "\n",
    "f = eval(s)\n",
    "\n",
    "\n",
    "s = Solver()\n",
    "s.add( f<=0,constraint)\n",
    "print(s.check())\n",
    "print(s.model())"
   ]
  },
  {
   "cell_type": "markdown",
   "id": "0ffdfb74",
   "metadata": {},
   "source": [
    "# cohencu"
   ]
  },
  {
   "cell_type": "markdown",
   "id": "a6d955b5",
   "metadata": {},
   "source": [
    "adeg<=3:unsat\n",
    "adeg=4 verification time out"
   ]
  },
  {
   "cell_type": "markdown",
   "id": "5fccca97",
   "metadata": {},
   "source": [
    "adeg=4 sdeg=4 "
   ]
  },
  {
   "cell_type": "code",
   "execution_count": null,
   "id": "981a3a6e",
   "metadata": {},
   "outputs": [],
   "source": [
    "from z3 import *\n",
    "import time\n",
    "\n",
    "s = \"100.368215643-0.969335849916*a1-2.90165848643*a2+74.3826157475*a3+1.07213935228*a4-0.29746963286*a1^2-2.99351484671*a1*a2-10.2849910605*a2^2-0.0198708190617*a1*a3+11.0285781376*a2*a3+128.281123419*a3^2-4.93470430284*a1*a4-39.2365151629*a2*a4+54.6118413545*a3*a4+4.00167396956*a4^2-0.0112190188043*a1^3-0.121965796391*a1^2*a2-0.734436535083*a1*a2^2-1.64427524286*a2^3-0.0852789578525*a1^2*a3-1.47763786796*a1*a2*a3-4.35896791787*a2^2*a3-0.2619100902*a1*a3^2+8.58957556194*a2*a3^2+69.2572181477*a3^3-0.333628290254*a1^2*a4-2.98336698245*a1*a2*a4-13.5056521527*a2^2*a4-3.45793968578*a1*a3*a4-29.3328740838*a2*a3*a4+37.0325776876*a3^2*a4-0.520061036319*a1*a4^2-5.66908589879*a2*a4^2+5.3217357199*a3*a4^2+0.49209088386*a4^3+0.0441131760686*a1^4+0.0409281173127*a1^3*a2+0.291323207298*a1^2*a2^2+0.939172348952*a1*a2^3+2.00386231377*a2^4-0.0164246158942*a1^3*a3-0.0918563774401*a1^2*a2*a3-0.204932780835*a1*a2^2*a3-0.40963598189*a2^3*a3+0.0658014530669*a1^2*a3^2-0.123845063996*a1*a2*a3^2+1.49147891343*a2^2*a3^2-0.347052770809*a1*a3^3-0.896022137286*a2*a3^3+0.947154342*a3^4+0.0176615923623*a1^3*a4+0.265538743454*a1^2*a2*a4+1.53211741725*a1*a2^2*a4+3.85026388885*a2^3*a4+0.0303184561535*a1^2*a3*a4+0.773858119077*a1*a2*a3*a4+2.88139641011*a2^2*a3*a4-2.36816258493*a1*a3^2*a4-21.4887629031*a2*a3^2*a4-1.63430643203*a3^3*a4+0.130721023476*a1^2*a4^2+1.51417615683*a1*a2*a4^2+5.58139234534*a2^2*a4^2-0.559595435791*a1*a3*a4^2-5.45105203037*a2*a3*a4^2-0.162604934917*a3^2*a4^2+0.26883084491*a1*a4^3+1.40598365109*a2*a4^3+0.549626147061*a3*a4^3+0.758141236009*a4^4\"\n",
    "s=s.replace(\"^\",\"**\")\n",
    "\n",
    "a1,a2,a3,a4=Reals('a1 a2 a3 a4')\n",
    "#constraints\n",
    "constraint = And(a1 >= -1, a1 <= 1,\n",
    "                 a2 >= -1, a2 <= 1,\n",
    "                 a3>= -1,  a3<=1,\n",
    "                 a4>= -1,  a4<=1\n",
    "                 )\n",
    "\n",
    "\n",
    "f = eval(s)\n",
    "\n",
    "\n",
    "s = Solver()\n",
    "s.add( f<=0,constraint)\n",
    "print(s.check())\n",
    "print(s.model())"
   ]
  },
  {
   "cell_type": "markdown",
   "id": "7ea1bbdc",
   "metadata": {},
   "source": [
    "# Unicycle"
   ]
  },
  {
   "cell_type": "markdown",
   "id": "a1427800",
   "metadata": {},
   "source": [
    "adeg<=4:No solution is found:"
   ]
  },
  {
   "cell_type": "markdown",
   "id": "0e20f5ac",
   "metadata": {},
   "source": [
    "# ciruit"
   ]
  },
  {
   "cell_type": "markdown",
   "id": "d1128807",
   "metadata": {},
   "source": [
    "adeg<=3:unsat\n",
    "adeg=4 time out"
   ]
  },
  {
   "cell_type": "code",
   "execution_count": null,
   "id": "2028ed0a",
   "metadata": {},
   "outputs": [],
   "source": [
    "from z3 import *\n",
    "import time\n",
    "\n",
    "s =\"21.5503471976-0.0146731599753*a1-0.136423759451*a2-0.112668348537*a3-5.31073942058e-05*a4-0.0176692644789*a1^2-0.182338927383*a1*a2-1.53931205391*a2^2-0.234747698808*a1*a3-4.68496400791*a2*a3-3.07537550366*a3^2-6.05806459092e-05*a1*a4-0.000419830408381*a2*a4-0.000362429165592*a3*a4+1.19845165247*a4^2-5.6676055272e-05*a1^3-0.00598370598793*a1^2*a2-0.12130300124*a1*a2^2+0.170051226203*a2^3-0.0109662080019*a1^2*a3-0.425361153809*a1*a2*a3-3.35639783699*a2^2*a3-0.281805866615*a1*a3^2-5.88452504581*a2*a3^2-2.59720430997*a3^3-0.000154137799455*a1^2*a4+0.000133578243691*a1*a2*a4+0.000437361400948*a2^2*a4+4.43961742748e-05*a1*a3*a4+0.000801260067518*a2*a3*a4+0.000726716340653*a3^2*a4+0.0890617090193*a1*a4^2+0.915282552018*a2*a4^2+2.53902704796*a3*a4^2-0.000370442604416*a4^3+0.00607225189944*a1^4+0.000251234511593*a1^3*a2+0.0101176724321*a1^2*a2^2+0.0728744824013*a1*a2^3+1.18005149612*a2^4-2.36496874124e-05*a1^3*a3+0.00518833918151*a1^2*a2*a3+0.0698367258398*a1*a2^2*a3+1.91172375129*a2^3*a3+0.00384957889705*a1^2*a3^2+0.00594805245062*a1*a2*a3^2+0.897697843929*a2^2*a3^2+0.00567714281964*a1*a3^3-0.0136259878482*a2*a3^3+0.0326786648294*a3^4+4.9776837281e-05*a1^2*a2*a4+0.000148477640897*a1*a2^2*a4+0.000548909945963*a2^3*a4-0.000154338950005*a1^2*a3*a4+0.000210559309131*a1*a2*a3*a4+0.00144103338208*a2^2*a3*a4+1.45930610139e-05*a1*a3^2*a4+0.000842017210308*a2*a3^2*a4+0.000266695869579*a3^3*a4+0.00395523992551*a1^2*a4^2+0.036152380167*a1*a2*a4^2-0.267536227383*a2^2*a4^2+0.127915023416*a1*a3*a4^2+1.03930714791*a2*a3*a4^2+1.79144300825*a3^2*a4^2-3.2995765216e-05*a1*a4^3-0.00037254435551*a2*a4^3-0.000682501102484*a3*a4^3+0.0621802647435*a4^4\"\n",
    "s=s.replace(\"^\",\"**\")\n",
    "a1,a2,a3,a4=Reals('a1 a2 a3 a4')\n",
    "#constraints\n",
    "constraint = And(a1 >= -1, a1 <= 1,\n",
    "                 a2 >= -1, a2 <= 1,\n",
    "                 a3>= - 1,  a3<= 1,\n",
    "                 a4>= - 1,  a4<= 1\n",
    "                 )\n",
    "\n",
    "\n",
    "f = eval(s)\n",
    "\n",
    "\n",
    "s = Solver()\n",
    "s.add( f<=0,constraint)\n",
    "print(s.check())\n",
    "print(s.model())"
   ]
  },
  {
   "cell_type": "code",
   "execution_count": null,
   "id": "161db21b",
   "metadata": {},
   "outputs": [],
   "source": []
  }
 ],
 "metadata": {
  "kernelspec": {
   "display_name": "Python 3 (ipykernel)",
   "language": "python",
   "name": "python3"
  },
  "language_info": {
   "codemirror_mode": {
    "name": "ipython",
    "version": 3
   },
   "file_extension": ".py",
   "mimetype": "text/x-python",
   "name": "python",
   "nbconvert_exporter": "python",
   "pygments_lexer": "ipython3",
   "version": "3.11.4"
  }
 },
 "nbformat": 4,
 "nbformat_minor": 5
}
