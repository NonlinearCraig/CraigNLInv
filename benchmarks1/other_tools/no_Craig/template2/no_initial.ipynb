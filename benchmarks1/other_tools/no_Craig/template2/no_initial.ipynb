{
 "cells": [
  {
   "cell_type": "markdown",
   "id": "99623063",
   "metadata": {},
   "source": [
    "## EX1"
   ]
  },
  {
   "cell_type": "markdown",
   "id": "46b2415a",
   "metadata": {},
   "source": [
    "our: 0.29 inv =9.82179949496+16.0077113185*x1-0.200003671465*x1^2>=0"
   ]
  },
  {
   "cell_type": "markdown",
   "id": "283e516e",
   "metadata": {},
   "source": [
    "L. Dai, B. Xia, N. Zhan: Generating non-linear interpolants by semidefinite programming. In CAV(2013). code1.3"
   ]
  },
  {
   "cell_type": "markdown",
   "id": "f8df6656",
   "metadata": {},
   "source": [
    "template:inv=a0+a1*x1+a2 * x1^2"
   ]
  },
  {
   "cell_type": "code",
   "execution_count": null,
   "id": "5fffeb3e",
   "metadata": {},
   "outputs": [],
   "source": [
    "1+2.0374675399*x1-0.0247041441832*x1^2"
   ]
  },
  {
   "cell_type": "code",
   "execution_count": null,
   "id": "134bab73",
   "metadata": {},
   "outputs": [],
   "source": []
  },
  {
   "cell_type": "code",
   "execution_count": 1,
   "id": "706b3c76",
   "metadata": {},
   "outputs": [
    {
     "name": "stdout",
     "output_type": "stream",
     "text": [
      "sat\n",
      "[a1 = -81, a3 = 1, a2 = -81]\n",
      "Consuming Time: 0.73104715 s\n",
      "\n"
     ]
    }
   ],
   "source": [
    "#ex1\n",
    "from z3 import *\n",
    "import time\n",
    "start = time.time()\n",
    "x1,a1,a2,a3= Reals('x1 a1 a2 a3')\n",
    "inv=a1+a2*x1+a3*x1**2<=0\n",
    "\n",
    "inv_f1 =a1+a2*(x1+0.0005*(1000-0.5418*x1**2))+a3*(x1+0.0005*(1000-0.5418*x1**2))**2<=0\n",
    "\n",
    "loop_cond =(x1+1)*(x1-82)<=0\n",
    "pre = x1*(80-x1)>=0\n",
    "post = (x1+10)*(x1-79)<=0\n",
    "\n",
    "cons1 = ForAll([x1],Implies(pre, inv))\n",
    "cons2 = ForAll([x1],Implies(And(inv,loop_cond), inv_f1))\n",
    "cons3 = ForAll([x1],Implies(And(inv, Not(loop_cond)),post))\n",
    "               \n",
    "s = Solver()\n",
    "s.add(cons1, cons2, cons3)\n",
    "print(s.check())\n",
    "print(s.model())\n",
    "end = time.time()\n",
    "print(\"Consuming Time: %.8f s\\n\"%((end-start)))"
   ]
  },
  {
   "cell_type": "markdown",
   "id": "a7f38f9a",
   "metadata": {},
   "source": [
    "template:inv=1+a1*x1+a2 * x1^2"
   ]
  },
  {
   "cell_type": "markdown",
   "id": "8d3673a1",
   "metadata": {},
   "source": [
    "0.520244 second 1 iter"
   ]
  },
  {
   "cell_type": "code",
   "execution_count": 3,
   "id": "1e1ee813",
   "metadata": {},
   "outputs": [
    {
     "name": "stdout",
     "output_type": "stream",
     "text": [
      "sat\n",
      "[]\n",
      "Consuming Time: 0.02399445 s\n",
      "\n"
     ]
    }
   ],
   "source": [
    "#ex1\n",
    "from z3 import *\n",
    "import time\n",
    "start = time.time()\n",
    "x1,a1,a2,a3= Reals('x1 a1 a2 a3')\n",
    "inv=1+7.9357710524*x1-0.0984854189962*x1**2>=0\n",
    "x1_f=x1+0.0005*(1000-0.5418*x1**2)\n",
    "\n",
    "inv_f1 =1+7.9357710524*x1_f-0.0984854189962*x1_f**2>=0\n",
    "\n",
    "\n",
    "loop_cond =(x1+1)*(x1-82)<=0\n",
    "pre = x1*(80-x1)>=0\n",
    "post = (x1+10)*(x1-79)<=0\n",
    "\n",
    "cons1 = ForAll([x1],Implies(pre, inv))\n",
    "cons2 = ForAll([x1],Implies(And(inv,loop_cond), inv_f1))\n",
    "cons3 = ForAll([x1],Implies(And(inv, Not(loop_cond)),post))\n",
    "               \n",
    "s = Solver()\n",
    "s.add(cons1, cons2, cons3)\n",
    "print(s.check())\n",
    "print(s.model())\n",
    "end = time.time()\n",
    "print(\"Consuming Time: %.8f s\\n\"%((end-start)))"
   ]
  },
  {
   "cell_type": "markdown",
   "id": "07752ff6",
   "metadata": {},
   "source": [
    "# EX2"
   ]
  },
  {
   "cell_type": "markdown",
   "id": "7e5fba2d",
   "metadata": {},
   "source": [
    "arXiv:1903.04668"
   ]
  },
  {
   "cell_type": "markdown",
   "id": "a68ffbb5",
   "metadata": {},
   "source": [
    "our:0.52s 1 iter 1+0.863229630202*x1**2-0.63302783377*x2**2>=0"
   ]
  },
  {
   "cell_type": "code",
   "execution_count": 1,
   "id": "53b3d203",
   "metadata": {},
   "outputs": [
    {
     "name": "stdout",
     "output_type": "stream",
     "text": [
      "sat\n",
      "[]\n",
      "Consuming Time: 0.01651716 s\n",
      "\n"
     ]
    }
   ],
   "source": [
    "# code 2 in paper\n",
    "from z3 import *\n",
    "import time\n",
    "start = time.time()\n",
    "x1,x2 = Reals('x1 x2')\n",
    "xrange = And(x1>=-5, x1<=5, x2>=-5, x2<=5)\n",
    "\n",
    "inv = 1+0.863229630202*x1**2-0.63302783377*x2**2>=0\n",
    "\n",
    "x1_f=0.9*(x1-0.01*x2)\n",
    "x2_f=0.9*(x2+0.01*x1)\n",
    "\n",
    "inv_f1 =1+0.863229630202*x1_f**2-0.63302783377*x2_f**2>=0\n",
    "\n",
    "loop_cond = 1-x1**2-x2**2>=0\n",
    "pre = x1**2+x2**2-1<=0\n",
    "post = 0.25-x1**2-(x2-2)**2<=0\n",
    "\n",
    "cons1 = ForAll([x1,x2],Implies(And(pre, xrange), inv))\n",
    "cons2 = ForAll([x1,x2],Implies(And(inv, loop_cond, xrange), inv_f1))\n",
    "cons3 = ForAll([x1,x2],Implies(And(inv, Not(loop_cond),xrange),post))\n",
    "               \n",
    "s = Solver()\n",
    "s.add( cons1, cons2, cons3)\n",
    "print(s.check())\n",
    "print(s.model())\n",
    "end = time.time()\n",
    "print(\"Consuming Time: %.8f s\\n\"%((end-start)))"
   ]
  },
  {
   "cell_type": "markdown",
   "id": "5c298d55",
   "metadata": {},
   "source": [
    "# EX3 "
   ]
  },
  {
   "cell_type": "markdown",
   "id": "77ca5087",
   "metadata": {},
   "source": [
    "our:0.44s 1+0.510985278633*x-1.15599070066*x**2>=0\n"
   ]
  },
  {
   "cell_type": "markdown",
   "id": "47b07424",
   "metadata": {},
   "source": [
    "S. Kupferschmid, B. Becker: Craig interpolation in the presence of non-linear constraints. In FORMATS(2011)."
   ]
  },
  {
   "cell_type": "code",
   "execution_count": 1,
   "id": "e3ba4e2c",
   "metadata": {},
   "outputs": [
    {
     "name": "stdout",
     "output_type": "stream",
     "text": [
      "sat\n",
      "[]\n",
      "Consuming Time: 0.01600218 s\n",
      "\n"
     ]
    }
   ],
   "source": [
    "from z3 import *\n",
    "import time\n",
    "start = time.time()\n",
    "x,a1,a2,a3= Reals('x a1 a2 a3')\n",
    "inv=1+0.510985278633*x-1.15599070066*x**2>=0\n",
    "x_f=-1.6*x*(1-x)\n",
    "\n",
    "inv_f1 =1+0.510985278633*x_f-1.15599070066*x_f**2>=0\n",
    "\n",
    "\n",
    "loop_cond = (x+0.3)*(1.7-x)>=0\n",
    "pre = x*(1-x)>=0\n",
    "post = (x-1.5)*(x+1)<=0\n",
    "\n",
    "cons1 = ForAll([x],Implies(And(pre), inv))\n",
    "cons2 = ForAll([x],Implies(And(inv,loop_cond), inv_f1))\n",
    "cons3 = ForAll([x],Implies(And(inv, Not(loop_cond)),post))\n",
    "               \n",
    "s = Solver()\n",
    "s.add(cons1, cons2, cons3)\n",
    "print(s.check())\n",
    "print(s.model())\n",
    "end = time.time()\n",
    "print(\"Consuming Time: %.8f s\\n\"%((end-start)))"
   ]
  },
  {
   "cell_type": "markdown",
   "id": "4f96b841",
   "metadata": {},
   "source": [
    "# EX4 step_size=0.01"
   ]
  },
  {
   "cell_type": "markdown",
   "id": "685617f1",
   "metadata": {},
   "source": [
    "our:1.71 iter 7 3.52941432713+2.52562279418*x1-x1**2>=0"
   ]
  },
  {
   "cell_type": "markdown",
   "id": "c553db10",
   "metadata": {},
   "source": [
    "stochastic gradient descent algorithm with fixed step size"
   ]
  },
  {
   "cell_type": "markdown",
   "id": "8272fc25",
   "metadata": {},
   "source": [
    "here the delta is a2^2-4*a1*a3<0 which means the result is R so the result is not right"
   ]
  },
  {
   "cell_type": "code",
   "execution_count": 2,
   "id": "8fe035b3",
   "metadata": {},
   "outputs": [
    {
     "name": "stdout",
     "output_type": "stream",
     "text": [
      "sat\n",
      "[]\n",
      "Consuming Time: 0.02500176 s\n",
      "\n"
     ]
    }
   ],
   "source": [
    "from z3 import *\n",
    "import time\n",
    "start = time.time()\n",
    "x1,a1,a2,a3= Reals('x1 a1 a2 a3')\n",
    "inv=3.52941432713+2.52562279418*x1-x1**2>=0\n",
    "\n",
    "x1_f=x1-0.01*x1*(x1-2)*(x1-4)\n",
    "\n",
    "inv_f1 =3.52941432713+2.52562279418*x1_f-x1_f**2>=0\n",
    "\n",
    "loop_cond =(x1+2)*(3.5-x1)>=0\n",
    "pre = (x1+1)*(3-x1)>=0\n",
    "post = (x1-3)*(5-x1)>=0\n",
    "\n",
    "cons1 = ForAll([x1],Implies(And(pre), inv))\n",
    "cons2 = ForAll([x1],Implies(And(inv, loop_cond), inv_f1))\n",
    "cons3 = ForAll([x1],Implies(And(inv, Not(loop_cond)),post))\n",
    "               \n",
    "s = Solver()\n",
    "s.add(cons1, cons2, cons3)\n",
    "print(s.check())\n",
    "print(s.model())\n",
    "end = time.time()\n",
    "print(\"Consuming Time: %.8f s\\n\"%((end-start)))"
   ]
  },
  {
   "cell_type": "markdown",
   "id": "5cee1078",
   "metadata": {},
   "source": [
    "# EX4 setp_size=0.001"
   ]
  },
  {
   "cell_type": "markdown",
   "id": "6f0470f7",
   "metadata": {},
   "source": [
    "template: a0+a1*x1+a1*x1**2"
   ]
  },
  {
   "cell_type": "markdown",
   "id": "500b9423",
   "metadata": {},
   "source": [
    "1.707879s 7 iteration  13.1666846509+6.56111156608*x1-2.91087338515*x1^2"
   ]
  },
  {
   "cell_type": "code",
   "execution_count": 1,
   "id": "079658cb",
   "metadata": {},
   "outputs": [
    {
     "name": "stdout",
     "output_type": "stream",
     "text": [
      "sat\n",
      "[]\n",
      "Consuming Time: 0.01585460 s\n",
      "\n"
     ]
    }
   ],
   "source": [
    "from z3 import *\n",
    "import time\n",
    "start = time.time()\n",
    "x1,a1,a2,a3= Reals('x1 a1 a2 a3')\n",
    "inv=13.1666846509+6.56111156608*x1-2.91087338515*x1**2>=0\n",
    "\n",
    "x1_f=x1-0.001*x1*(x1-2)*(x1-4)\n",
    "\n",
    "\n",
    "inv_f1 =13.1666846509+6.56111156608*x1_f-2.91087338515*x1_f**2>=0\n",
    "\n",
    "loop_cond =(x1+2)*(3.5-x1)>=0\n",
    "pre = (x1+1)*(3-x1)>=0\n",
    "post = (x1-2)*(5-x1)>=0\n",
    "\n",
    "cons1 = ForAll([x1],Implies(And(pre), inv))\n",
    "cons2 = ForAll([x1],Implies(And(inv, loop_cond), inv_f1))\n",
    "cons3 = ForAll([x1],Implies(And(inv, Not(loop_cond)),post))\n",
    "               \n",
    "s = Solver()\n",
    "s.add(cons1, cons2, cons3)\n",
    "print(s.check())\n",
    "print(s.model())\n",
    "end = time.time()\n",
    "print(\"Consuming Time: %.8f s\\n\"%((end-start)))"
   ]
  },
  {
   "cell_type": "markdown",
   "id": "ba5064d2",
   "metadata": {},
   "source": [
    "# EX2(cav13-1)"
   ]
  },
  {
   "cell_type": "markdown",
   "id": "56b11bef",
   "metadata": {},
   "source": [
    "Failed"
   ]
  },
  {
   "cell_type": "markdown",
   "id": "4beae85a",
   "metadata": {},
   "source": [
    "# EX2(cav13-2)"
   ]
  },
  {
   "cell_type": "markdown",
   "id": "d0e0b55f",
   "metadata": {},
   "source": [
    "template: a0+a1*x1^2+a2*x2^2>=0 our:1.202769s  2.019+1.085*x2-0.462*x1**2-0.239*x2**2>=0"
   ]
  },
  {
   "cell_type": "code",
   "execution_count": 2,
   "id": "a1cf4d35",
   "metadata": {},
   "outputs": [
    {
     "name": "stdout",
     "output_type": "stream",
     "text": [
      "sat\n",
      "[]\n",
      "Consuming Time: 0.02700043 s\n",
      "\n"
     ]
    }
   ],
   "source": [
    "from z3 import *\n",
    "import time\n",
    "#ex2 time out (>3600s)\n",
    "start = time.time()\n",
    "x1,x2,a0,a1,a2,a3,a4= Reals('x1 x2 a0 a1 a2 a3 a4')\n",
    "inv=2.019+1.085*x2-0.462*x1**2-0.239*x2**2>=0\n",
    "\n",
    "x1_f=x1**2+x2-1\n",
    "x2_f=x2+(x1**2+x2-1)*x2+1\n",
    "\n",
    "\n",
    "inv_f =2.019+1.085*x2-0.462*x1**2-0.239*x2**2>=0\n",
    "\n",
    "\n",
    "loop_cond = 3-x1**2-x2**2>=0\n",
    "pre = 2-x1**2-x2**2>=0\n",
    "post =-x2 + 0.2*x1**2 - 1.21<=0\n",
    "\n",
    "cons1 = ForAll([x1,x2],Implies(And(pre), inv))\n",
    "cons2 = ForAll([x1,x2],Implies(And(inv,  loop_cond), inv_f))\n",
    "cons3 = ForAll([x1,x2],Implies(And(inv, Not(loop_cond)),post))\n",
    "               \n",
    "s = Solver()\n",
    "s.add(cons1, cons2, cons3)\n",
    "print(s.check())\n",
    "print(s.model())\n",
    "end = time.time()\n",
    "print(\"Consuming Time: %.8f s\\n\"%((end-start)))"
   ]
  },
  {
   "cell_type": "markdown",
   "id": "02b23f93",
   "metadata": {},
   "source": [
    "# cohencu"
   ]
  },
  {
   "cell_type": "markdown",
   "id": "f897fed7",
   "metadata": {},
   "source": [
    "1.338407 second unsat"
   ]
  },
  {
   "cell_type": "markdown",
   "id": "eb144995",
   "metadata": {},
   "source": [
    "1.35975492961+1.4448533376*x1+2.16539212227*x2-4.64634747747*x1**2+0.475113470224*x2**2-1.84218627328*x1*x2"
   ]
  },
  {
   "cell_type": "markdown",
   "id": "11cf5d46",
   "metadata": {},
   "source": [
    "full template a0+a1*x1+a2*x2+a3*x1^2+a4 *x2^2+a5*x1*x2>=0"
   ]
  },
  {
   "cell_type": "code",
   "execution_count": null,
   "id": "bd5621d8",
   "metadata": {},
   "outputs": [],
   "source": [
    "# cohencu >3600s\n",
    "import time\n",
    "from z3 import *\n",
    "start = time.time()\n",
    "x1,x2,a0,a1,a2,a3,a4,a5 = Reals('x1 x2 a0 a1 a2 a3 a4 a5')\n",
    "xrange = And(x2>=0, x2<=10, x1>=0,x1<=10)\n",
    "\n",
    "inv = a0+a1*x1+a2*x2+a3*x1**2+a4*x2**2+a5*x1*x2>=0\n",
    "inv_ineq = And(x1>=0)\n",
    "\n",
    "inv_f1=a0+a1*(x1+1)+a2*(x2+6*x1+6)+a3*(x1+1)**2+a4*(x2+6*x1+6)**2+a5*(x1+1)*(x2+6*x1+6)>=0\n",
    "\n",
    "\n",
    "loop_cond = x1-5<=0\n",
    "pre = And(x2==0,x1==0)\n",
    "post = And(2.5*x1**2+4*x1-x2<=0,x2-3.5*x1**2-3*x1<=0)\n",
    "\n",
    "cons1 = ForAll([x2,x1],Implies(And(pre, xrange), inv))\n",
    "cons2 = ForAll([x2,x1],Implies(And(inv,loop_cond, xrange),inv_f1))\n",
    "cons3 = ForAll([x2,x1],Implies(And(inv, Not(loop_cond),xrange),post))\n",
    "               \n",
    "s = Solver()\n",
    "s.add( cons1, cons2, cons3)\n",
    "print(s.check())\n",
    "print(s.model())\n",
    "end = time.time()\n",
    "print(\"Consume Time: %.8f\"%((end-start)))"
   ]
  },
  {
   "cell_type": "markdown",
   "id": "52122b5e",
   "metadata": {},
   "source": [
    "unsat :  inv=a0+a1*x2+a2*x1^2+a3*x2^2;"
   ]
  },
  {
   "cell_type": "markdown",
   "id": "97c40e53",
   "metadata": {},
   "source": [
    "# unicycle"
   ]
  },
  {
   "cell_type": "markdown",
   "id": "89f8bcfa",
   "metadata": {},
   "source": [
    "Mohamed Amin Ben Sassi and Antoine Girard. 2012. Controller synthesis for robust invariance of polynomial\n",
    "dynamical systems using linear programming. Systems & control letters 61, 4 (2012), 506–512."
   ]
  },
  {
   "cell_type": "code",
   "execution_count": 2,
   "id": "035180e3",
   "metadata": {},
   "outputs": [],
   "source": [
    "from z3 import *\n",
    "import os,re,sympy,mosek\n",
    "import time"
   ]
  },
  {
   "cell_type": "code",
   "execution_count": null,
   "id": "15f9092e",
   "metadata": {},
   "outputs": [],
   "source": [
    "# unicycle timeout\n",
    "start = time.time()\n",
    "x1,x2,a0,a1,a2,a3,a4,a5 = Reals('x1 x2 a0 a1 a2 a3 a4 a5')\n",
    "\n",
    "\n",
    "xvars = [x1,x2]\n",
    "loop_cond = -1<=0\n",
    "\n",
    "pre = x1**2+(x2-1)**2-1<= 0\n",
    "post = x1**2 + (x2-1)**2 - 4<=0\n",
    "\n",
    "inv = a0+a1*x1+a2*x2+a3*x1**2+a4*x2**2+a5*x1*x2>=0\n",
    "guard1 = -1<=0;\n",
    "\n",
    "w = 1.0178 + 1.8721 * x1 - 0.0253 * x2\n",
    "x1_f = x1 + 0.01*(1-x2*w)\n",
    "x2_f = x2 + 0.01*x1*w\n",
    "inv_f1 = a0+a1*x1_f+a2*x2_f+a3*x1_f**2+a4*x2_f**2+a5*x1_f*x2_f>=0\n",
    "\n",
    "inv_ineq = And(x1>=0,x2>=0)\n",
    "\n",
    "\n",
    "cons1 = ForAll(xvars,Implies(And(pre, ), inv))\n",
    "cons2 = ForAll(xvars,Implies(And(inv, guard1, loop_cond), inv_f1))\n",
    "cons3 = ForAll(xvars,Implies(And(inv, Not(loop_cond)),post))\n",
    "               \n",
    "s = Solver()\n",
    "s.add( cons1, cons2, cons3)\n",
    "print(s.check())\n",
    "print(s.model())\n",
    "end = time.time()\n",
    "print(\"Consume Time: %.8f s\\n\"%((end-start)))"
   ]
  },
  {
   "cell_type": "code",
   "execution_count": null,
   "id": "0fd36e3c",
   "metadata": {},
   "outputs": [],
   "source": [
    "# unicycle timeout\n",
    "start = time.time()\n",
    "x1,x2,a1,a2,a3,a4= Reals('x1 x2 a1 a2 a3 a4')\n",
    "xvars = [x1,x2]\n",
    "\n",
    "loop_cond = -1<=0\n",
    "\n",
    "pre = x1**2+(x2-1)**2-1<= 0\n",
    "post = x1**2 + (x2-1)**2 - 4<=0\n",
    "\n",
    "inv = a1*x1**2 + a2*x2**2 + a3*x2 +a4>=0\n",
    "guard1 = -1<=0;\n",
    "\n",
    "w = 1.0178 + 1.8721 * x1 - 0.0253 * x2\n",
    "x1_f = x1 + 0.01*(1-x2*w)\n",
    "x2_f = x2 + 0.01*x1*w\n",
    "inv_f1 = a1*x1_f**2 + a2*x2_f**2 + a3*x2_f +a4>=0\n",
    "\n",
    "inv_ineq = And(x1>=0,x2>=0)\n",
    "\n",
    "\n",
    "cons1 = ForAll(xvars,Implies(And(pre, ), inv))\n",
    "cons2 = ForAll(xvars,Implies(And(inv, guard1, loop_cond), inv_f1))\n",
    "cons3 = ForAll(xvars,Implies(And(inv, Not(loop_cond)),post))\n",
    "               \n",
    "s = Solver()\n",
    "s.add( cons1, cons2, cons3)\n",
    "print(s.check())\n",
    "print(s.model())\n",
    "end = time.time()\n",
    "print(\"Consume Time: %.8f s\\n\"%((end-start)))"
   ]
  },
  {
   "cell_type": "code",
   "execution_count": null,
   "id": "93f33c1b",
   "metadata": {},
   "outputs": [],
   "source": []
  },
  {
   "cell_type": "markdown",
   "id": "1f648b88",
   "metadata": {},
   "source": [
    "# CIRCUIT"
   ]
  },
  {
   "cell_type": "markdown",
   "id": "548c0d00",
   "metadata": {},
   "source": [
    "[3] Mahathi Anand, Vishnu Murali, Ashutosh Trivedi, and Majid Zamani. 2021. Safety Verification of Dynamical\n",
    "Systems via k-Inductive Barrier Certificates. In 2021 60th IEEE Conference on Decision and Control. IEEE, 1314–1320.\n",
    "https://doi.org/10.1109/CDC45484.2021.9682889"
   ]
  },
  {
   "cell_type": "markdown",
   "id": "2b0d5261",
   "metadata": {},
   "source": [
    "0.699756 inv=6.51819122256+1.5288052781*x1+3.17389341021*x2-1.27183860013*x1^2-1.16455887905*x2^2+0.632009166242*x1*x2"
   ]
  },
  {
   "cell_type": "code",
   "execution_count": null,
   "id": "f7e14e23",
   "metadata": {},
   "outputs": [],
   "source": [
    "# circuit  time out\n",
    "# with x and a unbounded and inv = a0+a1*x1+a2*x2+a3*x1**2+a4*x2**2+a5*x1*x2<=0\n",
    "from z3 import *\n",
    "import time\n",
    "start = time.time()\n",
    "x1,x2,a0,a1,a2,a3,a4,a5 = Reals('x1 x2 a0 a1 a2 a3 a4 a5')\n",
    "xvars = [x1,x2]\n",
    "\n",
    "loop_cond = -1<=0\n",
    "\n",
    "pre = (x1-0.5)**2+(x2-0.5)**2-0.25**2<= 0\n",
    "post =x2**2 - 4<=0\n",
    "\n",
    "inv = a0+a1*x1+a2*x2+a3*x1**2+a4*x2**2+a5*x1*x2<=0\n",
    "guard1 = -1<=0\n",
    "\n",
    "inv_f1 = a1*(8/9*x1-1/18*x2)**2 + a2*(0.1*x1+0.9*x2)**2 + a3<=0\n",
    "\n",
    "\n",
    "\n",
    "cons1 = ForAll(xvars,Implies(And(pre), inv))\n",
    "cons2 = ForAll(xvars,Implies(And(inv, guard1, loop_cond), inv_f1))\n",
    "cons3 = ForAll(xvars,Implies(And(inv, Not(loop_cond)),post))\n",
    "               \n",
    "s = Solver()\n",
    "s.add( cons1, cons2, cons3)\n",
    "print(s.check())\n",
    "print(s.model())\n",
    "end = time.time()\n",
    "print(\"Consume Time: %.8f s\\n\"%((end-start)))"
   ]
  },
  {
   "cell_type": "code",
   "execution_count": null,
   "id": "7d6356e8",
   "metadata": {},
   "outputs": [],
   "source": []
  },
  {
   "cell_type": "markdown",
   "id": "79f64887",
   "metadata": {},
   "source": [
    "0.43s 1 iter template: inv=a1*x1^2 + a2*x2^2 +a0*x1*x2+a3;"
   ]
  },
  {
   "cell_type": "code",
   "execution_count": 3,
   "id": "08dc22e0",
   "metadata": {},
   "outputs": [
    {
     "name": "stdout",
     "output_type": "stream",
     "text": [
      "sat\n",
      "[]\n",
      "Consume Time: 0.03600144 s\n",
      "\n"
     ]
    }
   ],
   "source": [
    "# circuit  17.56s \n",
    "# with template  a1*x1**2 + a2*x2**2 + a3<=0.\n",
    "# both a and x are bounded,which is a much easier task to do.\n",
    "from z3 import *\n",
    "import time\n",
    "start = time.time()\n",
    "x1,x2 = Reals('x1 x2')\n",
    "xvars = [x1,x2]\n",
    "xrange = And(x1>=-5, x1<=5, x2>=-5,x2<=5)\n",
    "\n",
    "loop_cond = -1<=0\n",
    "\n",
    "pre = (x1-0.5)**2+(x2-0.5)**2-0.25**2<= 0\n",
    "post =x2**2 - 4<=0\n",
    "\n",
    "inv = 8.84323869546-3.73243979989*x1**2-3.62111873911*x2**2+0.794582058614*x1*x2>=0\n",
    "guard1 = -1<=0\n",
    "\n",
    "x1_f=8/9*x1-1/18*x2\n",
    "x2_f=0.1*x1+0.9*x2\n",
    "\n",
    "inv_f1 =8.84323869546-3.73243979989*x1_f**2-3.62111873911*x2_f**2+0.794582058614*x1_f*x2_f>=0\n",
    "\n",
    "inv_ineq = And(x2>=0)\n",
    "\n",
    "\n",
    "cons1 = ForAll(xvars,Implies(And(pre, xrange), inv))\n",
    "cons2 = ForAll(xvars,Implies(And(inv, guard1, loop_cond, xrange), inv_f1))\n",
    "cons3 = ForAll(xvars,Implies(And(inv, Not(loop_cond),xrange),post))\n",
    "               \n",
    "s = Solver()\n",
    "s.add( cons1, cons2, cons3)\n",
    "print(s.check())\n",
    "print(s.model())\n",
    "end = time.time()\n",
    "print(\"Consume Time: %.8f s\\n\"%((end-start)))"
   ]
  },
  {
   "cell_type": "markdown",
   "id": "b19dc2c1",
   "metadata": {},
   "source": [
    "# Deter"
   ]
  },
  {
   "cell_type": "code",
   "execution_count": null,
   "id": "9ccd37a5",
   "metadata": {},
   "outputs": [],
   "source": [
    "# deter time out\n",
    "# with template inv = a0+a1*x1+a2*x2+a3*x1**2+a4*x2**2+a5*x1*x2<=0\n",
    "# x is bounded,\n",
    "from z3 import *\n",
    "import time\n",
    "start = time.time()\n",
    "x1,x2,a0,a1,a2,a3,a4,a5 = Reals('x1 x2 a0 a1 a2 a3 a4 a5')\n",
    "xvars = [x1,x2]\n",
    "xrange = And(x1>=-10, x1<=10, x2>=-10,x2<=10)\n",
    "\n",
    "loop_cond =4-(x1-2)**2 -(x2-4)**2>=0\n",
    "\n",
    "pre =1-(x1-2)**2 -(x2-4)**2>=0\n",
    "post =x2-4<=0\n",
    "inv = a0+a1*x1+a2*x2+a3*x1**2+a4*x2**2+a5*x1*x2>=0\n",
    "\n",
    "x1_f=x1 + 0.1*x2\n",
    "x2_f=x2+(x2*(1-x1**2)-x1)*0.1\n",
    "\n",
    "inv_f1  = a0+a1*x1_f+a2*x2_f+a3*x1_f**2+a4*x2_f**2+a5*x1_f*x2_f>=0\n",
    "\n",
    "\n",
    "\n",
    "cons1 = ForAll(xvars,Implies(And(pre, xrange), inv))\n",
    "cons2 = ForAll(xvars,Implies(And(inv, loop_cond, xrange), inv_f1))\n",
    "cons3 = ForAll(xvars,Implies(And(inv, Not(loop_cond),xrange),post))\n",
    "               \n",
    "s = Solver()\n",
    "s.add( cons1, cons2, cons3)\n",
    "print(s.check())\n",
    "print(s.model())\n",
    "end = time.time()\n",
    "print(\"Consume Time: %.8f s\\n\"%((end-start)))"
   ]
  },
  {
   "cell_type": "markdown",
   "id": "53da2686",
   "metadata": {},
   "source": [
    "template: inv=a0+a1*x2^2+a2*x1^2+a3*x1; failed"
   ]
  },
  {
   "cell_type": "markdown",
   "id": "b8e9adb2",
   "metadata": {},
   "source": [
    "# bound1"
   ]
  },
  {
   "cell_type": "code",
   "execution_count": null,
   "id": "48fc2698",
   "metadata": {},
   "outputs": [],
   "source": [
    "3.61923299923-2.66899490136*x1^2-1.83887148787*x2^2"
   ]
  },
  {
   "cell_type": "code",
   "execution_count": null,
   "id": "f844ca60",
   "metadata": {},
   "outputs": [],
   "source": [
    "# deter time out\n",
    "# with template inv = a0+a1*x1+a2*x2+a3*x1**2+a4*x2**2+a5*x1*x2<=0\n",
    "# x is bounded,\n",
    "from z3 import *\n",
    "import time\n",
    "start = time.time()\n",
    "x1,x2,a0,a1,a2,a3,a4,a5 = Reals('x1 x2 a0 a1 a2 a3 a4 a5')\n",
    "xvars = [x1,x2]\n",
    "xrange = And(x1>=-5, x1<=5, x2>=-5,x2<=5)\n",
    "\n",
    "loop_cond = -x1**2 -x2**2 + 2>=0\n",
    "\n",
    "pre1 =(x1-0.9)*(1.1-x1)>= 0\n",
    "pre2=x2*(0.2-x2)>=0\n",
    "post =x2+2*x1-2<=0\n",
    "inv =a0+a1*x1+a2*x2+a3*x1**2+a4*x2**2+a5*x1*x2>=0\n",
    "\n",
    "x1_f=0.5*x1**2+ 0.4*x2**2\n",
    "x2_f=-0.6*x1**2+0.3*x2**2\n",
    "\n",
    "inv_f1 = a0+a1*x1_f+a2*x2_f+a3*x1_f**2+a4*x2_f**2+a5*x1_f*x2_f>=0\n",
    "\n",
    "\n",
    "\n",
    "cons1 = ForAll(xvars,Implies(And(pre1,pre2, xrange), inv))\n",
    "cons2 = ForAll(xvars,Implies(And(inv, loop_cond, xrange), inv_f1))\n",
    "cons3 = ForAll(xvars,Implies(And(inv, Not(loop_cond),xrange),post))\n",
    "               \n",
    "s = Solver()\n",
    "s.add( cons1, cons2, cons3)\n",
    "print(s.check())\n",
    "print(s.model())\n",
    "end = time.time()\n",
    "print(\"Consume Time: %.8f s\\n\"%((end-start)))"
   ]
  },
  {
   "cell_type": "code",
   "execution_count": null,
   "id": "92449ad2",
   "metadata": {},
   "outputs": [],
   "source": [
    "template: a1*x1**2 + a2*x2**2 + a3 3.61923299923-2.66899490136*x1^2-1.83887148787*x2^2"
   ]
  },
  {
   "cell_type": "code",
   "execution_count": 4,
   "id": "eab0e7c3",
   "metadata": {},
   "outputs": [
    {
     "name": "stdout",
     "output_type": "stream",
     "text": [
      "sat\n",
      "[]\n",
      "Consume Time: 0.03539324 s\n",
      "\n"
     ]
    }
   ],
   "source": [
    "# deter time out\n",
    "# with template inv =  a1*x1**2 + a2*x2**2 + a3<=0\n",
    "# x is bounded,\n",
    "from z3 import *\n",
    "import time\n",
    "start = time.time()\n",
    "x1,x2,a1,a2,a3 = Reals('x1 x2 a1 a2 a3')\n",
    "xvars = [x1,x2]\n",
    "xrange = And(x1>=-5, x1<=5, x2>=-5,x2<=5)\n",
    "arange= And(a1>=-5,a1<=5,a2>=-5,a2<=5,a3>=-5,a3<=5)\n",
    "loop_cond = -x1**2 -x2**2 + 2>=0\n",
    "\n",
    "pre1 =(x1-0.9)*(1.1-x1)>= 0\n",
    "pre2=x2*(0.2-x2)>=0\n",
    "post =x2+2*x1-2<=0\n",
    "inv =3.61923299923-2.66899490136*x1**2-1.83887148787*x2**2>=0\n",
    "\n",
    "x1_f=0.5*x1**2+ 0.4*x2**2\n",
    "x2_f=-0.6*x1**2+0.3*x2**2\n",
    "\n",
    "inv_f1 = 3.61923299923-2.66899490136*x1_f**2-1.83887148787*x2_f**2>=0\n",
    "\n",
    "\n",
    "\n",
    "cons1 = ForAll(xvars,Implies(And(pre1,pre2, xrange), inv))\n",
    "cons2 = ForAll(xvars,Implies(And(inv, loop_cond, xrange), inv_f1))\n",
    "cons3 = ForAll(xvars,Implies(And(inv, Not(loop_cond),xrange),post))\n",
    "               \n",
    "s = Solver()\n",
    "s.add( cons1, cons2, cons3)\n",
    "print(s.check())\n",
    "print(s.model())\n",
    "end = time.time()\n",
    "print(\"Consume Time: %.8f s\\n\"%((end-start)))"
   ]
  },
  {
   "cell_type": "markdown",
   "id": "e07993d1",
   "metadata": {},
   "source": [
    "# bound2"
   ]
  },
  {
   "cell_type": "code",
   "execution_count": null,
   "id": "6bde9f33",
   "metadata": {},
   "outputs": [],
   "source": [
    "# with template a0+a1*x1+a2*x2+a3*x1**2+a4*x2**2+a5*x1*x2\n",
    "from z3 import *\n",
    "import time\n",
    "start = time.time()\n",
    "x1,x2,a0,a1,a2,a3,a4,a5 = Reals('x1 x2 a0 a1 a2 a3 a4 a5')\n",
    "xvars = [x1,x2]\n",
    "xrange = And(x1>=-5, x1<=5, x2>=-5,x2<=5)\n",
    "\n",
    "loop_cond = -x1**2 -x2**2 +1>=0\n",
    "\n",
    "pre1 =(x1-0.5)*(0.7-x1)>= 0\n",
    "pre2=(x2-0.5)*(0.7-x2)>= 0\n",
    "post =x1**2+x2**2-0.36<=0\n",
    "inv =a0+a1*x1+a2*x2+a3*x1**2+a4*x2**2+a5*x1*x2>=0\n",
    "\n",
    "x1_f=0.5*x1**3+ 0.4*x2**2\n",
    "x2_f=-0.6*x1**2+0.3*x2**2\n",
    "\n",
    "inv_f1 = a0+a1*x1_f+a2*x2_f+a3*x1_f**2+a4*x2_f**2+a5*x1_f*x2_f>=0\n",
    "\n",
    "\n",
    "\n",
    "cons1 = ForAll(xvars,Implies(And(pre1,pre2, xrange), inv))\n",
    "cons2 = ForAll(xvars,Implies(And(inv, loop_cond, xrange), inv_f1))\n",
    "cons3 = ForAll(xvars,Implies(And(inv, Not(loop_cond),xrange),post))\n",
    "               \n",
    "s = Solver()\n",
    "s.add( cons1, cons2, cons3)\n",
    "print(s.check())\n",
    "print(s.model())\n",
    "end = time.time()\n",
    "print(\"Consume Time: %.8f s\\n\"%((end-start)))"
   ]
  },
  {
   "cell_type": "markdown",
   "id": "1e2f7029",
   "metadata": {},
   "source": [
    "0.37s iter 1 template:a1*x1_f**2 + a2*x2_f**2 + a3 "
   ]
  },
  {
   "cell_type": "code",
   "execution_count": 5,
   "id": "a9e2efb0",
   "metadata": {},
   "outputs": [
    {
     "name": "stdout",
     "output_type": "stream",
     "text": [
      "sat\n",
      "[]\n",
      "Consume Time: 0.03871083 s\n",
      "\n"
     ]
    }
   ],
   "source": [
    "# with template a1*x1**2 + a2*x2**2 + a3\n",
    "# both a and x are bounded,which is a much easier task to do.\n",
    "from z3 import *\n",
    "import time\n",
    "start = time.time()\n",
    "x1,x2,a0,a1,a2,a3,a4,a5 = Reals('x1 x2 a0 a1 a2 a3 a4 a5')\n",
    "xvars = [x1,x2]\n",
    "xrange = And(x1>=-5, x1<=5, x2>=-5,x2<=5)\n",
    "\n",
    "loop_cond = -x1**2 -x2**2 +1>=0\n",
    "\n",
    "pre1 =(x1-0.5)*(0.7-x1)>= 0\n",
    "pre2=(x2-0.5)*(0.7-x2)>= 0\n",
    "post =x1**2+x2**2-0.36<=0\n",
    "inv =1.34222763786-1.36204108546*x1**2-1.36151598778*x2**2>=0\n",
    "\n",
    "x1_f=0.5*x1**3+ 0.4*x2**2\n",
    "x2_f=-0.6*x1**2+0.3*x2**2\n",
    "\n",
    "inv_f1 = 1.34222763786-1.36204108546*x1_f**2-1.36151598778*x2_f**2>=0\n",
    "\n",
    "\n",
    "\n",
    "cons1 = ForAll(xvars,Implies(And(pre1,pre2, xrange), inv))\n",
    "cons2 = ForAll(xvars,Implies(And(inv, loop_cond, xrange), inv_f1))\n",
    "cons3 = ForAll(xvars,Implies(And(inv, Not(loop_cond),xrange),post))\n",
    "               \n",
    "s = Solver()\n",
    "s.add( cons1, cons2, cons3)\n",
    "print(s.check())\n",
    "print(s.model())\n",
    "end = time.time()\n",
    "print(\"Consume Time: %.8f s\\n\"%((end-start)))"
   ]
  },
  {
   "cell_type": "markdown",
   "id": "c0e50f2f",
   "metadata": {},
   "source": [
    "# contrived"
   ]
  },
  {
   "cell_type": "code",
   "execution_count": null,
   "id": "923a8193",
   "metadata": {},
   "outputs": [],
   "source": [
    "# with template  a0+a1*x1+a2*x2+a3*x1**2+a4*x2**2+a5*x1*x2\n",
    "\n",
    "from z3 import *\n",
    "import time\n",
    "start = time.time()\n",
    "x1,x2,a0,a1,a2,a3,a4,a5 = Reals('x1 x2 a0 a1 a2 a3 a4 a5')\n",
    "xvars = [x1,x2]\n",
    "xrange = And(x1>=-10, x1<=10, x2>=-10,x2<=10)\n",
    "\n",
    "loop_cond = 4-x1**2-(x2 -3)**2>=0\n",
    "\n",
    "pre = 1-x1**2-(x2 -3)**2>= 0\n",
    "post =(x1-2)**2+(x2-2)**2-9<=0\n",
    "inv =a0+a1*x1+a2*x2+a3*x1**2+a4*x2**2+a5*x1*x2>=0\n",
    "\n",
    "x1_f=(x2-x1)*0.1+x1\n",
    "x2_f=0.9*x2\n",
    "\n",
    "inv_f1 =a0+a1*x1_f+a2*x2_f+a3*x1_f**2+a4*x2_f**2+a5*x1_f*x2_f>=0\n",
    "\n",
    "\n",
    "\n",
    "cons1 = ForAll(xvars,Implies(And(pre, xrange), inv))\n",
    "cons2 = ForAll(xvars,Implies(And(inv, loop_cond, xrange), inv_f1))\n",
    "cons3 = ForAll(xvars,Implies(And(inv, Not(loop_cond),xrange),post))\n",
    "               \n",
    "s = Solver()\n",
    "s.add( cons1, cons2, cons3)\n",
    "print(s.check())\n",
    "print(s.model())\n",
    "end = time.time()\n",
    "print(\"Consume Time: %.8f s\\n\"%((end-start)))"
   ]
  },
  {
   "cell_type": "markdown",
   "id": "8d0dd6b9",
   "metadata": {},
   "source": [
    "template:-1+a0*x1+a1*x2+a2*x1**2+a3*x2**2 Failed"
   ]
  },
  {
   "cell_type": "markdown",
   "id": "2748d919",
   "metadata": {},
   "source": [
    "# transcend"
   ]
  },
  {
   "cell_type": "code",
   "execution_count": null,
   "id": "7120106c",
   "metadata": {},
   "outputs": [],
   "source": [
    "# with template 1：a0+a1*x1+a2*x2+a3*x1**2+a4*x2**2+a5*x1*x2\n",
    "\n",
    "from z3 import *\n",
    "import time\n",
    "start = time.time()\n",
    "x1,x2,a0,a1,a2,a3,a4,a5 = Reals('x1 x2 a0 a1 a2 a3 a4 a5')\n",
    "xvars = [x1,x2]\n",
    "xrange = And(x1>=-10, x1<=10, x2>=-10,x2<=10)\n",
    "\n",
    "\n",
    "loop_cond = 3-x1**2-(x2-2)**2>=0\n",
    "\n",
    "pre =1-x1**2-(x2-2)**2>= 0\n",
    "post =0.2*x2**2-2+x2<=0\n",
    "inv =a0+a1*x1+a2*x2+a3*x1**2+a4*x2**2+a5*x1*x2>=0\n",
    "\n",
    "x1_f=0.9*x1\n",
    "x2_f=x2-0.1*x2*(1+x1)\n",
    "\n",
    "inv_f1 =a0+a1*x1_f+a2*x2_f+a3*x1_f**2+a4*x2_f**2+a5*x1_f*x2_f>=0\n",
    "\n",
    "\n",
    "\n",
    "cons1 = ForAll(xvars,Implies(And(pre, xrange), inv))\n",
    "cons2 = ForAll(xvars,Implies(And(inv, loop_cond, xrange), inv_f1))\n",
    "cons3 = ForAll(xvars,Implies(And(inv, Not(loop_cond),xrange),post))\n",
    "               \n",
    "s = Solver()\n",
    "s.add( cons1, cons2, cons3)\n",
    "print(s.check())\n",
    "print(s.model())\n",
    "end = time.time()\n",
    "print(\"Consume Time: %.8f s\\n\"%((end-start)))"
   ]
  },
  {
   "cell_type": "markdown",
   "id": "4fa0d199",
   "metadata": {},
   "source": [
    "with template 2：a0+a1*x2-x1**2-x2**2 failed"
   ]
  },
  {
   "cell_type": "code",
   "execution_count": null,
   "id": "087e1d3b",
   "metadata": {},
   "outputs": [],
   "source": [
    "# with template 2：a0+a1*x2-x1**2-x2**2\n",
    "\n",
    "from z3 import *\n",
    "import time\n",
    "start = time.time()\n",
    "x1,x2,a0,a1 = Reals('x1 x2 a0 a1')\n",
    "xvars = [x1,x2]\n",
    "xrange = And(x1>=-10, x1<=10, x2>=-10,x2<=10)\n",
    "arange=And(a0<=5,a1<=5,a0>=-5,a1>=-5)\n",
    "\n",
    "loop_cond = 3-x1**2-(x2-2)**2>=0\n",
    "\n",
    "pre =1-x1**2-(x2-2)**2>=0\n",
    "post =0.2*x2**2-2+x2<=0\n",
    "inv =a0+a1*x2-x1**2-x2**2>=0\n",
    "\n",
    "x1_f=0.9*x1\n",
    "x2_f=x2-0.1*x2*(1+x1)\n",
    "\n",
    "inv_f1 =a0+a1*x2_f-x1_f**2-x2_f**2>=0\n",
    "\n",
    "\n",
    "\n",
    "cons1 = ForAll(xvars,Implies(And(pre, xrange), inv))\n",
    "cons2 = ForAll(xvars,Implies(And(inv, loop_cond, xrange), inv_f1))\n",
    "cons3 = ForAll(xvars,Implies(And(inv, Not(loop_cond),xrange),post))\n",
    "               \n",
    "s = Solver()\n",
    "s.add( cons1, cons2, cons3, arange)\n",
    "print(s.check())\n",
    "print(s.model())\n",
    "end = time.time()\n",
    "print(\"Consume Time: %.8f s\\n\"%((end-start)))"
   ]
  },
  {
   "cell_type": "markdown",
   "id": "ecead43b",
   "metadata": {},
   "source": [
    "# motivate"
   ]
  },
  {
   "cell_type": "code",
   "execution_count": null,
   "id": "90981a32",
   "metadata": {},
   "outputs": [],
   "source": [
    "# timeout\n",
    "# template 1  a0 + a1*x1+a2*x2+a3*x3+a4*x1**2+a5*x2**2+a6*x3**2+a7*x1*x2+a8*x1*x3+a9*x2*x3>=0\n",
    "from z3 import *\n",
    "import time\n",
    "start = time.time()\n",
    "x1,x2,x3,a0,a1,a2,a3,a4,a5,a6,a7,a8,a9 = Reals('x1 x2 x3 a0 a1 a2 a3 a4 a5 a6 a7 a8 a9')\n",
    "xvars = [x1,x2,x3]\n",
    "xrange = And(x1>=-10, x1<=10, x2>=-10,x2<=10,x3>=-10,x3<=10)\n",
    "\n",
    "loop_cond =-(x1-3)**2 - x2**2 - (x3-3)**2 + 2>=0\n",
    "\n",
    "pre =(x1-3)**2+x2**2+(x3-3)**2-0.25<=0\n",
    "post -x3 + 0.5*x2**2 + 1<=0\n",
    "inv =a0 + a1*x1+a2*x2+a3*x3+a4*x1**2+a5*x2**2+a6*x3**2+a7*x1*x2+a8*x1*x3+a9*x2*x3>=0\n",
    "\n",
    "x1_f=x1+0.1*(2*x1+x2)\n",
    "x2_f=x2+0.1*(x1+9*x2+1/2*x3)\n",
    "x3_f=x3+0.1*(2*x2+16*x3)\n",
    "\n",
    "inv_f1 =a0 + a1*x1_f+a2*x2_f+a3*x3_f+a4*x1_f**2+a5*x2_f**2+a6*x3_f**2+a7*x1_f*x2+a8*x1_f*x3_f+a9*x2_f*x3_f>=0\n",
    "\n",
    "\n",
    "cons1 = ForAll(xvars,Implies(And(pre, xrange), inv))\n",
    "cons2 = ForAll(xvars,Implies(And(inv, loop_cond, xrange), inv_f1))\n",
    "cons3 = ForAll(xvars,Implies(And(inv, Not(loop_cond),xrange),post))\n",
    "               \n",
    "s = Solver()\n",
    "s.add( cons3)\n",
    "print(s.check())\n",
    "print(s.model())\n",
    "end = time.time()\n",
    "print(\"Consume Time: %.8f s\\n\"%((end-start)))"
   ]
  },
  {
   "cell_type": "markdown",
   "id": "04472b8b",
   "metadata": {},
   "source": [
    "    4 iteration solution is found. lambda is -0.0000000017  3.648213\n",
    "-12.9155602701-0.896604366532*x2+5.37030192108*x3-3.56657256065*x2^2"
   ]
  },
  {
   "cell_type": "code",
   "execution_count": 8,
   "id": "b725061c",
   "metadata": {},
   "outputs": [
    {
     "name": "stdout",
     "output_type": "stream",
     "text": [
      "sat\n",
      "[]\n",
      "Consume Time: 0.02000022 s\n",
      "\n"
     ]
    }
   ],
   "source": [
    "\n",
    "# template 1  inv=a0+a1*x2+a2*x2**2+a3*x3\n",
    "from z3 import *\n",
    "import time\n",
    "start = time.time()\n",
    "x1,x2,x3,a0,a1,a2,a3,a4,a5,a6,a7,a8,a9 = Reals('x1 x2 x3 a0 a1 a2 a3 a4 a5 a6 a7 a8 a9')\n",
    "xvars = [x1,x2,x3]\n",
    "xrange = And(x1>=-10, x1<=10, x2>=-10,x2<=10,x3>=-10,x3<=10)\n",
    "\n",
    "loop_cond =-(x1-3)**2 - x2**2 - (x3-3)**2 + 2>=0\n",
    "\n",
    "pre =(x1-3)**2+x2**2+(x3-3)**2-0.25<=0\n",
    "post=-x3 + 0.5*x2**2 + 1<=0\n",
    "inv=-12.9155602701-0.896604366532*x2+5.37030192108*x3-3.56657256065*x2**2>=0\n",
    "\n",
    "x1_f=x1+0.1*(2*x1+x2)\n",
    "x2_f=x2+0.1*(x1+9*x2+1/2*x3)\n",
    "x3_f=x3+0.1*(2*x2+16*x3)\n",
    "\n",
    "inv_f1 =-12.9155602701-0.896604366532*x2_f+5.37030192108*x3_f-3.56657256065*x2_f**2>=0\n",
    "\n",
    "\n",
    "cons1 = ForAll(xvars,Implies(And(pre, xrange), inv))\n",
    "cons2 = ForAll(xvars,Implies(And(inv, loop_cond, xrange), inv_f1))\n",
    "cons3 = ForAll(xvars,Implies(And(inv, Not(loop_cond),xrange),post))\n",
    "               \n",
    "s = Solver()\n",
    "s.add( cons3)\n",
    "print(s.check())\n",
    "print(s.model())\n",
    "end = time.time()\n",
    "print(\"Consume Time: %.8f s\\n\"%((end-start)))"
   ]
  },
  {
   "cell_type": "markdown",
   "id": "5fd23348",
   "metadata": {},
   "source": [
    "# lyapunov"
   ]
  },
  {
   "cell_type": "code",
   "execution_count": null,
   "id": "d9547593",
   "metadata": {},
   "outputs": [],
   "source": [
    "2.767-2.179*x1**2-2.599*x2**2-1.400*x3**2-0.823*x1*x2+1.078*x1*x3-4.228*x2*x3"
   ]
  },
  {
   "cell_type": "markdown",
   "id": "f0b1fdd7",
   "metadata": {},
   "source": [
    "6 iteration solution is found. lambda is -0.0000000016 "
   ]
  },
  {
   "cell_type": "markdown",
   "id": "07058ee3",
   "metadata": {},
   "source": [
    "2.76705382255-2.17938650886*x1^2-2.59925456054*x2^2-1.40053692243*x3^2-0.823488111934*x1*x2+1.0789646046*x1*x3-4.2283465075*x2*x3"
   ]
  },
  {
   "cell_type": "code",
   "execution_count": null,
   "id": "b31d1c7d",
   "metadata": {},
   "outputs": [],
   "source": [
    "# timeout \n",
    "# with template a0+a1*x1+a2*x2+a3*x3+a4*x1**2+a5*x2**2+a6*x3**2+a7*x1*x2+a8*x1*x3+a9*x2*x3\n",
    "from z3 import *\n",
    "import time\n",
    "start = time.time()\n",
    "x1,x2,x3,a0,a1,a2,a3,a4,a5,a6,a7,a8,a9= Reals('x1 x2 x3 a0 a1 a2 a3 a4 a5 a6 a7 a8 a9')\n",
    "xvars = [x1,x2,x3]\n",
    "xrange = And(x1>=-5, x1<=5, x2>=-5,x2<=5,x3>=-5,x3<=5)\n",
    "\n",
    "loop_cond = 9-x1**2-x2**2-x3**2>=0\n",
    "\n",
    "pre =x1**2 +x2**2 +x3**2-0.25<= 0\n",
    "post =-2*x1-2*x2-2*x3-x1**2-x2**2-x3**2+x1*x2+x1*x3+x2*x3<=0\n",
    "inv =2.767-2.179*x1**2-2.599*x2**2-1.400*x3**2-0.823*x1*x2+1.078*x1*x3-4.228*x2*x3>=0\n",
    "\n",
    "x1_f=x1-0.1*x2\n",
    "x2_f=x2-0.1*x3\n",
    "x3_f=x3+(-x1-2*x2 -x3 + x1**3)*0.1\n",
    "\n",
    "inv_f1 =2.767-2.179*x1_f**2-2.599*x2_f**2-1.400*x3_f**2-0.823*x1_f*x2_f+1.078*x1_f*x3_f-4.228*x2_f*x3_f>=0\n",
    "\n",
    "\n",
    "\n",
    "cons1 = ForAll(xvars,Implies(And(pre, xrange), inv))\n",
    "cons2 = ForAll(xvars,Implies(And(inv, loop_cond, xrange), inv_f1))\n",
    "cons3 = ForAll(xvars,Implies(And(inv, Not(loop_cond),xrange),post))\n",
    "               \n",
    "s = Solver()\n",
    "s.add( cons1, cons2, cons3)\n",
    "print(s.check())\n",
    "print(s.model())\n",
    "end = time.time()\n",
    "print(\"Consume Time: %.8f s\\n\"%((end-start)))"
   ]
  },
  {
   "cell_type": "markdown",
   "id": "a3507bcf",
   "metadata": {},
   "source": [
    "# basin"
   ]
  },
  {
   "cell_type": "code",
   "execution_count": null,
   "id": "727e6513",
   "metadata": {},
   "outputs": [],
   "source": [
    "from z3 import *\n",
    "import time\n",
    "start = time.time()\n",
    "x1,x2,a0,a1,a2,a3,a4,a5 = Reals('x1 x2 a0 a1 a2 a3 a4 a5')\n",
    "xvars = [x1,x2]\n",
    "xrange = And(x1>=-5, x1<=5, x2>=-5,x2<=5)\n",
    "\n",
    "loop_cond = 3-x1**2-x2**2>=0\n",
    "\n",
    "pre =0.25-x1**2-x2**2>= 0\n",
    "post =2*x2+x1**2-1<=0\n",
    "inv=a0+a1*x1+a2*x2+a3*x1**2+a4*x2**2+a5*x1*x2>=0\n",
    "\n",
    "x1_f=(-0.42*x1-1.05*x2-2.3*x1**2-0.5*x1*x2-x1**3)*0.1+x1\n",
    "x2_f=x2+0.1*(1.98*x1+x1*x2)\n",
    "\n",
    "inv_f1 =a0+a1*x1_f+a2*x2_f+a3*x1_f**2+a4*x2_f**2+a5*x1_f*x2_f>=0\n",
    "\n",
    "\n",
    "\n",
    "cons1 = ForAll(xvars,Implies(And(pre, xrange), inv))\n",
    "cons2 = ForAll(xvars,Implies(And(inv, loop_cond, xrange), inv_f1))\n",
    "cons3 = ForAll(xvars,Implies(And(inv, Not(loop_cond),xrange),post))\n",
    "               \n",
    "s = Solver()\n",
    "s.add( cons1, cons2, cons3)\n",
    "print(s.check())\n",
    "print(s.model())\n",
    "end = time.time()\n",
    "print(\"Consume Time: %.8f s\\n\"%((end-start)))"
   ]
  },
  {
   "cell_type": "code",
   "execution_count": null,
   "id": "e51ac692",
   "metadata": {},
   "outputs": [],
   "source": [
    "from z3 import *\n",
    "import time\n",
    "start = time.time()\n",
    "x1,x2,a0,a1,a2,a3,a4 = Reals('x1 x2 a0 a1 a2 a3 a4')\n",
    "xvars = [x1,x2]\n",
    "xrange = And(x1>=-5, x1<=5, x2>=-5,x2<=5)\n",
    "\n",
    "loop_cond = 3-x1**2-x2**2>=0\n",
    "\n",
    "pre =0.25-x1**2-x2**2>= 0\n",
    "post =2*x2+x1**2-1<=0\n",
    "inv=a0+a1*x1+a2*x2+a3*x1**2+a4*x2**2 >=0\n",
    "\n",
    "x1_f=(-0.42*x1-1.05*x2-2.3*x1**2-0.5*x1*x2-x1**3)*0.1+x1\n",
    "x2_f=x2+0.1*(1.98*x1+x1*x2)\n",
    "\n",
    "inv_f1 =a0+a1*x1_f+a2*x2_f+a3*x1_f**2+a4*x2_f**2>=0\n",
    "\n",
    "\n",
    "\n",
    "cons1 = ForAll(xvars,Implies(And(pre, xrange), inv))\n",
    "cons2 = ForAll(xvars,Implies(And(inv, loop_cond, xrange), inv_f1))\n",
    "cons3 = ForAll(xvars,Implies(And(inv, Not(loop_cond),xrange),post))\n",
    "               \n",
    "s = Solver()\n",
    "s.add( cons1, cons2, cons3)\n",
    "print(s.check())\n",
    "print(s.model())\n",
    "end = time.time()\n",
    "print(\"Consume Time: %.8f s\\n\"%((end-start)))"
   ]
  },
  {
   "cell_type": "code",
   "execution_count": null,
   "id": "05391a27",
   "metadata": {},
   "outputs": [],
   "source": []
  }
 ],
 "metadata": {
  "kernelspec": {
   "display_name": "Python 3 (ipykernel)",
   "language": "python",
   "name": "python3"
  },
  "language_info": {
   "codemirror_mode": {
    "name": "ipython",
    "version": 3
   },
   "file_extension": ".py",
   "mimetype": "text/x-python",
   "name": "python",
   "nbconvert_exporter": "python",
   "pygments_lexer": "ipython3",
   "version": "3.11.4"
  }
 },
 "nbformat": 4,
 "nbformat_minor": 5
}
