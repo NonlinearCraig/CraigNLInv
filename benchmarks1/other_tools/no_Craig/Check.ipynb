{
 "cells": [
  {
   "cell_type": "markdown",
   "id": "99623063",
   "metadata": {},
   "source": [
    "## EX1"
   ]
  },
  {
   "cell_type": "markdown",
   "id": "62b05560",
   "metadata": {},
   "source": [
    "with template: inv=a0+a1*x1+a2 * x1^2"
   ]
  },
  {
   "cell_type": "markdown",
   "id": "9653ada6",
   "metadata": {},
   "source": [
    "Failed"
   ]
  },
  {
   "cell_type": "markdown",
   "id": "c977e000",
   "metadata": {},
   "source": [
    "# EX2"
   ]
  },
  {
   "cell_type": "markdown",
   "id": "f7fdd799",
   "metadata": {},
   "source": [
    "template:a0+a1*x1+a2*x2+a3*x1*x2+a4*x1^2+a5*x2^2"
   ]
  },
  {
   "cell_type": "markdown",
   "id": "6feaf291",
   "metadata": {},
   "source": [
    "our:0.368708 iter: 1 6.033-2.774*x2+1.253*x1**2-1.679*x2**2>=0"
   ]
  },
  {
   "cell_type": "code",
   "execution_count": 2,
   "id": "ee631c92",
   "metadata": {},
   "outputs": [
    {
     "name": "stdout",
     "output_type": "stream",
     "text": [
      "sat\n",
      "[]\n",
      "Consuming Time: 0.02758741 s\n",
      "\n"
     ]
    }
   ],
   "source": [
    "# code2 in paper\n",
    "from z3 import *\n",
    "import time\n",
    "start = time.time()\n",
    "x1,x2 = Reals('x1 x2')\n",
    "xrange = And(x1>=-5, x1<=5, x2>=-5, x2<=5)\n",
    "\n",
    "inv = 6.033-2.774*x2+1.253*x1**2-1.679*x2**2>=0\n",
    "x1_f=0.9*(x1-0.01*x2)\n",
    "x2_f=0.9*(x2+0.01*x1)\n",
    "inv_f1 =6.033-2.774*x2_f+1.253*x1_f**2-1.679*x2_f**2>=0\n",
    "\n",
    "loop_cond = 1-x1**2-x2**2>=0\n",
    "pre = x1**2+x2**2-1<=0\n",
    "post = 0.25-x1**2-(x2-2)**2<=0\n",
    "\n",
    "cons1 = ForAll([x1,x2],Implies(And(pre, xrange), inv))\n",
    "cons2 = ForAll([x1,x2],Implies(And(inv,loop_cond, xrange), inv_f1))\n",
    "cons3 = ForAll([x1,x2],Implies(And(inv, Not(loop_cond),xrange),post))\n",
    "               \n",
    "s = Solver()\n",
    "s.add( cons1, cons2, cons3)\n",
    "print(s.check())\n",
    "print(s.model())\n",
    "end = time.time()\n",
    "print(\"Consuming Time: %.8f s\\n\"%((end-start)))"
   ]
  },
  {
   "cell_type": "markdown",
   "id": "31b37ab5",
   "metadata": {},
   "source": [
    "# EX3"
   ]
  },
  {
   "cell_type": "markdown",
   "id": "83c088dd",
   "metadata": {},
   "source": [
    "Failed"
   ]
  },
  {
   "cell_type": "markdown",
   "id": "889720e2",
   "metadata": {},
   "source": [
    "# EX4 step_size=0.01"
   ]
  },
  {
   "cell_type": "markdown",
   "id": "62aaaca4",
   "metadata": {},
   "source": [
    "template:inv=a0+a1*x+a2*x^2"
   ]
  },
  {
   "cell_type": "markdown",
   "id": "b73dfbe0",
   "metadata": {},
   "source": [
    "Failed"
   ]
  },
  {
   "cell_type": "markdown",
   "id": "7b6f759e",
   "metadata": {},
   "source": [
    "# EX4 step_size=0.001"
   ]
  },
  {
   "cell_type": "markdown",
   "id": "d79a7a4d",
   "metadata": {},
   "source": [
    "template:a0+a1*x1+a2*x1^2"
   ]
  },
  {
   "cell_type": "markdown",
   "id": "026b1303",
   "metadata": {},
   "source": [
    "our:0.323627 2.43728531901+0.136308166416*x1-1.42099401323*x1^2"
   ]
  },
  {
   "cell_type": "code",
   "execution_count": 5,
   "id": "0238ba7a",
   "metadata": {},
   "outputs": [
    {
     "name": "stdout",
     "output_type": "stream",
     "text": [
      "sat\n",
      "[]\n",
      "Consuming Time: 0.02573800 s\n",
      "\n"
     ]
    }
   ],
   "source": [
    "import time \n",
    "from z3 import *\n",
    "start = time.time()\n",
    "x1,a1,a2,a3= Reals('x1 a1 a2 a3')\n",
    "inv=2.43728531901+0.136308166416*x1-1.42099401323*x1**2>=0\n",
    "\n",
    "guard1 = -1<=0;\n",
    "inv_f1 =2.43728531901+0.136308166416*(x1-0.001*x1*(x1-2)*(x1-4))-1.42099401323*(x1-0.001*x1*(x1-2)*(x1-4))**2>=0\n",
    "\n",
    "loop_cond =  (x1+3)*(3-x1)>=0\n",
    "pre = (x1+1)*(1-x1)>=0\n",
    "post = (x1-3)*(5-x1)>=0\n",
    "\n",
    "cons1 = ForAll([x1],Implies(And(pre), inv))\n",
    "cons2 = ForAll([x1],Implies(And(inv, guard1, loop_cond), inv_f1))\n",
    "cons3 = ForAll([x1],Implies(And(inv, Not(loop_cond)),post))\n",
    "               \n",
    "s = Solver()\n",
    "s.add(cons1, cons2, cons3)\n",
    "print(s.check())\n",
    "print(s.model())\n",
    "end = time.time()\n",
    "print(\"Consuming Time: %.8f s\\n\"%((end-start)))"
   ]
  },
  {
   "cell_type": "markdown",
   "id": "ba5064d2",
   "metadata": {},
   "source": [
    "# cav13-1"
   ]
  },
  {
   "cell_type": "markdown",
   "id": "90ac01c9",
   "metadata": {},
   "source": [
    "template:a0+a1*x1+a2*x2+a3*x1*x2+a4*x1^2+a5*x2^2"
   ]
  },
  {
   "cell_type": "markdown",
   "id": "331c931e",
   "metadata": {},
   "source": [
    "Failed"
   ]
  },
  {
   "cell_type": "markdown",
   "id": "4beae85a",
   "metadata": {},
   "source": [
    "# cav13-2"
   ]
  },
  {
   "cell_type": "markdown",
   "id": "19691fee",
   "metadata": {},
   "source": [
    "template:a0+a1*x1+a2*x2+a3*x1*x2+a4*x1**2+a5*x2**2"
   ]
  },
  {
   "cell_type": "markdown",
   "id": "f0808610",
   "metadata": {},
   "source": [
    "1.190336s 4 iteration solution is found. lambda is -0.0000000024 \n",
    "2.01916751816+1.08507174917*x2-0.462069970442*x1^2-0.239563141029*x2^2"
   ]
  },
  {
   "cell_type": "code",
   "execution_count": 1,
   "id": "09a99c95",
   "metadata": {},
   "outputs": [
    {
     "name": "stdout",
     "output_type": "stream",
     "text": [
      "sat\n",
      "[]\n",
      "Consuming Time: 170.64504433 s\n",
      "\n"
     ]
    }
   ],
   "source": [
    "from z3 import *\n",
    "import time\n",
    "\n",
    "start = time.time()\n",
    "x1,x2,a1,a2,a3,a4,a5= Reals('x1 x2 a1 a2 a3 a4 a5')\n",
    "inv=2.02+1.08*x2-0.462*x1**2-0.239*x2**2>=0\n",
    "\n",
    "x1_f=x1**2+x2-1\n",
    "x2_f=x2+(x1**2+x2-1)*x2+1\n",
    "\n",
    "inv_f=2.02+1.08*x2_f-0.462*x1_f**2-0.239*x2_f**2>=0\n",
    "\n",
    "\n",
    "\n",
    "loop_cond = 3-x1**2-x2**2>=0\n",
    "pre = 2-x1**2-x2**2>=0\n",
    "post = -x2 + 0.2*x1**2 - 1.21<=0\n",
    "\n",
    "cons1 = ForAll([x1,x2],Implies(And(pre), inv))\n",
    "cons2 = ForAll([x1,x2],Implies(And(inv,loop_cond), inv_f))\n",
    "cons3 = ForAll([x1,x2],Implies(And(inv, Not(loop_cond)),post))\n",
    "               \n",
    "s = Solver()\n",
    "s.add(cons1, cons2, cons3)\n",
    "print(s.check())\n",
    "print(s.model())\n",
    "end = time.time()\n",
    "print(\"Consuming Time: %.8f s\\n\"%((end-start)))"
   ]
  },
  {
   "cell_type": "markdown",
   "id": "02b23f93",
   "metadata": {},
   "source": [
    "# cohencu"
   ]
  },
  {
   "cell_type": "markdown",
   "id": "02e85c9a",
   "metadata": {},
   "source": [
    " with template a0+a1*x1+a2*x2+a3*x1^2+a4 *x2^2+a5*x1*x2>=0"
   ]
  },
  {
   "cell_type": "markdown",
   "id": "51c0a689",
   "metadata": {},
   "source": [
    "Failed"
   ]
  },
  {
   "cell_type": "markdown",
   "id": "97c40e53",
   "metadata": {},
   "source": [
    "# unicycle"
   ]
  },
  {
   "cell_type": "markdown",
   "id": "89f8bcfa",
   "metadata": {},
   "source": [
    "Mohamed Amin Ben Sassi and Antoine Girard. 2012. Controller synthesis for robust invariance of polynomial\n",
    "dynamical systems using linear programming. Systems & control letters 61, 4 (2012), 506–512."
   ]
  },
  {
   "cell_type": "markdown",
   "id": "193f490e",
   "metadata": {},
   "source": [
    "1.564241 s iter 1 5.98054983833+0.584542937267*x1+2.39427749515*x2-2.05441680411*x1**2-1.52651726819*x2**2-0.34997757465*x1*x2>=0"
   ]
  },
  {
   "cell_type": "code",
   "execution_count": 3,
   "id": "968ea259",
   "metadata": {},
   "outputs": [
    {
     "name": "stdout",
     "output_type": "stream",
     "text": [
      "sat\n",
      "[]\n",
      "Consume Time: 0.08361435 s\n",
      "\n"
     ]
    }
   ],
   "source": [
    "from z3 import *\n",
    "import time\n",
    "start = time.time()\n",
    "x1,x2,a1,a2,a3,a4= Reals('x1 x2 a1 a2 a3 a4')\n",
    "xvars = [x1,x2]\n",
    "\n",
    "pre = x1**2+(x2-1)**2-1<= 0\n",
    "post = x1**2 + (x2-1)**2 - 4<=0\n",
    "\n",
    "inv =5.98054983833+0.584542937267*x1+2.39427749515*x2-2.05441680411*x1**2-1.52651726819*x2**2-0.34997757465*x1*x2>=0\n",
    "\n",
    "w = 1.0178 + 1.8721 * x1 - 0.0253 * x2\n",
    "x1_f = x1 + 0.01*(1-x2*w)\n",
    "x2_f = x2 + 0.01*x1*w\n",
    "inv_f1 =5.98054983833+0.584542937267*x1_f+2.39427749515*x2_f-2.05441680411*x1_f**2-1.52651726819*x2_f**2-0.34997757465*x1_f*x2_f>=0\n",
    "loop_cond=1>0\n",
    "\n",
    "\n",
    "cons1 = ForAll(xvars,Implies(pre, inv))\n",
    "cons2 = ForAll(xvars,Implies(And(inv, loop_cond), inv_f1))\n",
    "cons3 = ForAll(xvars,Implies(And(inv, Not(loop_cond)),post))\n",
    "               \n",
    "s = Solver()\n",
    "s.add( cons1, cons2, cons3)\n",
    "print(s.check())\n",
    "print(s.model())\n",
    "end = time.time()\n",
    "print(\"Consume Time: %.8f s\\n\"%((end-start)))"
   ]
  },
  {
   "cell_type": "markdown",
   "id": "1f648b88",
   "metadata": {},
   "source": [
    "# CIRCUIT"
   ]
  },
  {
   "cell_type": "markdown",
   "id": "548c0d00",
   "metadata": {},
   "source": [
    "[3] Mahathi Anand, Vishnu Murali, Ashutosh Trivedi, and Majid Zamani. 2021. Safety Verification of Dynamical\n",
    "Systems via k-Inductive Barrier Certificates. In 2021 60th IEEE Conference on Decision and Control. IEEE, 1314–1320.\n",
    "https://doi.org/10.1109/CDC45484.2021.9682889"
   ]
  },
  {
   "cell_type": "markdown",
   "id": "d8a939ec",
   "metadata": {},
   "source": [
    " 0.36854  1 iteration solution is found. lambda is -0.0000000020 7.92770607205+1.34179700138*x1+1.23106431382*x2-4.01518859528*x1^2-3.83426581551*x2^2+0.214939363971*x1*x2"
   ]
  },
  {
   "cell_type": "code",
   "execution_count": 1,
   "id": "b619d660",
   "metadata": {},
   "outputs": [
    {
     "name": "stdout",
     "output_type": "stream",
     "text": [
      "sat\n",
      "[]\n",
      "Consume Time: 0.03749156 s\n",
      "\n"
     ]
    }
   ],
   "source": [
    "# circuit  time out\n",
    "# with x and a unbounded and inv = a0+a1*x1+a2*x2+a3*x1**2+a4*x2**2+a5*x1*x2<=0\n",
    "from z3 import *\n",
    "import time\n",
    "start = time.time()\n",
    "x1,x2,a0,a1,a2,a3,a4,a5 = Reals('x1 x2 a0 a1 a2 a3 a4 a5')\n",
    "xvars = [x1,x2]\n",
    "\n",
    "loop_cond = -1<=0\n",
    "\n",
    "pre = (x1-0.5)**2+(x2-0.5)**2-0.25**2<= 0\n",
    "post =x2**2 - 4<=0\n",
    "\n",
    "inv = 7.92770607205+1.34179700138*x1+1.23106431382*x2-4.01518859528*x1**2-3.83426581551*x2**2+0.214939363971*x1*x2>=0\n",
    "guard1 = -1<=0\n",
    "\n",
    "x1_f=8/9*x1-1/18*x2\n",
    "x2_f=0.1*x1+0.9*x2\n",
    "\n",
    "inv_f1 =7.92770607205+1.34179700138*x1_f+1.23106431382*x2_f-4.01518859528*x1_f**2-3.83426581551*x2_f**2+0.214939363971*x1_f*x2_f>=0\n",
    "\n",
    "\n",
    "\n",
    "cons1 = ForAll(xvars,Implies(And(pre), inv))\n",
    "cons2 = ForAll(xvars,Implies(And(inv, guard1, loop_cond), inv_f1))\n",
    "cons3 = ForAll(xvars,Implies(And(inv, Not(loop_cond)),post))\n",
    "               \n",
    "s = Solver()\n",
    "s.add( cons1, cons2, cons3)\n",
    "print(s.check())\n",
    "print(s.model())\n",
    "end = time.time()\n",
    "print(\"Consume Time: %.8f s\\n\"%((end-start)))"
   ]
  },
  {
   "cell_type": "markdown",
   "id": "9f4fcccc",
   "metadata": {},
   "source": [
    "# deter"
   ]
  },
  {
   "cell_type": "markdown",
   "id": "668d395e",
   "metadata": {},
   "source": [
    "Failed"
   ]
  },
  {
   "cell_type": "markdown",
   "id": "91b63f45",
   "metadata": {},
   "source": [
    "# bound"
   ]
  },
  {
   "cell_type": "markdown",
   "id": "1ba1da02",
   "metadata": {},
   "source": [
    "0.360682s 2.2483423888+2.88610452215*x1-0.723408376195*x2-3.73099196714*x1**2-2.05802470632*x2**2-0.00904103218574*x1*x2"
   ]
  },
  {
   "cell_type": "code",
   "execution_count": 2,
   "id": "b268d6bb",
   "metadata": {},
   "outputs": [
    {
     "name": "stdout",
     "output_type": "stream",
     "text": [
      "sat\n",
      "[]\n",
      "Consume Time: 0.10018206 s\n",
      "\n"
     ]
    }
   ],
   "source": [
    "# with template  a0+a1*x1+a2*x2+a3*x1**2+a4*x2**2+a5*x1*x2\n",
    "from z3 import *\n",
    "import time\n",
    "start = time.time()\n",
    "x1,x2,a1,a2,a3 = Reals('x1 x2 a1 a2 a3')\n",
    "xvars = [x1,x2]\n",
    "xrange = And(x1>=-5, x1<=5, x2>=-5,x2<=5)\n",
    "\n",
    "loop_cond = -x1**2 -x2**2 + 2>=0\n",
    "\n",
    "pre1 =(x1-0.9)*(1.1-x1)>= 0\n",
    "pre2=x2*(0.2-x2)>=0\n",
    "post =x2+2*x1-2<=0\n",
    "inv =2.2483423888+2.88610452215*x1-0.723408376195*x2-3.73099196714*x1**2-2.05802470632*x2**2-0.00904103218574*x1*x2>=0\n",
    "\n",
    "x1_f=0.5*x1**2+ 0.4*x2**2\n",
    "x2_f=-0.6*x1**2+0.3*x2**2\n",
    "\n",
    "inv_f1 =2.2483423888+2.88610452215*x1_f-0.723408376195*x2_f-3.73099196714*x1_f**2-2.05802470632*x2_f**2-0.00904103218574*x1_f*x2_f>=0\n",
    "\n",
    "\n",
    "\n",
    "cons1 = ForAll(xvars,Implies(And(pre1,pre2, xrange), inv))\n",
    "cons2 = ForAll(xvars,Implies(And(inv, loop_cond, xrange), inv_f1))\n",
    "cons3 = ForAll(xvars,Implies(And(inv, Not(loop_cond),xrange),post))\n",
    "               \n",
    "s = Solver()\n",
    "s.add( cons1, cons2, cons3)\n",
    "print(s.check())\n",
    "print(s.model())\n",
    "end = time.time()\n",
    "print(\"Consume Time: %.8f s\\n\"%((end-start)))"
   ]
  },
  {
   "cell_type": "markdown",
   "id": "f6089383",
   "metadata": {},
   "source": [
    "# bound2 "
   ]
  },
  {
   "cell_type": "markdown",
   "id": "0dfddebe",
   "metadata": {},
   "source": [
    "0.371761s 1 iteration solution is found. lambda is -0.0000000020 \n",
    "0.876922821172+1.38605921937*x1-0.27627640475*x2-2.82462102735*x1^2-1.64850992607*x2^2+1.12486433604*x1*x2"
   ]
  },
  {
   "cell_type": "code",
   "execution_count": 4,
   "id": "d85a3a8d",
   "metadata": {},
   "outputs": [
    {
     "name": "stdout",
     "output_type": "stream",
     "text": [
      "sat\n",
      "[]\n",
      "Consume Time: 0.06549072 s\n",
      "\n"
     ]
    }
   ],
   "source": [
    "# template with template 1\n",
    "# a0+a1*x1+a2*x2+a3*x1**2+a4*x2**2+a5*x1*x2\n",
    "from z3 import *\n",
    "import time\n",
    "start = time.time()\n",
    "x1,x2,a1,a2,a3 = Reals('x1 x2 a1 a2 a3')\n",
    "xvars = [x1,x2]\n",
    "xrange = And(x1>=-5, x1<=5, x2>=-5,x2<=5)\n",
    "\n",
    "loop_cond = -x1**2 -x2**2 +1>=0\n",
    "\n",
    "pre1 =(x1-0.5)*(0.7-x1)>= 0\n",
    "pre2=(x2-0.5)*(0.7-x2)>= 0\n",
    "post =x1**2+x2**2-0.36<=0\n",
    "inv =0.876922821172+1.38605921937*x1-0.27627640475*x2-2.82462102735*x1**2-1.64850992607*x2**2+1.12486433604*x1*x2>=0\n",
    "\n",
    "x1_f=0.5*x1**3+ 0.4*x2**2\n",
    "x2_f=-0.6*x1**2+0.3*x2**2\n",
    "\n",
    "inv_f1 =0.876922821172+1.38605921937*x1_f-0.27627640475*x2_f-2.82462102735*x1_f**2-1.64850992607*x2_f**2+1.12486433604*x1_f*x2_f>=0\n",
    "\n",
    "\n",
    "\n",
    "cons1 = ForAll(xvars,Implies(And(pre1,pre2, xrange), inv))\n",
    "cons2 = ForAll(xvars,Implies(And(inv, loop_cond, xrange), inv_f1))\n",
    "cons3 = ForAll(xvars,Implies(And(inv, Not(loop_cond),xrange),post))\n",
    "               \n",
    "s = Solver()\n",
    "s.add( cons1, cons2, cons3)\n",
    "print(s.check())\n",
    "print(s.model())\n",
    "end = time.time()\n",
    "print(\"Consume Time: %.8f s\\n\"%((end-start)))"
   ]
  },
  {
   "cell_type": "markdown",
   "id": "34c5f446",
   "metadata": {},
   "source": [
    "# Contrived"
   ]
  },
  {
   "cell_type": "markdown",
   "id": "2369eb5c",
   "metadata": {},
   "source": [
    "Failed"
   ]
  },
  {
   "cell_type": "markdown",
   "id": "ce9c01c8",
   "metadata": {},
   "source": [
    "# transcend"
   ]
  },
  {
   "cell_type": "markdown",
   "id": "a5626540",
   "metadata": {},
   "source": [
    " 2 iteration solution is found. lambda is -0.0000000021 "
   ]
  },
  {
   "cell_type": "markdown",
   "id": "5f2d3f13",
   "metadata": {},
   "source": [
    "-0.288+0.871*x1+10.838*x2-4.218*x1**2-3.524*x2**2>=0\n"
   ]
  },
  {
   "cell_type": "code",
   "execution_count": 5,
   "id": "83c858f6",
   "metadata": {},
   "outputs": [
    {
     "name": "stdout",
     "output_type": "stream",
     "text": [
      "sat\n",
      "[]\n",
      "Consume Time: 2.72457147 s\n",
      "\n"
     ]
    }
   ],
   "source": [
    "# with template 1：a0+a1*x1+a2*x2+a3*x1**2+a4*x2**2+a5*x1*x2\n",
    "\n",
    "from z3 import *\n",
    "import time\n",
    "start = time.time()\n",
    "x1,x2,a1,a2,a3 = Reals('x1 x2 a1 a2 a3')\n",
    "xvars = [x1,x2]\n",
    "xrange = And(x1>=-5, x1<=5, x2>=-5,x2<=5)\n",
    "\n",
    "loop_cond = 3-x1**2-(x2-2)**2>=0\n",
    "\n",
    "pre =1-x1**2-(x2-2)**2>= 0\n",
    "post =0.2*x2**2-2+x2<=0\n",
    "inv =-0.288+0.871*x1+10.838*x2-4.218*x1**2-3.524*x2**2>=0\n",
    "\n",
    "x1_f=0.9*x1\n",
    "x2_f=x2-0.1*x2*(1+x1)\n",
    "\n",
    "inv_f1 =-0.288+0.871*x1_f+10.838*x2_f-4.218*x1_f**2-3.524*x2_f**2>=0\n",
    "\n",
    "\n",
    "\n",
    "cons1 = ForAll(xvars,Implies(And(pre, xrange), inv))\n",
    "cons2 = ForAll(xvars,Implies(And(inv, loop_cond, xrange), inv_f1))\n",
    "cons3 = ForAll(xvars,Implies(And(inv, Not(loop_cond),xrange),post))\n",
    "               \n",
    "s = Solver()\n",
    "s.add( cons1, cons2, cons3)\n",
    "print(s.check())\n",
    "print(s.model())\n",
    "end = time.time()\n",
    "print(\"Consume Time: %.8f s\\n\"%((end-start)))"
   ]
  },
  {
   "cell_type": "markdown",
   "id": "6763314a",
   "metadata": {},
   "source": [
    "# lyapunov"
   ]
  },
  {
   "cell_type": "markdown",
   "id": "4c4c09c0",
   "metadata": {},
   "source": [
    "template 1: 2.976898 second"
   ]
  },
  {
   "cell_type": "markdown",
   "id": "97ef60a1",
   "metadata": {},
   "source": [
    "3 iteration lambda is -0.0000000013 "
   ]
  },
  {
   "cell_type": "markdown",
   "id": "07166bdc",
   "metadata": {},
   "source": [
    "3.857+0.370*x1+0.286*x2+0.375*x3-2.412*x1**2-2.117*x2**2-1.362*x3**2-0.817*x1*x2+1.379*x1*x3-3.662*x2*x3>=0"
   ]
  },
  {
   "cell_type": "code",
   "execution_count": null,
   "id": "68cebf41",
   "metadata": {},
   "outputs": [],
   "source": [
    "# with template   a0+a1*x1+a2*x2+a3*x3+a4*x1**2+a5*x2**2+a6*x3**2+a7*x1*x2+a8*x1*x3+a9*x2*x3\n",
    "from z3 import *\n",
    "import time\n",
    "start = time.time()\n",
    "x1,x2,x3,a0,a1,a2,a3,a4,a5,a6,a7,a8,a9= Reals('x1 x2 x3 a0 a1 a2 a3 a4 a5 a6 a7 a8 a9')\n",
    "xvars = [x1,x2,x3]\n",
    "xrange = And(x1>=-5, x1<=5, x2>=-5,x2<=5,x3>=-5,x3<=5)\n",
    "\n",
    "loop_cond = 9-x1**2-x2**2-x3**2>=0\n",
    "\n",
    "pre =x1**2 +x2**2 +x3**2-0.25<= 0\n",
    "post =-2*x1-2*x2-2*x3-x1**2-x2**2-x3**2+x1*x2+x1*x3+x2*x3<=0\n",
    "inv =2.767-2.18*x1**2-2.60*x2**2-1.40*x3**2-0.82*x1*x2+1.08*x1*x3-4.23*x2*x3>=0\n",
    "\n",
    "x1_f=x1-0.1*x2\n",
    "x2_f=x2-0.1*x3\n",
    "x3_f=x3+(-x1-2*x2 -x3 + x1**3)*0.1\n",
    "\n",
    "inv_f1 =2.767-2.18*x1_f**2-2.60*x2_f**2-1.40*x3_f**2-0.82*x1_f*x2_f+1.08*x1_f*x3_f-4.23*x2_f*x3_f>=0\n",
    "\n",
    "\n",
    "\n",
    "cons1 = ForAll(xvars,Implies(And(pre, xrange), inv))\n",
    "cons2 = ForAll(xvars,Implies(And(inv, loop_cond, xrange), inv_f1))\n",
    "cons3 = ForAll(xvars,Implies(And(inv, Not(loop_cond),xrange),post))\n",
    "               \n",
    "s = Solver()\n",
    "s.add( cons1, cons2, cons3)\n",
    "print(s.check())\n",
    "print(s.model())\n",
    "end = time.time()\n",
    "print(\"Consume Time: %.8f s\\n\"%((end-start)))"
   ]
  },
  {
   "cell_type": "markdown",
   "id": "93518f6e",
   "metadata": {},
   "source": [
    "# motivate"
   ]
  },
  {
   "cell_type": "markdown",
   "id": "c0fd9a20",
   "metadata": {},
   "source": [
    "历时 2.815668 秒。 3 iteration solution is found. lambda is -0.0000000006 \n",
    "-2.25182740253+1.24294784576*x1-0.0680767290379*x2+0.139289255924*x3-0.241063993568*x1^2-0.402527370508*x2^2-0.00303655508461*x3^2-0.0360641609939*x1*x2+0.0525330052693*x1*x3+0.0636657576689*x2*x3\n"
   ]
  },
  {
   "cell_type": "code",
   "execution_count": 1,
   "id": "84dfead0",
   "metadata": {},
   "outputs": [
    {
     "name": "stdout",
     "output_type": "stream",
     "text": [
      "sat\n",
      "[]\n",
      "Consume Time: 0.01400852 s\n",
      "\n"
     ]
    }
   ],
   "source": [
    "from z3 import *\n",
    "import time\n",
    "start = time.time()\n",
    "x1,x2,x3 = Reals('x1 x2 x3')\n",
    "xvars = [x1,x2,x3]\n",
    "xrange = And(x1>=-10, x1<=10, x2>=-10,x2<=10,x3>=-10,x3<=10)\n",
    "\n",
    "loop_cond =-(x1-3)**2 - x2**2 - (x3-3)**2 + 2>=0\n",
    "\n",
    "pre =-(x1-3)**2 - x2**2 - (x3-3)**2 + 0.25>=0\n",
    "post =-x3 + 0.5*x2**2 + 1<=0\n",
    "inv =-2.25+1.243*x1-0.068*x2+0.139*x3-0.241*x1**2-0.402*x2**2>=0\n",
    "\n",
    "x1_f=x1+0.1*(2*x1+x2)\n",
    "x2_f=x2+0.1*(x1+9*x2+1/2*x3)\n",
    "x3_f=x3+0.1*(2*x2+16*x3)\n",
    "\n",
    "inv_f1 =-2.25+1.243*x1_f-0.068*x2_f+0.139*x3_f-0.241*x1_f**2-0.402*x2_f**2>=0\n",
    "\n",
    "\n",
    "\n",
    "cons1 = ForAll(xvars,Implies(And(pre, xrange), inv))\n",
    "cons2 = ForAll(xvars,Implies(And(inv, loop_cond, xrange), inv_f1))\n",
    "cons3 = ForAll(xvars,Implies(And(inv, Not(loop_cond),xrange),post))\n",
    "               \n",
    "s = Solver()\n",
    "s.add( cons3)\n",
    "print(s.check())\n",
    "print(s.model())\n",
    "end = time.time()\n",
    "print(\"Consume Time: %.8f s\\n\"%((end-start)))"
   ]
  },
  {
   "cell_type": "markdown",
   "id": "56f59c6c",
   "metadata": {},
   "source": [
    "# basin"
   ]
  },
  {
   "cell_type": "markdown",
   "id": "11f41728",
   "metadata": {},
   "source": [
    "Failed"
   ]
  }
 ],
 "metadata": {
  "kernelspec": {
   "display_name": "Python 3 (ipykernel)",
   "language": "python",
   "name": "python3"
  },
  "language_info": {
   "codemirror_mode": {
    "name": "ipython",
    "version": 3
   },
   "file_extension": ".py",
   "mimetype": "text/x-python",
   "name": "python",
   "nbconvert_exporter": "python",
   "pygments_lexer": "ipython3",
   "version": "3.11.4"
  }
 },
 "nbformat": 4,
 "nbformat_minor": 5
}
