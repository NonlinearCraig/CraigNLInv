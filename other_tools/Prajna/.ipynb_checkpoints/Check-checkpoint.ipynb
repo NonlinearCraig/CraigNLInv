{
 "cells": [
  {
   "cell_type": "markdown",
   "id": "aca6fa2e",
   "metadata": {},
   "source": [
    "check for Prajna05. Ref:[Prajna05] Optimization-Based Methods for Nonlinear and Hybrid Systems Verification, PhD thesis"
   ]
  },
  {
   "cell_type": "markdown",
   "id": "99623063",
   "metadata": {},
   "source": [
    "## EX1"
   ]
  },
  {
   "cell_type": "markdown",
   "id": "62b05560",
   "metadata": {},
   "source": [
    "with template: inv=a0+a1*x1+a2 * x1^2"
   ]
  },
  {
   "cell_type": "code",
   "execution_count": 1,
   "id": "4567b6fe",
   "metadata": {},
   "outputs": [
    {
     "name": "stdout",
     "output_type": "stream",
     "text": [
      "sat\n",
      "[]\n",
      "Consuming Time: 0.01955295 s\n",
      "\n"
     ]
    }
   ],
   "source": [
    "#ex1\n",
    "from z3 import *\n",
    "import time\n",
    "start = time.time()\n",
    "x1,a1,a2,a3= Reals('x1 a1 a2 a3')\n",
    "inv=9.8217+16.0077*x1-0.2000*x1**2>=0\n",
    "\n",
    "guard1 = -1<=0;\n",
    "inv_f1 =9.8217+16.0077*(x1+0.0005*(1000-0.5418*x1**2))-0.2000*(x1+0.0005*(1000-0.5418*x1**2))**2>=0\n",
    "\n",
    "loop_cond =(x1+1)*(x1-82)<=0\n",
    "pre = x1*(80-x1)>=0\n",
    "post = (x1+10)*(x1-79)<=0\n",
    "\n",
    "cons1 = ForAll([x1],Implies(pre, inv))\n",
    "cons2 = ForAll([x1],Implies(And(inv,loop_cond), inv_f1))\n",
    "cons3 = ForAll([x1],Implies(And(inv, Not(loop_cond)),post))\n",
    "               \n",
    "s = Solver()\n",
    "s.add(cons1, cons2, cons3)\n",
    "print(s.check())\n",
    "print(s.model())\n",
    "end = time.time()\n",
    "print(\"Consuming Time: %.8f s\\n\"%((end-start)))"
   ]
  },
  {
   "cell_type": "markdown",
   "id": "cc011573",
   "metadata": {},
   "source": [
    "with template: inv=1+a1*x1+a2*x1^2 "
   ]
  },
  {
   "cell_type": "markdown",
   "id": "4ffe5051",
   "metadata": {},
   "source": [
    "first solution: 0.541350 seconds 1+0.961471283618*x1-0.0121301559193*x1**2>=0"
   ]
  },
  {
   "cell_type": "code",
   "execution_count": 2,
   "id": "bb43f15a",
   "metadata": {},
   "outputs": [
    {
     "name": "stdout",
     "output_type": "stream",
     "text": [
      "sat\n"
     ]
    }
   ],
   "source": [
    "#ex1\n",
    "from z3 import *\n",
    "import time\n",
    "start = time.time()\n",
    "x1,a1,a2,a3= Reals('x1 a1 a2 a3')\n",
    "inv=1+0.961471283618*x1-0.0121301559193*x1**2>=0\n",
    "x1_f=x1+0.0005*(1000-0.5418*x1**2)\n",
    "inv_f1 =1+0.961471283618*x1_f-0.0121301559193*x1_f**2>=0\n",
    "\n",
    "loop_cond =(x1+1)*(x1-82)<=0\n",
    "pre = x1*(80-x1)>=0\n",
    "post = (x1+10)*(x1-79)<=0\n",
    "\n",
    "cons1 = ForAll([x1],Implies(pre, inv))\n",
    "cons2 = ForAll([x1],Implies(And(inv,loop_cond), inv_f1))\n",
    "cons3 = ForAll([x1],Implies(And(inv, Not(loop_cond)),post))\n",
    "               \n",
    "s = Solver()\n",
    "s.add(cons1, cons2, cons3)\n",
    "print(s.check())"
   ]
  },
  {
   "cell_type": "markdown",
   "id": "91b63f45",
   "metadata": {},
   "source": [
    "# bound"
   ]
  },
  {
   "cell_type": "markdown",
   "id": "a7a55752",
   "metadata": {},
   "source": [
    " template 1: 0.523509 1 iteration  lambda is -0.0000000048 \n",
    "inv= 1.59099288479+2.6923145228*x1-0.298000134503*x2-3.17767676094*x1^2-1.54203595665*x2^2-0.478476702779*x1*x2"
   ]
  },
  {
   "cell_type": "code",
   "execution_count": 1,
   "id": "b268d6bb",
   "metadata": {},
   "outputs": [
    {
     "name": "stdout",
     "output_type": "stream",
     "text": [
      "sat\n",
      "[]\n",
      "Consume Time: 0.04798150 s\n",
      "\n"
     ]
    }
   ],
   "source": [
    "# with template  a0+a1*x1+a2*x2+a3*x1**2+a4*x2**2+a5*x1*x2\n",
    "from z3 import *\n",
    "import time\n",
    "start = time.time()\n",
    "x1,x2,a1,a2,a3 = Reals('x1 x2 a1 a2 a3')\n",
    "xvars = [x1,x2]\n",
    "xrange = And(x1>=-5, x1<=5, x2>=-5,x2<=5)\n",
    "\n",
    "loop_cond = -x1**2 -x2**2 + 2>=0\n",
    "\n",
    "pre1 =(x1-0.9)*(1.1-x1)>= 0\n",
    "pre2=x2*(0.2-x2)>=0\n",
    "post =x2+2*x1-2<=0\n",
    "inv =1.59099288479+2.6923145228*x1-0.298000134503*x2-3.17767676094*x1**2-1.54203595665*x2**2-0.478476702779*x1*x2>=0\n",
    "\n",
    "x1_f=0.5*x1**2+ 0.4*x2**2\n",
    "x2_f=-0.6*x1**2+0.3*x2**2\n",
    "\n",
    "inv_f1 =1.59099288479+2.6923145228*x1_f-0.298000134503*x2_f-3.17767676094*x1_f**2-1.54203595665*x2_f**2-0.478476702779*x1_f*x2_f>=0\n",
    "\n",
    "\n",
    "\n",
    "cons1 = ForAll(xvars,Implies(And(pre1,pre2, xrange), inv))\n",
    "cons2 = ForAll(xvars,Implies(And(inv, loop_cond, xrange), inv_f1))\n",
    "cons3 = ForAll(xvars,Implies(And(inv, Not(loop_cond),xrange),post))\n",
    "               \n",
    "s = Solver()\n",
    "s.add( cons1, cons2, cons3)\n",
    "print(s.check())\n",
    "print(s.model())\n",
    "end = time.time()\n",
    "print(\"Consume Time: %.8f s\\n\"%((end-start)))"
   ]
  },
  {
   "cell_type": "markdown",
   "id": "86291239",
   "metadata": {},
   "source": [
    "template:inv=a0+a2*x2^2+a3*x1^2 "
   ]
  },
  {
   "cell_type": "markdown",
   "id": "b08bc19c",
   "metadata": {},
   "source": [
    "0.783440 3 iteration. inv=3.52592522881-2.54884858297*x1^2-2.43871695545*x2^2"
   ]
  },
  {
   "cell_type": "code",
   "execution_count": 1,
   "id": "00c95755",
   "metadata": {},
   "outputs": [
    {
     "name": "stdout",
     "output_type": "stream",
     "text": [
      "sat\n",
      "[]\n",
      "Consume Time: 0.01824737 s\n",
      "\n"
     ]
    }
   ],
   "source": [
    "# deter time out\n",
    "# with template2 inv =  a1*x1**2 + a2*x2**2 + a3\n",
    "# x is bounded,\n",
    "from z3 import *\n",
    "import time\n",
    "start = time.time()\n",
    "x1,x2,a0,a1,a2,a3,a4,a5 = Reals('x1 x2 a0 a1 a2 a3 a4 a5')\n",
    "xvars = [x1,x2]\n",
    "xrange = And(x1>=-5, x1<=5, x2>=-5,x2<=5)\n",
    "\n",
    "loop_cond = -x1**2 -x2**2 + 2>=0\n",
    "\n",
    "pre1 =(x1-0.9)*(1.1-x1)>= 0\n",
    "pre2=x2*(0.2-x2)>=0\n",
    "post =x2+2*x1-2<=0\n",
    "inv =3.52592522881-2.54884858297*x1**2-2.43871695545*x2**2>=0\n",
    "\n",
    "x1_f=0.5*x1**2+ 0.4*x2**2\n",
    "x2_f=-0.6*x1**2+0.3*x2**2\n",
    "\n",
    "inv_f1 =3.52592522881-2.54884858297*x1**2-2.43871695545*x2**2>=0\n",
    "\n",
    "\n",
    "\n",
    "cons1 = ForAll(xvars,Implies(And(pre1,pre2, xrange), inv))\n",
    "cons2 = ForAll(xvars,Implies(And(inv, loop_cond, xrange), inv_f1))\n",
    "cons3 = ForAll(xvars,Implies(And(inv, Not(loop_cond),xrange),post))\n",
    "               \n",
    "s = Solver()\n",
    "s.add( cons1, cons2, cons3)\n",
    "print(s.check())\n",
    "print(s.model())\n",
    "end = time.time()\n",
    "print(\"Consume Time: %.8f s\\n\"%((end-start)))"
   ]
  },
  {
   "cell_type": "markdown",
   "id": "f6089383",
   "metadata": {},
   "source": [
    "# bound2 "
   ]
  },
  {
   "cell_type": "markdown",
   "id": "6a5ee558",
   "metadata": {},
   "source": [
    "template1\n",
    "time :0.514736\n",
    "1 iteration solution is found. lambda is -0.0000000013 \n",
    "0.726283609449+1.19209105572*x1-0.0162558817155*x2-2.51577222767*x1^2-1.64380342442*x2^2+1.02159704259*x1*x2"
   ]
  },
  {
   "cell_type": "code",
   "execution_count": 2,
   "id": "d85a3a8d",
   "metadata": {},
   "outputs": [
    {
     "name": "stdout",
     "output_type": "stream",
     "text": [
      "sat\n",
      "[]\n",
      "Consume Time: 0.02427649 s\n",
      "\n"
     ]
    }
   ],
   "source": [
    "# template with template 1\n",
    "# a0+a1*x1+a2*x2+a3*x1**2+a4*x2**2+a5*x1*x2\n",
    "from z3 import *\n",
    "import time\n",
    "start = time.time()\n",
    "x1,x2,a1,a2,a3 = Reals('x1 x2 a1 a2 a3')\n",
    "xvars = [x1,x2]\n",
    "xrange = And(x1>=-5, x1<=5, x2>=-5,x2<=5)\n",
    "\n",
    "loop_cond = -x1**2 -x2**2 +1>=0\n",
    "\n",
    "pre1 =(x1-0.5)*(0.7-x1)>= 0\n",
    "pre2=(x2-0.5)*(0.7-x2)>= 0\n",
    "post =x1**2+x2**2-0.36<=0\n",
    "inv =0.7262+1.1920*x1-0.0162*x2-2.5157*x1**2-1.6438*x2**2+1.0215*x1*x2>=0\n",
    "\n",
    "x1_f=0.5*x1**3+ 0.4*x2**2\n",
    "x2_f=-0.6*x1**2+0.3*x2**2\n",
    "\n",
    "inv_f1 =0.7262+1.1920*x1_f-0.0162*x2_f-2.5157*x1_f**2-1.6438*x2_f**2+1.0215*x1_f*x2_f>=0\n",
    "\n",
    "\n",
    "\n",
    "cons1 = ForAll(xvars,Implies(And(pre1,pre2, xrange), inv))\n",
    "cons2 = ForAll(xvars,Implies(And(inv, loop_cond, xrange), inv_f1))\n",
    "cons3 = ForAll(xvars,Implies(And(inv, Not(loop_cond),xrange),post))\n",
    "               \n",
    "s = Solver()\n",
    "s.add( cons1, cons2, cons3)\n",
    "print(s.check())\n",
    "print(s.model())\n",
    "end = time.time()\n",
    "print(\"Consume Time: %.8f s\\n\"%((end-start)))"
   ]
  },
  {
   "cell_type": "markdown",
   "id": "68e1b918",
   "metadata": {},
   "source": [
    "template : inv=a0+a2*x2^2+a3*x1^2 1.436653 1.42416837885-1.4422264049*x1**2-1.44167312278*x2**2>=0"
   ]
  },
  {
   "cell_type": "code",
   "execution_count": 2,
   "id": "f3478f54",
   "metadata": {},
   "outputs": [
    {
     "name": "stdout",
     "output_type": "stream",
     "text": [
      "sat\n",
      "[]\n",
      "Consume Time: 0.04336286 s\n",
      "\n"
     ]
    }
   ],
   "source": [
    "# template 2\n",
    "# a1*x1**2 + a2*x2**2 + a3\n",
    "from z3 import *\n",
    "import time\n",
    "start = time.time()\n",
    "x1,x2,a1,a2,a3 = Reals('x1 x2 a1 a2 a3')\n",
    "xvars = [x1,x2]\n",
    "xrange = And(x1>=-5, x1<=5, x2>=-5,x2<=5)\n",
    "\n",
    "loop_cond = -x1**2 -x2**2 +1>=0\n",
    "\n",
    "pre1 =(x1-0.5)*(0.7-x1)>= 0\n",
    "pre2=(x2-0.5)*(0.7-x2)>= 0\n",
    "post =x1**2+x2**2-0.36<=0\n",
    "inv =1.42416837885-1.4422264049*x1**2-1.44167312278*x2**2>=0\n",
    "\n",
    "x1_f=0.5*x1**3+ 0.4*x2**2\n",
    "x2_f=-0.6*x1**2+0.3*x2**2\n",
    "\n",
    "inv_f1 =1.42416837885-1.4422264049*x1_f**2-1.44167312278*x2_f**2>=0\n",
    "\n",
    "\n",
    "\n",
    "cons1 = ForAll(xvars,Implies(And(pre1,pre2, xrange), inv))\n",
    "cons2 = ForAll(xvars,Implies(And(inv, loop_cond, xrange), inv_f1))\n",
    "cons3 = ForAll(xvars,Implies(And(inv, Not(loop_cond),xrange),post))\n",
    "               \n",
    "s = Solver()\n",
    "s.add( cons1, cons2, cons3)\n",
    "print(s.check())\n",
    "print(s.model())\n",
    "end = time.time()\n",
    "print(\"Consume Time: %.8f s\\n\"%((end-start)))"
   ]
  },
  {
   "cell_type": "markdown",
   "id": "34c5f446",
   "metadata": {},
   "source": [
    "# Contrived"
   ]
  },
  {
   "cell_type": "markdown",
   "id": "419af4c8",
   "metadata": {},
   "source": [
    "template: inv=-1+a0*x1+a1*x2+a2*x2^2+a3*x1^2 1.019128 second "
   ]
  },
  {
   "cell_type": "markdown",
   "id": "d5f03c6e",
   "metadata": {},
   "source": [
    "-1+0.15689217925*x1+1.4131549926*x2-0.254812402337*x1**2-0.253490840196*x2**2"
   ]
  },
  {
   "cell_type": "code",
   "execution_count": 1,
   "id": "45ff5b27",
   "metadata": {},
   "outputs": [
    {
     "name": "stdout",
     "output_type": "stream",
     "text": [
      "sat\n",
      "[]\n",
      "Consume Time: 0.06118464 s\n",
      "\n"
     ]
    }
   ],
   "source": [
    "\n",
    "\n",
    "from z3 import *\n",
    "import time\n",
    "start = time.time()\n",
    "x1,x2,a1,a2,a3 = Reals('x1 x2 a1 a2 a3')\n",
    "xvars = [x1,x2]\n",
    "xrange = And(x1>=-10, x1<=10, x2>=-10,x2<=10)\n",
    "\n",
    "loop_cond = 4-x1**2-(x2 -3)**2>=0\n",
    "\n",
    "pre = 1-x1**2-(x2 -3)**2>= 0\n",
    "post =(x1-2)**2+(x2-2)**2-9<=0\n",
    "inv =-1+0.15689217925*x1+1.4131549926*x2-0.254812402337*x1**2-0.253490840196*x2**2>=0\n",
    "\n",
    "x1_f=(x2-x1)*0.1+x1\n",
    "x2_f=0.9*x2\n",
    "\n",
    "inv_f1 =-1+0.15689217925*x1_f+1.4131549926*x2_f-0.254812402337*x1_f**2-0.253490840196*x2_f**2>=0\n",
    "\n",
    "\n",
    "\n",
    "cons1 = ForAll(xvars,Implies(And(pre, xrange), inv))\n",
    "cons2 = ForAll(xvars,Implies(And(inv, loop_cond, xrange), inv_f1))\n",
    "cons3 = ForAll(xvars,Implies(And(inv, Not(loop_cond),xrange),post))\n",
    "               \n",
    "s = Solver()\n",
    "s.add( cons1, cons2, cons3)\n",
    "print(s.check())\n",
    "print(s.model())\n",
    "end = time.time()\n",
    "print(\"Consume Time: %.8f s\\n\"%((end-start)))"
   ]
  },
  {
   "cell_type": "markdown",
   "id": "ce9c01c8",
   "metadata": {},
   "source": [
    "# transcend"
   ]
  },
  {
   "cell_type": "markdown",
   "id": "b3c5a4af",
   "metadata": {},
   "source": [
    "template: inv=0+a1*x1+a2*x2+a3*x1**2+a4*x2**2+a5*x1*x2"
   ]
  },
  {
   "cell_type": "markdown",
   "id": "2bf38ba2",
   "metadata": {},
   "source": [
    "0.836056 second  2 iteration lambda is -0.0000000020 \n"
   ]
  },
  {
   "cell_type": "markdown",
   "id": "a5626540",
   "metadata": {},
   "source": [
    "-0.2623604316+0.401234905484*x1+10.2428056479*x2-5.37552972328*x1^2-3.28425467592*x2^2-0.212670713568*x1*x2"
   ]
  },
  {
   "cell_type": "code",
   "execution_count": 1,
   "id": "83c858f6",
   "metadata": {},
   "outputs": [
    {
     "name": "stdout",
     "output_type": "stream",
     "text": [
      "sat\n",
      "[]\n",
      "Consume Time: 2.63781500 s\n",
      "\n"
     ]
    }
   ],
   "source": [
    "# with template 1：a0+a1*x1+a2*x2+a3*x1**2+a4*x2**2+a5*x1*x2\n",
    "\n",
    "from z3 import *\n",
    "import time\n",
    "start = time.time()\n",
    "x1,x2,a1,a2,a3 = Reals('x1 x2 a1 a2 a3')\n",
    "xvars = [x1,x2]\n",
    "xrange = And(x1>=-5, x1<=5, x2>=-5,x2<=5)\n",
    "\n",
    "loop_cond = 3-x1**2-(x2-2)**2>=0\n",
    "\n",
    "pre =1-x1**2-(x2-2)**2>= 0\n",
    "post =0.2*x2**2-2+x2<=0\n",
    "inv =-0.262+0.401*x1+10.242*x2-5.375*x1**2-3.284*x2**2-0.212*x1*x2>=0\n",
    "\n",
    "x1_f=0.9*x1\n",
    "x2_f=x2-0.1*x2*(1+x1)\n",
    "\n",
    "inv_f1 =-0.262+0.401*x1_f+10.242*x2_f-5.375*x1_f**2-3.284*x2_f**2-0.212*x1_f*x2_f>=0\n",
    "\n",
    "\n",
    "\n",
    "cons1 = ForAll(xvars,Implies(And(pre, xrange), inv))\n",
    "cons2 = ForAll(xvars,Implies(And(inv, loop_cond, xrange), inv_f1))\n",
    "cons3 = ForAll(xvars,Implies(And(inv, Not(loop_cond),xrange),post))\n",
    "               \n",
    "s = Solver()\n",
    "s.add( cons1, cons2, cons3)\n",
    "print(s.check())\n",
    "print(s.model())\n",
    "end = time.time()\n",
    "print(\"Consume Time: %.8f s\\n\"%((end-start)))"
   ]
  },
  {
   "cell_type": "markdown",
   "id": "7218208c",
   "metadata": {},
   "source": [
    "template: inv=a0-x1^2-x2^2+a1*x2"
   ]
  },
  {
   "cell_type": "markdown",
   "id": "c2f107be",
   "metadata": {},
   "source": [
    "0.971798 second 3 iteration "
   ]
  },
  {
   "cell_type": "markdown",
   "id": "c4a1f368",
   "metadata": {},
   "source": [
    "solution: -0.0733780053491+3.09723393784*x2-x1^2-x2^2"
   ]
  },
  {
   "cell_type": "code",
   "execution_count": 3,
   "id": "dbbd46f0",
   "metadata": {},
   "outputs": [
    {
     "name": "stdout",
     "output_type": "stream",
     "text": [
      "sat\n",
      "[]\n",
      "Consume Time: 24.97486687 s\n",
      "\n"
     ]
    }
   ],
   "source": [
    "# with template 2：inv=a0-x1^2-x2^2+a1*x2;\n",
    "\n",
    "from z3 import *\n",
    "import time\n",
    "start = time.time()\n",
    "x1,x2,a1,a2,a3 = Reals('x1 x2 a1 a2 a3')\n",
    "xvars = [x1,x2]\n",
    "xrange = And(x1>=-5, x1<=5, x2>=-5,x2<=5)\n",
    "\n",
    "loop_cond = 3-x1**2-(x2-2)**2>=0\n",
    "\n",
    "pre =1-x1**2-(x2-2)**2>= 0\n",
    "post =0.2*x2**2-2+x2<=0\n",
    "inv =-0.0733780053491+3.09723393784*x2-x1**2-x2**2>=0\n",
    "\n",
    "x1_f=0.9*x1\n",
    "x2_f=x2-0.1*x2*(1+x1)\n",
    "\n",
    "inv_f1 =-0.0733780053491+3.09723393784*x2_f-x1_f**2-x2_f**2>=0\n",
    "\n",
    "\n",
    "\n",
    "cons1 = ForAll(xvars,Implies(And(pre, xrange), inv))\n",
    "cons2 = ForAll(xvars,Implies(And(inv, loop_cond, xrange), inv_f1))\n",
    "cons3 = ForAll(xvars,Implies(And(inv, Not(loop_cond),xrange),post))\n",
    "               \n",
    "s = Solver()\n",
    "s.add( cons1, cons2, cons3)\n",
    "print(s.check())\n",
    "print(s.model())\n",
    "end = time.time()\n",
    "print(\"Consume Time: %.8f s\\n\"%((end-start)))"
   ]
  },
  {
   "cell_type": "markdown",
   "id": "6763314a",
   "metadata": {},
   "source": [
    "# lyapunov"
   ]
  },
  {
   "cell_type": "markdown",
   "id": "4c4c09c0",
   "metadata": {},
   "source": [
    "template 1: 2.976898 second"
   ]
  },
  {
   "cell_type": "markdown",
   "id": "97ef60a1",
   "metadata": {},
   "source": [
    "3 iteration lambda is -0.0000000013 "
   ]
  },
  {
   "cell_type": "markdown",
   "id": "07166bdc",
   "metadata": {},
   "source": [
    "3.857+0.370*x1+0.286*x2+0.375*x3-2.412*x1**2-2.117*x2**2-1.362*x3**2-0.817*x1*x2+1.379*x1*x3-3.662*x2*x3>=0"
   ]
  },
  {
   "cell_type": "code",
   "execution_count": null,
   "id": "653a2667",
   "metadata": {},
   "outputs": [],
   "source": [
    "3.85706979582+0.370987050062*x1+0.286013428729*x2+0.375557403427*x3-2.41202371108*x1^2-2.11733787347*x2^2-1.362536823*x3^2-0.817838882964*x1*x2+1.37939351891*x1*x3-3.66261706322*x2*x3"
   ]
  },
  {
   "cell_type": "code",
   "execution_count": null,
   "id": "68cebf41",
   "metadata": {},
   "outputs": [],
   "source": [
    "# with template   a0+a1*x1+a2*x2+a3*x3+a4*x1**2+a5*x2**2+a6*x3**2+a7*x1*x2+a8*x1*x3+a9*x2*x3\n",
    "from z3 import *\n",
    "import time\n",
    "start = time.time()\n",
    "x1,x2,x3,a0,a1,a2,a3,a4,a5,a6,a7,a8,a9= Reals('x1 x2 x3 a0 a1 a2 a3 a4 a5 a6 a7 a8 a9')\n",
    "xvars = [x1,x2,x3]\n",
    "xrange = And(x1>=-5, x1<=5, x2>=-5,x2<=5,x3>=-5,x3<=5)\n",
    "\n",
    "loop_cond = 9-x1**2-x2**2-x3**2>=0\n",
    "\n",
    "pre =x1**2 +x2**2 +x3**2-0.25<= 0\n",
    "post =-2*x1-2*x2-2*x3-x1**2-x2**2-x3**2+x1*x2+x1*x3+x2*x3<=0\n",
    "inv =3.85706979582+0.370987050062*x1+0.286013428729*x2+0.375557403427*x3-2.41202371108*x1**2-2.11733787347*x2**2-1.362536823*x3**2-0.817838882964*x1*x2+1.37939351891*x1*x3-3.66261706322*x2*x3>=0\n",
    "\n",
    "x1_f=x1-0.1*x2\n",
    "x2_f=x2-0.1*x3\n",
    "x3_f=x3+(-x1-2*x2 -x3 + x1**3)*0.1\n",
    "\n",
    "inv_f1 =3.85706979582+0.370987050062*x1_f+0.286013428729*x2_f+0.375557403427*x3_f-2.41202371108*x1_f**2-2.11733787347*x2_f**2-1.362536823*x3_f**2-0.817838882964*x1_f*x2_f+1.37939351891*x1_f*x3_f-3.66261706322*x2_f*x3_f>=0\n",
    "\n",
    "\n",
    "\n",
    "cons1 = ForAll(xvars,Implies(And(pre, xrange), inv))\n",
    "cons2 = ForAll(xvars,Implies(And(inv, loop_cond, xrange), inv_f1))\n",
    "cons3 = ForAll(xvars,Implies(And(inv, Not(loop_cond),xrange),post))\n",
    "               \n",
    "s = Solver()\n",
    "s.add( cons1, cons2, cons3)\n",
    "print(s.check())\n",
    "print(s.model())\n",
    "end = time.time()\n",
    "print(\"Consume Time: %.8f s\\n\"%((end-start)))"
   ]
  },
  {
   "cell_type": "code",
   "execution_count": null,
   "id": "86a8d0e2",
   "metadata": {},
   "outputs": [],
   "source": [
    "# with template   a0+a1*x1+a2*x2+a3*x3+a4*x1**2+a5*x2**2+a6*x3**2+a7*x1*x2+a8*x1*x3+a9*x2*x3\n",
    "from z3 import *\n",
    "import time\n",
    "start = time.time()\n",
    "x1,x2,x3,a0,a1,a2,a3,a4,a5,a6,a7,a8,a9= Reals('x1 x2 x3 a0 a1 a2 a3 a4 a5 a6 a7 a8 a9')\n",
    "xvars = [x1,x2,x3]\n",
    "xrange = And(x1>=-5, x1<=5, x2>=-5,x2<=5,x3>=-5,x3<=5)\n",
    "\n",
    "loop_cond = 9-x1**2-x2**2-x3**2>=0\n",
    "\n",
    "pre =x1**2 +x2**2 +x3**2-0.25<= 0\n",
    "post =-2*x1-2*x2-2*x3-x1**2-x2**2-x3**2+x1*x2+x1*x3+x2*x3<=0\n",
    "inv =2.95274508146-2.26485900539*x1**2-2.30775916539*x2**2-1.34969469255*x3**2-0.720088805053*x1*x2+1.11078137627*x1*x3-3.97724311243*x2*x3>=0\n",
    "\n",
    "x1_f=x1-0.1*x2\n",
    "x2_f=x2-0.1*x3\n",
    "x3_f=x3+(-x1-2*x2 -x3 + x1**3)*0.1\n",
    "\n",
    "inv_f1 =2.95274508146-2.26485900539*x1_f**2-2.30775916539*x2_f**2-1.34969469255*x3_f**2-0.720088805053*x1_f*x2_f+1.11078137627*x1_f*x3_f-3.97724311243*x2_f*x3_f>=0\n",
    "\n",
    "\n",
    "\n",
    "cons1 = ForAll(xvars,Implies(And(pre, xrange), inv))\n",
    "cons2 = ForAll(xvars,Implies(And(inv, loop_cond, xrange), inv_f1))\n",
    "cons3 = ForAll(xvars,Implies(And(inv, Not(loop_cond),xrange),post))\n",
    "               \n",
    "s = Solver()\n",
    "s.add( cons1, cons2, cons3)\n",
    "print(s.check())\n",
    "print(s.model())\n",
    "end = time.time()\n",
    "print(\"Consume Time: %.8f s\\n\"%((end-start)))"
   ]
  },
  {
   "cell_type": "code",
   "execution_count": null,
   "id": "4570e721",
   "metadata": {},
   "outputs": [],
   "source": [
    "# with template   a0+a1*x1+a2*x2+a3*x3+a4*x1**2+a5*x2**2+a6*x3**2+a7*x1*x2+a8*x1*x3+a9*x2*x3\n",
    "from z3 import *\n",
    "import time\n",
    "start = time.time()\n",
    "x1,x2,x3,a0,a1,a2,a3,a4,a5,a6,a7,a8,a9= Reals('x1 x2 x3 a0 a1 a2 a3 a4 a5 a6 a7 a8 a9')\n",
    "xvars = [x1,x2,x3]\n",
    "xrange = And(x1>=-5, x1<=5, x2>=-5,x2<=5,x3>=-5,x3<=5)\n",
    "\n",
    "loop_cond = 9-x1**2-x2**2-x3**2>=0\n",
    "\n",
    "pre =x1**2 +x2**2 +x3**2-0.25<= 0\n",
    "post =-2*x1-2*x2-2*x3-x1**2-x2**2-x3**2+x1*x2+x1*x3+x2*x3<=0\n",
    "inv =3.857+0.370*x1+0.286*x2+0.375*x3-2.412*x1**2-2.117*x2**2-1.362*x3**2-0.817*x1*x2+1.379*x1*x3-3.662*x2*x3>=0\n",
    "\n",
    "x1_f=x1-0.1*x2\n",
    "x2_f=x2-0.1*x3\n",
    "x3_f=x3+(-x1-2*x2 -x3 + x1**3)*0.1\n",
    "\n",
    "inv_f1 =3.857+0.370*x1_f+0.286*x2_f+0.375*x3_f-2.412*x1_f**2-2.117*x2_f**2-1.362*x3_f**2-0.817*x1_f*x2_f+1.379*x1_f*x3_f-3.662*x2_f*x3_f>=0\n",
    "\n",
    "\n",
    "\n",
    "cons1 = ForAll(xvars,Implies(And(pre, xrange), inv))\n",
    "cons2 = ForAll(xvars,Implies(And(inv, loop_cond, xrange), inv_f1))\n",
    "cons3 = ForAll(xvars,Implies(And(inv, Not(loop_cond),xrange),post))\n",
    "               \n",
    "s = Solver()\n",
    "s.add( cons1, cons2, cons3)\n",
    "print(s.check())\n",
    "print(s.model())\n",
    "end = time.time()\n",
    "print(\"Consume Time: %.8f s\\n\"%((end-start)))"
   ]
  },
  {
   "cell_type": "markdown",
   "id": "f2490105",
   "metadata": {},
   "source": [
    " template 2:a0+a1*x1^2+a2*x2^2+a3*x3^2+a4*x1*x2+a5*x2*x3+a6*x1*x3"
   ]
  },
  {
   "cell_type": "markdown",
   "id": "80545a56",
   "metadata": {},
   "source": [
    " 3.853508 second 4 iteration. lambda is -0.0000000004 "
   ]
  },
  {
   "cell_type": "markdown",
   "id": "31964936",
   "metadata": {},
   "source": [
    "2.95274508146-2.26485900539*x1^2-2.30775916539*x2^2-1.34969469255*x3^2-0.720088805053*x1*x2+1.11078137627*x1*x3-3.97724311243*x2*x3"
   ]
  },
  {
   "cell_type": "code",
   "execution_count": null,
   "id": "e4fcb425",
   "metadata": {},
   "outputs": [],
   "source": [
    "\n",
    "from z3 import *\n",
    "import time\n",
    "start = time.time()\n",
    "x1,x2,x3 = Reals('x1 x2 x3')\n",
    "xvars = [x1,x2,x3]\n",
    "xrange = And(x1>=-5, x1<=5, x2>=-5,x2<=5,x3>=-5,x3<=5)\n",
    "\n",
    "loop_cond = 9-x1**2-x2**2-x3**2>=0\n",
    "\n",
    "pre =x1**2 +x2**2 +x3**2-0.25<= 0\n",
    "post =-2*x1-2*x2-2*x3-x1**2-x2**2-x3**2+x1*x2+x1*x3+x2*x3<=0\n",
    "inv =2.952-2.264*x1**2-2.307*x2**2-1.349*x3**2-0.720*x1*x2+1.110*x1*x3-3.977*x2*x3>=0\n",
    "\n",
    "x1_f=x1-0.1*x2\n",
    "x2_f=x2-0.1*x3\n",
    "x3_f=x3+(-x1-2*x2 -x3 + x1**3)*0.1\n",
    "\n",
    "inv_f1 =2.952-2.264*x1_f**2-2.307*x2_f**2-1.349*x3_f**2-0.720*x1_f*x2_f+1.110*x1_f*x3_f-3.977*x2_f*x3_f>=0\n",
    "\n",
    "\n",
    "\n",
    "cons1 = ForAll(xvars,Implies(And(pre, xrange), inv))\n",
    "cons2 = ForAll(xvars,Implies(And(inv, loop_cond, xrange), inv_f1))\n",
    "cons3 = ForAll(xvars,Implies(And(inv, Not(loop_cond),xrange),post))\n",
    "               \n",
    "s = Solver()\n",
    "s.add( cons1, cons2, cons3)\n",
    "print(s.check())\n",
    "print(s.model())\n",
    "end = time.time()\n",
    "print(\"Consume Time: %.8f s\\n\"%((end-start)))"
   ]
  },
  {
   "cell_type": "markdown",
   "id": "93518f6e",
   "metadata": {},
   "source": [
    "# motivate"
   ]
  },
  {
   "cell_type": "markdown",
   "id": "f911d6f3",
   "metadata": {},
   "source": [
    "template1 1.222384  1 iteration "
   ]
  },
  {
   "cell_type": "markdown",
   "id": "5050495d",
   "metadata": {},
   "source": [
    "-12.4530214943+1.10979315295*x1+0.723979443656*x2+4.84426033361*x3-0.368696025443*x1^2-4.00362792652*x2^2-0.00868357077502*x3^2-0.213785967332*x1*x2+0.165665934872*x1*x3+0.317489134205*x2*x3"
   ]
  },
  {
   "cell_type": "code",
   "execution_count": 2,
   "id": "84dfead0",
   "metadata": {},
   "outputs": [
    {
     "name": "stdout",
     "output_type": "stream",
     "text": [
      "sat\n",
      "[]\n",
      "Consume Time: 0.02859092 s\n",
      "\n"
     ]
    }
   ],
   "source": [
    "from z3 import *\n",
    "import time\n",
    "start = time.time()\n",
    "x1,x2,x3 = Reals('x1 x2 x3')\n",
    "xvars = [x1,x2,x3]\n",
    "xrange = And(x1>=-10, x1<=10, x2>=-10,x2<=10,x3>=-10,x3<=10)\n",
    "\n",
    "loop_cond =-(x1-3)**2 - x2**2 - (x3-3)**2 + 2>=0\n",
    "\n",
    "pre =-(x1-3)**2 - x2**2 - (x3-3)**2 + 0.25>=0\n",
    "post =-x3 + 0.5*x2**2 + 1<=0\n",
    "inv =-12.4530214943+1.10979315295*x1+0.723979443656*x2+4.84426033361*x3-0.368696025443*x1**2-4.00362792652*x2**2-0.00868357077502*x3**2-0.213785967332*x1*x2+0.165665934872*x1*x3+0.317489134205*x2*x3>=0\n",
    "\n",
    "x1_f=x1+0.1*(2*x1+x2)\n",
    "x2_f=x2+0.1*(x1+9*x2+1/2*x3)\n",
    "x3_f=x3+0.1*(2*x2+16*x3)\n",
    "\n",
    "inv_f1 =-12.4530214943+1.10979315295*x1_f+0.723979443656*x2_f+4.84426033361*x3_f-0.368696025443*x1_f**2-4.00362792652*x2_f**2-0.00868357077502*x3_f**2-0.213785967332*x1_f*x2_f+0.165665934872*x1_f*x3_f+0.317489134205*x2_f*x3_f>=0\n",
    "\n",
    "\n",
    "\n",
    "cons1 = ForAll(xvars,Implies(And(pre, xrange), inv))\n",
    "cons2 = ForAll(xvars,Implies(And(inv, loop_cond, xrange), inv_f1))\n",
    "cons3 = ForAll(xvars,Implies(And(inv, Not(loop_cond),xrange),post))\n",
    "               \n",
    "s = Solver()\n",
    "s.add( cons3)\n",
    "print(s.check())\n",
    "print(s.model())\n",
    "end = time.time()\n",
    "print(\"Consume Time: %.8f s\\n\"%((end-start)))"
   ]
  },
  {
   "cell_type": "markdown",
   "id": "b6a1754e",
   "metadata": {},
   "source": [
    "template 2: a0+a1*x2+a2*x2^2+a3*x3"
   ]
  },
  {
   "cell_type": "markdown",
   "id": "c9799667",
   "metadata": {},
   "source": [
    "1.026327 second 1 iteration -12.5168016208-0.912662070749*x2+5.47029073943*x3-3.87285688028*x2^2"
   ]
  },
  {
   "cell_type": "code",
   "execution_count": 1,
   "id": "49938864",
   "metadata": {},
   "outputs": [
    {
     "name": "stdout",
     "output_type": "stream",
     "text": [
      "sat\n",
      "[]\n",
      "Consume Time: 0.01502991 s\n",
      "\n"
     ]
    }
   ],
   "source": [
    "from z3 import *\n",
    "import time\n",
    "start = time.time()\n",
    "x1,x2,x3 = Reals('x1 x2 x3')\n",
    "xvars = [x1,x2,x3]\n",
    "xrange = And(x1>=-10, x1<=10, x2>=-10,x2<=10,x3>=-10,x3<=10)\n",
    "\n",
    "loop_cond =-(x1-3)**2 - x2**2 - (x3-3)**2 + 2>=0\n",
    "\n",
    "pre =-(x1-3)**2 - x2**2 - (x3-3)**2 + 0.25>=0\n",
    "post =-x3 + 0.5*x2**2 + 1<=0\n",
    "inv =-12.5168016208-0.912662070749*x2+5.47029073943*x3-3.87285688028*x2**2>=0\n",
    "\n",
    "x1_f=x1+0.1*(2*x1+x2)\n",
    "x2_f=x2+0.1*(x1+9*x2+1/2*x3)\n",
    "x3_f=x3+0.1*(2*x2+16*x3)\n",
    "\n",
    "inv_f1 =-12.5168016208-0.912662070749*x2_f+5.47029073943*x3_f-3.87285688028*x2_f**2>=0\n",
    "\n",
    "\n",
    "\n",
    "cons1 = ForAll(xvars,Implies(And(pre, xrange), inv))\n",
    "cons2 = ForAll(xvars,Implies(And(inv, loop_cond, xrange), inv_f1))\n",
    "cons3 = ForAll(xvars,Implies(And(inv, Not(loop_cond),xrange),post))\n",
    "               \n",
    "s = Solver()\n",
    "s.add( cons3)\n",
    "print(s.check())\n",
    "print(s.model())\n",
    "end = time.time()\n",
    "print(\"Consume Time: %.8f s\\n\"%((end-start)))"
   ]
  },
  {
   "cell_type": "code",
   "execution_count": null,
   "id": "3be019df",
   "metadata": {},
   "outputs": [],
   "source": []
  },
  {
   "cell_type": "markdown",
   "id": "56f59c6c",
   "metadata": {},
   "source": [
    "# basin"
   ]
  },
  {
   "cell_type": "markdown",
   "id": "c79d1544",
   "metadata": {},
   "source": [
    "2.852824 second 7 iteration solution is found. lambda is -0.0000000017 "
   ]
  },
  {
   "cell_type": "markdown",
   "id": "4f19d824",
   "metadata": {},
   "source": [
    "2.50975722126-2.20509255659*x1-3.58948030824*x2-4.1051538901*x1^2-0.771059072229*x2^2+1.54177132268*x1*x2"
   ]
  },
  {
   "cell_type": "code",
   "execution_count": 1,
   "id": "835e34ae",
   "metadata": {},
   "outputs": [
    {
     "name": "stdout",
     "output_type": "stream",
     "text": [
      "sat\n",
      "[]\n",
      "Consume Time: 616.44400549 s\n",
      "\n"
     ]
    }
   ],
   "source": [
    "from z3 import *\n",
    "import time\n",
    "start = time.time()\n",
    "x1,x2,a1,a2,a3 = Reals('x1 x2 a1 a2 a3')\n",
    "xvars = [x1,x2]\n",
    "xrange = And(x1>=-5, x1<=5, x2>=-5,x2<=5)\n",
    "\n",
    "loop_cond = 3-x1**2-x2**2>=0\n",
    "\n",
    "pre =0.25-x1**2-x2**2>= 0\n",
    "post =2*x2+x1**2-1<=0\n",
    "inv=2.51-2.20*x1-3.59*x2-4.10*x1**2-0.77*x2**2+1.54*x1*x2>=0\n",
    "\n",
    "x1_f=(-0.42*x1-1.05*x2-2.3*x1**2-0.5*x1*x2-x1**3)*0.1+x1\n",
    "x2_f=x2+0.1*(1.98*x1+x1*x2)\n",
    "\n",
    "inv_f1 =2.51-2.20*x1_f-3.59*x2_f-4.10*x1_f**2-0.77*x2_f**2+1.54*x1_f*x2_f>=0\n",
    "\n",
    "\n",
    "\n",
    "cons1 = ForAll(xvars,Implies(And(pre, xrange), inv))\n",
    "cons2 = ForAll(xvars,Implies(And(inv, loop_cond, xrange), inv_f1))\n",
    "cons3 = ForAll(xvars,Implies(And(inv, Not(loop_cond),xrange),post))\n",
    "               \n",
    "s = Solver()\n",
    "s.add( cons1, cons2, cons3)\n",
    "print(s.check())\n",
    "print(s.model())\n",
    "end = time.time()\n",
    "print(\"Consume Time: %.8f s\\n\"%((end-start)))"
   ]
  },
  {
   "cell_type": "markdown",
   "id": "f986eafc",
   "metadata": {},
   "source": [
    "19 iteration solution is found. lambda is -0.0000000017 \n",
    "2.5293-0.5925*x1-3.221*x2-7.409*x1**2-0.5179*x2**2"
   ]
  },
  {
   "cell_type": "code",
   "execution_count": 1,
   "id": "28561b7d",
   "metadata": {},
   "outputs": [
    {
     "name": "stdout",
     "output_type": "stream",
     "text": [
      "sat\n",
      "[]\n",
      "Consume Time: 595.77674651 s\n",
      "\n"
     ]
    }
   ],
   "source": [
    "from z3 import *\n",
    "import time\n",
    "start = time.time()\n",
    "x1,x2,a1,a2,a3 = Reals('x1 x2 a1 a2 a3')\n",
    "xvars = [x1,x2]\n",
    "xrange = And(x1>=-5, x1<=5, x2>=-5,x2<=5)\n",
    "\n",
    "loop_cond = 3-x1**2-x2**2>=0\n",
    "\n",
    "pre =0.25-x1**2-x2**2>= 0\n",
    "post =2*x2+x1**2-1<=0\n",
    "inv=2.5293-0.5925*x1-3.221*x2-7.409*x1**2-0.5179*x2**2 >=0\n",
    "\n",
    "x1_f=(-0.42*x1-1.05*x2-2.3*x1**2-0.5*x1*x2-x1**3)*0.1+x1\n",
    "x2_f=x2+0.1*(1.98*x1+x1*x2)\n",
    "\n",
    "inv_f1 =2.5293-0.5925*x1_f-3.221*x2_f-7.409*x1_f**2-0.5179*x2_f**2>=0\n",
    "\n",
    "\n",
    "\n",
    "cons1 = ForAll(xvars,Implies(And(pre, xrange), inv))\n",
    "cons2 = ForAll(xvars,Implies(And(inv, loop_cond, xrange), inv_f1))\n",
    "cons3 = ForAll(xvars,Implies(And(inv, Not(loop_cond),xrange),post))\n",
    "               \n",
    "s = Solver()\n",
    "s.add( cons1, cons2, cons3)\n",
    "print(s.check())\n",
    "print(s.model())\n",
    "end = time.time()\n",
    "print(\"Consume Time: %.8f s\\n\"%((end-start)))"
   ]
  },
  {
   "cell_type": "code",
   "execution_count": null,
   "id": "35e29c16",
   "metadata": {},
   "outputs": [],
   "source": []
  }
 ],
 "metadata": {
  "kernelspec": {
   "display_name": "Python 3 (ipykernel)",
   "language": "python",
   "name": "python3"
  },
  "language_info": {
   "codemirror_mode": {
    "name": "ipython",
    "version": 3
   },
   "file_extension": ".py",
   "mimetype": "text/x-python",
   "name": "python",
   "nbconvert_exporter": "python",
   "pygments_lexer": "ipython3",
   "version": "3.11.4"
  }
 },
 "nbformat": 4,
 "nbformat_minor": 5
}
