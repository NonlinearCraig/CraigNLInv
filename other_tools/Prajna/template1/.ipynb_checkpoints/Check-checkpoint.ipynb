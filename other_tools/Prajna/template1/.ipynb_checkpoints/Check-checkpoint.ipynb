{
 "cells": [
  {
   "cell_type": "markdown",
   "id": "aca6fa2e",
   "metadata": {},
   "source": [
    "check for Prajna05. Ref:[Prajna05] Optimization-Based Methods for Nonlinear and Hybrid Systems Verification, PhD thesis"
   ]
  },
  {
   "cell_type": "markdown",
   "id": "99623063",
   "metadata": {},
   "source": [
    "## EX1"
   ]
  },
  {
   "cell_type": "markdown",
   "id": "cc011573",
   "metadata": {},
   "source": [
    "with template: inv=a0+a1*x1+a2*x1^2 "
   ]
  },
  {
   "cell_type": "markdown",
   "id": "308be9f3",
   "metadata": {},
   "source": [
    "Failed"
   ]
  },
  {
   "cell_type": "markdown",
   "id": "29419380",
   "metadata": {},
   "source": [
    "# EX2"
   ]
  },
  {
   "cell_type": "markdown",
   "id": "3d39da62",
   "metadata": {},
   "source": [
    "Failed"
   ]
  },
  {
   "cell_type": "markdown",
   "id": "5a08c814",
   "metadata": {},
   "source": [
    "# EX3"
   ]
  },
  {
   "cell_type": "markdown",
   "id": "99ae1c1a",
   "metadata": {},
   "source": [
    "Failed"
   ]
  },
  {
   "cell_type": "markdown",
   "id": "19608d53",
   "metadata": {},
   "source": [
    "0.908223 second iteration 4 \"1.64207506567+0.617908593333*x1-2.03344790424*x1^2\""
   ]
  },
  {
   "cell_type": "code",
   "execution_count": 3,
   "id": "ebd03f05",
   "metadata": {},
   "outputs": [
    {
     "name": "stdout",
     "output_type": "stream",
     "text": [
      "sat\n",
      "[]\n",
      "Consuming Time: 0.02307105 s\n",
      "\n"
     ]
    }
   ],
   "source": [
    "from z3 import *\n",
    "import time\n",
    "start = time.time()\n",
    "x,a1,a2,a3= Reals('x a1 a2 a3')\n",
    "inv=1.64207506567+0.617908593333*x-2.03344790424*x**2>=0\n",
    "x_f=-1.6*x*(1-x)\n",
    "inv_f1 =1.64207506567+0.617908593333*x_f-2.03344790424*x_f**2>=0\n",
    "\n",
    "\n",
    "loop_cond = (x+0.3)*(1.7-x)>=0\n",
    "pre = x*(1-x)>=0\n",
    "post = (x-1.5)*(x+1)<=0\n",
    "\n",
    "cons1 = ForAll([x],Implies(And(pre), inv))\n",
    "cons2 = ForAll([x],Implies(And(inv,loop_cond), inv_f1))\n",
    "cons3 = ForAll([x],Implies(And(inv, Not(loop_cond)),post))\n",
    "               \n",
    "s = Solver()\n",
    "s.add(cons1, cons2, cons3)\n",
    "print(s.check())\n",
    "print(s.model())\n",
    "end = time.time()\n",
    "print(\"Consuming Time: %.8f s\\n\"%((end-start)))"
   ]
  },
  {
   "cell_type": "markdown",
   "id": "19e32b7b",
   "metadata": {},
   "source": [
    "# EX4"
   ]
  },
  {
   "cell_type": "markdown",
   "id": "a8d43784",
   "metadata": {},
   "source": [
    "Failed"
   ]
  },
  {
   "cell_type": "markdown",
   "id": "399af462",
   "metadata": {},
   "source": [
    "# EX4_001"
   ]
  },
  {
   "cell_type": "markdown",
   "id": "cddf4c66",
   "metadata": {},
   "source": [
    "Failed"
   ]
  },
  {
   "cell_type": "markdown",
   "id": "ac95fd2d",
   "metadata": {},
   "source": [
    "# circuit"
   ]
  },
  {
   "cell_type": "markdown",
   "id": "9345f16f",
   "metadata": {},
   "source": [
    "0.928906s iteration 4\n",
    "\"3.22623422636+2.88006362496*x1+2.300951462*x2-3.70364726347*x1^2-3.53864951816*x2^2+0.67555150808*x1*x2\""
   ]
  },
  {
   "cell_type": "code",
   "execution_count": 4,
   "id": "9ae02806",
   "metadata": {},
   "outputs": [
    {
     "name": "stdout",
     "output_type": "stream",
     "text": [
      "sat\n",
      "[]\n",
      "Consume Time: 0.05652618 s\n",
      "\n"
     ]
    }
   ],
   "source": [
    "# circuit  time out\n",
    "# with x and a unbounded and inv = a0+a1*x1+a2*x2+a3*x1**2+a4*x2**2+a5*x1*x2<=0\n",
    "from z3 import *\n",
    "import time\n",
    "start = time.time()\n",
    "x1,x2,a0,a1,a2,a3,a4,a5 = Reals('x1 x2 a0 a1 a2 a3 a4 a5')\n",
    "xvars = [x1,x2]\n",
    "\n",
    "loop_cond = -1<=0\n",
    "\n",
    "pre = (x1-0.5)**2+(x2-0.5)**2-0.25**2<= 0\n",
    "post =x2**2 - 4<=0\n",
    "\n",
    "inv =3.22623422636+2.88006362496*x1+2.300951462*x2-3.70364726347*x1**2-3.53864951816*x2**2+0.67555150808*x1*x2>=0\n",
    "guard1 = -1<=0\n",
    "\n",
    "x1_f=8/9*x1-1/18*x2\n",
    "x2_f=0.1*x1+0.9*x2\n",
    "\n",
    "inv_f1 =3.22623422636+2.88006362496*x1_f+2.300951462*x2_f-3.70364726347*x1_f**2-3.53864951816*x2_f**2+0.67555150808*x1_f*x2_f>=0\n",
    "\n",
    "\n",
    "\n",
    "cons1 = ForAll(xvars,Implies(And(pre), inv))\n",
    "cons2 = ForAll(xvars,Implies(And(inv, guard1, loop_cond), inv_f1))\n",
    "cons3 = ForAll(xvars,Implies(And(inv, Not(loop_cond)),post))\n",
    "               \n",
    "s = Solver()\n",
    "s.add( cons1, cons2, cons3)\n",
    "print(s.check())\n",
    "print(s.model())\n",
    "end = time.time()\n",
    "print(\"Consume Time: %.8f s\\n\"%((end-start)))"
   ]
  },
  {
   "cell_type": "markdown",
   "id": "f6089383",
   "metadata": {},
   "source": [
    "# bound2 "
   ]
  },
  {
   "cell_type": "markdown",
   "id": "2a2398c5",
   "metadata": {},
   "source": [
    "2.935264 \n",
    "iteration 10\n",
    "    \"1.31452305733+0.173461665175*x1-0.000861819027759*x2-1.6487559171*x1^2-1.53076929264*x2^2+0.273601512938*x1*x2\""
   ]
  },
  {
   "cell_type": "code",
   "execution_count": 4,
   "id": "d85a3a8d",
   "metadata": {},
   "outputs": [
    {
     "name": "stdout",
     "output_type": "stream",
     "text": [
      "sat\n",
      "[]\n",
      "Consume Time: 0.03721499 s\n",
      "\n"
     ]
    }
   ],
   "source": [
    "# template with template 1\n",
    "# a0+a1*x1+a2*x2+a3*x1**2+a4*x2**2+a5*x1*x2\n",
    "from z3 import *\n",
    "import time\n",
    "start = time.time()\n",
    "x1,x2,a1,a2,a3 = Reals('x1 x2 a1 a2 a3')\n",
    "xvars = [x1,x2]\n",
    "xrange = And(x1>=-5, x1<=5, x2>=-5,x2<=5)\n",
    "\n",
    "loop_cond = -x1**2 -x2**2 +1>=0\n",
    "\n",
    "pre1 =(x1-0.5)*(0.7-x1)>= 0\n",
    "pre2=(x2-0.5)*(0.7-x2)>= 0\n",
    "post =x1**2+x2**2-0.36<=0\n",
    "inv =1.314+0.173*x1-1.648*x1**2-1.530*x2**2+0.273*x1*x2>=0\n",
    "\n",
    "x1_f=0.5*x1**3+ 0.4*x2**2\n",
    "x2_f=-0.6*x1**2+0.3*x2**2\n",
    "\n",
    "inv_f1 =1.314+0.173*x1_f-1.648*x1_f**2-1.530*x2_f**2+0.273*x1_f*x2_f>=0\n",
    "\n",
    "\n",
    "\n",
    "cons1 = ForAll(xvars,Implies(And(pre1,pre2, xrange), inv))\n",
    "cons2 = ForAll(xvars,Implies(And(inv, loop_cond, xrange), inv_f1))\n",
    "cons3 = ForAll(xvars,Implies(And(inv, Not(loop_cond),xrange),post))\n",
    "               \n",
    "s = Solver()\n",
    "s.add( cons1, cons2, cons3)\n",
    "print(s.check())\n",
    "print(s.model())\n",
    "end = time.time()\n",
    "print(\"Consume Time: %.8f s\\n\"%((end-start)))"
   ]
  },
  {
   "cell_type": "markdown",
   "id": "34c5f446",
   "metadata": {},
   "source": [
    "# Contrived"
   ]
  },
  {
   "cell_type": "markdown",
   "id": "d990355c",
   "metadata": {},
   "source": [
    "1.07s -1+0.15689217925*x1+1.4131549926*x2-0.254812402337*x1^2-0.253490840196*x2^2"
   ]
  },
  {
   "cell_type": "code",
   "execution_count": 3,
   "id": "45ff5b27",
   "metadata": {},
   "outputs": [
    {
     "name": "stdout",
     "output_type": "stream",
     "text": [
      "sat\n",
      "[]\n",
      "Consume Time: 0.12038469 s\n",
      "\n"
     ]
    }
   ],
   "source": [
    "\n",
    "\n",
    "from z3 import *\n",
    "import time\n",
    "start = time.time()\n",
    "x1,x2,a1,a2,a3 = Reals('x1 x2 a1 a2 a3')\n",
    "xvars = [x1,x2]\n",
    "xrange = And(x1>=-10, x1<=10, x2>=-10,x2<=10)\n",
    "\n",
    "loop_cond = 4-x1**2-(x2 -3)**2>=0\n",
    "\n",
    "pre = 1-x1**2-(x2 -3)**2>= 0\n",
    "post =(x1-2)**2+(x2-2)**2-9<=0\n",
    "inv =-1+0.15689217925*x1+1.4131549926*x2-0.254812402337*x1**2-0.253490840196*x2**2>=0\n",
    "\n",
    "x1_f=(x2-x1)*0.1+x1\n",
    "x2_f=0.9*x2\n",
    "\n",
    "inv_f1 =-1+0.15689217925*x1_f+1.4131549926*x2_f-0.254812402337*x1_f**2-0.253490840196*x2_f**2>=0\n",
    "\n",
    "\n",
    "\n",
    "cons1 = ForAll(xvars,Implies(And(pre, xrange), inv))\n",
    "cons2 = ForAll(xvars,Implies(And(inv, loop_cond, xrange), inv_f1))\n",
    "cons3 = ForAll(xvars,Implies(And(inv, Not(loop_cond),xrange),post))\n",
    "               \n",
    "s = Solver()\n",
    "s.add( cons1, cons2, cons3)\n",
    "print(s.check())\n",
    "print(s.model())\n",
    "end = time.time()\n",
    "print(\"Consume Time: %.8f s\\n\"%((end-start)))"
   ]
  }
 ],
 "metadata": {
  "kernelspec": {
   "display_name": "Python 3 (ipykernel)",
   "language": "python",
   "name": "python3"
  },
  "language_info": {
   "codemirror_mode": {
    "name": "ipython",
    "version": 3
   },
   "file_extension": ".py",
   "mimetype": "text/x-python",
   "name": "python",
   "nbconvert_exporter": "python",
   "pygments_lexer": "ipython3",
   "version": "3.11.4"
  }
 },
 "nbformat": 4,
 "nbformat_minor": 5
}
