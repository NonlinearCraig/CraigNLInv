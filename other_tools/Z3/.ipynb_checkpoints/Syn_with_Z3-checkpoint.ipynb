{
 "cells": [
  {
   "cell_type": "markdown",
   "id": "99623063",
   "metadata": {},
   "source": [
    "## EX1"
   ]
  },
  {
   "cell_type": "markdown",
   "id": "46b2415a",
   "metadata": {},
   "source": [
    "our: 0.29 inv =9.82179949496+16.0077113185*x1-0.200003671465*x1^2>=0"
   ]
  },
  {
   "cell_type": "markdown",
   "id": "283e516e",
   "metadata": {},
   "source": [
    "L. Dai, B. Xia, N. Zhan: Generating non-linear interpolants by semidefinite programming. In CAV(2013). code1.3"
   ]
  },
  {
   "cell_type": "markdown",
   "id": "f8df6656",
   "metadata": {},
   "source": [
    "template:inv=a0+a1*x1+a2 * x1^2"
   ]
  },
  {
   "cell_type": "code",
   "execution_count": 1,
   "id": "706b3c76",
   "metadata": {},
   "outputs": [
    {
     "name": "stdout",
     "output_type": "stream",
     "text": [
      "sat\n",
      "[a1 = -81, a3 = 1, a2 = -81]\n",
      "Consuming Time: 0.73104715 s\n",
      "\n"
     ]
    }
   ],
   "source": [
    "#ex1\n",
    "from z3 import *\n",
    "import time\n",
    "start = time.time()\n",
    "x1,a1,a2,a3= Reals('x1 a1 a2 a3')\n",
    "inv=a1+a2*x1+a3*x1**2<=0\n",
    "\n",
    "inv_f1 =a1+a2*(x1+0.0005*(1000-0.5418*x1**2))+a3*(x1+0.0005*(1000-0.5418*x1**2))**2<=0\n",
    "\n",
    "loop_cond =(x1+1)*(x1-82)<=0\n",
    "pre = x1*(80-x1)>=0\n",
    "post = (x1+10)*(x1-79)<=0\n",
    "\n",
    "cons1 = ForAll([x1],Implies(pre, inv))\n",
    "cons2 = ForAll([x1],Implies(And(inv,loop_cond), inv_f1))\n",
    "cons3 = ForAll([x1],Implies(And(inv, Not(loop_cond)),post))\n",
    "               \n",
    "s = Solver()\n",
    "s.add(cons1, cons2, cons3)\n",
    "print(s.check())\n",
    "print(s.model())\n",
    "end = time.time()\n",
    "print(\"Consuming Time: %.8f s\\n\"%((end-start)))"
   ]
  },
  {
   "cell_type": "markdown",
   "id": "a7f38f9a",
   "metadata": {},
   "source": [
    "template:inv=1+a1*x1+a2 * x1^2"
   ]
  },
  {
   "cell_type": "code",
   "execution_count": 1,
   "id": "1e1ee813",
   "metadata": {},
   "outputs": [
    {
     "name": "stdout",
     "output_type": "stream",
     "text": [
      "sat\n",
      "[a3 = 1, a2 = -81]\n",
      "Consuming Time: 1.86259222 s\n",
      "\n"
     ]
    }
   ],
   "source": [
    "#ex1\n",
    "from z3 import *\n",
    "import time\n",
    "start = time.time()\n",
    "x1,a1,a2,a3= Reals('x1 a1 a2 a3')\n",
    "inv=-1+a2*x1+a3*x1**2<=0\n",
    "\n",
    "inv_f1 =-1+a2*(x1+0.0005*(1000-0.5418*x1**2))+a3*(x1+0.0005*(1000-0.5418*x1**2))**2<=0\n",
    "\n",
    "loop_cond =(x1+1)*(x1-82)<=0\n",
    "pre = x1*(80-x1)>=0\n",
    "post = (x1+10)*(x1-79)<=0\n",
    "\n",
    "cons1 = ForAll([x1],Implies(pre, inv))\n",
    "cons2 = ForAll([x1],Implies(And(inv,loop_cond), inv_f1))\n",
    "cons3 = ForAll([x1],Implies(And(inv, Not(loop_cond)),post))\n",
    "               \n",
    "s = Solver()\n",
    "s.add(cons1, cons2, cons3)\n",
    "print(s.check())\n",
    "print(s.model())\n",
    "end = time.time()\n",
    "print(\"Consuming Time: %.8f s\\n\"%((end-start)))"
   ]
  },
  {
   "cell_type": "markdown",
   "id": "07752ff6",
   "metadata": {},
   "source": [
    "# EX2"
   ]
  },
  {
   "cell_type": "markdown",
   "id": "7e5fba2d",
   "metadata": {},
   "source": [
    "arXiv:1903.04668"
   ]
  },
  {
   "cell_type": "markdown",
   "id": "a68ffbb5",
   "metadata": {},
   "source": [
    "our:0.45s 1+0.269406630939*x1^2-0.617905967972*x2^2"
   ]
  },
  {
   "cell_type": "code",
   "execution_count": null,
   "id": "d9add1a8",
   "metadata": {},
   "outputs": [],
   "source": [
    "# code 2 in paper >3600s\n",
    "from z3 import *\n",
    "import time\n",
    "start = time.time()\n",
    "x1,x2,a0,a1,a2,a3,a4,a5 = Reals('x1 x2 a0 a1 a2 a3 a4 a5')\n",
    "xrange = And(x1>=-5, x1<=5, x2>=-5, x2<=5)\n",
    "arange = And(a1>=-10, a1<=10, a2>=-10, a2<=10)\n",
    "\n",
    "inv = a0+a1*x1+a2*x2+a3*x1*x2+a4*x1**2+a5*x2**2 >=0\n",
    "inv_ineq = 1>=0\n",
    "\n",
    "guard1 = -1<=0\n",
    "\n",
    "x1_f=(0.9*(x1-0.01*x2))\n",
    "x2_f=(0.9*(x2+0.01*x1))\n",
    "\n",
    "inv_f1=  a0+a1*x1_f+a2*x2_f+a3*x1_f*x2_f+ a4*x1_f**2+a5*x2_f**2>=0\n",
    "\n",
    "loop_cond = 1>=0\n",
    "pre = x1**2+x2**2-1<=0\n",
    "post = 0.25-x1**2-(x2-2)**2<=0\n",
    "\n",
    "cons1 = ForAll([x1,x2],Implies(And(pre, xrange), inv))\n",
    "cons2 = ForAll([x1,x2],Implies(And(inv, guard1, loop_cond, xrange), inv_f1))\n",
    "cons3 = ForAll([x1,x2],Implies(And(inv, Not(loop_cond),xrange),post))\n",
    "               \n",
    "s = Solver()\n",
    "s.add( cons1, cons2, cons3, arange)\n",
    "print(s.check())\n",
    "print(s.model())\n",
    "end = time.time()\n",
    "print(\"Consuming Time: %.8f s\\n\"%((end-start)))"
   ]
  },
  {
   "cell_type": "code",
   "execution_count": 1,
   "id": "53b3d203",
   "metadata": {},
   "outputs": [
    {
     "name": "stdout",
     "output_type": "stream",
     "text": [
      "sat\n",
      "[a1 = 0, a2 = 1]\n",
      "Consuming Time: 7.18844771 s\n",
      "\n"
     ]
    }
   ],
   "source": [
    "# code 2 in paper\n",
    "from z3 import *\n",
    "import time\n",
    "start = time.time()\n",
    "x1,x2,a1,a2,a3 = Reals('x1 x2 a1 a2 a3')\n",
    "xrange = And(x1>=-5, x1<=5, x2>=-5, x2<=5)\n",
    "arange = And(a1>=-10, a1<=10, a2>=-10, a2<=10)\n",
    "\n",
    "inv = a1*x1**2 + a2*x2**2 + 1>=0\n",
    "inv_ineq = 1>=0\n",
    "\n",
    "guard1 = -1<=0\n",
    "inv_f1 = a1*(0.9*(x1-0.01*x2))**2 + a2*(0.9*(x2+0.01*x1))**2+1>=0\n",
    "\n",
    "loop_cond = 1>=0\n",
    "pre = x1**2+x2**2-1<=0\n",
    "post = 0.25-x1**2-(x2-2)**2<=0\n",
    "\n",
    "cons1 = ForAll([x1,x2],Implies(And(pre, xrange), inv))\n",
    "cons2 = ForAll([x1,x2],Implies(And(inv, guard1, loop_cond, xrange), inv_f1))\n",
    "cons3 = ForAll([x1,x2],Implies(And(inv, Not(loop_cond),xrange),post))\n",
    "               \n",
    "s = Solver()\n",
    "s.add( cons1, cons2, cons3, arange)\n",
    "print(s.check())\n",
    "print(s.model())\n",
    "end = time.time()\n",
    "print(\"Consuming Time: %.8f s\\n\"%((end-start)))"
   ]
  },
  {
   "cell_type": "markdown",
   "id": "5c298d55",
   "metadata": {},
   "source": [
    "# EX3 "
   ]
  },
  {
   "cell_type": "markdown",
   "id": "77ca5087",
   "metadata": {},
   "source": [
    "our:0.299s 0.88687354449+1.34861285266*x1-1.6072153343*x1^2\n"
   ]
  },
  {
   "cell_type": "markdown",
   "id": "47b07424",
   "metadata": {},
   "source": [
    "S. Kupferschmid, B. Becker: Craig interpolation in the presence of non-linear constraints. In FORMATS(2011)."
   ]
  },
  {
   "cell_type": "code",
   "execution_count": 1,
   "id": "e3ba4e2c",
   "metadata": {},
   "outputs": [
    {
     "name": "stdout",
     "output_type": "stream",
     "text": [
      "sat\n",
      "[a1 = 1, a3 = -1, a2 = 1/8]\n",
      "Consuming Time: 0.56805849 s\n",
      "\n"
     ]
    }
   ],
   "source": [
    "from z3 import *\n",
    "import time\n",
    "start = time.time()\n",
    "x,a1,a2,a3= Reals('x a1 a2 a3')\n",
    "inv=a1+a2*x+a3*x**2>=0\n",
    "\n",
    "inv_f1 =a1+a2*(-1.6*x*(1-x))+a3*(-1.6*x*(1-x))**2>=0\n",
    "\n",
    "\n",
    "loop_cond = (x+0.3)*(1.7-x)>=0\n",
    "pre = x*(1-x)>=0\n",
    "post = (x-1.5)*(x+1)<=0\n",
    "\n",
    "cons1 = ForAll([x],Implies(And(pre), inv))\n",
    "cons2 = ForAll([x],Implies(And(inv,loop_cond), inv_f1))\n",
    "cons3 = ForAll([x],Implies(And(inv, Not(loop_cond)),post))\n",
    "               \n",
    "s = Solver()\n",
    "s.add(cons1, cons2, cons3)\n",
    "print(s.check())\n",
    "print(s.model())\n",
    "end = time.time()\n",
    "print(\"Consuming Time: %.8f s\\n\"%((end-start)))"
   ]
  },
  {
   "cell_type": "code",
   "execution_count": 1,
   "id": "1417b30e",
   "metadata": {},
   "outputs": [
    {
     "name": "stdout",
     "output_type": "stream",
     "text": [
      "sat\n",
      "[a3 = -1, a2 = 1/2]\n",
      "Consuming Time: 0.13897729 s\n",
      "\n"
     ]
    }
   ],
   "source": [
    "from z3 import *\n",
    "import time\n",
    "start = time.time()\n",
    "x,a2,a3= Reals('x a2 a3')\n",
    "inv=1+a2*x+a3*x**2>=0\n",
    "\n",
    "inv_f1 =1+a2*(-1.6*x*(1-x))+a3*(-1.6*x*(1-x))**2>=0\n",
    "\n",
    "\n",
    "loop_cond = (x+0.3)*(1.7-x)>=0\n",
    "pre = x*(1-x)>=0\n",
    "post = (x-1.5)*(x+1)<=0\n",
    "\n",
    "cons1 = ForAll([x],Implies(And(pre), inv))\n",
    "cons2 = ForAll([x],Implies(And(inv,loop_cond), inv_f1))\n",
    "cons3 = ForAll([x],Implies(And(inv, Not(loop_cond)),post))\n",
    "               \n",
    "s = Solver()\n",
    "s.add(cons1, cons2, cons3)\n",
    "print(s.check())\n",
    "print(s.model())\n",
    "end = time.time()\n",
    "print(\"Consuming Time: %.8f s\\n\"%((end-start)))"
   ]
  },
  {
   "cell_type": "markdown",
   "id": "4f96b841",
   "metadata": {},
   "source": [
    "# EX4 step_size=0.01"
   ]
  },
  {
   "cell_type": "markdown",
   "id": "685617f1",
   "metadata": {},
   "source": [
    "our:0.318697 inv=1.61547196782-0.128663495278*x1-0.053005257577*x1^2"
   ]
  },
  {
   "cell_type": "markdown",
   "id": "c553db10",
   "metadata": {},
   "source": [
    "stochastic gradient descent algorithm with fixed step size"
   ]
  },
  {
   "cell_type": "markdown",
   "id": "8272fc25",
   "metadata": {},
   "source": [
    "here the delta is a2^2-4*a1*a3<0 which means the result is R so the result is not right"
   ]
  },
  {
   "cell_type": "code",
   "execution_count": 1,
   "id": "8fe035b3",
   "metadata": {},
   "outputs": [
    {
     "name": "stdout",
     "output_type": "stream",
     "text": [
      "sat\n",
      "[a1 = 9, a3 = -1, a2 = 1/4]\n",
      "Consuming Time: 0.71786022 s\n",
      "\n"
     ]
    }
   ],
   "source": [
    "from z3 import *\n",
    "import time\n",
    "start = time.time()\n",
    "x1,a1,a2,a3= Reals('x1 a1 a2 a3')\n",
    "inv=a1+a2*x1+a3*x1**2>=0\n",
    "\n",
    "\n",
    "inv_f1 =a1+a2*(x1-0.01*x1*(x1-2)*(x1-4))+a3*(x1-0.01*x1*(x1-2)*(x1-4))**2>=0\n",
    "\n",
    "loop_cond =(x1+3)*(3-x1)>=0\n",
    "pre = (x1+1)*(1-x1)>=0;\n",
    "post = (x1-3)*(5-x1)>=0\n",
    "\n",
    "cons1 = ForAll([x1],Implies(And(pre), inv))\n",
    "cons2 = ForAll([x1],Implies(And(inv, loop_cond), inv_f1))\n",
    "cons3 = ForAll([x1],Implies(And(inv, Not(loop_cond)),post))\n",
    "               \n",
    "s = Solver()\n",
    "s.add(cons1, cons2, cons3)\n",
    "print(s.check())\n",
    "print(s.model())\n",
    "end = time.time()\n",
    "print(\"Consuming Time: %.8f s\\n\"%((end-start)))"
   ]
  },
  {
   "cell_type": "code",
   "execution_count": 1,
   "id": "f040b312",
   "metadata": {},
   "outputs": [
    {
     "name": "stdout",
     "output_type": "stream",
     "text": [
      "sat\n",
      "[a1 = 2, a2 = 1]\n",
      "Consuming Time: 1.30120134 s\n",
      "\n"
     ]
    }
   ],
   "source": [
    "from z3 import *\n",
    "import time\n",
    "start = time.time()\n",
    "x1,a1,a2= Reals('x1 a1 a2')\n",
    "inv=a1+a2*x1-x1**2>=0\n",
    "\n",
    "\n",
    "inv_f1 =a1+a2*(x1-0.01*x1*(x1-2)*(x1-4))-(x1-0.01*x1*(x1-2)*(x1-4))**2>=0\n",
    "\n",
    "loop_cond =(x1+3)*(3-x1)>=0\n",
    "pre = (x1+1)*(1-x1)>=0;\n",
    "post = (x1-3)*(5-x1)>=0\n",
    "\n",
    "cons1 = ForAll([x1],Implies(And(pre), inv))\n",
    "cons2 = ForAll([x1],Implies(And(inv, loop_cond), inv_f1))\n",
    "cons3 = ForAll([x1],Implies(And(inv, Not(loop_cond)),post))\n",
    "               \n",
    "s = Solver()\n",
    "s.add(cons1, cons2, cons3)\n",
    "print(s.check())\n",
    "print(s.model())\n",
    "end = time.time()\n",
    "print(\"Consuming Time: %.8f s\\n\"%((end-start)))"
   ]
  },
  {
   "cell_type": "markdown",
   "id": "5cee1078",
   "metadata": {},
   "source": [
    "# EX4 setp_size=0.001"
   ]
  },
  {
   "cell_type": "markdown",
   "id": "6f0470f7",
   "metadata": {},
   "source": [
    "template: a0+a1*x1+a1*x1**2"
   ]
  },
  {
   "cell_type": "markdown",
   "id": "ef35d0d0",
   "metadata": {},
   "source": [
    "our 0.324894 2.23933048063-0.202628877386*x1-1.45920598972*x1^2"
   ]
  },
  {
   "cell_type": "code",
   "execution_count": 1,
   "id": "079658cb",
   "metadata": {},
   "outputs": [
    {
     "name": "stdout",
     "output_type": "stream",
     "text": [
      "sat\n",
      "[a1 = 9, a3 = -1, a2 = 1/4]\n",
      "Consuming Time: 1.71053267 s\n",
      "\n"
     ]
    }
   ],
   "source": [
    "from z3 import *\n",
    "import time\n",
    "start = time.time()\n",
    "x1,a1,a2,a3= Reals('x1 a1 a2 a3')\n",
    "inv=a1+a2*x1+a3*x1**2>=0\n",
    "\n",
    "\n",
    "inv_f1 =a1+a2*(x1-0.001*x1*(x1-2)*(x1-4))+a3*(x1-0.001*x1*(x1-2)*(x1-4))**2>=0\n",
    "\n",
    "loop_cond =(x1+3)*(3-x1)>=0\n",
    "pre = (x1+1)*(1-x1)>=0;\n",
    "post = (x1-3)*(5-x1)>=0\n",
    "\n",
    "cons1 = ForAll([x1],Implies(And(pre), inv))\n",
    "cons2 = ForAll([x1],Implies(And(inv, loop_cond), inv_f1))\n",
    "cons3 = ForAll([x1],Implies(And(inv, Not(loop_cond)),post))\n",
    "               \n",
    "s = Solver()\n",
    "s.add(cons1, cons2, cons3)\n",
    "print(s.check())\n",
    "print(s.model())\n",
    "end = time.time()\n",
    "print(\"Consuming Time: %.8f s\\n\"%((end-start)))"
   ]
  },
  {
   "cell_type": "markdown",
   "id": "53d3d181",
   "metadata": {},
   "source": [
    "our 0.335687s 2.02975321078-0.115587724701*x1-x1^2"
   ]
  },
  {
   "cell_type": "code",
   "execution_count": 1,
   "id": "cf84cafa",
   "metadata": {},
   "outputs": [
    {
     "name": "stdout",
     "output_type": "stream",
     "text": [
      "sat\n",
      "[a1 = 2, a2 = 1/4]\n",
      "Consuming Time: 1.10252357 s\n",
      "\n"
     ]
    }
   ],
   "source": [
    "from z3 import *\n",
    "import time\n",
    "start = time.time()\n",
    "x1,a1,a2,a3= Reals('x1 a1 a2 a3')\n",
    "inv=a1+a2*x1-x1**2>=0\n",
    "\n",
    "\n",
    "inv_f1 =a1+a2*(x1-0.001*x1*(x1-2)*(x1-4))-(x1-0.001*x1*(x1-2)*(x1-4))**2>=0\n",
    "\n",
    "loop_cond =(x1+3)*(3-x1)>=0\n",
    "pre = (x1+1)*(1-x1)>=0;\n",
    "post = (x1-3)*(5-x1)>=0\n",
    "\n",
    "cons1 = ForAll([x1],Implies(And(pre), inv))\n",
    "cons2 = ForAll([x1],Implies(And(inv, loop_cond), inv_f1))\n",
    "cons3 = ForAll([x1],Implies(And(inv, Not(loop_cond)),post))\n",
    "               \n",
    "s = Solver()\n",
    "s.add(cons1, cons2, cons3)\n",
    "print(s.check())\n",
    "print(s.model())\n",
    "end = time.time()\n",
    "print(\"Consuming Time: %.8f s\\n\"%((end-start)))"
   ]
  },
  {
   "cell_type": "markdown",
   "id": "ba5064d2",
   "metadata": {},
   "source": [
    "# EX2(cav13-1)"
   ]
  },
  {
   "cell_type": "markdown",
   "id": "dc4f0f20",
   "metadata": {},
   "source": [
    "0.464299s 3.69208271269-2.01582612649*x1^2-0.294096624031*x2^2"
   ]
  },
  {
   "cell_type": "markdown",
   "id": "061fbce1",
   "metadata": {},
   "source": [
    "L. Dai, B. Xia, N. Zhan: Generating non-linear interpolants by semidefinite programming. In CAV(2013). code1.1"
   ]
  },
  {
   "cell_type": "markdown",
   "id": "074da608",
   "metadata": {},
   "source": [
    "full template: inv= a0+a1*x1+a2*x2+a3*x1*x2+a4*x1^2+a5*x2^2+a6*x1*x2>=0"
   ]
  },
  {
   "cell_type": "code",
   "execution_count": null,
   "id": "64fbd9bc",
   "metadata": {},
   "outputs": [],
   "source": [
    "#ex2 time out (>3600s)\n",
    "from z3 import *\n",
    "import time\n",
    "start = time.time()\n",
    "x1,x2,a0,a1,a2,a3,a4,a5= Reals('x1 x2 a0 a1 a2 a3 a4 a5')\n",
    "inv=a0+a1*x1+a2*x2+a3*x1*x2+a4*x1**2+a5*x2**2>=0\n",
    "\n",
    "inv_f =a0+a1*(x1**2+x2-1)+a2*(x2+(x1**2+x2-1)*x2+1)+a3*(x1**2+x2-1)*(x2+(x1**2+x2-1)*x2+1)+a4*(x1**2+x2-1)**2+a5*(x2+(x1**2+x2-1)*x2+1)**2>=0\n",
    "\n",
    "\n",
    "loop_cond = 3-x1**2-x2**2>=0\n",
    "pre = 1-x1**2-x2**2>=0\n",
    "post =-x2 + 0.2*x1**2 - 1<=0\n",
    "\n",
    "cons1 = ForAll([x1,x2],Implies(pre, inv))\n",
    "cons2 = ForAll([x1,x2],Implies(And(inv, loop_cond), inv_f))\n",
    "cons3 = ForAll([x1,x2],Implies(And(inv, Not(loop_cond)),post))\n",
    "               \n",
    "s = Solver()\n",
    "s.add(cons1, cons2, cons3)\n",
    "print(s.check())\n",
    "print(s.model())\n",
    "end = time.time()\n",
    "print(\"Consuming Time: %.8f s\\n\"%((end-start)))"
   ]
  },
  {
   "cell_type": "markdown",
   "id": "72e8ba7a",
   "metadata": {},
   "source": [
    "sketch: inv= a1+a2*x1^2+a3*x2^2>=0"
   ]
  },
  {
   "cell_type": "code",
   "execution_count": null,
   "id": "466c64e0",
   "metadata": {},
   "outputs": [],
   "source": [
    "#ex2 time out (>3600s)\n",
    "start = time.time()\n",
    "x1,x2,a1,a2,a3,a4,a5= Reals('x1 x2 a1 a2 a3 a4 a5')\n",
    "inv=a1+a2*x1**2+a3*x2**2>=0\n",
    "\n",
    "guard1 = -1<=0;\n",
    "inv_f =a1+a2*(x1**2+x2-1)**2+a3*(x2+(x1**2+x2-1)*x2+1)**2>=0\n",
    "\n",
    "\n",
    "loop_cond = 3-x1**2-x2**2>=0\n",
    "pre = 1-x1**2-x2**2>=0\n",
    "post =-x2 + 0.2*x1**2 - 1<=0\n",
    "\n",
    "cons1 = ForAll([x1,x2],Implies(And(pre), inv))\n",
    "cons2 = ForAll([x1,x2],Implies(And(inv, guard1, loop_cond), inv_f))\n",
    "cons3 = ForAll([x1,x2],Implies(And(inv, Not(loop_cond)),post))\n",
    "               \n",
    "s = Solver()\n",
    "s.add(cons1, cons2, cons3)\n",
    "print(s.check())\n",
    "print(s.model())\n",
    "end = time.time()\n",
    "print(\"Consuming Time: %.8f s\\n\"%((end-start)))"
   ]
  },
  {
   "cell_type": "markdown",
   "id": "4beae85a",
   "metadata": {},
   "source": [
    "# EX2(cav13-2)"
   ]
  },
  {
   "cell_type": "markdown",
   "id": "d0e0b55f",
   "metadata": {},
   "source": [
    "our:0.426259s  6.25420451616-1.82009110599*x1^2+1.04250672447*x2^2"
   ]
  },
  {
   "cell_type": "markdown",
   "id": "6d156fa4",
   "metadata": {},
   "source": [
    "L. Dai, B. Xia, N. Zhan: Generating non-linear interpolants by semidefinite programming. In CAV(2013). code1.1"
   ]
  },
  {
   "cell_type": "markdown",
   "id": "7daf5f33",
   "metadata": {},
   "source": [
    "template inv= a0+a1*x2+a2*x1**2+a3*x2**2"
   ]
  },
  {
   "cell_type": "code",
   "execution_count": null,
   "id": "a1cf4d35",
   "metadata": {},
   "outputs": [],
   "source": [
    "#ex2 time out (>3600s)\n",
    "start = time.time()\n",
    "x1,x2,a0,a1,a2,a3,a4= Reals('x1 x2 a0 a1 a2 a3 a4')\n",
    "inv=a0+a1*x2+a2*x1**2+a3*x2**2>=0\n",
    "\n",
    "guard1 = -1<=0;\n",
    "inv_f =a0+a1*(x2+(x1**2+x2-1)*x2+1)+a2*(x1**2+x2-1)**2+a3*(x2+(x1**2+x2-1)*x2+1)**2>=0\n",
    "\n",
    "\n",
    "loop_cond = 3-x1**2-x2**2>=0\n",
    "pre = 1-x1**2-x2**2>=0\n",
    "post =-x2 + 0.2*x1**2 - 1<=0\n",
    "\n",
    "cons1 = ForAll([x1,x2],Implies(And(pre), inv))\n",
    "cons2 = ForAll([x1,x2],Implies(And(inv, guard1, loop_cond), inv_f))\n",
    "cons3 = ForAll([x1,x2],Implies(And(inv, Not(loop_cond)),post))\n",
    "               \n",
    "s = Solver()\n",
    "s.add(cons1, cons2, cons3)\n",
    "print(s.check())\n",
    "print(s.model())\n",
    "end = time.time()\n",
    "print(\"Consuming Time: %.8f s\\n\"%((end-start)))"
   ]
  },
  {
   "cell_type": "markdown",
   "id": "edff1794",
   "metadata": {},
   "source": [
    "our: unsat"
   ]
  },
  {
   "cell_type": "markdown",
   "id": "f0d14ef0",
   "metadata": {},
   "source": [
    "template: a0+a1*x1^2+a2*x2^2>=0"
   ]
  },
  {
   "cell_type": "code",
   "execution_count": null,
   "id": "2839ce97",
   "metadata": {},
   "outputs": [],
   "source": [
    "#ex2 time out (>3600s)\n",
    "start = time.time()\n",
    "x1,x2,a1,a2,a3,a4,a5= Reals('x1 x2 a1 a2 a3 a4 a5')\n",
    "inv=a0+a1*x1**2+a2*x2**2>=0\n",
    "\n",
    "inv_f1 =a0+a1*(x1**2+x2-1)**2+a2*(x2+(x1**2+x2-1)*x2+1)**2>=0\n",
    "\n",
    "\n",
    "loop_cond = 3-x1**2-x2**2>=0\n",
    "pre = 2-x1**2-x2**2>=0\n",
    "post = -x2 + 0.2*x1**2 - 1.21<=0\n",
    "\n",
    "cons1 = ForAll([x1],Implies(And(pre), inv))\n",
    "cons2 = ForAll([x1],Implies(And(inv,loop_cond), inv_f1))\n",
    "cons3 = ForAll([x1],Implies(And(inv, Not(loop_cond)),post))\n",
    "               \n",
    "s = Solver()\n",
    "s.add(cons1, cons2, cons3)\n",
    "print(s.check())\n",
    "print(s.model())\n",
    "end = time.time()\n",
    "print(\"Consuming Time: %.8f s\\n\"%((end-start)))"
   ]
  },
  {
   "cell_type": "markdown",
   "id": "02b23f93",
   "metadata": {},
   "source": [
    "# cohencu"
   ]
  },
  {
   "cell_type": "markdown",
   "id": "f897fed7",
   "metadata": {},
   "source": [
    "1.338407 second unsat"
   ]
  },
  {
   "cell_type": "markdown",
   "id": "eb144995",
   "metadata": {},
   "source": [
    "1.35975492961+1.4448533376*x1+2.16539212227*x2-4.64634747747*x1**2+0.475113470224*x2**2-1.84218627328*x1*x2"
   ]
  },
  {
   "cell_type": "markdown",
   "id": "11cf5d46",
   "metadata": {},
   "source": [
    "full template a0+a1*x1+a2*x2+a3*x1^2+a4 *x2^2+a5*x1*x2>=0"
   ]
  },
  {
   "cell_type": "code",
   "execution_count": null,
   "id": "bd5621d8",
   "metadata": {},
   "outputs": [],
   "source": [
    "# cohencu >3600s\n",
    "import time\n",
    "from z3 import *\n",
    "start = time.time()\n",
    "x1,x2,a0,a1,a2,a3,a4,a5 = Reals('x1 x2 a0 a1 a2 a3 a4 a5')\n",
    "xrange = And(x2>=0, x2<=10, x1>=0,x1<=10)\n",
    "\n",
    "inv = a0+a1*x1+a2*x2+a3*x1**2+a4*x2**2+a5*x1*x2>=0\n",
    "inv_ineq = And(x1>=0)\n",
    "\n",
    "inv_f1=a0+a1*(x1+1)+a2*(x2+6*x1+6)+a3*(x1+1)**2+a4*(x2+6*x1+6)**2+a5*(x1+1)*(x2+6*x1+6)>=0\n",
    "\n",
    "\n",
    "loop_cond = x1-5<=0\n",
    "pre = And(x2==0,x1==0)\n",
    "post = And(2.5*x1**2+4*x1-x2<=0,x2-3.5*x1**2-3*x1<=0)\n",
    "\n",
    "cons1 = ForAll([x2,x1],Implies(And(pre, xrange), inv))\n",
    "cons2 = ForAll([x2,x1],Implies(And(inv,loop_cond, xrange),inv_f1))\n",
    "cons3 = ForAll([x2,x1],Implies(And(inv, Not(loop_cond),xrange),post))\n",
    "               \n",
    "s = Solver()\n",
    "s.add( cons1, cons2, cons3)\n",
    "print(s.check())\n",
    "print(s.model())\n",
    "end = time.time()\n",
    "print(\"Consume Time: %.8f\"%((end-start)))"
   ]
  },
  {
   "cell_type": "markdown",
   "id": "a6553e63",
   "metadata": {},
   "source": [
    "sketch:inv=a1+a2*x1+a3*x2+a4*x1^2;"
   ]
  },
  {
   "cell_type": "code",
   "execution_count": 1,
   "id": "c4556971",
   "metadata": {},
   "outputs": [
    {
     "name": "stdout",
     "output_type": "stream",
     "text": [
      "sat\n",
      "[a1 = 1, a4 = -1/8, a3 = 1/4, a2 = -1]\n",
      "Consume Time: 0.20755482\n"
     ]
    }
   ],
   "source": [
    "\n",
    "import time\n",
    "from z3 import *\n",
    "start = time.time()\n",
    "x1,x2,a1,a2,a3,a4 = Reals('x1 x2 a1 a2 a3 a4')\n",
    "xrange = And(x2>=0, x2<=10, x1>=0,x1<=10)\n",
    "\n",
    "inv = a1+a2*x1+a3*x2+a4*x1**2>=0\n",
    "\n",
    "inv_f1=a1+a2*(x1+1)+a3*(x2+5.5*x1+6)+a4*(x1+1)**2>=0\n",
    "\n",
    "\n",
    "loop_cond = x1-5<=0\n",
    "pre = And(x2==0,x1==0)\n",
    "post = And(2.5*x1**2+4*x1-x2<=0,x2-3.5*x1**2-3*x1<=0)\n",
    "\n",
    "cons1 = ForAll([x2,x1],Implies(And(pre, xrange), inv))\n",
    "cons2 = ForAll([x2,x1],Implies(And(inv,loop_cond, xrange),inv_f1))\n",
    "cons3 = ForAll([x2,x1],Implies(And(inv, Not(loop_cond),xrange),post))\n",
    "               \n",
    "s = Solver()\n",
    "s.add( cons1, cons2, cons3)\n",
    "print(s.check())\n",
    "print(s.model())\n",
    "end = time.time()\n",
    "print(\"Consume Time: %.8f\"%((end-start)))"
   ]
  },
  {
   "cell_type": "markdown",
   "id": "97c40e53",
   "metadata": {},
   "source": [
    "# unicycle"
   ]
  },
  {
   "cell_type": "markdown",
   "id": "89f8bcfa",
   "metadata": {},
   "source": [
    "Mohamed Amin Ben Sassi and Antoine Girard. 2012. Controller synthesis for robust invariance of polynomial\n",
    "dynamical systems using linear programming. Systems & control letters 61, 4 (2012), 506–512."
   ]
  },
  {
   "cell_type": "code",
   "execution_count": 2,
   "id": "035180e3",
   "metadata": {},
   "outputs": [],
   "source": [
    "from z3 import *\n",
    "import os,re,sympy,mosek\n",
    "import time"
   ]
  },
  {
   "cell_type": "code",
   "execution_count": null,
   "id": "15f9092e",
   "metadata": {},
   "outputs": [],
   "source": [
    "# unicycle timeout\n",
    "start = time.time()\n",
    "x1,x2,a0,a1,a2,a3,a4,a5 = Reals('x1 x2 a0 a1 a2 a3 a4 a5')\n",
    "\n",
    "\n",
    "xvars = [x1,x2]\n",
    "loop_cond = -1<=0\n",
    "\n",
    "pre = x1**2+(x2-1)**2-1<= 0\n",
    "post = x1**2 + (x2-1)**2 - 4<=0\n",
    "\n",
    "inv = a0+a1*x1+a2*x2+a3*x1**2+a4*x2**2+a5*x1*x2>=0\n",
    "guard1 = -1<=0;\n",
    "\n",
    "w = 1.0178 + 1.8721 * x1 - 0.0253 * x2\n",
    "x1_f = x1 + 0.01*(1-x2*w)\n",
    "x2_f = x2 + 0.01*x1*w\n",
    "inv_f1 = a0+a1*x1_f+a2*x2_f+a3*x1_f**2+a4*x2_f**2+a5*x1_f*x2_f>=0\n",
    "\n",
    "inv_ineq = And(x1>=0,x2>=0)\n",
    "\n",
    "\n",
    "cons1 = ForAll(xvars,Implies(And(pre, ), inv))\n",
    "cons2 = ForAll(xvars,Implies(And(inv, guard1, loop_cond), inv_f1))\n",
    "cons3 = ForAll(xvars,Implies(And(inv, Not(loop_cond)),post))\n",
    "               \n",
    "s = Solver()\n",
    "s.add( cons1, cons2, cons3)\n",
    "print(s.check())\n",
    "print(s.model())\n",
    "end = time.time()\n",
    "print(\"Consume Time: %.8f s\\n\"%((end-start)))"
   ]
  },
  {
   "cell_type": "code",
   "execution_count": null,
   "id": "0fd36e3c",
   "metadata": {},
   "outputs": [],
   "source": [
    "# unicycle timeout\n",
    "start = time.time()\n",
    "x1,x2,a1,a2,a3,a4= Reals('x1 x2 a1 a2 a3 a4')\n",
    "xvars = [x1,x2]\n",
    "\n",
    "loop_cond = -1<=0\n",
    "\n",
    "pre = x1**2+(x2-1)**2-1<= 0\n",
    "post = x1**2 + (x2-1)**2 - 4<=0\n",
    "\n",
    "inv = a1*x1**2 + a2*x2**2 + a3*x2 +a4>=0\n",
    "guard1 = -1<=0;\n",
    "\n",
    "w = 1.0178 + 1.8721 * x1 - 0.0253 * x2\n",
    "x1_f = x1 + 0.01*(1-x2*w)\n",
    "x2_f = x2 + 0.01*x1*w\n",
    "inv_f1 = a1*x1_f**2 + a2*x2_f**2 + a3*x2_f +a4>=0\n",
    "\n",
    "inv_ineq = And(x1>=0,x2>=0)\n",
    "\n",
    "\n",
    "cons1 = ForAll(xvars,Implies(And(pre, ), inv))\n",
    "cons2 = ForAll(xvars,Implies(And(inv, guard1, loop_cond), inv_f1))\n",
    "cons3 = ForAll(xvars,Implies(And(inv, Not(loop_cond)),post))\n",
    "               \n",
    "s = Solver()\n",
    "s.add( cons1, cons2, cons3)\n",
    "print(s.check())\n",
    "print(s.model())\n",
    "end = time.time()\n",
    "print(\"Consume Time: %.8f s\\n\"%((end-start)))"
   ]
  },
  {
   "cell_type": "markdown",
   "id": "1f648b88",
   "metadata": {},
   "source": [
    "# CIRCUIT"
   ]
  },
  {
   "cell_type": "markdown",
   "id": "548c0d00",
   "metadata": {},
   "source": [
    "[3] Mahathi Anand, Vishnu Murali, Ashutosh Trivedi, and Majid Zamani. 2021. Safety Verification of Dynamical\n",
    "Systems via k-Inductive Barrier Certificates. In 2021 60th IEEE Conference on Decision and Control. IEEE, 1314–1320.\n",
    "https://doi.org/10.1109/CDC45484.2021.9682889"
   ]
  },
  {
   "cell_type": "markdown",
   "id": "2b0d5261",
   "metadata": {},
   "source": [
    "0.699756 inv=6.51819122256+1.5288052781*x1+3.17389341021*x2-1.27183860013*x1^2-1.16455887905*x2^2+0.632009166242*x1*x2"
   ]
  },
  {
   "cell_type": "code",
   "execution_count": null,
   "id": "f7e14e23",
   "metadata": {},
   "outputs": [],
   "source": [
    "# circuit  time out\n",
    "# with x and a unbounded and inv = a0+a1*x1+a2*x2+a3*x1**2+a4*x2**2+a5*x1*x2<=0\n",
    "from z3 import *\n",
    "import time\n",
    "start = time.time()\n",
    "x1,x2,a0,a1,a2,a3,a4,a5 = Reals('x1 x2 a0 a1 a2 a3 a4 a5')\n",
    "xvars = [x1,x2]\n",
    "\n",
    "loop_cond = -1<=0\n",
    "\n",
    "pre = (x1-0.5)**2+(x2-0.5)**2-0.25**2<= 0\n",
    "post =x2**2 - 4<=0\n",
    "\n",
    "inv = a0+a1*x1+a2*x2+a3*x1**2+a4*x2**2+a5*x1*x2<=0\n",
    "guard1 = -1<=0\n",
    "\n",
    "inv_f1 = a1*(8/9*x1-1/18*x2)**2 + a2*(0.1*x1+0.9*x2)**2 + a3<=0\n",
    "\n",
    "\n",
    "\n",
    "cons1 = ForAll(xvars,Implies(And(pre), inv))\n",
    "cons2 = ForAll(xvars,Implies(And(inv, guard1, loop_cond), inv_f1))\n",
    "cons3 = ForAll(xvars,Implies(And(inv, Not(loop_cond)),post))\n",
    "               \n",
    "s = Solver()\n",
    "s.add( cons1, cons2, cons3)\n",
    "print(s.check())\n",
    "print(s.model())\n",
    "end = time.time()\n",
    "print(\"Consume Time: %.8f s\\n\"%((end-start)))"
   ]
  },
  {
   "cell_type": "code",
   "execution_count": 1,
   "id": "08dc22e0",
   "metadata": {},
   "outputs": [
    {
     "name": "stdout",
     "output_type": "stream",
     "text": [
      "sat\n",
      "[a1 = 1/2, a3 = -14, a2 = 1/2]\n",
      "Consume Time: 17.56877232 s\n",
      "\n"
     ]
    }
   ],
   "source": [
    "# circuit  17.56s \n",
    "# with template  a1*x1**2 + a2*x2**2 + a3<=0.\n",
    "# both a and x are bounded,which is a much easier task to do.\n",
    "from z3 import *\n",
    "import time\n",
    "start = time.time()\n",
    "x1,x2,a1,a2,a3 = Reals('x1 x2 a1 a2 a3')\n",
    "xvars = [x1,x2]\n",
    "xrange = And(x1>=-5, x1<=5, x2>=-5,x2<=5)\n",
    "arange = And(a1>=0, a1<=1, a2>=0, a2<=1)\n",
    "\n",
    "loop_cond = -1<=0\n",
    "\n",
    "pre = (x1-0.5)**2+(x2-0.5)**2-0.25**2<= 0\n",
    "post =x2**2 - 4<=0\n",
    "\n",
    "inv = a1*x1**2 + a2*x2**2 + a3<=0\n",
    "guard1 = -1<=0\n",
    "\n",
    "inv_f1 = a1*(8/9*x1-1/18*x2)**2 + a2*(0.1*x1+0.9*x2)**2 + a3<=0\n",
    "\n",
    "inv_ineq = And(x2>=0)\n",
    "\n",
    "\n",
    "cons1 = ForAll(xvars,Implies(And(pre, xrange), inv))\n",
    "cons2 = ForAll(xvars,Implies(And(inv, guard1, loop_cond, xrange), inv_f1))\n",
    "cons3 = ForAll(xvars,Implies(And(inv, Not(loop_cond),xrange),post))\n",
    "               \n",
    "s = Solver()\n",
    "s.add( cons1, cons2, cons3, arange)\n",
    "print(s.check())\n",
    "print(s.model())\n",
    "end = time.time()\n",
    "print(\"Consume Time: %.8f s\\n\"%((end-start)))"
   ]
  }
 ],
 "metadata": {
  "kernelspec": {
   "display_name": "Python 3 (ipykernel)",
   "language": "python",
   "name": "python3"
  },
  "language_info": {
   "codemirror_mode": {
    "name": "ipython",
    "version": 3
   },
   "file_extension": ".py",
   "mimetype": "text/x-python",
   "name": "python",
   "nbconvert_exporter": "python",
   "pygments_lexer": "ipython3",
   "version": "3.11.4"
  }
 },
 "nbformat": 4,
 "nbformat_minor": 5
}
